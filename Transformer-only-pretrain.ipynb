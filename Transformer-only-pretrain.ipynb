{
  "nbformat": 4,
  "nbformat_minor": 0,
  "metadata": {
    "colab": {
      "name": "SROIE_UNITER.ipynb",
      "provenance": [],
      "collapsed_sections": [],
      "toc_visible": true,
      "machine_shape": "hm"
    },
    "kernelspec": {
      "name": "python3",
      "display_name": "Python 3"
    },
    "widgets": {
      "application/vnd.jupyter.widget-state+json": {
        "31724082ee1c481da2532de2506a3dab": {
          "model_module": "@jupyter-widgets/controls",
          "model_name": "HBoxModel",
          "state": {
            "_view_name": "HBoxView",
            "_dom_classes": [],
            "_model_name": "HBoxModel",
            "_view_module": "@jupyter-widgets/controls",
            "_model_module_version": "1.5.0",
            "_view_count": null,
            "_view_module_version": "1.5.0",
            "box_style": "",
            "layout": "IPY_MODEL_88a5689e87ff47889fbb5eb17920e527",
            "_model_module": "@jupyter-widgets/controls",
            "children": [
              "IPY_MODEL_b19c7668ab624cdca031dd9381204b3c",
              "IPY_MODEL_1d8d16105652429492a8feabc115a48e"
            ]
          }
        },
        "88a5689e87ff47889fbb5eb17920e527": {
          "model_module": "@jupyter-widgets/base",
          "model_name": "LayoutModel",
          "state": {
            "_view_name": "LayoutView",
            "grid_template_rows": null,
            "right": null,
            "justify_content": null,
            "_view_module": "@jupyter-widgets/base",
            "overflow": null,
            "_model_module_version": "1.2.0",
            "_view_count": null,
            "flex_flow": null,
            "width": null,
            "min_width": null,
            "border": null,
            "align_items": null,
            "bottom": null,
            "_model_module": "@jupyter-widgets/base",
            "top": null,
            "grid_column": null,
            "overflow_y": null,
            "overflow_x": null,
            "grid_auto_flow": null,
            "grid_area": null,
            "grid_template_columns": null,
            "flex": null,
            "_model_name": "LayoutModel",
            "justify_items": null,
            "grid_row": null,
            "max_height": null,
            "align_content": null,
            "visibility": null,
            "align_self": null,
            "height": null,
            "min_height": null,
            "padding": null,
            "grid_auto_rows": null,
            "grid_gap": null,
            "max_width": null,
            "order": null,
            "_view_module_version": "1.2.0",
            "grid_template_areas": null,
            "object_position": null,
            "object_fit": null,
            "grid_auto_columns": null,
            "margin": null,
            "display": null,
            "left": null
          }
        },
        "b19c7668ab624cdca031dd9381204b3c": {
          "model_module": "@jupyter-widgets/controls",
          "model_name": "FloatProgressModel",
          "state": {
            "_view_name": "ProgressView",
            "style": "IPY_MODEL_5a3e81c0bbb54595b7f37c8c08d52106",
            "_dom_classes": [],
            "description": "Downloading: 100%",
            "_model_name": "FloatProgressModel",
            "bar_style": "success",
            "max": 791656,
            "_view_module": "@jupyter-widgets/controls",
            "_model_module_version": "1.5.0",
            "value": 791656,
            "_view_count": null,
            "_view_module_version": "1.5.0",
            "orientation": "horizontal",
            "min": 0,
            "description_tooltip": null,
            "_model_module": "@jupyter-widgets/controls",
            "layout": "IPY_MODEL_f463e6b005254cf3ab1205cbb42e907b"
          }
        },
        "1d8d16105652429492a8feabc115a48e": {
          "model_module": "@jupyter-widgets/controls",
          "model_name": "HTMLModel",
          "state": {
            "_view_name": "HTMLView",
            "style": "IPY_MODEL_9f1aca9fc3814497987c8f461d21c8e4",
            "_dom_classes": [],
            "description": "",
            "_model_name": "HTMLModel",
            "placeholder": "​",
            "_view_module": "@jupyter-widgets/controls",
            "_model_module_version": "1.5.0",
            "value": " 792k/792k [00:00&lt;00:00, 794kB/s]",
            "_view_count": null,
            "_view_module_version": "1.5.0",
            "description_tooltip": null,
            "_model_module": "@jupyter-widgets/controls",
            "layout": "IPY_MODEL_89d0eec8d7134e99b4cb122665d61338"
          }
        },
        "5a3e81c0bbb54595b7f37c8c08d52106": {
          "model_module": "@jupyter-widgets/controls",
          "model_name": "ProgressStyleModel",
          "state": {
            "_view_name": "StyleView",
            "_model_name": "ProgressStyleModel",
            "description_width": "initial",
            "_view_module": "@jupyter-widgets/base",
            "_model_module_version": "1.5.0",
            "_view_count": null,
            "_view_module_version": "1.2.0",
            "bar_color": null,
            "_model_module": "@jupyter-widgets/controls"
          }
        },
        "f463e6b005254cf3ab1205cbb42e907b": {
          "model_module": "@jupyter-widgets/base",
          "model_name": "LayoutModel",
          "state": {
            "_view_name": "LayoutView",
            "grid_template_rows": null,
            "right": null,
            "justify_content": null,
            "_view_module": "@jupyter-widgets/base",
            "overflow": null,
            "_model_module_version": "1.2.0",
            "_view_count": null,
            "flex_flow": null,
            "width": null,
            "min_width": null,
            "border": null,
            "align_items": null,
            "bottom": null,
            "_model_module": "@jupyter-widgets/base",
            "top": null,
            "grid_column": null,
            "overflow_y": null,
            "overflow_x": null,
            "grid_auto_flow": null,
            "grid_area": null,
            "grid_template_columns": null,
            "flex": null,
            "_model_name": "LayoutModel",
            "justify_items": null,
            "grid_row": null,
            "max_height": null,
            "align_content": null,
            "visibility": null,
            "align_self": null,
            "height": null,
            "min_height": null,
            "padding": null,
            "grid_auto_rows": null,
            "grid_gap": null,
            "max_width": null,
            "order": null,
            "_view_module_version": "1.2.0",
            "grid_template_areas": null,
            "object_position": null,
            "object_fit": null,
            "grid_auto_columns": null,
            "margin": null,
            "display": null,
            "left": null
          }
        },
        "9f1aca9fc3814497987c8f461d21c8e4": {
          "model_module": "@jupyter-widgets/controls",
          "model_name": "DescriptionStyleModel",
          "state": {
            "_view_name": "StyleView",
            "_model_name": "DescriptionStyleModel",
            "description_width": "",
            "_view_module": "@jupyter-widgets/base",
            "_model_module_version": "1.5.0",
            "_view_count": null,
            "_view_module_version": "1.2.0",
            "_model_module": "@jupyter-widgets/controls"
          }
        },
        "89d0eec8d7134e99b4cb122665d61338": {
          "model_module": "@jupyter-widgets/base",
          "model_name": "LayoutModel",
          "state": {
            "_view_name": "LayoutView",
            "grid_template_rows": null,
            "right": null,
            "justify_content": null,
            "_view_module": "@jupyter-widgets/base",
            "overflow": null,
            "_model_module_version": "1.2.0",
            "_view_count": null,
            "flex_flow": null,
            "width": null,
            "min_width": null,
            "border": null,
            "align_items": null,
            "bottom": null,
            "_model_module": "@jupyter-widgets/base",
            "top": null,
            "grid_column": null,
            "overflow_y": null,
            "overflow_x": null,
            "grid_auto_flow": null,
            "grid_area": null,
            "grid_template_columns": null,
            "flex": null,
            "_model_name": "LayoutModel",
            "justify_items": null,
            "grid_row": null,
            "max_height": null,
            "align_content": null,
            "visibility": null,
            "align_self": null,
            "height": null,
            "min_height": null,
            "padding": null,
            "grid_auto_rows": null,
            "grid_gap": null,
            "max_width": null,
            "order": null,
            "_view_module_version": "1.2.0",
            "grid_template_areas": null,
            "object_position": null,
            "object_fit": null,
            "grid_auto_columns": null,
            "margin": null,
            "display": null,
            "left": null
          }
        },
        "cd9f46dc932942809c47f3c3a694782f": {
          "model_module": "@jupyter-widgets/controls",
          "model_name": "HBoxModel",
          "state": {
            "_view_name": "HBoxView",
            "_dom_classes": [],
            "_model_name": "HBoxModel",
            "_view_module": "@jupyter-widgets/controls",
            "_model_module_version": "1.5.0",
            "_view_count": null,
            "_view_module_version": "1.5.0",
            "box_style": "",
            "layout": "IPY_MODEL_696e01bc872e47198f689448ea8dc166",
            "_model_module": "@jupyter-widgets/controls",
            "children": [
              "IPY_MODEL_70114cae82b041b48d1be2f5e081e89a",
              "IPY_MODEL_1ae1e098abaf47a09c0ba4703f0ef273"
            ]
          }
        },
        "696e01bc872e47198f689448ea8dc166": {
          "model_module": "@jupyter-widgets/base",
          "model_name": "LayoutModel",
          "state": {
            "_view_name": "LayoutView",
            "grid_template_rows": null,
            "right": null,
            "justify_content": null,
            "_view_module": "@jupyter-widgets/base",
            "overflow": null,
            "_model_module_version": "1.2.0",
            "_view_count": null,
            "flex_flow": null,
            "width": null,
            "min_width": null,
            "border": null,
            "align_items": null,
            "bottom": null,
            "_model_module": "@jupyter-widgets/base",
            "top": null,
            "grid_column": null,
            "overflow_y": null,
            "overflow_x": null,
            "grid_auto_flow": null,
            "grid_area": null,
            "grid_template_columns": null,
            "flex": null,
            "_model_name": "LayoutModel",
            "justify_items": null,
            "grid_row": null,
            "max_height": null,
            "align_content": null,
            "visibility": null,
            "align_self": null,
            "height": null,
            "min_height": null,
            "padding": null,
            "grid_auto_rows": null,
            "grid_gap": null,
            "max_width": null,
            "order": null,
            "_view_module_version": "1.2.0",
            "grid_template_areas": null,
            "object_position": null,
            "object_fit": null,
            "grid_auto_columns": null,
            "margin": null,
            "display": null,
            "left": null
          }
        },
        "70114cae82b041b48d1be2f5e081e89a": {
          "model_module": "@jupyter-widgets/controls",
          "model_name": "FloatProgressModel",
          "state": {
            "_view_name": "ProgressView",
            "style": "IPY_MODEL_2084d71d2c634b9491cd2a7f866be37a",
            "_dom_classes": [],
            "description": "Downloading: 100%",
            "_model_name": "FloatProgressModel",
            "bar_style": "success",
            "max": 1389353,
            "_view_module": "@jupyter-widgets/controls",
            "_model_module_version": "1.5.0",
            "value": 1389353,
            "_view_count": null,
            "_view_module_version": "1.5.0",
            "orientation": "horizontal",
            "min": 0,
            "description_tooltip": null,
            "_model_module": "@jupyter-widgets/controls",
            "layout": "IPY_MODEL_fc5fabffe01542d3a72a2458abf4387c"
          }
        },
        "1ae1e098abaf47a09c0ba4703f0ef273": {
          "model_module": "@jupyter-widgets/controls",
          "model_name": "HTMLModel",
          "state": {
            "_view_name": "HTMLView",
            "style": "IPY_MODEL_904561df3c5e41c7b5679c5a00742966",
            "_dom_classes": [],
            "description": "",
            "_model_name": "HTMLModel",
            "placeholder": "​",
            "_view_module": "@jupyter-widgets/controls",
            "_model_module_version": "1.5.0",
            "value": " 1.39M/1.39M [00:15&lt;00:00, 88.3kB/s]",
            "_view_count": null,
            "_view_module_version": "1.5.0",
            "description_tooltip": null,
            "_model_module": "@jupyter-widgets/controls",
            "layout": "IPY_MODEL_576616727f454fe0851460c158644031"
          }
        },
        "2084d71d2c634b9491cd2a7f866be37a": {
          "model_module": "@jupyter-widgets/controls",
          "model_name": "ProgressStyleModel",
          "state": {
            "_view_name": "StyleView",
            "_model_name": "ProgressStyleModel",
            "description_width": "initial",
            "_view_module": "@jupyter-widgets/base",
            "_model_module_version": "1.5.0",
            "_view_count": null,
            "_view_module_version": "1.2.0",
            "bar_color": null,
            "_model_module": "@jupyter-widgets/controls"
          }
        },
        "fc5fabffe01542d3a72a2458abf4387c": {
          "model_module": "@jupyter-widgets/base",
          "model_name": "LayoutModel",
          "state": {
            "_view_name": "LayoutView",
            "grid_template_rows": null,
            "right": null,
            "justify_content": null,
            "_view_module": "@jupyter-widgets/base",
            "overflow": null,
            "_model_module_version": "1.2.0",
            "_view_count": null,
            "flex_flow": null,
            "width": null,
            "min_width": null,
            "border": null,
            "align_items": null,
            "bottom": null,
            "_model_module": "@jupyter-widgets/base",
            "top": null,
            "grid_column": null,
            "overflow_y": null,
            "overflow_x": null,
            "grid_auto_flow": null,
            "grid_area": null,
            "grid_template_columns": null,
            "flex": null,
            "_model_name": "LayoutModel",
            "justify_items": null,
            "grid_row": null,
            "max_height": null,
            "align_content": null,
            "visibility": null,
            "align_self": null,
            "height": null,
            "min_height": null,
            "padding": null,
            "grid_auto_rows": null,
            "grid_gap": null,
            "max_width": null,
            "order": null,
            "_view_module_version": "1.2.0",
            "grid_template_areas": null,
            "object_position": null,
            "object_fit": null,
            "grid_auto_columns": null,
            "margin": null,
            "display": null,
            "left": null
          }
        },
        "904561df3c5e41c7b5679c5a00742966": {
          "model_module": "@jupyter-widgets/controls",
          "model_name": "DescriptionStyleModel",
          "state": {
            "_view_name": "StyleView",
            "_model_name": "DescriptionStyleModel",
            "description_width": "",
            "_view_module": "@jupyter-widgets/base",
            "_model_module_version": "1.5.0",
            "_view_count": null,
            "_view_module_version": "1.2.0",
            "_model_module": "@jupyter-widgets/controls"
          }
        },
        "576616727f454fe0851460c158644031": {
          "model_module": "@jupyter-widgets/base",
          "model_name": "LayoutModel",
          "state": {
            "_view_name": "LayoutView",
            "grid_template_rows": null,
            "right": null,
            "justify_content": null,
            "_view_module": "@jupyter-widgets/base",
            "overflow": null,
            "_model_module_version": "1.2.0",
            "_view_count": null,
            "flex_flow": null,
            "width": null,
            "min_width": null,
            "border": null,
            "align_items": null,
            "bottom": null,
            "_model_module": "@jupyter-widgets/base",
            "top": null,
            "grid_column": null,
            "overflow_y": null,
            "overflow_x": null,
            "grid_auto_flow": null,
            "grid_area": null,
            "grid_template_columns": null,
            "flex": null,
            "_model_name": "LayoutModel",
            "justify_items": null,
            "grid_row": null,
            "max_height": null,
            "align_content": null,
            "visibility": null,
            "align_self": null,
            "height": null,
            "min_height": null,
            "padding": null,
            "grid_auto_rows": null,
            "grid_gap": null,
            "max_width": null,
            "order": null,
            "_view_module_version": "1.2.0",
            "grid_template_areas": null,
            "object_position": null,
            "object_fit": null,
            "grid_auto_columns": null,
            "margin": null,
            "display": null,
            "left": null
          }
        },
        "52aa6aacbfce46fa97cbbe8d614ee140": {
          "model_module": "@jupyter-widgets/controls",
          "model_name": "HBoxModel",
          "state": {
            "_view_name": "HBoxView",
            "_dom_classes": [],
            "_model_name": "HBoxModel",
            "_view_module": "@jupyter-widgets/controls",
            "_model_module_version": "1.5.0",
            "_view_count": null,
            "_view_module_version": "1.5.0",
            "box_style": "",
            "layout": "IPY_MODEL_afa9f0c6f0c241b4b6e829d25d9081ed",
            "_model_module": "@jupyter-widgets/controls",
            "children": [
              "IPY_MODEL_a5a53e56fd584bc0bd849e730cdc3896",
              "IPY_MODEL_ff96a3f7696b442ea00ae783a3497d9a"
            ]
          }
        },
        "afa9f0c6f0c241b4b6e829d25d9081ed": {
          "model_module": "@jupyter-widgets/base",
          "model_name": "LayoutModel",
          "state": {
            "_view_name": "LayoutView",
            "grid_template_rows": null,
            "right": null,
            "justify_content": null,
            "_view_module": "@jupyter-widgets/base",
            "overflow": null,
            "_model_module_version": "1.2.0",
            "_view_count": null,
            "flex_flow": null,
            "width": null,
            "min_width": null,
            "border": null,
            "align_items": null,
            "bottom": null,
            "_model_module": "@jupyter-widgets/base",
            "top": null,
            "grid_column": null,
            "overflow_y": null,
            "overflow_x": null,
            "grid_auto_flow": null,
            "grid_area": null,
            "grid_template_columns": null,
            "flex": null,
            "_model_name": "LayoutModel",
            "justify_items": null,
            "grid_row": null,
            "max_height": null,
            "align_content": null,
            "visibility": null,
            "align_self": null,
            "height": null,
            "min_height": null,
            "padding": null,
            "grid_auto_rows": null,
            "grid_gap": null,
            "max_width": null,
            "order": null,
            "_view_module_version": "1.2.0",
            "grid_template_areas": null,
            "object_position": null,
            "object_fit": null,
            "grid_auto_columns": null,
            "margin": null,
            "display": null,
            "left": null
          }
        },
        "a5a53e56fd584bc0bd849e730cdc3896": {
          "model_module": "@jupyter-widgets/controls",
          "model_name": "FloatProgressModel",
          "state": {
            "_view_name": "ProgressView",
            "style": "IPY_MODEL_6d8bbff2bada4a068b4ca1b2f5fb1f26",
            "_dom_classes": [],
            "description": "Downloading: ",
            "_model_name": "FloatProgressModel",
            "bar_style": "success",
            "max": 2111,
            "_view_module": "@jupyter-widgets/controls",
            "_model_module_version": "1.5.0",
            "value": 2111,
            "_view_count": null,
            "_view_module_version": "1.5.0",
            "orientation": "horizontal",
            "min": 0,
            "description_tooltip": null,
            "_model_module": "@jupyter-widgets/controls",
            "layout": "IPY_MODEL_78ed9972ac9f4fce9ce8cd950b43391b"
          }
        },
        "ff96a3f7696b442ea00ae783a3497d9a": {
          "model_module": "@jupyter-widgets/controls",
          "model_name": "HTMLModel",
          "state": {
            "_view_name": "HTMLView",
            "style": "IPY_MODEL_e40367ff639e40bb940fbe5b567b0d4c",
            "_dom_classes": [],
            "description": "",
            "_model_name": "HTMLModel",
            "placeholder": "​",
            "_view_module": "@jupyter-widgets/controls",
            "_model_module_version": "1.5.0",
            "value": " 8.39k/? [00:00&lt;00:00, 31.0kB/s]",
            "_view_count": null,
            "_view_module_version": "1.5.0",
            "description_tooltip": null,
            "_model_module": "@jupyter-widgets/controls",
            "layout": "IPY_MODEL_4657698410754bb980e1e1a307c8c44e"
          }
        },
        "6d8bbff2bada4a068b4ca1b2f5fb1f26": {
          "model_module": "@jupyter-widgets/controls",
          "model_name": "ProgressStyleModel",
          "state": {
            "_view_name": "StyleView",
            "_model_name": "ProgressStyleModel",
            "description_width": "initial",
            "_view_module": "@jupyter-widgets/base",
            "_model_module_version": "1.5.0",
            "_view_count": null,
            "_view_module_version": "1.2.0",
            "bar_color": null,
            "_model_module": "@jupyter-widgets/controls"
          }
        },
        "78ed9972ac9f4fce9ce8cd950b43391b": {
          "model_module": "@jupyter-widgets/base",
          "model_name": "LayoutModel",
          "state": {
            "_view_name": "LayoutView",
            "grid_template_rows": null,
            "right": null,
            "justify_content": null,
            "_view_module": "@jupyter-widgets/base",
            "overflow": null,
            "_model_module_version": "1.2.0",
            "_view_count": null,
            "flex_flow": null,
            "width": null,
            "min_width": null,
            "border": null,
            "align_items": null,
            "bottom": null,
            "_model_module": "@jupyter-widgets/base",
            "top": null,
            "grid_column": null,
            "overflow_y": null,
            "overflow_x": null,
            "grid_auto_flow": null,
            "grid_area": null,
            "grid_template_columns": null,
            "flex": null,
            "_model_name": "LayoutModel",
            "justify_items": null,
            "grid_row": null,
            "max_height": null,
            "align_content": null,
            "visibility": null,
            "align_self": null,
            "height": null,
            "min_height": null,
            "padding": null,
            "grid_auto_rows": null,
            "grid_gap": null,
            "max_width": null,
            "order": null,
            "_view_module_version": "1.2.0",
            "grid_template_areas": null,
            "object_position": null,
            "object_fit": null,
            "grid_auto_columns": null,
            "margin": null,
            "display": null,
            "left": null
          }
        },
        "e40367ff639e40bb940fbe5b567b0d4c": {
          "model_module": "@jupyter-widgets/controls",
          "model_name": "DescriptionStyleModel",
          "state": {
            "_view_name": "StyleView",
            "_model_name": "DescriptionStyleModel",
            "description_width": "",
            "_view_module": "@jupyter-widgets/base",
            "_model_module_version": "1.5.0",
            "_view_count": null,
            "_view_module_version": "1.2.0",
            "_model_module": "@jupyter-widgets/controls"
          }
        },
        "4657698410754bb980e1e1a307c8c44e": {
          "model_module": "@jupyter-widgets/base",
          "model_name": "LayoutModel",
          "state": {
            "_view_name": "LayoutView",
            "grid_template_rows": null,
            "right": null,
            "justify_content": null,
            "_view_module": "@jupyter-widgets/base",
            "overflow": null,
            "_model_module_version": "1.2.0",
            "_view_count": null,
            "flex_flow": null,
            "width": null,
            "min_width": null,
            "border": null,
            "align_items": null,
            "bottom": null,
            "_model_module": "@jupyter-widgets/base",
            "top": null,
            "grid_column": null,
            "overflow_y": null,
            "overflow_x": null,
            "grid_auto_flow": null,
            "grid_area": null,
            "grid_template_columns": null,
            "flex": null,
            "_model_name": "LayoutModel",
            "justify_items": null,
            "grid_row": null,
            "max_height": null,
            "align_content": null,
            "visibility": null,
            "align_self": null,
            "height": null,
            "min_height": null,
            "padding": null,
            "grid_auto_rows": null,
            "grid_gap": null,
            "max_width": null,
            "order": null,
            "_view_module_version": "1.2.0",
            "grid_template_areas": null,
            "object_position": null,
            "object_fit": null,
            "grid_auto_columns": null,
            "margin": null,
            "display": null,
            "left": null
          }
        },
        "32e2b4ed60854b1b8ffffefa2c1769ed": {
          "model_module": "@jupyter-widgets/controls",
          "model_name": "HBoxModel",
          "state": {
            "_view_name": "HBoxView",
            "_dom_classes": [],
            "_model_name": "HBoxModel",
            "_view_module": "@jupyter-widgets/controls",
            "_model_module_version": "1.5.0",
            "_view_count": null,
            "_view_module_version": "1.5.0",
            "box_style": "",
            "layout": "IPY_MODEL_613bdbd2eabd4ce19d6859adf3d10ae4",
            "_model_module": "@jupyter-widgets/controls",
            "children": [
              "IPY_MODEL_e3fa4ee135c14f02a830f6f79e557c0c",
              "IPY_MODEL_40c5c1af01ef4ed3afb488d250d588a4"
            ]
          }
        },
        "613bdbd2eabd4ce19d6859adf3d10ae4": {
          "model_module": "@jupyter-widgets/base",
          "model_name": "LayoutModel",
          "state": {
            "_view_name": "LayoutView",
            "grid_template_rows": null,
            "right": null,
            "justify_content": null,
            "_view_module": "@jupyter-widgets/base",
            "overflow": null,
            "_model_module_version": "1.2.0",
            "_view_count": null,
            "flex_flow": null,
            "width": null,
            "min_width": null,
            "border": null,
            "align_items": null,
            "bottom": null,
            "_model_module": "@jupyter-widgets/base",
            "top": null,
            "grid_column": null,
            "overflow_y": null,
            "overflow_x": null,
            "grid_auto_flow": null,
            "grid_area": null,
            "grid_template_columns": null,
            "flex": null,
            "_model_name": "LayoutModel",
            "justify_items": null,
            "grid_row": null,
            "max_height": null,
            "align_content": null,
            "visibility": null,
            "align_self": null,
            "height": null,
            "min_height": null,
            "padding": null,
            "grid_auto_rows": null,
            "grid_gap": null,
            "max_width": null,
            "order": null,
            "_view_module_version": "1.2.0",
            "grid_template_areas": null,
            "object_position": null,
            "object_fit": null,
            "grid_auto_columns": null,
            "margin": null,
            "display": null,
            "left": null
          }
        },
        "e3fa4ee135c14f02a830f6f79e557c0c": {
          "model_module": "@jupyter-widgets/controls",
          "model_name": "FloatProgressModel",
          "state": {
            "_view_name": "ProgressView",
            "style": "IPY_MODEL_e3517e56bc3e491e8c1783d57e2c8743",
            "_dom_classes": [],
            "description": "Downloading: ",
            "_model_name": "FloatProgressModel",
            "bar_style": "success",
            "max": 1186,
            "_view_module": "@jupyter-widgets/controls",
            "_model_module_version": "1.5.0",
            "value": 1186,
            "_view_count": null,
            "_view_module_version": "1.5.0",
            "orientation": "horizontal",
            "min": 0,
            "description_tooltip": null,
            "_model_module": "@jupyter-widgets/controls",
            "layout": "IPY_MODEL_044c3f6b4d9e4782992cfa4414678e27"
          }
        },
        "40c5c1af01ef4ed3afb488d250d588a4": {
          "model_module": "@jupyter-widgets/controls",
          "model_name": "HTMLModel",
          "state": {
            "_view_name": "HTMLView",
            "style": "IPY_MODEL_cb24b669ff104bd3b975f53c528a611f",
            "_dom_classes": [],
            "description": "",
            "_model_name": "HTMLModel",
            "placeholder": "​",
            "_view_module": "@jupyter-widgets/controls",
            "_model_module_version": "1.5.0",
            "value": " 5.83k/? [00:14&lt;00:00, 412B/s]",
            "_view_count": null,
            "_view_module_version": "1.5.0",
            "description_tooltip": null,
            "_model_module": "@jupyter-widgets/controls",
            "layout": "IPY_MODEL_03bff2ec93184e2eb71bf9314d3e5931"
          }
        },
        "e3517e56bc3e491e8c1783d57e2c8743": {
          "model_module": "@jupyter-widgets/controls",
          "model_name": "ProgressStyleModel",
          "state": {
            "_view_name": "StyleView",
            "_model_name": "ProgressStyleModel",
            "description_width": "initial",
            "_view_module": "@jupyter-widgets/base",
            "_model_module_version": "1.5.0",
            "_view_count": null,
            "_view_module_version": "1.2.0",
            "bar_color": null,
            "_model_module": "@jupyter-widgets/controls"
          }
        },
        "044c3f6b4d9e4782992cfa4414678e27": {
          "model_module": "@jupyter-widgets/base",
          "model_name": "LayoutModel",
          "state": {
            "_view_name": "LayoutView",
            "grid_template_rows": null,
            "right": null,
            "justify_content": null,
            "_view_module": "@jupyter-widgets/base",
            "overflow": null,
            "_model_module_version": "1.2.0",
            "_view_count": null,
            "flex_flow": null,
            "width": null,
            "min_width": null,
            "border": null,
            "align_items": null,
            "bottom": null,
            "_model_module": "@jupyter-widgets/base",
            "top": null,
            "grid_column": null,
            "overflow_y": null,
            "overflow_x": null,
            "grid_auto_flow": null,
            "grid_area": null,
            "grid_template_columns": null,
            "flex": null,
            "_model_name": "LayoutModel",
            "justify_items": null,
            "grid_row": null,
            "max_height": null,
            "align_content": null,
            "visibility": null,
            "align_self": null,
            "height": null,
            "min_height": null,
            "padding": null,
            "grid_auto_rows": null,
            "grid_gap": null,
            "max_width": null,
            "order": null,
            "_view_module_version": "1.2.0",
            "grid_template_areas": null,
            "object_position": null,
            "object_fit": null,
            "grid_auto_columns": null,
            "margin": null,
            "display": null,
            "left": null
          }
        },
        "cb24b669ff104bd3b975f53c528a611f": {
          "model_module": "@jupyter-widgets/controls",
          "model_name": "DescriptionStyleModel",
          "state": {
            "_view_name": "StyleView",
            "_model_name": "DescriptionStyleModel",
            "description_width": "",
            "_view_module": "@jupyter-widgets/base",
            "_model_module_version": "1.5.0",
            "_view_count": null,
            "_view_module_version": "1.2.0",
            "_model_module": "@jupyter-widgets/controls"
          }
        },
        "03bff2ec93184e2eb71bf9314d3e5931": {
          "model_module": "@jupyter-widgets/base",
          "model_name": "LayoutModel",
          "state": {
            "_view_name": "LayoutView",
            "grid_template_rows": null,
            "right": null,
            "justify_content": null,
            "_view_module": "@jupyter-widgets/base",
            "overflow": null,
            "_model_module_version": "1.2.0",
            "_view_count": null,
            "flex_flow": null,
            "width": null,
            "min_width": null,
            "border": null,
            "align_items": null,
            "bottom": null,
            "_model_module": "@jupyter-widgets/base",
            "top": null,
            "grid_column": null,
            "overflow_y": null,
            "overflow_x": null,
            "grid_auto_flow": null,
            "grid_area": null,
            "grid_template_columns": null,
            "flex": null,
            "_model_name": "LayoutModel",
            "justify_items": null,
            "grid_row": null,
            "max_height": null,
            "align_content": null,
            "visibility": null,
            "align_self": null,
            "height": null,
            "min_height": null,
            "padding": null,
            "grid_auto_rows": null,
            "grid_gap": null,
            "max_width": null,
            "order": null,
            "_view_module_version": "1.2.0",
            "grid_template_areas": null,
            "object_position": null,
            "object_fit": null,
            "grid_auto_columns": null,
            "margin": null,
            "display": null,
            "left": null
          }
        },
        "f72bc46eb8e24d73baf1fd45a7c1e764": {
          "model_module": "@jupyter-widgets/controls",
          "model_name": "HBoxModel",
          "state": {
            "_view_name": "HBoxView",
            "_dom_classes": [],
            "_model_name": "HBoxModel",
            "_view_module": "@jupyter-widgets/controls",
            "_model_module_version": "1.5.0",
            "_view_count": null,
            "_view_module_version": "1.5.0",
            "box_style": "",
            "layout": "IPY_MODEL_d19b3ab2857546a68dcb7be8c9077c8f",
            "_model_module": "@jupyter-widgets/controls",
            "children": [
              "IPY_MODEL_f420b93aee0241f898d666fce608c369",
              "IPY_MODEL_80498196b79f4f0090ce92aaee8203ad"
            ]
          }
        },
        "d19b3ab2857546a68dcb7be8c9077c8f": {
          "model_module": "@jupyter-widgets/base",
          "model_name": "LayoutModel",
          "state": {
            "_view_name": "LayoutView",
            "grid_template_rows": null,
            "right": null,
            "justify_content": null,
            "_view_module": "@jupyter-widgets/base",
            "overflow": null,
            "_model_module_version": "1.2.0",
            "_view_count": null,
            "flex_flow": null,
            "width": null,
            "min_width": null,
            "border": null,
            "align_items": null,
            "bottom": null,
            "_model_module": "@jupyter-widgets/base",
            "top": null,
            "grid_column": null,
            "overflow_y": null,
            "overflow_x": null,
            "grid_auto_flow": null,
            "grid_area": null,
            "grid_template_columns": null,
            "flex": null,
            "_model_name": "LayoutModel",
            "justify_items": null,
            "grid_row": null,
            "max_height": null,
            "align_content": null,
            "visibility": null,
            "align_self": null,
            "height": null,
            "min_height": null,
            "padding": null,
            "grid_auto_rows": null,
            "grid_gap": null,
            "max_width": null,
            "order": null,
            "_view_module_version": "1.2.0",
            "grid_template_areas": null,
            "object_position": null,
            "object_fit": null,
            "grid_auto_columns": null,
            "margin": null,
            "display": null,
            "left": null
          }
        },
        "f420b93aee0241f898d666fce608c369": {
          "model_module": "@jupyter-widgets/controls",
          "model_name": "FloatProgressModel",
          "state": {
            "_view_name": "ProgressView",
            "style": "IPY_MODEL_8ebfe2800f344e13bbc7524bf6828562",
            "_dom_classes": [],
            "description": "Downloading: 100%",
            "_model_name": "FloatProgressModel",
            "bar_style": "success",
            "max": 190229076,
            "_view_module": "@jupyter-widgets/controls",
            "_model_module_version": "1.5.0",
            "value": 190229076,
            "_view_count": null,
            "_view_module_version": "1.5.0",
            "orientation": "horizontal",
            "min": 0,
            "description_tooltip": null,
            "_model_module": "@jupyter-widgets/controls",
            "layout": "IPY_MODEL_1d5a68de0933466fb2875165036befbe"
          }
        },
        "80498196b79f4f0090ce92aaee8203ad": {
          "model_module": "@jupyter-widgets/controls",
          "model_name": "HTMLModel",
          "state": {
            "_view_name": "HTMLView",
            "style": "IPY_MODEL_ea61995011f34bdb944b730091686756",
            "_dom_classes": [],
            "description": "",
            "_model_name": "HTMLModel",
            "placeholder": "​",
            "_view_module": "@jupyter-widgets/controls",
            "_model_module_version": "1.5.0",
            "value": " 190M/190M [00:13&lt;00:00, 14.6MB/s]",
            "_view_count": null,
            "_view_module_version": "1.5.0",
            "description_tooltip": null,
            "_model_module": "@jupyter-widgets/controls",
            "layout": "IPY_MODEL_a3b6e184c1894ee893071e7dc760ec31"
          }
        },
        "8ebfe2800f344e13bbc7524bf6828562": {
          "model_module": "@jupyter-widgets/controls",
          "model_name": "ProgressStyleModel",
          "state": {
            "_view_name": "StyleView",
            "_model_name": "ProgressStyleModel",
            "description_width": "initial",
            "_view_module": "@jupyter-widgets/base",
            "_model_module_version": "1.5.0",
            "_view_count": null,
            "_view_module_version": "1.2.0",
            "bar_color": null,
            "_model_module": "@jupyter-widgets/controls"
          }
        },
        "1d5a68de0933466fb2875165036befbe": {
          "model_module": "@jupyter-widgets/base",
          "model_name": "LayoutModel",
          "state": {
            "_view_name": "LayoutView",
            "grid_template_rows": null,
            "right": null,
            "justify_content": null,
            "_view_module": "@jupyter-widgets/base",
            "overflow": null,
            "_model_module_version": "1.2.0",
            "_view_count": null,
            "flex_flow": null,
            "width": null,
            "min_width": null,
            "border": null,
            "align_items": null,
            "bottom": null,
            "_model_module": "@jupyter-widgets/base",
            "top": null,
            "grid_column": null,
            "overflow_y": null,
            "overflow_x": null,
            "grid_auto_flow": null,
            "grid_area": null,
            "grid_template_columns": null,
            "flex": null,
            "_model_name": "LayoutModel",
            "justify_items": null,
            "grid_row": null,
            "max_height": null,
            "align_content": null,
            "visibility": null,
            "align_self": null,
            "height": null,
            "min_height": null,
            "padding": null,
            "grid_auto_rows": null,
            "grid_gap": null,
            "max_width": null,
            "order": null,
            "_view_module_version": "1.2.0",
            "grid_template_areas": null,
            "object_position": null,
            "object_fit": null,
            "grid_auto_columns": null,
            "margin": null,
            "display": null,
            "left": null
          }
        },
        "ea61995011f34bdb944b730091686756": {
          "model_module": "@jupyter-widgets/controls",
          "model_name": "DescriptionStyleModel",
          "state": {
            "_view_name": "StyleView",
            "_model_name": "DescriptionStyleModel",
            "description_width": "",
            "_view_module": "@jupyter-widgets/base",
            "_model_module_version": "1.5.0",
            "_view_count": null,
            "_view_module_version": "1.2.0",
            "_model_module": "@jupyter-widgets/controls"
          }
        },
        "a3b6e184c1894ee893071e7dc760ec31": {
          "model_module": "@jupyter-widgets/base",
          "model_name": "LayoutModel",
          "state": {
            "_view_name": "LayoutView",
            "grid_template_rows": null,
            "right": null,
            "justify_content": null,
            "_view_module": "@jupyter-widgets/base",
            "overflow": null,
            "_model_module_version": "1.2.0",
            "_view_count": null,
            "flex_flow": null,
            "width": null,
            "min_width": null,
            "border": null,
            "align_items": null,
            "bottom": null,
            "_model_module": "@jupyter-widgets/base",
            "top": null,
            "grid_column": null,
            "overflow_y": null,
            "overflow_x": null,
            "grid_auto_flow": null,
            "grid_area": null,
            "grid_template_columns": null,
            "flex": null,
            "_model_name": "LayoutModel",
            "justify_items": null,
            "grid_row": null,
            "max_height": null,
            "align_content": null,
            "visibility": null,
            "align_self": null,
            "height": null,
            "min_height": null,
            "padding": null,
            "grid_auto_rows": null,
            "grid_gap": null,
            "max_width": null,
            "order": null,
            "_view_module_version": "1.2.0",
            "grid_template_areas": null,
            "object_position": null,
            "object_fit": null,
            "grid_auto_columns": null,
            "margin": null,
            "display": null,
            "left": null
          }
        },
        "49672ef05ed841a49f819c3589be4e1b": {
          "model_module": "@jupyter-widgets/controls",
          "model_name": "HBoxModel",
          "state": {
            "_view_name": "HBoxView",
            "_dom_classes": [],
            "_model_name": "HBoxModel",
            "_view_module": "@jupyter-widgets/controls",
            "_model_module_version": "1.5.0",
            "_view_count": null,
            "_view_module_version": "1.5.0",
            "box_style": "",
            "layout": "IPY_MODEL_62b74724065a432ca96bf4cc1f58b632",
            "_model_module": "@jupyter-widgets/controls",
            "children": [
              "IPY_MODEL_ce7f2205773043d4ac3ad9a9269c36aa",
              "IPY_MODEL_63856355f47841ba9cf1ab0fb3ebca0c"
            ]
          }
        },
        "62b74724065a432ca96bf4cc1f58b632": {
          "model_module": "@jupyter-widgets/base",
          "model_name": "LayoutModel",
          "state": {
            "_view_name": "LayoutView",
            "grid_template_rows": null,
            "right": null,
            "justify_content": null,
            "_view_module": "@jupyter-widgets/base",
            "overflow": null,
            "_model_module_version": "1.2.0",
            "_view_count": null,
            "flex_flow": null,
            "width": null,
            "min_width": null,
            "border": null,
            "align_items": null,
            "bottom": null,
            "_model_module": "@jupyter-widgets/base",
            "top": null,
            "grid_column": null,
            "overflow_y": null,
            "overflow_x": null,
            "grid_auto_flow": null,
            "grid_area": null,
            "grid_template_columns": null,
            "flex": null,
            "_model_name": "LayoutModel",
            "justify_items": null,
            "grid_row": null,
            "max_height": null,
            "align_content": null,
            "visibility": null,
            "align_self": null,
            "height": null,
            "min_height": null,
            "padding": null,
            "grid_auto_rows": null,
            "grid_gap": null,
            "max_width": null,
            "order": null,
            "_view_module_version": "1.2.0",
            "grid_template_areas": null,
            "object_position": null,
            "object_fit": null,
            "grid_auto_columns": null,
            "margin": null,
            "display": null,
            "left": null
          }
        },
        "ce7f2205773043d4ac3ad9a9269c36aa": {
          "model_module": "@jupyter-widgets/controls",
          "model_name": "FloatProgressModel",
          "state": {
            "_view_name": "ProgressView",
            "style": "IPY_MODEL_b0100511d1f6426b9c5cc3eac9f7ebdb",
            "_dom_classes": [],
            "description": "",
            "_model_name": "FloatProgressModel",
            "bar_style": "info",
            "max": 1,
            "_view_module": "@jupyter-widgets/controls",
            "_model_module_version": "1.5.0",
            "value": 1,
            "_view_count": null,
            "_view_module_version": "1.5.0",
            "orientation": "horizontal",
            "min": 0,
            "description_tooltip": null,
            "_model_module": "@jupyter-widgets/controls",
            "layout": "IPY_MODEL_66c910903d0f4c89ac9d0f19ad24cdf0"
          }
        },
        "63856355f47841ba9cf1ab0fb3ebca0c": {
          "model_module": "@jupyter-widgets/controls",
          "model_name": "HTMLModel",
          "state": {
            "_view_name": "HTMLView",
            "style": "IPY_MODEL_817dc70987a744d799ea6dbe3bb1b979",
            "_dom_classes": [],
            "description": "",
            "_model_name": "HTMLModel",
            "placeholder": "​",
            "_view_module": "@jupyter-widgets/controls",
            "_model_module_version": "1.5.0",
            "value": " 4358/0 [00:00&lt;00:00, 55145.75 examples/s]",
            "_view_count": null,
            "_view_module_version": "1.5.0",
            "description_tooltip": null,
            "_model_module": "@jupyter-widgets/controls",
            "layout": "IPY_MODEL_91ec2a793b864773878f82dacb5fda3f"
          }
        },
        "b0100511d1f6426b9c5cc3eac9f7ebdb": {
          "model_module": "@jupyter-widgets/controls",
          "model_name": "ProgressStyleModel",
          "state": {
            "_view_name": "StyleView",
            "_model_name": "ProgressStyleModel",
            "description_width": "initial",
            "_view_module": "@jupyter-widgets/base",
            "_model_module_version": "1.5.0",
            "_view_count": null,
            "_view_module_version": "1.2.0",
            "bar_color": null,
            "_model_module": "@jupyter-widgets/controls"
          }
        },
        "66c910903d0f4c89ac9d0f19ad24cdf0": {
          "model_module": "@jupyter-widgets/base",
          "model_name": "LayoutModel",
          "state": {
            "_view_name": "LayoutView",
            "grid_template_rows": null,
            "right": null,
            "justify_content": null,
            "_view_module": "@jupyter-widgets/base",
            "overflow": null,
            "_model_module_version": "1.2.0",
            "_view_count": null,
            "flex_flow": null,
            "width": null,
            "min_width": null,
            "border": null,
            "align_items": null,
            "bottom": null,
            "_model_module": "@jupyter-widgets/base",
            "top": null,
            "grid_column": null,
            "overflow_y": null,
            "overflow_x": null,
            "grid_auto_flow": null,
            "grid_area": null,
            "grid_template_columns": null,
            "flex": null,
            "_model_name": "LayoutModel",
            "justify_items": null,
            "grid_row": null,
            "max_height": null,
            "align_content": null,
            "visibility": null,
            "align_self": null,
            "height": null,
            "min_height": null,
            "padding": null,
            "grid_auto_rows": null,
            "grid_gap": null,
            "max_width": null,
            "order": null,
            "_view_module_version": "1.2.0",
            "grid_template_areas": null,
            "object_position": null,
            "object_fit": null,
            "grid_auto_columns": null,
            "margin": null,
            "display": null,
            "left": null
          }
        },
        "817dc70987a744d799ea6dbe3bb1b979": {
          "model_module": "@jupyter-widgets/controls",
          "model_name": "DescriptionStyleModel",
          "state": {
            "_view_name": "StyleView",
            "_model_name": "DescriptionStyleModel",
            "description_width": "",
            "_view_module": "@jupyter-widgets/base",
            "_model_module_version": "1.5.0",
            "_view_count": null,
            "_view_module_version": "1.2.0",
            "_model_module": "@jupyter-widgets/controls"
          }
        },
        "91ec2a793b864773878f82dacb5fda3f": {
          "model_module": "@jupyter-widgets/base",
          "model_name": "LayoutModel",
          "state": {
            "_view_name": "LayoutView",
            "grid_template_rows": null,
            "right": null,
            "justify_content": null,
            "_view_module": "@jupyter-widgets/base",
            "overflow": null,
            "_model_module_version": "1.2.0",
            "_view_count": null,
            "flex_flow": null,
            "width": null,
            "min_width": null,
            "border": null,
            "align_items": null,
            "bottom": null,
            "_model_module": "@jupyter-widgets/base",
            "top": null,
            "grid_column": null,
            "overflow_y": null,
            "overflow_x": null,
            "grid_auto_flow": null,
            "grid_area": null,
            "grid_template_columns": null,
            "flex": null,
            "_model_name": "LayoutModel",
            "justify_items": null,
            "grid_row": null,
            "max_height": null,
            "align_content": null,
            "visibility": null,
            "align_self": null,
            "height": null,
            "min_height": null,
            "padding": null,
            "grid_auto_rows": null,
            "grid_gap": null,
            "max_width": null,
            "order": null,
            "_view_module_version": "1.2.0",
            "grid_template_areas": null,
            "object_position": null,
            "object_fit": null,
            "grid_auto_columns": null,
            "margin": null,
            "display": null,
            "left": null
          }
        },
        "f7e8ba700eca423b8833f57f9d0f04f8": {
          "model_module": "@jupyter-widgets/controls",
          "model_name": "HBoxModel",
          "state": {
            "_view_name": "HBoxView",
            "_dom_classes": [],
            "_model_name": "HBoxModel",
            "_view_module": "@jupyter-widgets/controls",
            "_model_module_version": "1.5.0",
            "_view_count": null,
            "_view_module_version": "1.5.0",
            "box_style": "",
            "layout": "IPY_MODEL_6316f257e41543bab0ec049cfa8de72a",
            "_model_module": "@jupyter-widgets/controls",
            "children": [
              "IPY_MODEL_08103dc5c1324da499e2d138a31cd3ed",
              "IPY_MODEL_e04aaa1e8e1f46e8a0d1aa764dea4129"
            ]
          }
        },
        "6316f257e41543bab0ec049cfa8de72a": {
          "model_module": "@jupyter-widgets/base",
          "model_name": "LayoutModel",
          "state": {
            "_view_name": "LayoutView",
            "grid_template_rows": null,
            "right": null,
            "justify_content": null,
            "_view_module": "@jupyter-widgets/base",
            "overflow": null,
            "_model_module_version": "1.2.0",
            "_view_count": null,
            "flex_flow": null,
            "width": null,
            "min_width": null,
            "border": null,
            "align_items": null,
            "bottom": null,
            "_model_module": "@jupyter-widgets/base",
            "top": null,
            "grid_column": null,
            "overflow_y": null,
            "overflow_x": null,
            "grid_auto_flow": null,
            "grid_area": null,
            "grid_template_columns": null,
            "flex": null,
            "_model_name": "LayoutModel",
            "justify_items": null,
            "grid_row": null,
            "max_height": null,
            "align_content": null,
            "visibility": null,
            "align_self": null,
            "height": null,
            "min_height": null,
            "padding": null,
            "grid_auto_rows": null,
            "grid_gap": null,
            "max_width": null,
            "order": null,
            "_view_module_version": "1.2.0",
            "grid_template_areas": null,
            "object_position": null,
            "object_fit": null,
            "grid_auto_columns": null,
            "margin": null,
            "display": null,
            "left": null
          }
        },
        "08103dc5c1324da499e2d138a31cd3ed": {
          "model_module": "@jupyter-widgets/controls",
          "model_name": "FloatProgressModel",
          "state": {
            "_view_name": "ProgressView",
            "style": "IPY_MODEL_797629b114634e6aa14b0ba6b85331ba",
            "_dom_classes": [],
            "description": "",
            "_model_name": "FloatProgressModel",
            "bar_style": "info",
            "max": 1,
            "_view_module": "@jupyter-widgets/controls",
            "_model_module_version": "1.5.0",
            "value": 1,
            "_view_count": null,
            "_view_module_version": "1.5.0",
            "orientation": "horizontal",
            "min": 0,
            "description_tooltip": null,
            "_model_module": "@jupyter-widgets/controls",
            "layout": "IPY_MODEL_6a318589de5644349f55dfe9833343c6"
          }
        },
        "e04aaa1e8e1f46e8a0d1aa764dea4129": {
          "model_module": "@jupyter-widgets/controls",
          "model_name": "HTMLModel",
          "state": {
            "_view_name": "HTMLView",
            "style": "IPY_MODEL_67953f69eb6c42cfae52e8814f987efa",
            "_dom_classes": [],
            "description": "",
            "_model_name": "HTMLModel",
            "placeholder": "​",
            "_view_module": "@jupyter-widgets/controls",
            "_model_module_version": "1.5.0",
            "value": " 1801350/0 [00:20&lt;00:00, 89834.26 examples/s]",
            "_view_count": null,
            "_view_module_version": "1.5.0",
            "description_tooltip": null,
            "_model_module": "@jupyter-widgets/controls",
            "layout": "IPY_MODEL_e66cc11ba7a94e42a4653237e5d8dd49"
          }
        },
        "797629b114634e6aa14b0ba6b85331ba": {
          "model_module": "@jupyter-widgets/controls",
          "model_name": "ProgressStyleModel",
          "state": {
            "_view_name": "StyleView",
            "_model_name": "ProgressStyleModel",
            "description_width": "initial",
            "_view_module": "@jupyter-widgets/base",
            "_model_module_version": "1.5.0",
            "_view_count": null,
            "_view_module_version": "1.2.0",
            "bar_color": null,
            "_model_module": "@jupyter-widgets/controls"
          }
        },
        "6a318589de5644349f55dfe9833343c6": {
          "model_module": "@jupyter-widgets/base",
          "model_name": "LayoutModel",
          "state": {
            "_view_name": "LayoutView",
            "grid_template_rows": null,
            "right": null,
            "justify_content": null,
            "_view_module": "@jupyter-widgets/base",
            "overflow": null,
            "_model_module_version": "1.2.0",
            "_view_count": null,
            "flex_flow": null,
            "width": null,
            "min_width": null,
            "border": null,
            "align_items": null,
            "bottom": null,
            "_model_module": "@jupyter-widgets/base",
            "top": null,
            "grid_column": null,
            "overflow_y": null,
            "overflow_x": null,
            "grid_auto_flow": null,
            "grid_area": null,
            "grid_template_columns": null,
            "flex": null,
            "_model_name": "LayoutModel",
            "justify_items": null,
            "grid_row": null,
            "max_height": null,
            "align_content": null,
            "visibility": null,
            "align_self": null,
            "height": null,
            "min_height": null,
            "padding": null,
            "grid_auto_rows": null,
            "grid_gap": null,
            "max_width": null,
            "order": null,
            "_view_module_version": "1.2.0",
            "grid_template_areas": null,
            "object_position": null,
            "object_fit": null,
            "grid_auto_columns": null,
            "margin": null,
            "display": null,
            "left": null
          }
        },
        "67953f69eb6c42cfae52e8814f987efa": {
          "model_module": "@jupyter-widgets/controls",
          "model_name": "DescriptionStyleModel",
          "state": {
            "_view_name": "StyleView",
            "_model_name": "DescriptionStyleModel",
            "description_width": "",
            "_view_module": "@jupyter-widgets/base",
            "_model_module_version": "1.5.0",
            "_view_count": null,
            "_view_module_version": "1.2.0",
            "_model_module": "@jupyter-widgets/controls"
          }
        },
        "e66cc11ba7a94e42a4653237e5d8dd49": {
          "model_module": "@jupyter-widgets/base",
          "model_name": "LayoutModel",
          "state": {
            "_view_name": "LayoutView",
            "grid_template_rows": null,
            "right": null,
            "justify_content": null,
            "_view_module": "@jupyter-widgets/base",
            "overflow": null,
            "_model_module_version": "1.2.0",
            "_view_count": null,
            "flex_flow": null,
            "width": null,
            "min_width": null,
            "border": null,
            "align_items": null,
            "bottom": null,
            "_model_module": "@jupyter-widgets/base",
            "top": null,
            "grid_column": null,
            "overflow_y": null,
            "overflow_x": null,
            "grid_auto_flow": null,
            "grid_area": null,
            "grid_template_columns": null,
            "flex": null,
            "_model_name": "LayoutModel",
            "justify_items": null,
            "grid_row": null,
            "max_height": null,
            "align_content": null,
            "visibility": null,
            "align_self": null,
            "height": null,
            "min_height": null,
            "padding": null,
            "grid_auto_rows": null,
            "grid_gap": null,
            "max_width": null,
            "order": null,
            "_view_module_version": "1.2.0",
            "grid_template_areas": null,
            "object_position": null,
            "object_fit": null,
            "grid_auto_columns": null,
            "margin": null,
            "display": null,
            "left": null
          }
        },
        "8f088cc2441b4ba9bb3a1b2d0aeff373": {
          "model_module": "@jupyter-widgets/controls",
          "model_name": "HBoxModel",
          "state": {
            "_view_name": "HBoxView",
            "_dom_classes": [],
            "_model_name": "HBoxModel",
            "_view_module": "@jupyter-widgets/controls",
            "_model_module_version": "1.5.0",
            "_view_count": null,
            "_view_module_version": "1.5.0",
            "box_style": "",
            "layout": "IPY_MODEL_64d506776be142dcac3faa2da53cbed4",
            "_model_module": "@jupyter-widgets/controls",
            "children": [
              "IPY_MODEL_2f1bf2f6b50c47a587074fec87fb1d34",
              "IPY_MODEL_cad112e890c14d09a8ad07438baadea9"
            ]
          }
        },
        "64d506776be142dcac3faa2da53cbed4": {
          "model_module": "@jupyter-widgets/base",
          "model_name": "LayoutModel",
          "state": {
            "_view_name": "LayoutView",
            "grid_template_rows": null,
            "right": null,
            "justify_content": null,
            "_view_module": "@jupyter-widgets/base",
            "overflow": null,
            "_model_module_version": "1.2.0",
            "_view_count": null,
            "flex_flow": null,
            "width": null,
            "min_width": null,
            "border": null,
            "align_items": null,
            "bottom": null,
            "_model_module": "@jupyter-widgets/base",
            "top": null,
            "grid_column": null,
            "overflow_y": null,
            "overflow_x": null,
            "grid_auto_flow": null,
            "grid_area": null,
            "grid_template_columns": null,
            "flex": null,
            "_model_name": "LayoutModel",
            "justify_items": null,
            "grid_row": null,
            "max_height": null,
            "align_content": null,
            "visibility": null,
            "align_self": null,
            "height": null,
            "min_height": null,
            "padding": null,
            "grid_auto_rows": null,
            "grid_gap": null,
            "max_width": null,
            "order": null,
            "_view_module_version": "1.2.0",
            "grid_template_areas": null,
            "object_position": null,
            "object_fit": null,
            "grid_auto_columns": null,
            "margin": null,
            "display": null,
            "left": null
          }
        },
        "2f1bf2f6b50c47a587074fec87fb1d34": {
          "model_module": "@jupyter-widgets/controls",
          "model_name": "FloatProgressModel",
          "state": {
            "_view_name": "ProgressView",
            "style": "IPY_MODEL_d019105c7cbf4f2f893492f664e6b7d9",
            "_dom_classes": [],
            "description": "",
            "_model_name": "FloatProgressModel",
            "bar_style": "info",
            "max": 1,
            "_view_module": "@jupyter-widgets/controls",
            "_model_module_version": "1.5.0",
            "value": 1,
            "_view_count": null,
            "_view_module_version": "1.5.0",
            "orientation": "horizontal",
            "min": 0,
            "description_tooltip": null,
            "_model_module": "@jupyter-widgets/controls",
            "layout": "IPY_MODEL_58f0dd65208e441b81048d3bdd30d903"
          }
        },
        "cad112e890c14d09a8ad07438baadea9": {
          "model_module": "@jupyter-widgets/controls",
          "model_name": "HTMLModel",
          "state": {
            "_view_name": "HTMLView",
            "style": "IPY_MODEL_e355a613d7c24167881954e08dd7ff2c",
            "_dom_classes": [],
            "description": "",
            "_model_name": "HTMLModel",
            "placeholder": "​",
            "_view_module": "@jupyter-widgets/controls",
            "_model_module_version": "1.5.0",
            "value": " 3760/0 [00:00&lt;00:00, 56246.77 examples/s]",
            "_view_count": null,
            "_view_module_version": "1.5.0",
            "description_tooltip": null,
            "_model_module": "@jupyter-widgets/controls",
            "layout": "IPY_MODEL_3310b281b7f046c78b5ff9d6df3d14ac"
          }
        },
        "d019105c7cbf4f2f893492f664e6b7d9": {
          "model_module": "@jupyter-widgets/controls",
          "model_name": "ProgressStyleModel",
          "state": {
            "_view_name": "StyleView",
            "_model_name": "ProgressStyleModel",
            "description_width": "initial",
            "_view_module": "@jupyter-widgets/base",
            "_model_module_version": "1.5.0",
            "_view_count": null,
            "_view_module_version": "1.2.0",
            "bar_color": null,
            "_model_module": "@jupyter-widgets/controls"
          }
        },
        "58f0dd65208e441b81048d3bdd30d903": {
          "model_module": "@jupyter-widgets/base",
          "model_name": "LayoutModel",
          "state": {
            "_view_name": "LayoutView",
            "grid_template_rows": null,
            "right": null,
            "justify_content": null,
            "_view_module": "@jupyter-widgets/base",
            "overflow": null,
            "_model_module_version": "1.2.0",
            "_view_count": null,
            "flex_flow": null,
            "width": null,
            "min_width": null,
            "border": null,
            "align_items": null,
            "bottom": null,
            "_model_module": "@jupyter-widgets/base",
            "top": null,
            "grid_column": null,
            "overflow_y": null,
            "overflow_x": null,
            "grid_auto_flow": null,
            "grid_area": null,
            "grid_template_columns": null,
            "flex": null,
            "_model_name": "LayoutModel",
            "justify_items": null,
            "grid_row": null,
            "max_height": null,
            "align_content": null,
            "visibility": null,
            "align_self": null,
            "height": null,
            "min_height": null,
            "padding": null,
            "grid_auto_rows": null,
            "grid_gap": null,
            "max_width": null,
            "order": null,
            "_view_module_version": "1.2.0",
            "grid_template_areas": null,
            "object_position": null,
            "object_fit": null,
            "grid_auto_columns": null,
            "margin": null,
            "display": null,
            "left": null
          }
        },
        "e355a613d7c24167881954e08dd7ff2c": {
          "model_module": "@jupyter-widgets/controls",
          "model_name": "DescriptionStyleModel",
          "state": {
            "_view_name": "StyleView",
            "_model_name": "DescriptionStyleModel",
            "description_width": "",
            "_view_module": "@jupyter-widgets/base",
            "_model_module_version": "1.5.0",
            "_view_count": null,
            "_view_module_version": "1.2.0",
            "_model_module": "@jupyter-widgets/controls"
          }
        },
        "3310b281b7f046c78b5ff9d6df3d14ac": {
          "model_module": "@jupyter-widgets/base",
          "model_name": "LayoutModel",
          "state": {
            "_view_name": "LayoutView",
            "grid_template_rows": null,
            "right": null,
            "justify_content": null,
            "_view_module": "@jupyter-widgets/base",
            "overflow": null,
            "_model_module_version": "1.2.0",
            "_view_count": null,
            "flex_flow": null,
            "width": null,
            "min_width": null,
            "border": null,
            "align_items": null,
            "bottom": null,
            "_model_module": "@jupyter-widgets/base",
            "top": null,
            "grid_column": null,
            "overflow_y": null,
            "overflow_x": null,
            "grid_auto_flow": null,
            "grid_area": null,
            "grid_template_columns": null,
            "flex": null,
            "_model_name": "LayoutModel",
            "justify_items": null,
            "grid_row": null,
            "max_height": null,
            "align_content": null,
            "visibility": null,
            "align_self": null,
            "height": null,
            "min_height": null,
            "padding": null,
            "grid_auto_rows": null,
            "grid_gap": null,
            "max_width": null,
            "order": null,
            "_view_module_version": "1.2.0",
            "grid_template_areas": null,
            "object_position": null,
            "object_fit": null,
            "grid_auto_columns": null,
            "margin": null,
            "display": null,
            "left": null
          }
        },
        "d63262b9a4d0406087ba535538cd5f15": {
          "model_module": "@jupyter-widgets/controls",
          "model_name": "HBoxModel",
          "state": {
            "_view_name": "HBoxView",
            "_dom_classes": [],
            "_model_name": "HBoxModel",
            "_view_module": "@jupyter-widgets/controls",
            "_model_module_version": "1.5.0",
            "_view_count": null,
            "_view_module_version": "1.5.0",
            "box_style": "",
            "layout": "IPY_MODEL_71ed76edb8ca43aa9616182230dcfb3a",
            "_model_module": "@jupyter-widgets/controls",
            "children": [
              "IPY_MODEL_53fdbacde47b472aae587f6939eddb62",
              "IPY_MODEL_7620b84806a341e799f12c4c107744b9"
            ]
          }
        },
        "71ed76edb8ca43aa9616182230dcfb3a": {
          "model_module": "@jupyter-widgets/base",
          "model_name": "LayoutModel",
          "state": {
            "_view_name": "LayoutView",
            "grid_template_rows": null,
            "right": null,
            "justify_content": null,
            "_view_module": "@jupyter-widgets/base",
            "overflow": null,
            "_model_module_version": "1.2.0",
            "_view_count": null,
            "flex_flow": null,
            "width": null,
            "min_width": null,
            "border": null,
            "align_items": null,
            "bottom": null,
            "_model_module": "@jupyter-widgets/base",
            "top": null,
            "grid_column": null,
            "overflow_y": null,
            "overflow_x": null,
            "grid_auto_flow": null,
            "grid_area": null,
            "grid_template_columns": null,
            "flex": null,
            "_model_name": "LayoutModel",
            "justify_items": null,
            "grid_row": null,
            "max_height": null,
            "align_content": null,
            "visibility": null,
            "align_self": null,
            "height": null,
            "min_height": null,
            "padding": null,
            "grid_auto_rows": null,
            "grid_gap": null,
            "max_width": null,
            "order": null,
            "_view_module_version": "1.2.0",
            "grid_template_areas": null,
            "object_position": null,
            "object_fit": null,
            "grid_auto_columns": null,
            "margin": null,
            "display": null,
            "left": null
          }
        },
        "53fdbacde47b472aae587f6939eddb62": {
          "model_module": "@jupyter-widgets/controls",
          "model_name": "FloatProgressModel",
          "state": {
            "_view_name": "ProgressView",
            "style": "IPY_MODEL_3c5966b3f78642b3bfc4d62732c2ed28",
            "_dom_classes": [],
            "description": "100%",
            "_model_name": "FloatProgressModel",
            "bar_style": "success",
            "max": 1802,
            "_view_module": "@jupyter-widgets/controls",
            "_model_module_version": "1.5.0",
            "value": 1802,
            "_view_count": null,
            "_view_module_version": "1.5.0",
            "orientation": "horizontal",
            "min": 0,
            "description_tooltip": null,
            "_model_module": "@jupyter-widgets/controls",
            "layout": "IPY_MODEL_74671a317e5c4f28a30b2c1eb43b70c4"
          }
        },
        "7620b84806a341e799f12c4c107744b9": {
          "model_module": "@jupyter-widgets/controls",
          "model_name": "HTMLModel",
          "state": {
            "_view_name": "HTMLView",
            "style": "IPY_MODEL_95df6ac2c7084ec0b4f7d56146cd2263",
            "_dom_classes": [],
            "description": "",
            "_model_name": "HTMLModel",
            "placeholder": "​",
            "_view_module": "@jupyter-widgets/controls",
            "_model_module_version": "1.5.0",
            "value": " 1802/1802 [00:38&lt;00:00, 46.45ba/s]",
            "_view_count": null,
            "_view_module_version": "1.5.0",
            "description_tooltip": null,
            "_model_module": "@jupyter-widgets/controls",
            "layout": "IPY_MODEL_cc43f440b20b42519f1bfbd632e58e88"
          }
        },
        "3c5966b3f78642b3bfc4d62732c2ed28": {
          "model_module": "@jupyter-widgets/controls",
          "model_name": "ProgressStyleModel",
          "state": {
            "_view_name": "StyleView",
            "_model_name": "ProgressStyleModel",
            "description_width": "initial",
            "_view_module": "@jupyter-widgets/base",
            "_model_module_version": "1.5.0",
            "_view_count": null,
            "_view_module_version": "1.2.0",
            "bar_color": null,
            "_model_module": "@jupyter-widgets/controls"
          }
        },
        "74671a317e5c4f28a30b2c1eb43b70c4": {
          "model_module": "@jupyter-widgets/base",
          "model_name": "LayoutModel",
          "state": {
            "_view_name": "LayoutView",
            "grid_template_rows": null,
            "right": null,
            "justify_content": null,
            "_view_module": "@jupyter-widgets/base",
            "overflow": null,
            "_model_module_version": "1.2.0",
            "_view_count": null,
            "flex_flow": null,
            "width": null,
            "min_width": null,
            "border": null,
            "align_items": null,
            "bottom": null,
            "_model_module": "@jupyter-widgets/base",
            "top": null,
            "grid_column": null,
            "overflow_y": null,
            "overflow_x": null,
            "grid_auto_flow": null,
            "grid_area": null,
            "grid_template_columns": null,
            "flex": null,
            "_model_name": "LayoutModel",
            "justify_items": null,
            "grid_row": null,
            "max_height": null,
            "align_content": null,
            "visibility": null,
            "align_self": null,
            "height": null,
            "min_height": null,
            "padding": null,
            "grid_auto_rows": null,
            "grid_gap": null,
            "max_width": null,
            "order": null,
            "_view_module_version": "1.2.0",
            "grid_template_areas": null,
            "object_position": null,
            "object_fit": null,
            "grid_auto_columns": null,
            "margin": null,
            "display": null,
            "left": null
          }
        },
        "95df6ac2c7084ec0b4f7d56146cd2263": {
          "model_module": "@jupyter-widgets/controls",
          "model_name": "DescriptionStyleModel",
          "state": {
            "_view_name": "StyleView",
            "_model_name": "DescriptionStyleModel",
            "description_width": "",
            "_view_module": "@jupyter-widgets/base",
            "_model_module_version": "1.5.0",
            "_view_count": null,
            "_view_module_version": "1.2.0",
            "_model_module": "@jupyter-widgets/controls"
          }
        },
        "cc43f440b20b42519f1bfbd632e58e88": {
          "model_module": "@jupyter-widgets/base",
          "model_name": "LayoutModel",
          "state": {
            "_view_name": "LayoutView",
            "grid_template_rows": null,
            "right": null,
            "justify_content": null,
            "_view_module": "@jupyter-widgets/base",
            "overflow": null,
            "_model_module_version": "1.2.0",
            "_view_count": null,
            "flex_flow": null,
            "width": null,
            "min_width": null,
            "border": null,
            "align_items": null,
            "bottom": null,
            "_model_module": "@jupyter-widgets/base",
            "top": null,
            "grid_column": null,
            "overflow_y": null,
            "overflow_x": null,
            "grid_auto_flow": null,
            "grid_area": null,
            "grid_template_columns": null,
            "flex": null,
            "_model_name": "LayoutModel",
            "justify_items": null,
            "grid_row": null,
            "max_height": null,
            "align_content": null,
            "visibility": null,
            "align_self": null,
            "height": null,
            "min_height": null,
            "padding": null,
            "grid_auto_rows": null,
            "grid_gap": null,
            "max_width": null,
            "order": null,
            "_view_module_version": "1.2.0",
            "grid_template_areas": null,
            "object_position": null,
            "object_fit": null,
            "grid_auto_columns": null,
            "margin": null,
            "display": null,
            "left": null
          }
        },
        "69d2767f96cf4db6a4b0ded8f687f538": {
          "model_module": "@jupyter-widgets/controls",
          "model_name": "HBoxModel",
          "state": {
            "_view_name": "HBoxView",
            "_dom_classes": [],
            "_model_name": "HBoxModel",
            "_view_module": "@jupyter-widgets/controls",
            "_model_module_version": "1.5.0",
            "_view_count": null,
            "_view_module_version": "1.5.0",
            "box_style": "",
            "layout": "IPY_MODEL_357ae9243b7b4adb935de101c7933ece",
            "_model_module": "@jupyter-widgets/controls",
            "children": [
              "IPY_MODEL_3f96155aa3374eb68681d4fed26a1d94",
              "IPY_MODEL_202a347dfa834674b98b4f6388ace0d2"
            ]
          }
        },
        "357ae9243b7b4adb935de101c7933ece": {
          "model_module": "@jupyter-widgets/base",
          "model_name": "LayoutModel",
          "state": {
            "_view_name": "LayoutView",
            "grid_template_rows": null,
            "right": null,
            "justify_content": null,
            "_view_module": "@jupyter-widgets/base",
            "overflow": null,
            "_model_module_version": "1.2.0",
            "_view_count": null,
            "flex_flow": null,
            "width": null,
            "min_width": null,
            "border": null,
            "align_items": null,
            "bottom": null,
            "_model_module": "@jupyter-widgets/base",
            "top": null,
            "grid_column": null,
            "overflow_y": null,
            "overflow_x": null,
            "grid_auto_flow": null,
            "grid_area": null,
            "grid_template_columns": null,
            "flex": null,
            "_model_name": "LayoutModel",
            "justify_items": null,
            "grid_row": null,
            "max_height": null,
            "align_content": null,
            "visibility": null,
            "align_self": null,
            "height": null,
            "min_height": null,
            "padding": null,
            "grid_auto_rows": null,
            "grid_gap": null,
            "max_width": null,
            "order": null,
            "_view_module_version": "1.2.0",
            "grid_template_areas": null,
            "object_position": null,
            "object_fit": null,
            "grid_auto_columns": null,
            "margin": null,
            "display": null,
            "left": null
          }
        },
        "3f96155aa3374eb68681d4fed26a1d94": {
          "model_module": "@jupyter-widgets/controls",
          "model_name": "FloatProgressModel",
          "state": {
            "_view_name": "ProgressView",
            "style": "IPY_MODEL_73d28a26028645a3b643de80bdf8f81c",
            "_dom_classes": [],
            "description": "Downloading: 100%",
            "_model_name": "FloatProgressModel",
            "bar_style": "success",
            "max": 791656,
            "_view_module": "@jupyter-widgets/controls",
            "_model_module_version": "1.5.0",
            "value": 791656,
            "_view_count": null,
            "_view_module_version": "1.5.0",
            "orientation": "horizontal",
            "min": 0,
            "description_tooltip": null,
            "_model_module": "@jupyter-widgets/controls",
            "layout": "IPY_MODEL_07a126f9545c473ca0d9e8c8c67ca81b"
          }
        },
        "202a347dfa834674b98b4f6388ace0d2": {
          "model_module": "@jupyter-widgets/controls",
          "model_name": "HTMLModel",
          "state": {
            "_view_name": "HTMLView",
            "style": "IPY_MODEL_40546d12c6964026ba1fb4a83f10ea47",
            "_dom_classes": [],
            "description": "",
            "_model_name": "HTMLModel",
            "placeholder": "​",
            "_view_module": "@jupyter-widgets/controls",
            "_model_module_version": "1.5.0",
            "value": " 792k/792k [00:02&lt;00:00, 281kB/s]",
            "_view_count": null,
            "_view_module_version": "1.5.0",
            "description_tooltip": null,
            "_model_module": "@jupyter-widgets/controls",
            "layout": "IPY_MODEL_5605113bc38b49d79ef1f3a0e7fa883e"
          }
        },
        "73d28a26028645a3b643de80bdf8f81c": {
          "model_module": "@jupyter-widgets/controls",
          "model_name": "ProgressStyleModel",
          "state": {
            "_view_name": "StyleView",
            "_model_name": "ProgressStyleModel",
            "description_width": "initial",
            "_view_module": "@jupyter-widgets/base",
            "_model_module_version": "1.5.0",
            "_view_count": null,
            "_view_module_version": "1.2.0",
            "bar_color": null,
            "_model_module": "@jupyter-widgets/controls"
          }
        },
        "07a126f9545c473ca0d9e8c8c67ca81b": {
          "model_module": "@jupyter-widgets/base",
          "model_name": "LayoutModel",
          "state": {
            "_view_name": "LayoutView",
            "grid_template_rows": null,
            "right": null,
            "justify_content": null,
            "_view_module": "@jupyter-widgets/base",
            "overflow": null,
            "_model_module_version": "1.2.0",
            "_view_count": null,
            "flex_flow": null,
            "width": null,
            "min_width": null,
            "border": null,
            "align_items": null,
            "bottom": null,
            "_model_module": "@jupyter-widgets/base",
            "top": null,
            "grid_column": null,
            "overflow_y": null,
            "overflow_x": null,
            "grid_auto_flow": null,
            "grid_area": null,
            "grid_template_columns": null,
            "flex": null,
            "_model_name": "LayoutModel",
            "justify_items": null,
            "grid_row": null,
            "max_height": null,
            "align_content": null,
            "visibility": null,
            "align_self": null,
            "height": null,
            "min_height": null,
            "padding": null,
            "grid_auto_rows": null,
            "grid_gap": null,
            "max_width": null,
            "order": null,
            "_view_module_version": "1.2.0",
            "grid_template_areas": null,
            "object_position": null,
            "object_fit": null,
            "grid_auto_columns": null,
            "margin": null,
            "display": null,
            "left": null
          }
        },
        "40546d12c6964026ba1fb4a83f10ea47": {
          "model_module": "@jupyter-widgets/controls",
          "model_name": "DescriptionStyleModel",
          "state": {
            "_view_name": "StyleView",
            "_model_name": "DescriptionStyleModel",
            "description_width": "",
            "_view_module": "@jupyter-widgets/base",
            "_model_module_version": "1.5.0",
            "_view_count": null,
            "_view_module_version": "1.2.0",
            "_model_module": "@jupyter-widgets/controls"
          }
        },
        "5605113bc38b49d79ef1f3a0e7fa883e": {
          "model_module": "@jupyter-widgets/base",
          "model_name": "LayoutModel",
          "state": {
            "_view_name": "LayoutView",
            "grid_template_rows": null,
            "right": null,
            "justify_content": null,
            "_view_module": "@jupyter-widgets/base",
            "overflow": null,
            "_model_module_version": "1.2.0",
            "_view_count": null,
            "flex_flow": null,
            "width": null,
            "min_width": null,
            "border": null,
            "align_items": null,
            "bottom": null,
            "_model_module": "@jupyter-widgets/base",
            "top": null,
            "grid_column": null,
            "overflow_y": null,
            "overflow_x": null,
            "grid_auto_flow": null,
            "grid_area": null,
            "grid_template_columns": null,
            "flex": null,
            "_model_name": "LayoutModel",
            "justify_items": null,
            "grid_row": null,
            "max_height": null,
            "align_content": null,
            "visibility": null,
            "align_self": null,
            "height": null,
            "min_height": null,
            "padding": null,
            "grid_auto_rows": null,
            "grid_gap": null,
            "max_width": null,
            "order": null,
            "_view_module_version": "1.2.0",
            "grid_template_areas": null,
            "object_position": null,
            "object_fit": null,
            "grid_auto_columns": null,
            "margin": null,
            "display": null,
            "left": null
          }
        },
        "6b0c389ce6514b10b17449d261607d4d": {
          "model_module": "@jupyter-widgets/controls",
          "model_name": "HBoxModel",
          "state": {
            "_view_name": "HBoxView",
            "_dom_classes": [],
            "_model_name": "HBoxModel",
            "_view_module": "@jupyter-widgets/controls",
            "_model_module_version": "1.5.0",
            "_view_count": null,
            "_view_module_version": "1.5.0",
            "box_style": "",
            "layout": "IPY_MODEL_2fd88cf973744326b7515acf01617953",
            "_model_module": "@jupyter-widgets/controls",
            "children": [
              "IPY_MODEL_83f258f3618f46058fb027483ae76ca1",
              "IPY_MODEL_d2240090c91747008ab8d54ae5869f40"
            ]
          }
        },
        "2fd88cf973744326b7515acf01617953": {
          "model_module": "@jupyter-widgets/base",
          "model_name": "LayoutModel",
          "state": {
            "_view_name": "LayoutView",
            "grid_template_rows": null,
            "right": null,
            "justify_content": null,
            "_view_module": "@jupyter-widgets/base",
            "overflow": null,
            "_model_module_version": "1.2.0",
            "_view_count": null,
            "flex_flow": null,
            "width": null,
            "min_width": null,
            "border": null,
            "align_items": null,
            "bottom": null,
            "_model_module": "@jupyter-widgets/base",
            "top": null,
            "grid_column": null,
            "overflow_y": null,
            "overflow_x": null,
            "grid_auto_flow": null,
            "grid_area": null,
            "grid_template_columns": null,
            "flex": null,
            "_model_name": "LayoutModel",
            "justify_items": null,
            "grid_row": null,
            "max_height": null,
            "align_content": null,
            "visibility": null,
            "align_self": null,
            "height": null,
            "min_height": null,
            "padding": null,
            "grid_auto_rows": null,
            "grid_gap": null,
            "max_width": null,
            "order": null,
            "_view_module_version": "1.2.0",
            "grid_template_areas": null,
            "object_position": null,
            "object_fit": null,
            "grid_auto_columns": null,
            "margin": null,
            "display": null,
            "left": null
          }
        },
        "83f258f3618f46058fb027483ae76ca1": {
          "model_module": "@jupyter-widgets/controls",
          "model_name": "FloatProgressModel",
          "state": {
            "_view_name": "ProgressView",
            "style": "IPY_MODEL_201eda1145ae4536abdca5f93804ef4b",
            "_dom_classes": [],
            "description": "Downloading: 100%",
            "_model_name": "FloatProgressModel",
            "bar_style": "success",
            "max": 1389353,
            "_view_module": "@jupyter-widgets/controls",
            "_model_module_version": "1.5.0",
            "value": 1389353,
            "_view_count": null,
            "_view_module_version": "1.5.0",
            "orientation": "horizontal",
            "min": 0,
            "description_tooltip": null,
            "_model_module": "@jupyter-widgets/controls",
            "layout": "IPY_MODEL_6b8a9d6e5971455884aea51b705fa288"
          }
        },
        "d2240090c91747008ab8d54ae5869f40": {
          "model_module": "@jupyter-widgets/controls",
          "model_name": "HTMLModel",
          "state": {
            "_view_name": "HTMLView",
            "style": "IPY_MODEL_abd487f04fde42c9a6f9a3f45b98476d",
            "_dom_classes": [],
            "description": "",
            "_model_name": "HTMLModel",
            "placeholder": "​",
            "_view_module": "@jupyter-widgets/controls",
            "_model_module_version": "1.5.0",
            "value": " 1.39M/1.39M [00:00&lt;00:00, 1.96MB/s]",
            "_view_count": null,
            "_view_module_version": "1.5.0",
            "description_tooltip": null,
            "_model_module": "@jupyter-widgets/controls",
            "layout": "IPY_MODEL_cd2469b1b7594cfdb6f5c9c11d0c2e10"
          }
        },
        "201eda1145ae4536abdca5f93804ef4b": {
          "model_module": "@jupyter-widgets/controls",
          "model_name": "ProgressStyleModel",
          "state": {
            "_view_name": "StyleView",
            "_model_name": "ProgressStyleModel",
            "description_width": "initial",
            "_view_module": "@jupyter-widgets/base",
            "_model_module_version": "1.5.0",
            "_view_count": null,
            "_view_module_version": "1.2.0",
            "bar_color": null,
            "_model_module": "@jupyter-widgets/controls"
          }
        },
        "6b8a9d6e5971455884aea51b705fa288": {
          "model_module": "@jupyter-widgets/base",
          "model_name": "LayoutModel",
          "state": {
            "_view_name": "LayoutView",
            "grid_template_rows": null,
            "right": null,
            "justify_content": null,
            "_view_module": "@jupyter-widgets/base",
            "overflow": null,
            "_model_module_version": "1.2.0",
            "_view_count": null,
            "flex_flow": null,
            "width": null,
            "min_width": null,
            "border": null,
            "align_items": null,
            "bottom": null,
            "_model_module": "@jupyter-widgets/base",
            "top": null,
            "grid_column": null,
            "overflow_y": null,
            "overflow_x": null,
            "grid_auto_flow": null,
            "grid_area": null,
            "grid_template_columns": null,
            "flex": null,
            "_model_name": "LayoutModel",
            "justify_items": null,
            "grid_row": null,
            "max_height": null,
            "align_content": null,
            "visibility": null,
            "align_self": null,
            "height": null,
            "min_height": null,
            "padding": null,
            "grid_auto_rows": null,
            "grid_gap": null,
            "max_width": null,
            "order": null,
            "_view_module_version": "1.2.0",
            "grid_template_areas": null,
            "object_position": null,
            "object_fit": null,
            "grid_auto_columns": null,
            "margin": null,
            "display": null,
            "left": null
          }
        },
        "abd487f04fde42c9a6f9a3f45b98476d": {
          "model_module": "@jupyter-widgets/controls",
          "model_name": "DescriptionStyleModel",
          "state": {
            "_view_name": "StyleView",
            "_model_name": "DescriptionStyleModel",
            "description_width": "",
            "_view_module": "@jupyter-widgets/base",
            "_model_module_version": "1.5.0",
            "_view_count": null,
            "_view_module_version": "1.2.0",
            "_model_module": "@jupyter-widgets/controls"
          }
        },
        "cd2469b1b7594cfdb6f5c9c11d0c2e10": {
          "model_module": "@jupyter-widgets/base",
          "model_name": "LayoutModel",
          "state": {
            "_view_name": "LayoutView",
            "grid_template_rows": null,
            "right": null,
            "justify_content": null,
            "_view_module": "@jupyter-widgets/base",
            "overflow": null,
            "_model_module_version": "1.2.0",
            "_view_count": null,
            "flex_flow": null,
            "width": null,
            "min_width": null,
            "border": null,
            "align_items": null,
            "bottom": null,
            "_model_module": "@jupyter-widgets/base",
            "top": null,
            "grid_column": null,
            "overflow_y": null,
            "overflow_x": null,
            "grid_auto_flow": null,
            "grid_area": null,
            "grid_template_columns": null,
            "flex": null,
            "_model_name": "LayoutModel",
            "justify_items": null,
            "grid_row": null,
            "max_height": null,
            "align_content": null,
            "visibility": null,
            "align_self": null,
            "height": null,
            "min_height": null,
            "padding": null,
            "grid_auto_rows": null,
            "grid_gap": null,
            "max_width": null,
            "order": null,
            "_view_module_version": "1.2.0",
            "grid_template_areas": null,
            "object_position": null,
            "object_fit": null,
            "grid_auto_columns": null,
            "margin": null,
            "display": null,
            "left": null
          }
        },
        "9e3fc00b626040db95f47bf7a7700d39": {
          "model_module": "@jupyter-widgets/controls",
          "model_name": "HBoxModel",
          "state": {
            "_view_name": "HBoxView",
            "_dom_classes": [],
            "_model_name": "HBoxModel",
            "_view_module": "@jupyter-widgets/controls",
            "_model_module_version": "1.5.0",
            "_view_count": null,
            "_view_module_version": "1.5.0",
            "box_style": "",
            "layout": "IPY_MODEL_b3e704eef1954b86b15db49975938693",
            "_model_module": "@jupyter-widgets/controls",
            "children": [
              "IPY_MODEL_8a975383afaa477387a65bdff6c66b65",
              "IPY_MODEL_b8a6c2b092354cd3b36a8e3689db2cff"
            ]
          }
        },
        "b3e704eef1954b86b15db49975938693": {
          "model_module": "@jupyter-widgets/base",
          "model_name": "LayoutModel",
          "state": {
            "_view_name": "LayoutView",
            "grid_template_rows": null,
            "right": null,
            "justify_content": null,
            "_view_module": "@jupyter-widgets/base",
            "overflow": null,
            "_model_module_version": "1.2.0",
            "_view_count": null,
            "flex_flow": null,
            "width": null,
            "min_width": null,
            "border": null,
            "align_items": null,
            "bottom": null,
            "_model_module": "@jupyter-widgets/base",
            "top": null,
            "grid_column": null,
            "overflow_y": null,
            "overflow_x": null,
            "grid_auto_flow": null,
            "grid_area": null,
            "grid_template_columns": null,
            "flex": null,
            "_model_name": "LayoutModel",
            "justify_items": null,
            "grid_row": null,
            "max_height": null,
            "align_content": null,
            "visibility": null,
            "align_self": null,
            "height": null,
            "min_height": null,
            "padding": null,
            "grid_auto_rows": null,
            "grid_gap": null,
            "max_width": null,
            "order": null,
            "_view_module_version": "1.2.0",
            "grid_template_areas": null,
            "object_position": null,
            "object_fit": null,
            "grid_auto_columns": null,
            "margin": null,
            "display": null,
            "left": null
          }
        },
        "8a975383afaa477387a65bdff6c66b65": {
          "model_module": "@jupyter-widgets/controls",
          "model_name": "FloatProgressModel",
          "state": {
            "_view_name": "ProgressView",
            "style": "IPY_MODEL_5005f952fd7045eda814af06cb228e52",
            "_dom_classes": [],
            "description": "Downloading: 100%",
            "_model_name": "FloatProgressModel",
            "bar_style": "success",
            "max": 1199,
            "_view_module": "@jupyter-widgets/controls",
            "_model_module_version": "1.5.0",
            "value": 1199,
            "_view_count": null,
            "_view_module_version": "1.5.0",
            "orientation": "horizontal",
            "min": 0,
            "description_tooltip": null,
            "_model_module": "@jupyter-widgets/controls",
            "layout": "IPY_MODEL_aa989882aaed445ba9655c6370833b7a"
          }
        },
        "b8a6c2b092354cd3b36a8e3689db2cff": {
          "model_module": "@jupyter-widgets/controls",
          "model_name": "HTMLModel",
          "state": {
            "_view_name": "HTMLView",
            "style": "IPY_MODEL_37316fe32fdd47c799ebe928b121ddd1",
            "_dom_classes": [],
            "description": "",
            "_model_name": "HTMLModel",
            "placeholder": "​",
            "_view_module": "@jupyter-widgets/controls",
            "_model_module_version": "1.5.0",
            "value": " 1.20k/1.20k [00:13&lt;00:00, 88.8B/s]",
            "_view_count": null,
            "_view_module_version": "1.5.0",
            "description_tooltip": null,
            "_model_module": "@jupyter-widgets/controls",
            "layout": "IPY_MODEL_af60a2c1f3544f2b885a30f1e4211da1"
          }
        },
        "5005f952fd7045eda814af06cb228e52": {
          "model_module": "@jupyter-widgets/controls",
          "model_name": "ProgressStyleModel",
          "state": {
            "_view_name": "StyleView",
            "_model_name": "ProgressStyleModel",
            "description_width": "initial",
            "_view_module": "@jupyter-widgets/base",
            "_model_module_version": "1.5.0",
            "_view_count": null,
            "_view_module_version": "1.2.0",
            "bar_color": null,
            "_model_module": "@jupyter-widgets/controls"
          }
        },
        "aa989882aaed445ba9655c6370833b7a": {
          "model_module": "@jupyter-widgets/base",
          "model_name": "LayoutModel",
          "state": {
            "_view_name": "LayoutView",
            "grid_template_rows": null,
            "right": null,
            "justify_content": null,
            "_view_module": "@jupyter-widgets/base",
            "overflow": null,
            "_model_module_version": "1.2.0",
            "_view_count": null,
            "flex_flow": null,
            "width": null,
            "min_width": null,
            "border": null,
            "align_items": null,
            "bottom": null,
            "_model_module": "@jupyter-widgets/base",
            "top": null,
            "grid_column": null,
            "overflow_y": null,
            "overflow_x": null,
            "grid_auto_flow": null,
            "grid_area": null,
            "grid_template_columns": null,
            "flex": null,
            "_model_name": "LayoutModel",
            "justify_items": null,
            "grid_row": null,
            "max_height": null,
            "align_content": null,
            "visibility": null,
            "align_self": null,
            "height": null,
            "min_height": null,
            "padding": null,
            "grid_auto_rows": null,
            "grid_gap": null,
            "max_width": null,
            "order": null,
            "_view_module_version": "1.2.0",
            "grid_template_areas": null,
            "object_position": null,
            "object_fit": null,
            "grid_auto_columns": null,
            "margin": null,
            "display": null,
            "left": null
          }
        },
        "37316fe32fdd47c799ebe928b121ddd1": {
          "model_module": "@jupyter-widgets/controls",
          "model_name": "DescriptionStyleModel",
          "state": {
            "_view_name": "StyleView",
            "_model_name": "DescriptionStyleModel",
            "description_width": "",
            "_view_module": "@jupyter-widgets/base",
            "_model_module_version": "1.5.0",
            "_view_count": null,
            "_view_module_version": "1.2.0",
            "_model_module": "@jupyter-widgets/controls"
          }
        },
        "af60a2c1f3544f2b885a30f1e4211da1": {
          "model_module": "@jupyter-widgets/base",
          "model_name": "LayoutModel",
          "state": {
            "_view_name": "LayoutView",
            "grid_template_rows": null,
            "right": null,
            "justify_content": null,
            "_view_module": "@jupyter-widgets/base",
            "overflow": null,
            "_model_module_version": "1.2.0",
            "_view_count": null,
            "flex_flow": null,
            "width": null,
            "min_width": null,
            "border": null,
            "align_items": null,
            "bottom": null,
            "_model_module": "@jupyter-widgets/base",
            "top": null,
            "grid_column": null,
            "overflow_y": null,
            "overflow_x": null,
            "grid_auto_flow": null,
            "grid_area": null,
            "grid_template_columns": null,
            "flex": null,
            "_model_name": "LayoutModel",
            "justify_items": null,
            "grid_row": null,
            "max_height": null,
            "align_content": null,
            "visibility": null,
            "align_self": null,
            "height": null,
            "min_height": null,
            "padding": null,
            "grid_auto_rows": null,
            "grid_gap": null,
            "max_width": null,
            "order": null,
            "_view_module_version": "1.2.0",
            "grid_template_areas": null,
            "object_position": null,
            "object_fit": null,
            "grid_auto_columns": null,
            "margin": null,
            "display": null,
            "left": null
          }
        },
        "3fa2ea5e926f4f449beae1ea8260c2c3": {
          "model_module": "@jupyter-widgets/controls",
          "model_name": "HBoxModel",
          "state": {
            "_view_name": "HBoxView",
            "_dom_classes": [],
            "_model_name": "HBoxModel",
            "_view_module": "@jupyter-widgets/controls",
            "_model_module_version": "1.5.0",
            "_view_count": null,
            "_view_module_version": "1.5.0",
            "box_style": "",
            "layout": "IPY_MODEL_0f8ee77f9d7c4ca8b6f4a13daf4278b2",
            "_model_module": "@jupyter-widgets/controls",
            "children": [
              "IPY_MODEL_10288c9e21c942aab679533d6505989e",
              "IPY_MODEL_95f0607a18a846beac1a6b229f60a39e"
            ]
          }
        },
        "0f8ee77f9d7c4ca8b6f4a13daf4278b2": {
          "model_module": "@jupyter-widgets/base",
          "model_name": "LayoutModel",
          "state": {
            "_view_name": "LayoutView",
            "grid_template_rows": null,
            "right": null,
            "justify_content": null,
            "_view_module": "@jupyter-widgets/base",
            "overflow": null,
            "_model_module_version": "1.2.0",
            "_view_count": null,
            "flex_flow": null,
            "width": null,
            "min_width": null,
            "border": null,
            "align_items": null,
            "bottom": null,
            "_model_module": "@jupyter-widgets/base",
            "top": null,
            "grid_column": null,
            "overflow_y": null,
            "overflow_x": null,
            "grid_auto_flow": null,
            "grid_area": null,
            "grid_template_columns": null,
            "flex": null,
            "_model_name": "LayoutModel",
            "justify_items": null,
            "grid_row": null,
            "max_height": null,
            "align_content": null,
            "visibility": null,
            "align_self": null,
            "height": null,
            "min_height": null,
            "padding": null,
            "grid_auto_rows": null,
            "grid_gap": null,
            "max_width": null,
            "order": null,
            "_view_module_version": "1.2.0",
            "grid_template_areas": null,
            "object_position": null,
            "object_fit": null,
            "grid_auto_columns": null,
            "margin": null,
            "display": null,
            "left": null
          }
        },
        "10288c9e21c942aab679533d6505989e": {
          "model_module": "@jupyter-widgets/controls",
          "model_name": "FloatProgressModel",
          "state": {
            "_view_name": "ProgressView",
            "style": "IPY_MODEL_7fc3ad48eca3408f86ec6494e393f21a",
            "_dom_classes": [],
            "description": "Downloading: 100%",
            "_model_name": "FloatProgressModel",
            "bar_style": "success",
            "max": 891691430,
            "_view_module": "@jupyter-widgets/controls",
            "_model_module_version": "1.5.0",
            "value": 891691430,
            "_view_count": null,
            "_view_module_version": "1.5.0",
            "orientation": "horizontal",
            "min": 0,
            "description_tooltip": null,
            "_model_module": "@jupyter-widgets/controls",
            "layout": "IPY_MODEL_cf4eac5d8d8349bb95308442767b8838"
          }
        },
        "95f0607a18a846beac1a6b229f60a39e": {
          "model_module": "@jupyter-widgets/controls",
          "model_name": "HTMLModel",
          "state": {
            "_view_name": "HTMLView",
            "style": "IPY_MODEL_69c47c5a31b64c5ea5748c69deffdb89",
            "_dom_classes": [],
            "description": "",
            "_model_name": "HTMLModel",
            "placeholder": "​",
            "_view_module": "@jupyter-widgets/controls",
            "_model_module_version": "1.5.0",
            "value": " 892M/892M [00:13&lt;00:00, 68.0MB/s]",
            "_view_count": null,
            "_view_module_version": "1.5.0",
            "description_tooltip": null,
            "_model_module": "@jupyter-widgets/controls",
            "layout": "IPY_MODEL_1732a949747a4c2183f20e3107412127"
          }
        },
        "7fc3ad48eca3408f86ec6494e393f21a": {
          "model_module": "@jupyter-widgets/controls",
          "model_name": "ProgressStyleModel",
          "state": {
            "_view_name": "StyleView",
            "_model_name": "ProgressStyleModel",
            "description_width": "initial",
            "_view_module": "@jupyter-widgets/base",
            "_model_module_version": "1.5.0",
            "_view_count": null,
            "_view_module_version": "1.2.0",
            "bar_color": null,
            "_model_module": "@jupyter-widgets/controls"
          }
        },
        "cf4eac5d8d8349bb95308442767b8838": {
          "model_module": "@jupyter-widgets/base",
          "model_name": "LayoutModel",
          "state": {
            "_view_name": "LayoutView",
            "grid_template_rows": null,
            "right": null,
            "justify_content": null,
            "_view_module": "@jupyter-widgets/base",
            "overflow": null,
            "_model_module_version": "1.2.0",
            "_view_count": null,
            "flex_flow": null,
            "width": null,
            "min_width": null,
            "border": null,
            "align_items": null,
            "bottom": null,
            "_model_module": "@jupyter-widgets/base",
            "top": null,
            "grid_column": null,
            "overflow_y": null,
            "overflow_x": null,
            "grid_auto_flow": null,
            "grid_area": null,
            "grid_template_columns": null,
            "flex": null,
            "_model_name": "LayoutModel",
            "justify_items": null,
            "grid_row": null,
            "max_height": null,
            "align_content": null,
            "visibility": null,
            "align_self": null,
            "height": null,
            "min_height": null,
            "padding": null,
            "grid_auto_rows": null,
            "grid_gap": null,
            "max_width": null,
            "order": null,
            "_view_module_version": "1.2.0",
            "grid_template_areas": null,
            "object_position": null,
            "object_fit": null,
            "grid_auto_columns": null,
            "margin": null,
            "display": null,
            "left": null
          }
        },
        "69c47c5a31b64c5ea5748c69deffdb89": {
          "model_module": "@jupyter-widgets/controls",
          "model_name": "DescriptionStyleModel",
          "state": {
            "_view_name": "StyleView",
            "_model_name": "DescriptionStyleModel",
            "description_width": "",
            "_view_module": "@jupyter-widgets/base",
            "_model_module_version": "1.5.0",
            "_view_count": null,
            "_view_module_version": "1.2.0",
            "_model_module": "@jupyter-widgets/controls"
          }
        },
        "1732a949747a4c2183f20e3107412127": {
          "model_module": "@jupyter-widgets/base",
          "model_name": "LayoutModel",
          "state": {
            "_view_name": "LayoutView",
            "grid_template_rows": null,
            "right": null,
            "justify_content": null,
            "_view_module": "@jupyter-widgets/base",
            "overflow": null,
            "_model_module_version": "1.2.0",
            "_view_count": null,
            "flex_flow": null,
            "width": null,
            "min_width": null,
            "border": null,
            "align_items": null,
            "bottom": null,
            "_model_module": "@jupyter-widgets/base",
            "top": null,
            "grid_column": null,
            "overflow_y": null,
            "overflow_x": null,
            "grid_auto_flow": null,
            "grid_area": null,
            "grid_template_columns": null,
            "flex": null,
            "_model_name": "LayoutModel",
            "justify_items": null,
            "grid_row": null,
            "max_height": null,
            "align_content": null,
            "visibility": null,
            "align_self": null,
            "height": null,
            "min_height": null,
            "padding": null,
            "grid_auto_rows": null,
            "grid_gap": null,
            "max_width": null,
            "order": null,
            "_view_module_version": "1.2.0",
            "grid_template_areas": null,
            "object_position": null,
            "object_fit": null,
            "grid_auto_columns": null,
            "margin": null,
            "display": null,
            "left": null
          }
        },
        "844a922a556044c699100d7c1531efba": {
          "model_module": "@jupyter-widgets/controls",
          "model_name": "HBoxModel",
          "state": {
            "_view_name": "HBoxView",
            "_dom_classes": [],
            "_model_name": "HBoxModel",
            "_view_module": "@jupyter-widgets/controls",
            "_model_module_version": "1.5.0",
            "_view_count": null,
            "_view_module_version": "1.5.0",
            "box_style": "",
            "layout": "IPY_MODEL_92f8e0a02a994ea98182979eb9646bbb",
            "_model_module": "@jupyter-widgets/controls",
            "children": [
              "IPY_MODEL_d7961a283a6543cf8501d61d386e00ed",
              "IPY_MODEL_9eaaf9124a294535acddd72620d66c6d"
            ]
          }
        },
        "92f8e0a02a994ea98182979eb9646bbb": {
          "model_module": "@jupyter-widgets/base",
          "model_name": "LayoutModel",
          "state": {
            "_view_name": "LayoutView",
            "grid_template_rows": null,
            "right": null,
            "justify_content": null,
            "_view_module": "@jupyter-widgets/base",
            "overflow": null,
            "_model_module_version": "1.2.0",
            "_view_count": null,
            "flex_flow": "row wrap",
            "width": "100%",
            "min_width": null,
            "border": null,
            "align_items": null,
            "bottom": null,
            "_model_module": "@jupyter-widgets/base",
            "top": null,
            "grid_column": null,
            "overflow_y": null,
            "overflow_x": null,
            "grid_auto_flow": null,
            "grid_area": null,
            "grid_template_columns": null,
            "flex": null,
            "_model_name": "LayoutModel",
            "justify_items": null,
            "grid_row": null,
            "max_height": null,
            "align_content": null,
            "visibility": null,
            "align_self": null,
            "height": null,
            "min_height": null,
            "padding": null,
            "grid_auto_rows": null,
            "grid_gap": null,
            "max_width": null,
            "order": null,
            "_view_module_version": "1.2.0",
            "grid_template_areas": null,
            "object_position": null,
            "object_fit": null,
            "grid_auto_columns": null,
            "margin": null,
            "display": "inline-flex",
            "left": null
          }
        },
        "d7961a283a6543cf8501d61d386e00ed": {
          "model_module": "@jupyter-widgets/controls",
          "model_name": "FloatProgressModel",
          "state": {
            "_view_name": "ProgressView",
            "style": "IPY_MODEL_82e7dcb5fc554418ae97035cdc4e14f0",
            "_dom_classes": [],
            "description": "Validation sanity check:   0%",
            "_model_name": "FloatProgressModel",
            "bar_style": "danger",
            "max": 1,
            "_view_module": "@jupyter-widgets/controls",
            "_model_module_version": "1.5.0",
            "value": 0,
            "_view_count": null,
            "_view_module_version": "1.5.0",
            "orientation": "horizontal",
            "min": 0,
            "description_tooltip": null,
            "_model_module": "@jupyter-widgets/controls",
            "layout": "IPY_MODEL_1016a433593145c3bf1e722065673fe8"
          }
        },
        "9eaaf9124a294535acddd72620d66c6d": {
          "model_module": "@jupyter-widgets/controls",
          "model_name": "HTMLModel",
          "state": {
            "_view_name": "HTMLView",
            "style": "IPY_MODEL_856cacad49de4a158d4cbce6e9778815",
            "_dom_classes": [],
            "description": "",
            "_model_name": "HTMLModel",
            "placeholder": "​",
            "_view_module": "@jupyter-widgets/controls",
            "_model_module_version": "1.5.0",
            "value": " 0/2 [3:03:40&lt;?, ?it/s]",
            "_view_count": null,
            "_view_module_version": "1.5.0",
            "description_tooltip": null,
            "_model_module": "@jupyter-widgets/controls",
            "layout": "IPY_MODEL_bd20a6aa556b451a8b4c6807947e0c92"
          }
        },
        "82e7dcb5fc554418ae97035cdc4e14f0": {
          "model_module": "@jupyter-widgets/controls",
          "model_name": "ProgressStyleModel",
          "state": {
            "_view_name": "StyleView",
            "_model_name": "ProgressStyleModel",
            "description_width": "initial",
            "_view_module": "@jupyter-widgets/base",
            "_model_module_version": "1.5.0",
            "_view_count": null,
            "_view_module_version": "1.2.0",
            "bar_color": null,
            "_model_module": "@jupyter-widgets/controls"
          }
        },
        "1016a433593145c3bf1e722065673fe8": {
          "model_module": "@jupyter-widgets/base",
          "model_name": "LayoutModel",
          "state": {
            "_view_name": "LayoutView",
            "grid_template_rows": null,
            "right": null,
            "justify_content": null,
            "_view_module": "@jupyter-widgets/base",
            "overflow": null,
            "_model_module_version": "1.2.0",
            "_view_count": null,
            "flex_flow": null,
            "width": null,
            "min_width": null,
            "border": null,
            "align_items": null,
            "bottom": null,
            "_model_module": "@jupyter-widgets/base",
            "top": null,
            "grid_column": null,
            "overflow_y": null,
            "overflow_x": null,
            "grid_auto_flow": null,
            "grid_area": null,
            "grid_template_columns": null,
            "flex": "2",
            "_model_name": "LayoutModel",
            "justify_items": null,
            "grid_row": null,
            "max_height": null,
            "align_content": null,
            "visibility": null,
            "align_self": null,
            "height": null,
            "min_height": null,
            "padding": null,
            "grid_auto_rows": null,
            "grid_gap": null,
            "max_width": null,
            "order": null,
            "_view_module_version": "1.2.0",
            "grid_template_areas": null,
            "object_position": null,
            "object_fit": null,
            "grid_auto_columns": null,
            "margin": null,
            "display": null,
            "left": null
          }
        },
        "856cacad49de4a158d4cbce6e9778815": {
          "model_module": "@jupyter-widgets/controls",
          "model_name": "DescriptionStyleModel",
          "state": {
            "_view_name": "StyleView",
            "_model_name": "DescriptionStyleModel",
            "description_width": "",
            "_view_module": "@jupyter-widgets/base",
            "_model_module_version": "1.5.0",
            "_view_count": null,
            "_view_module_version": "1.2.0",
            "_model_module": "@jupyter-widgets/controls"
          }
        },
        "bd20a6aa556b451a8b4c6807947e0c92": {
          "model_module": "@jupyter-widgets/base",
          "model_name": "LayoutModel",
          "state": {
            "_view_name": "LayoutView",
            "grid_template_rows": null,
            "right": null,
            "justify_content": null,
            "_view_module": "@jupyter-widgets/base",
            "overflow": null,
            "_model_module_version": "1.2.0",
            "_view_count": null,
            "flex_flow": null,
            "width": null,
            "min_width": null,
            "border": null,
            "align_items": null,
            "bottom": null,
            "_model_module": "@jupyter-widgets/base",
            "top": null,
            "grid_column": null,
            "overflow_y": null,
            "overflow_x": null,
            "grid_auto_flow": null,
            "grid_area": null,
            "grid_template_columns": null,
            "flex": null,
            "_model_name": "LayoutModel",
            "justify_items": null,
            "grid_row": null,
            "max_height": null,
            "align_content": null,
            "visibility": null,
            "align_self": null,
            "height": null,
            "min_height": null,
            "padding": null,
            "grid_auto_rows": null,
            "grid_gap": null,
            "max_width": null,
            "order": null,
            "_view_module_version": "1.2.0",
            "grid_template_areas": null,
            "object_position": null,
            "object_fit": null,
            "grid_auto_columns": null,
            "margin": null,
            "display": null,
            "left": null
          }
        },
        "69387d3d54b5437eb9c4505d61497d89": {
          "model_module": "@jupyter-widgets/controls",
          "model_name": "HBoxModel",
          "state": {
            "_view_name": "HBoxView",
            "_dom_classes": [],
            "_model_name": "HBoxModel",
            "_view_module": "@jupyter-widgets/controls",
            "_model_module_version": "1.5.0",
            "_view_count": null,
            "_view_module_version": "1.5.0",
            "box_style": "",
            "layout": "IPY_MODEL_2b7294a134444735b263be26c19c37a4",
            "_model_module": "@jupyter-widgets/controls",
            "children": [
              "IPY_MODEL_c784adda4106409a91e5c6d6672d2f30",
              "IPY_MODEL_5a925f71a519404c8ae8e5d2951e35a6"
            ]
          }
        },
        "2b7294a134444735b263be26c19c37a4": {
          "model_module": "@jupyter-widgets/base",
          "model_name": "LayoutModel",
          "state": {
            "_view_name": "LayoutView",
            "grid_template_rows": null,
            "right": null,
            "justify_content": null,
            "_view_module": "@jupyter-widgets/base",
            "overflow": null,
            "_model_module_version": "1.2.0",
            "_view_count": null,
            "flex_flow": "row wrap",
            "width": "100%",
            "min_width": null,
            "border": null,
            "align_items": null,
            "bottom": null,
            "_model_module": "@jupyter-widgets/base",
            "top": null,
            "grid_column": null,
            "overflow_y": null,
            "overflow_x": null,
            "grid_auto_flow": null,
            "grid_area": null,
            "grid_template_columns": null,
            "flex": null,
            "_model_name": "LayoutModel",
            "justify_items": null,
            "grid_row": null,
            "max_height": null,
            "align_content": null,
            "visibility": null,
            "align_self": null,
            "height": null,
            "min_height": null,
            "padding": null,
            "grid_auto_rows": null,
            "grid_gap": null,
            "max_width": null,
            "order": null,
            "_view_module_version": "1.2.0",
            "grid_template_areas": null,
            "object_position": null,
            "object_fit": null,
            "grid_auto_columns": null,
            "margin": null,
            "display": "inline-flex",
            "left": null
          }
        },
        "c784adda4106409a91e5c6d6672d2f30": {
          "model_module": "@jupyter-widgets/controls",
          "model_name": "FloatProgressModel",
          "state": {
            "_view_name": "ProgressView",
            "style": "IPY_MODEL_0d1480ecafb64bdab468cd053746d20a",
            "_dom_classes": [],
            "description": "Epoch 9: 100%",
            "_model_name": "FloatProgressModel",
            "bar_style": "success",
            "max": 16000,
            "_view_module": "@jupyter-widgets/controls",
            "_model_module_version": "1.5.0",
            "value": 16000,
            "_view_count": null,
            "_view_module_version": "1.5.0",
            "orientation": "horizontal",
            "min": 0,
            "description_tooltip": null,
            "_model_module": "@jupyter-widgets/controls",
            "layout": "IPY_MODEL_6cc5a484e2ab495e9150d63144000aec"
          }
        },
        "5a925f71a519404c8ae8e5d2951e35a6": {
          "model_module": "@jupyter-widgets/controls",
          "model_name": "HTMLModel",
          "state": {
            "_view_name": "HTMLView",
            "style": "IPY_MODEL_7e7a9e4066b740f6a76d902975d74d47",
            "_dom_classes": [],
            "description": "",
            "_model_name": "HTMLModel",
            "placeholder": "​",
            "_view_module": "@jupyter-widgets/controls",
            "_model_module_version": "1.5.0",
            "value": " 16000/16000 [2:34:00&lt;00:00,  1.73it/s, loss=1.02, v_num=IE-2]",
            "_view_count": null,
            "_view_module_version": "1.5.0",
            "description_tooltip": null,
            "_model_module": "@jupyter-widgets/controls",
            "layout": "IPY_MODEL_be7cd6eecbd44c7c94dafca972b37c27"
          }
        },
        "0d1480ecafb64bdab468cd053746d20a": {
          "model_module": "@jupyter-widgets/controls",
          "model_name": "ProgressStyleModel",
          "state": {
            "_view_name": "StyleView",
            "_model_name": "ProgressStyleModel",
            "description_width": "initial",
            "_view_module": "@jupyter-widgets/base",
            "_model_module_version": "1.5.0",
            "_view_count": null,
            "_view_module_version": "1.2.0",
            "bar_color": null,
            "_model_module": "@jupyter-widgets/controls"
          }
        },
        "6cc5a484e2ab495e9150d63144000aec": {
          "model_module": "@jupyter-widgets/base",
          "model_name": "LayoutModel",
          "state": {
            "_view_name": "LayoutView",
            "grid_template_rows": null,
            "right": null,
            "justify_content": null,
            "_view_module": "@jupyter-widgets/base",
            "overflow": null,
            "_model_module_version": "1.2.0",
            "_view_count": null,
            "flex_flow": null,
            "width": null,
            "min_width": null,
            "border": null,
            "align_items": null,
            "bottom": null,
            "_model_module": "@jupyter-widgets/base",
            "top": null,
            "grid_column": null,
            "overflow_y": null,
            "overflow_x": null,
            "grid_auto_flow": null,
            "grid_area": null,
            "grid_template_columns": null,
            "flex": "2",
            "_model_name": "LayoutModel",
            "justify_items": null,
            "grid_row": null,
            "max_height": null,
            "align_content": null,
            "visibility": null,
            "align_self": null,
            "height": null,
            "min_height": null,
            "padding": null,
            "grid_auto_rows": null,
            "grid_gap": null,
            "max_width": null,
            "order": null,
            "_view_module_version": "1.2.0",
            "grid_template_areas": null,
            "object_position": null,
            "object_fit": null,
            "grid_auto_columns": null,
            "margin": null,
            "display": null,
            "left": null
          }
        },
        "7e7a9e4066b740f6a76d902975d74d47": {
          "model_module": "@jupyter-widgets/controls",
          "model_name": "DescriptionStyleModel",
          "state": {
            "_view_name": "StyleView",
            "_model_name": "DescriptionStyleModel",
            "description_width": "",
            "_view_module": "@jupyter-widgets/base",
            "_model_module_version": "1.5.0",
            "_view_count": null,
            "_view_module_version": "1.2.0",
            "_model_module": "@jupyter-widgets/controls"
          }
        },
        "be7cd6eecbd44c7c94dafca972b37c27": {
          "model_module": "@jupyter-widgets/base",
          "model_name": "LayoutModel",
          "state": {
            "_view_name": "LayoutView",
            "grid_template_rows": null,
            "right": null,
            "justify_content": null,
            "_view_module": "@jupyter-widgets/base",
            "overflow": null,
            "_model_module_version": "1.2.0",
            "_view_count": null,
            "flex_flow": null,
            "width": null,
            "min_width": null,
            "border": null,
            "align_items": null,
            "bottom": null,
            "_model_module": "@jupyter-widgets/base",
            "top": null,
            "grid_column": null,
            "overflow_y": null,
            "overflow_x": null,
            "grid_auto_flow": null,
            "grid_area": null,
            "grid_template_columns": null,
            "flex": null,
            "_model_name": "LayoutModel",
            "justify_items": null,
            "grid_row": null,
            "max_height": null,
            "align_content": null,
            "visibility": null,
            "align_self": null,
            "height": null,
            "min_height": null,
            "padding": null,
            "grid_auto_rows": null,
            "grid_gap": null,
            "max_width": null,
            "order": null,
            "_view_module_version": "1.2.0",
            "grid_template_areas": null,
            "object_position": null,
            "object_fit": null,
            "grid_auto_columns": null,
            "margin": null,
            "display": null,
            "left": null
          }
        },
        "bb568686584e4ce1aebbc5a5a3a4d02a": {
          "model_module": "@jupyter-widgets/controls",
          "model_name": "HBoxModel",
          "state": {
            "_view_name": "HBoxView",
            "_dom_classes": [],
            "_model_name": "HBoxModel",
            "_view_module": "@jupyter-widgets/controls",
            "_model_module_version": "1.5.0",
            "_view_count": null,
            "_view_module_version": "1.5.0",
            "box_style": "",
            "layout": "IPY_MODEL_d462b5ba32ba40fc9a0f82b0fbfb2967",
            "_model_module": "@jupyter-widgets/controls",
            "children": [
              "IPY_MODEL_54fc595b8d1a4d2d9d8cedf6673e4b34",
              "IPY_MODEL_42c2eb299bf54514a7d57a04d0c91e41"
            ]
          }
        },
        "d462b5ba32ba40fc9a0f82b0fbfb2967": {
          "model_module": "@jupyter-widgets/base",
          "model_name": "LayoutModel",
          "state": {
            "_view_name": "LayoutView",
            "grid_template_rows": null,
            "right": null,
            "justify_content": null,
            "_view_module": "@jupyter-widgets/base",
            "overflow": null,
            "_model_module_version": "1.2.0",
            "_view_count": null,
            "flex_flow": "row wrap",
            "width": "100%",
            "min_width": null,
            "border": null,
            "align_items": null,
            "bottom": null,
            "_model_module": "@jupyter-widgets/base",
            "top": null,
            "grid_column": null,
            "overflow_y": null,
            "overflow_x": null,
            "grid_auto_flow": null,
            "grid_area": null,
            "grid_template_columns": null,
            "flex": null,
            "_model_name": "LayoutModel",
            "justify_items": null,
            "grid_row": null,
            "max_height": null,
            "align_content": null,
            "visibility": null,
            "align_self": null,
            "height": null,
            "min_height": null,
            "padding": null,
            "grid_auto_rows": null,
            "grid_gap": null,
            "max_width": null,
            "order": null,
            "_view_module_version": "1.2.0",
            "grid_template_areas": null,
            "object_position": null,
            "object_fit": null,
            "grid_auto_columns": null,
            "margin": null,
            "display": "inline-flex",
            "left": null
          }
        },
        "54fc595b8d1a4d2d9d8cedf6673e4b34": {
          "model_module": "@jupyter-widgets/controls",
          "model_name": "FloatProgressModel",
          "state": {
            "_view_name": "ProgressView",
            "style": "IPY_MODEL_e897b8d10e8641b4ad5cb5df6cf4a558",
            "_dom_classes": [],
            "description": "Validating: 100%",
            "_model_name": "FloatProgressModel",
            "bar_style": "info",
            "max": 1,
            "_view_module": "@jupyter-widgets/controls",
            "_model_module_version": "1.5.0",
            "value": 1,
            "_view_count": null,
            "_view_module_version": "1.5.0",
            "orientation": "horizontal",
            "min": 0,
            "description_tooltip": null,
            "_model_module": "@jupyter-widgets/controls",
            "layout": "IPY_MODEL_b7ea7d8f9e5f4dcf9ee7c5f948ff6ade"
          }
        },
        "42c2eb299bf54514a7d57a04d0c91e41": {
          "model_module": "@jupyter-widgets/controls",
          "model_name": "HTMLModel",
          "state": {
            "_view_name": "HTMLView",
            "style": "IPY_MODEL_b0d7c814d816414abe3c9e698e459f1a",
            "_dom_classes": [],
            "description": "",
            "_model_name": "HTMLModel",
            "placeholder": "​",
            "_view_module": "@jupyter-widgets/controls",
            "_model_module_version": "1.5.0",
            "value": " 3200/3200 [1:14:22&lt;00:00,  1.36s/it]",
            "_view_count": null,
            "_view_module_version": "1.5.0",
            "description_tooltip": null,
            "_model_module": "@jupyter-widgets/controls",
            "layout": "IPY_MODEL_a2f6ed20ff7341da9031efbe5186aa35"
          }
        },
        "e897b8d10e8641b4ad5cb5df6cf4a558": {
          "model_module": "@jupyter-widgets/controls",
          "model_name": "ProgressStyleModel",
          "state": {
            "_view_name": "StyleView",
            "_model_name": "ProgressStyleModel",
            "description_width": "initial",
            "_view_module": "@jupyter-widgets/base",
            "_model_module_version": "1.5.0",
            "_view_count": null,
            "_view_module_version": "1.2.0",
            "bar_color": null,
            "_model_module": "@jupyter-widgets/controls"
          }
        },
        "b7ea7d8f9e5f4dcf9ee7c5f948ff6ade": {
          "model_module": "@jupyter-widgets/base",
          "model_name": "LayoutModel",
          "state": {
            "_view_name": "LayoutView",
            "grid_template_rows": null,
            "right": null,
            "justify_content": null,
            "_view_module": "@jupyter-widgets/base",
            "overflow": null,
            "_model_module_version": "1.2.0",
            "_view_count": null,
            "flex_flow": null,
            "width": null,
            "min_width": null,
            "border": null,
            "align_items": null,
            "bottom": null,
            "_model_module": "@jupyter-widgets/base",
            "top": null,
            "grid_column": null,
            "overflow_y": null,
            "overflow_x": null,
            "grid_auto_flow": null,
            "grid_area": null,
            "grid_template_columns": null,
            "flex": "2",
            "_model_name": "LayoutModel",
            "justify_items": null,
            "grid_row": null,
            "max_height": null,
            "align_content": null,
            "visibility": null,
            "align_self": null,
            "height": null,
            "min_height": null,
            "padding": null,
            "grid_auto_rows": null,
            "grid_gap": null,
            "max_width": null,
            "order": null,
            "_view_module_version": "1.2.0",
            "grid_template_areas": null,
            "object_position": null,
            "object_fit": null,
            "grid_auto_columns": null,
            "margin": null,
            "display": null,
            "left": null
          }
        },
        "b0d7c814d816414abe3c9e698e459f1a": {
          "model_module": "@jupyter-widgets/controls",
          "model_name": "DescriptionStyleModel",
          "state": {
            "_view_name": "StyleView",
            "_model_name": "DescriptionStyleModel",
            "description_width": "",
            "_view_module": "@jupyter-widgets/base",
            "_model_module_version": "1.5.0",
            "_view_count": null,
            "_view_module_version": "1.2.0",
            "_model_module": "@jupyter-widgets/controls"
          }
        },
        "a2f6ed20ff7341da9031efbe5186aa35": {
          "model_module": "@jupyter-widgets/base",
          "model_name": "LayoutModel",
          "state": {
            "_view_name": "LayoutView",
            "grid_template_rows": null,
            "right": null,
            "justify_content": null,
            "_view_module": "@jupyter-widgets/base",
            "overflow": null,
            "_model_module_version": "1.2.0",
            "_view_count": null,
            "flex_flow": null,
            "width": null,
            "min_width": null,
            "border": null,
            "align_items": null,
            "bottom": null,
            "_model_module": "@jupyter-widgets/base",
            "top": null,
            "grid_column": null,
            "overflow_y": null,
            "overflow_x": null,
            "grid_auto_flow": null,
            "grid_area": null,
            "grid_template_columns": null,
            "flex": null,
            "_model_name": "LayoutModel",
            "justify_items": null,
            "grid_row": null,
            "max_height": null,
            "align_content": null,
            "visibility": null,
            "align_self": null,
            "height": null,
            "min_height": null,
            "padding": null,
            "grid_auto_rows": null,
            "grid_gap": null,
            "max_width": null,
            "order": null,
            "_view_module_version": "1.2.0",
            "grid_template_areas": null,
            "object_position": null,
            "object_fit": null,
            "grid_auto_columns": null,
            "margin": null,
            "display": null,
            "left": null
          }
        },
        "a69fe542de9c485cb387da8f6a7b79c0": {
          "model_module": "@jupyter-widgets/controls",
          "model_name": "HBoxModel",
          "state": {
            "_view_name": "HBoxView",
            "_dom_classes": [],
            "_model_name": "HBoxModel",
            "_view_module": "@jupyter-widgets/controls",
            "_model_module_version": "1.5.0",
            "_view_count": null,
            "_view_module_version": "1.5.0",
            "box_style": "",
            "layout": "IPY_MODEL_02860ab7988b416c93af5dd31cc9c345",
            "_model_module": "@jupyter-widgets/controls",
            "children": [
              "IPY_MODEL_12d9910025054977bf8dc60fac342e79",
              "IPY_MODEL_ebbc3c6dcb2e434ca534f296b3bbf0f6"
            ]
          }
        },
        "02860ab7988b416c93af5dd31cc9c345": {
          "model_module": "@jupyter-widgets/base",
          "model_name": "LayoutModel",
          "state": {
            "_view_name": "LayoutView",
            "grid_template_rows": null,
            "right": null,
            "justify_content": null,
            "_view_module": "@jupyter-widgets/base",
            "overflow": null,
            "_model_module_version": "1.2.0",
            "_view_count": null,
            "flex_flow": "row wrap",
            "width": "100%",
            "min_width": null,
            "border": null,
            "align_items": null,
            "bottom": null,
            "_model_module": "@jupyter-widgets/base",
            "top": null,
            "grid_column": null,
            "overflow_y": null,
            "overflow_x": null,
            "grid_auto_flow": null,
            "grid_area": null,
            "grid_template_columns": null,
            "flex": null,
            "_model_name": "LayoutModel",
            "justify_items": null,
            "grid_row": null,
            "max_height": null,
            "align_content": null,
            "visibility": null,
            "align_self": null,
            "height": null,
            "min_height": null,
            "padding": null,
            "grid_auto_rows": null,
            "grid_gap": null,
            "max_width": null,
            "order": null,
            "_view_module_version": "1.2.0",
            "grid_template_areas": null,
            "object_position": null,
            "object_fit": null,
            "grid_auto_columns": null,
            "margin": null,
            "display": "inline-flex",
            "left": null
          }
        },
        "12d9910025054977bf8dc60fac342e79": {
          "model_module": "@jupyter-widgets/controls",
          "model_name": "FloatProgressModel",
          "state": {
            "_view_name": "ProgressView",
            "style": "IPY_MODEL_44b3b4499be249b7a527b58d88b1e614",
            "_dom_classes": [],
            "description": "Validating: 100%",
            "_model_name": "FloatProgressModel",
            "bar_style": "info",
            "max": 1,
            "_view_module": "@jupyter-widgets/controls",
            "_model_module_version": "1.5.0",
            "value": 1,
            "_view_count": null,
            "_view_module_version": "1.5.0",
            "orientation": "horizontal",
            "min": 0,
            "description_tooltip": null,
            "_model_module": "@jupyter-widgets/controls",
            "layout": "IPY_MODEL_cd4a2c576f474f82a765f77eece01f78"
          }
        },
        "ebbc3c6dcb2e434ca534f296b3bbf0f6": {
          "model_module": "@jupyter-widgets/controls",
          "model_name": "HTMLModel",
          "state": {
            "_view_name": "HTMLView",
            "style": "IPY_MODEL_371b6d9d754441fc8897fdd3b8558452",
            "_dom_classes": [],
            "description": "",
            "_model_name": "HTMLModel",
            "placeholder": "​",
            "_view_module": "@jupyter-widgets/controls",
            "_model_module_version": "1.5.0",
            "value": " 3200/3200 [1:09:01&lt;00:00,  1.18s/it]",
            "_view_count": null,
            "_view_module_version": "1.5.0",
            "description_tooltip": null,
            "_model_module": "@jupyter-widgets/controls",
            "layout": "IPY_MODEL_5c19614597a24bf889f7a99644b7d25a"
          }
        },
        "44b3b4499be249b7a527b58d88b1e614": {
          "model_module": "@jupyter-widgets/controls",
          "model_name": "ProgressStyleModel",
          "state": {
            "_view_name": "StyleView",
            "_model_name": "ProgressStyleModel",
            "description_width": "initial",
            "_view_module": "@jupyter-widgets/base",
            "_model_module_version": "1.5.0",
            "_view_count": null,
            "_view_module_version": "1.2.0",
            "bar_color": null,
            "_model_module": "@jupyter-widgets/controls"
          }
        },
        "cd4a2c576f474f82a765f77eece01f78": {
          "model_module": "@jupyter-widgets/base",
          "model_name": "LayoutModel",
          "state": {
            "_view_name": "LayoutView",
            "grid_template_rows": null,
            "right": null,
            "justify_content": null,
            "_view_module": "@jupyter-widgets/base",
            "overflow": null,
            "_model_module_version": "1.2.0",
            "_view_count": null,
            "flex_flow": null,
            "width": null,
            "min_width": null,
            "border": null,
            "align_items": null,
            "bottom": null,
            "_model_module": "@jupyter-widgets/base",
            "top": null,
            "grid_column": null,
            "overflow_y": null,
            "overflow_x": null,
            "grid_auto_flow": null,
            "grid_area": null,
            "grid_template_columns": null,
            "flex": "2",
            "_model_name": "LayoutModel",
            "justify_items": null,
            "grid_row": null,
            "max_height": null,
            "align_content": null,
            "visibility": null,
            "align_self": null,
            "height": null,
            "min_height": null,
            "padding": null,
            "grid_auto_rows": null,
            "grid_gap": null,
            "max_width": null,
            "order": null,
            "_view_module_version": "1.2.0",
            "grid_template_areas": null,
            "object_position": null,
            "object_fit": null,
            "grid_auto_columns": null,
            "margin": null,
            "display": null,
            "left": null
          }
        },
        "371b6d9d754441fc8897fdd3b8558452": {
          "model_module": "@jupyter-widgets/controls",
          "model_name": "DescriptionStyleModel",
          "state": {
            "_view_name": "StyleView",
            "_model_name": "DescriptionStyleModel",
            "description_width": "",
            "_view_module": "@jupyter-widgets/base",
            "_model_module_version": "1.5.0",
            "_view_count": null,
            "_view_module_version": "1.2.0",
            "_model_module": "@jupyter-widgets/controls"
          }
        },
        "5c19614597a24bf889f7a99644b7d25a": {
          "model_module": "@jupyter-widgets/base",
          "model_name": "LayoutModel",
          "state": {
            "_view_name": "LayoutView",
            "grid_template_rows": null,
            "right": null,
            "justify_content": null,
            "_view_module": "@jupyter-widgets/base",
            "overflow": null,
            "_model_module_version": "1.2.0",
            "_view_count": null,
            "flex_flow": null,
            "width": null,
            "min_width": null,
            "border": null,
            "align_items": null,
            "bottom": null,
            "_model_module": "@jupyter-widgets/base",
            "top": null,
            "grid_column": null,
            "overflow_y": null,
            "overflow_x": null,
            "grid_auto_flow": null,
            "grid_area": null,
            "grid_template_columns": null,
            "flex": null,
            "_model_name": "LayoutModel",
            "justify_items": null,
            "grid_row": null,
            "max_height": null,
            "align_content": null,
            "visibility": null,
            "align_self": null,
            "height": null,
            "min_height": null,
            "padding": null,
            "grid_auto_rows": null,
            "grid_gap": null,
            "max_width": null,
            "order": null,
            "_view_module_version": "1.2.0",
            "grid_template_areas": null,
            "object_position": null,
            "object_fit": null,
            "grid_auto_columns": null,
            "margin": null,
            "display": null,
            "left": null
          }
        },
        "6cc020fbbc5d497c9c7efc462523c8ce": {
          "model_module": "@jupyter-widgets/controls",
          "model_name": "HBoxModel",
          "state": {
            "_view_name": "HBoxView",
            "_dom_classes": [],
            "_model_name": "HBoxModel",
            "_view_module": "@jupyter-widgets/controls",
            "_model_module_version": "1.5.0",
            "_view_count": null,
            "_view_module_version": "1.5.0",
            "box_style": "",
            "layout": "IPY_MODEL_e599199a94944234b13223f0f12eb08c",
            "_model_module": "@jupyter-widgets/controls",
            "children": [
              "IPY_MODEL_b7ef5618672145b18e464487e39bc3e9",
              "IPY_MODEL_5ca75f0a3e9f4e439d73ca496c94f9df"
            ]
          }
        },
        "e599199a94944234b13223f0f12eb08c": {
          "model_module": "@jupyter-widgets/base",
          "model_name": "LayoutModel",
          "state": {
            "_view_name": "LayoutView",
            "grid_template_rows": null,
            "right": null,
            "justify_content": null,
            "_view_module": "@jupyter-widgets/base",
            "overflow": null,
            "_model_module_version": "1.2.0",
            "_view_count": null,
            "flex_flow": "row wrap",
            "width": "100%",
            "min_width": null,
            "border": null,
            "align_items": null,
            "bottom": null,
            "_model_module": "@jupyter-widgets/base",
            "top": null,
            "grid_column": null,
            "overflow_y": null,
            "overflow_x": null,
            "grid_auto_flow": null,
            "grid_area": null,
            "grid_template_columns": null,
            "flex": null,
            "_model_name": "LayoutModel",
            "justify_items": null,
            "grid_row": null,
            "max_height": null,
            "align_content": null,
            "visibility": null,
            "align_self": null,
            "height": null,
            "min_height": null,
            "padding": null,
            "grid_auto_rows": null,
            "grid_gap": null,
            "max_width": null,
            "order": null,
            "_view_module_version": "1.2.0",
            "grid_template_areas": null,
            "object_position": null,
            "object_fit": null,
            "grid_auto_columns": null,
            "margin": null,
            "display": "inline-flex",
            "left": null
          }
        },
        "b7ef5618672145b18e464487e39bc3e9": {
          "model_module": "@jupyter-widgets/controls",
          "model_name": "FloatProgressModel",
          "state": {
            "_view_name": "ProgressView",
            "style": "IPY_MODEL_c023467b4f0d4aaf8a50e3c933d31b63",
            "_dom_classes": [],
            "description": "Validating: 100%",
            "_model_name": "FloatProgressModel",
            "bar_style": "info",
            "max": 1,
            "_view_module": "@jupyter-widgets/controls",
            "_model_module_version": "1.5.0",
            "value": 1,
            "_view_count": null,
            "_view_module_version": "1.5.0",
            "orientation": "horizontal",
            "min": 0,
            "description_tooltip": null,
            "_model_module": "@jupyter-widgets/controls",
            "layout": "IPY_MODEL_5c5435e251cf483a8eaa0147e08dc66f"
          }
        },
        "5ca75f0a3e9f4e439d73ca496c94f9df": {
          "model_module": "@jupyter-widgets/controls",
          "model_name": "HTMLModel",
          "state": {
            "_view_name": "HTMLView",
            "style": "IPY_MODEL_0b45ecbd73024cbc8b416061fc1aecbe",
            "_dom_classes": [],
            "description": "",
            "_model_name": "HTMLModel",
            "placeholder": "​",
            "_view_module": "@jupyter-widgets/controls",
            "_model_module_version": "1.5.0",
            "value": " 3200/3200 [1:12:58&lt;00:00,  1.32s/it]",
            "_view_count": null,
            "_view_module_version": "1.5.0",
            "description_tooltip": null,
            "_model_module": "@jupyter-widgets/controls",
            "layout": "IPY_MODEL_6eee89ed46c34b259d4689ae497f26ea"
          }
        },
        "c023467b4f0d4aaf8a50e3c933d31b63": {
          "model_module": "@jupyter-widgets/controls",
          "model_name": "ProgressStyleModel",
          "state": {
            "_view_name": "StyleView",
            "_model_name": "ProgressStyleModel",
            "description_width": "initial",
            "_view_module": "@jupyter-widgets/base",
            "_model_module_version": "1.5.0",
            "_view_count": null,
            "_view_module_version": "1.2.0",
            "bar_color": null,
            "_model_module": "@jupyter-widgets/controls"
          }
        },
        "5c5435e251cf483a8eaa0147e08dc66f": {
          "model_module": "@jupyter-widgets/base",
          "model_name": "LayoutModel",
          "state": {
            "_view_name": "LayoutView",
            "grid_template_rows": null,
            "right": null,
            "justify_content": null,
            "_view_module": "@jupyter-widgets/base",
            "overflow": null,
            "_model_module_version": "1.2.0",
            "_view_count": null,
            "flex_flow": null,
            "width": null,
            "min_width": null,
            "border": null,
            "align_items": null,
            "bottom": null,
            "_model_module": "@jupyter-widgets/base",
            "top": null,
            "grid_column": null,
            "overflow_y": null,
            "overflow_x": null,
            "grid_auto_flow": null,
            "grid_area": null,
            "grid_template_columns": null,
            "flex": "2",
            "_model_name": "LayoutModel",
            "justify_items": null,
            "grid_row": null,
            "max_height": null,
            "align_content": null,
            "visibility": null,
            "align_self": null,
            "height": null,
            "min_height": null,
            "padding": null,
            "grid_auto_rows": null,
            "grid_gap": null,
            "max_width": null,
            "order": null,
            "_view_module_version": "1.2.0",
            "grid_template_areas": null,
            "object_position": null,
            "object_fit": null,
            "grid_auto_columns": null,
            "margin": null,
            "display": null,
            "left": null
          }
        },
        "0b45ecbd73024cbc8b416061fc1aecbe": {
          "model_module": "@jupyter-widgets/controls",
          "model_name": "DescriptionStyleModel",
          "state": {
            "_view_name": "StyleView",
            "_model_name": "DescriptionStyleModel",
            "description_width": "",
            "_view_module": "@jupyter-widgets/base",
            "_model_module_version": "1.5.0",
            "_view_count": null,
            "_view_module_version": "1.2.0",
            "_model_module": "@jupyter-widgets/controls"
          }
        },
        "6eee89ed46c34b259d4689ae497f26ea": {
          "model_module": "@jupyter-widgets/base",
          "model_name": "LayoutModel",
          "state": {
            "_view_name": "LayoutView",
            "grid_template_rows": null,
            "right": null,
            "justify_content": null,
            "_view_module": "@jupyter-widgets/base",
            "overflow": null,
            "_model_module_version": "1.2.0",
            "_view_count": null,
            "flex_flow": null,
            "width": null,
            "min_width": null,
            "border": null,
            "align_items": null,
            "bottom": null,
            "_model_module": "@jupyter-widgets/base",
            "top": null,
            "grid_column": null,
            "overflow_y": null,
            "overflow_x": null,
            "grid_auto_flow": null,
            "grid_area": null,
            "grid_template_columns": null,
            "flex": null,
            "_model_name": "LayoutModel",
            "justify_items": null,
            "grid_row": null,
            "max_height": null,
            "align_content": null,
            "visibility": null,
            "align_self": null,
            "height": null,
            "min_height": null,
            "padding": null,
            "grid_auto_rows": null,
            "grid_gap": null,
            "max_width": null,
            "order": null,
            "_view_module_version": "1.2.0",
            "grid_template_areas": null,
            "object_position": null,
            "object_fit": null,
            "grid_auto_columns": null,
            "margin": null,
            "display": null,
            "left": null
          }
        },
        "621227d280644ff888639dbbd4eca262": {
          "model_module": "@jupyter-widgets/controls",
          "model_name": "HBoxModel",
          "state": {
            "_view_name": "HBoxView",
            "_dom_classes": [],
            "_model_name": "HBoxModel",
            "_view_module": "@jupyter-widgets/controls",
            "_model_module_version": "1.5.0",
            "_view_count": null,
            "_view_module_version": "1.5.0",
            "box_style": "",
            "layout": "IPY_MODEL_958e0e5d39f3496f877b37a89b659fae",
            "_model_module": "@jupyter-widgets/controls",
            "children": [
              "IPY_MODEL_ec349ecda57f4b5aa06dcb8f91b5b646",
              "IPY_MODEL_3bd9b0cca55c40318a286d4910c8e0e7"
            ]
          }
        },
        "958e0e5d39f3496f877b37a89b659fae": {
          "model_module": "@jupyter-widgets/base",
          "model_name": "LayoutModel",
          "state": {
            "_view_name": "LayoutView",
            "grid_template_rows": null,
            "right": null,
            "justify_content": null,
            "_view_module": "@jupyter-widgets/base",
            "overflow": null,
            "_model_module_version": "1.2.0",
            "_view_count": null,
            "flex_flow": "row wrap",
            "width": "100%",
            "min_width": null,
            "border": null,
            "align_items": null,
            "bottom": null,
            "_model_module": "@jupyter-widgets/base",
            "top": null,
            "grid_column": null,
            "overflow_y": null,
            "overflow_x": null,
            "grid_auto_flow": null,
            "grid_area": null,
            "grid_template_columns": null,
            "flex": null,
            "_model_name": "LayoutModel",
            "justify_items": null,
            "grid_row": null,
            "max_height": null,
            "align_content": null,
            "visibility": null,
            "align_self": null,
            "height": null,
            "min_height": null,
            "padding": null,
            "grid_auto_rows": null,
            "grid_gap": null,
            "max_width": null,
            "order": null,
            "_view_module_version": "1.2.0",
            "grid_template_areas": null,
            "object_position": null,
            "object_fit": null,
            "grid_auto_columns": null,
            "margin": null,
            "display": "inline-flex",
            "left": null
          }
        },
        "ec349ecda57f4b5aa06dcb8f91b5b646": {
          "model_module": "@jupyter-widgets/controls",
          "model_name": "FloatProgressModel",
          "state": {
            "_view_name": "ProgressView",
            "style": "IPY_MODEL_274f2d04cdc0481db9e50a520fe7d435",
            "_dom_classes": [],
            "description": "Validating: 100%",
            "_model_name": "FloatProgressModel",
            "bar_style": "info",
            "max": 1,
            "_view_module": "@jupyter-widgets/controls",
            "_model_module_version": "1.5.0",
            "value": 1,
            "_view_count": null,
            "_view_module_version": "1.5.0",
            "orientation": "horizontal",
            "min": 0,
            "description_tooltip": null,
            "_model_module": "@jupyter-widgets/controls",
            "layout": "IPY_MODEL_a664c307b372402dad41a796d6874359"
          }
        },
        "3bd9b0cca55c40318a286d4910c8e0e7": {
          "model_module": "@jupyter-widgets/controls",
          "model_name": "HTMLModel",
          "state": {
            "_view_name": "HTMLView",
            "style": "IPY_MODEL_20d824adb5424dfaa7e086865aa8365b",
            "_dom_classes": [],
            "description": "",
            "_model_name": "HTMLModel",
            "placeholder": "​",
            "_view_module": "@jupyter-widgets/controls",
            "_model_module_version": "1.5.0",
            "value": " 3200/3200 [1:15:00&lt;00:00,  1.34s/it]",
            "_view_count": null,
            "_view_module_version": "1.5.0",
            "description_tooltip": null,
            "_model_module": "@jupyter-widgets/controls",
            "layout": "IPY_MODEL_0dfa16f7f51744e4a1ea6779d914c8ab"
          }
        },
        "274f2d04cdc0481db9e50a520fe7d435": {
          "model_module": "@jupyter-widgets/controls",
          "model_name": "ProgressStyleModel",
          "state": {
            "_view_name": "StyleView",
            "_model_name": "ProgressStyleModel",
            "description_width": "initial",
            "_view_module": "@jupyter-widgets/base",
            "_model_module_version": "1.5.0",
            "_view_count": null,
            "_view_module_version": "1.2.0",
            "bar_color": null,
            "_model_module": "@jupyter-widgets/controls"
          }
        },
        "a664c307b372402dad41a796d6874359": {
          "model_module": "@jupyter-widgets/base",
          "model_name": "LayoutModel",
          "state": {
            "_view_name": "LayoutView",
            "grid_template_rows": null,
            "right": null,
            "justify_content": null,
            "_view_module": "@jupyter-widgets/base",
            "overflow": null,
            "_model_module_version": "1.2.0",
            "_view_count": null,
            "flex_flow": null,
            "width": null,
            "min_width": null,
            "border": null,
            "align_items": null,
            "bottom": null,
            "_model_module": "@jupyter-widgets/base",
            "top": null,
            "grid_column": null,
            "overflow_y": null,
            "overflow_x": null,
            "grid_auto_flow": null,
            "grid_area": null,
            "grid_template_columns": null,
            "flex": "2",
            "_model_name": "LayoutModel",
            "justify_items": null,
            "grid_row": null,
            "max_height": null,
            "align_content": null,
            "visibility": null,
            "align_self": null,
            "height": null,
            "min_height": null,
            "padding": null,
            "grid_auto_rows": null,
            "grid_gap": null,
            "max_width": null,
            "order": null,
            "_view_module_version": "1.2.0",
            "grid_template_areas": null,
            "object_position": null,
            "object_fit": null,
            "grid_auto_columns": null,
            "margin": null,
            "display": null,
            "left": null
          }
        },
        "20d824adb5424dfaa7e086865aa8365b": {
          "model_module": "@jupyter-widgets/controls",
          "model_name": "DescriptionStyleModel",
          "state": {
            "_view_name": "StyleView",
            "_model_name": "DescriptionStyleModel",
            "description_width": "",
            "_view_module": "@jupyter-widgets/base",
            "_model_module_version": "1.5.0",
            "_view_count": null,
            "_view_module_version": "1.2.0",
            "_model_module": "@jupyter-widgets/controls"
          }
        },
        "0dfa16f7f51744e4a1ea6779d914c8ab": {
          "model_module": "@jupyter-widgets/base",
          "model_name": "LayoutModel",
          "state": {
            "_view_name": "LayoutView",
            "grid_template_rows": null,
            "right": null,
            "justify_content": null,
            "_view_module": "@jupyter-widgets/base",
            "overflow": null,
            "_model_module_version": "1.2.0",
            "_view_count": null,
            "flex_flow": null,
            "width": null,
            "min_width": null,
            "border": null,
            "align_items": null,
            "bottom": null,
            "_model_module": "@jupyter-widgets/base",
            "top": null,
            "grid_column": null,
            "overflow_y": null,
            "overflow_x": null,
            "grid_auto_flow": null,
            "grid_area": null,
            "grid_template_columns": null,
            "flex": null,
            "_model_name": "LayoutModel",
            "justify_items": null,
            "grid_row": null,
            "max_height": null,
            "align_content": null,
            "visibility": null,
            "align_self": null,
            "height": null,
            "min_height": null,
            "padding": null,
            "grid_auto_rows": null,
            "grid_gap": null,
            "max_width": null,
            "order": null,
            "_view_module_version": "1.2.0",
            "grid_template_areas": null,
            "object_position": null,
            "object_fit": null,
            "grid_auto_columns": null,
            "margin": null,
            "display": null,
            "left": null
          }
        },
        "c5474dbe3f594bc2b7d3dc262ae17843": {
          "model_module": "@jupyter-widgets/controls",
          "model_name": "HBoxModel",
          "state": {
            "_view_name": "HBoxView",
            "_dom_classes": [],
            "_model_name": "HBoxModel",
            "_view_module": "@jupyter-widgets/controls",
            "_model_module_version": "1.5.0",
            "_view_count": null,
            "_view_module_version": "1.5.0",
            "box_style": "",
            "layout": "IPY_MODEL_67046e60426f4435b3f4a5d3e96d9f43",
            "_model_module": "@jupyter-widgets/controls",
            "children": [
              "IPY_MODEL_b8a47c5771e942fb823463a71bb98ad3",
              "IPY_MODEL_5a18fa8c0eb54b88b716bdf1ec1bf415"
            ]
          }
        },
        "67046e60426f4435b3f4a5d3e96d9f43": {
          "model_module": "@jupyter-widgets/base",
          "model_name": "LayoutModel",
          "state": {
            "_view_name": "LayoutView",
            "grid_template_rows": null,
            "right": null,
            "justify_content": null,
            "_view_module": "@jupyter-widgets/base",
            "overflow": null,
            "_model_module_version": "1.2.0",
            "_view_count": null,
            "flex_flow": "row wrap",
            "width": "100%",
            "min_width": null,
            "border": null,
            "align_items": null,
            "bottom": null,
            "_model_module": "@jupyter-widgets/base",
            "top": null,
            "grid_column": null,
            "overflow_y": null,
            "overflow_x": null,
            "grid_auto_flow": null,
            "grid_area": null,
            "grid_template_columns": null,
            "flex": null,
            "_model_name": "LayoutModel",
            "justify_items": null,
            "grid_row": null,
            "max_height": null,
            "align_content": null,
            "visibility": null,
            "align_self": null,
            "height": null,
            "min_height": null,
            "padding": null,
            "grid_auto_rows": null,
            "grid_gap": null,
            "max_width": null,
            "order": null,
            "_view_module_version": "1.2.0",
            "grid_template_areas": null,
            "object_position": null,
            "object_fit": null,
            "grid_auto_columns": null,
            "margin": null,
            "display": "inline-flex",
            "left": null
          }
        },
        "b8a47c5771e942fb823463a71bb98ad3": {
          "model_module": "@jupyter-widgets/controls",
          "model_name": "FloatProgressModel",
          "state": {
            "_view_name": "ProgressView",
            "style": "IPY_MODEL_7740aa88ebd84333b31975799afe285b",
            "_dom_classes": [],
            "description": "Validating: 100%",
            "_model_name": "FloatProgressModel",
            "bar_style": "info",
            "max": 1,
            "_view_module": "@jupyter-widgets/controls",
            "_model_module_version": "1.5.0",
            "value": 1,
            "_view_count": null,
            "_view_module_version": "1.5.0",
            "orientation": "horizontal",
            "min": 0,
            "description_tooltip": null,
            "_model_module": "@jupyter-widgets/controls",
            "layout": "IPY_MODEL_45688b77322741ddbb68b4dc7b416ad5"
          }
        },
        "5a18fa8c0eb54b88b716bdf1ec1bf415": {
          "model_module": "@jupyter-widgets/controls",
          "model_name": "HTMLModel",
          "state": {
            "_view_name": "HTMLView",
            "style": "IPY_MODEL_5f6f009bc8d6416a9f604ee6d4c1c703",
            "_dom_classes": [],
            "description": "",
            "_model_name": "HTMLModel",
            "placeholder": "​",
            "_view_module": "@jupyter-widgets/controls",
            "_model_module_version": "1.5.0",
            "value": " 3200/3200 [1:10:24&lt;00:00,  1.36s/it]",
            "_view_count": null,
            "_view_module_version": "1.5.0",
            "description_tooltip": null,
            "_model_module": "@jupyter-widgets/controls",
            "layout": "IPY_MODEL_b72b7352daa04c6b832829cab79f0ad2"
          }
        },
        "7740aa88ebd84333b31975799afe285b": {
          "model_module": "@jupyter-widgets/controls",
          "model_name": "ProgressStyleModel",
          "state": {
            "_view_name": "StyleView",
            "_model_name": "ProgressStyleModel",
            "description_width": "initial",
            "_view_module": "@jupyter-widgets/base",
            "_model_module_version": "1.5.0",
            "_view_count": null,
            "_view_module_version": "1.2.0",
            "bar_color": null,
            "_model_module": "@jupyter-widgets/controls"
          }
        },
        "45688b77322741ddbb68b4dc7b416ad5": {
          "model_module": "@jupyter-widgets/base",
          "model_name": "LayoutModel",
          "state": {
            "_view_name": "LayoutView",
            "grid_template_rows": null,
            "right": null,
            "justify_content": null,
            "_view_module": "@jupyter-widgets/base",
            "overflow": null,
            "_model_module_version": "1.2.0",
            "_view_count": null,
            "flex_flow": null,
            "width": null,
            "min_width": null,
            "border": null,
            "align_items": null,
            "bottom": null,
            "_model_module": "@jupyter-widgets/base",
            "top": null,
            "grid_column": null,
            "overflow_y": null,
            "overflow_x": null,
            "grid_auto_flow": null,
            "grid_area": null,
            "grid_template_columns": null,
            "flex": "2",
            "_model_name": "LayoutModel",
            "justify_items": null,
            "grid_row": null,
            "max_height": null,
            "align_content": null,
            "visibility": null,
            "align_self": null,
            "height": null,
            "min_height": null,
            "padding": null,
            "grid_auto_rows": null,
            "grid_gap": null,
            "max_width": null,
            "order": null,
            "_view_module_version": "1.2.0",
            "grid_template_areas": null,
            "object_position": null,
            "object_fit": null,
            "grid_auto_columns": null,
            "margin": null,
            "display": null,
            "left": null
          }
        },
        "5f6f009bc8d6416a9f604ee6d4c1c703": {
          "model_module": "@jupyter-widgets/controls",
          "model_name": "DescriptionStyleModel",
          "state": {
            "_view_name": "StyleView",
            "_model_name": "DescriptionStyleModel",
            "description_width": "",
            "_view_module": "@jupyter-widgets/base",
            "_model_module_version": "1.5.0",
            "_view_count": null,
            "_view_module_version": "1.2.0",
            "_model_module": "@jupyter-widgets/controls"
          }
        },
        "b72b7352daa04c6b832829cab79f0ad2": {
          "model_module": "@jupyter-widgets/base",
          "model_name": "LayoutModel",
          "state": {
            "_view_name": "LayoutView",
            "grid_template_rows": null,
            "right": null,
            "justify_content": null,
            "_view_module": "@jupyter-widgets/base",
            "overflow": null,
            "_model_module_version": "1.2.0",
            "_view_count": null,
            "flex_flow": null,
            "width": null,
            "min_width": null,
            "border": null,
            "align_items": null,
            "bottom": null,
            "_model_module": "@jupyter-widgets/base",
            "top": null,
            "grid_column": null,
            "overflow_y": null,
            "overflow_x": null,
            "grid_auto_flow": null,
            "grid_area": null,
            "grid_template_columns": null,
            "flex": null,
            "_model_name": "LayoutModel",
            "justify_items": null,
            "grid_row": null,
            "max_height": null,
            "align_content": null,
            "visibility": null,
            "align_self": null,
            "height": null,
            "min_height": null,
            "padding": null,
            "grid_auto_rows": null,
            "grid_gap": null,
            "max_width": null,
            "order": null,
            "_view_module_version": "1.2.0",
            "grid_template_areas": null,
            "object_position": null,
            "object_fit": null,
            "grid_auto_columns": null,
            "margin": null,
            "display": null,
            "left": null
          }
        },
        "af857b97e9a349bea5180ed77025011d": {
          "model_module": "@jupyter-widgets/controls",
          "model_name": "HBoxModel",
          "state": {
            "_view_name": "HBoxView",
            "_dom_classes": [],
            "_model_name": "HBoxModel",
            "_view_module": "@jupyter-widgets/controls",
            "_model_module_version": "1.5.0",
            "_view_count": null,
            "_view_module_version": "1.5.0",
            "box_style": "",
            "layout": "IPY_MODEL_c8beecf126b249539b8a6fc7a6dc7070",
            "_model_module": "@jupyter-widgets/controls",
            "children": [
              "IPY_MODEL_0b79ddf973024179895204edde6b9fc5",
              "IPY_MODEL_fcefb5b33a44443c8605c97bb9d5f724"
            ]
          }
        },
        "c8beecf126b249539b8a6fc7a6dc7070": {
          "model_module": "@jupyter-widgets/base",
          "model_name": "LayoutModel",
          "state": {
            "_view_name": "LayoutView",
            "grid_template_rows": null,
            "right": null,
            "justify_content": null,
            "_view_module": "@jupyter-widgets/base",
            "overflow": null,
            "_model_module_version": "1.2.0",
            "_view_count": null,
            "flex_flow": "row wrap",
            "width": "100%",
            "min_width": null,
            "border": null,
            "align_items": null,
            "bottom": null,
            "_model_module": "@jupyter-widgets/base",
            "top": null,
            "grid_column": null,
            "overflow_y": null,
            "overflow_x": null,
            "grid_auto_flow": null,
            "grid_area": null,
            "grid_template_columns": null,
            "flex": null,
            "_model_name": "LayoutModel",
            "justify_items": null,
            "grid_row": null,
            "max_height": null,
            "align_content": null,
            "visibility": null,
            "align_self": null,
            "height": null,
            "min_height": null,
            "padding": null,
            "grid_auto_rows": null,
            "grid_gap": null,
            "max_width": null,
            "order": null,
            "_view_module_version": "1.2.0",
            "grid_template_areas": null,
            "object_position": null,
            "object_fit": null,
            "grid_auto_columns": null,
            "margin": null,
            "display": "inline-flex",
            "left": null
          }
        },
        "0b79ddf973024179895204edde6b9fc5": {
          "model_module": "@jupyter-widgets/controls",
          "model_name": "FloatProgressModel",
          "state": {
            "_view_name": "ProgressView",
            "style": "IPY_MODEL_4b6c21846c2f425995a31cbf20c83662",
            "_dom_classes": [],
            "description": "Validating: 100%",
            "_model_name": "FloatProgressModel",
            "bar_style": "info",
            "max": 1,
            "_view_module": "@jupyter-widgets/controls",
            "_model_module_version": "1.5.0",
            "value": 1,
            "_view_count": null,
            "_view_module_version": "1.5.0",
            "orientation": "horizontal",
            "min": 0,
            "description_tooltip": null,
            "_model_module": "@jupyter-widgets/controls",
            "layout": "IPY_MODEL_b982f24ba9ba49dc81d537ed635c2b38"
          }
        },
        "fcefb5b33a44443c8605c97bb9d5f724": {
          "model_module": "@jupyter-widgets/controls",
          "model_name": "HTMLModel",
          "state": {
            "_view_name": "HTMLView",
            "style": "IPY_MODEL_9149ab476d174e19bf1312db0a244f8c",
            "_dom_classes": [],
            "description": "",
            "_model_name": "HTMLModel",
            "placeholder": "​",
            "_view_module": "@jupyter-widgets/controls",
            "_model_module_version": "1.5.0",
            "value": " 3200/3200 [1:12:54&lt;00:00,  1.33s/it]",
            "_view_count": null,
            "_view_module_version": "1.5.0",
            "description_tooltip": null,
            "_model_module": "@jupyter-widgets/controls",
            "layout": "IPY_MODEL_bbad78dcd308409fadd64afdcdd99535"
          }
        },
        "4b6c21846c2f425995a31cbf20c83662": {
          "model_module": "@jupyter-widgets/controls",
          "model_name": "ProgressStyleModel",
          "state": {
            "_view_name": "StyleView",
            "_model_name": "ProgressStyleModel",
            "description_width": "initial",
            "_view_module": "@jupyter-widgets/base",
            "_model_module_version": "1.5.0",
            "_view_count": null,
            "_view_module_version": "1.2.0",
            "bar_color": null,
            "_model_module": "@jupyter-widgets/controls"
          }
        },
        "b982f24ba9ba49dc81d537ed635c2b38": {
          "model_module": "@jupyter-widgets/base",
          "model_name": "LayoutModel",
          "state": {
            "_view_name": "LayoutView",
            "grid_template_rows": null,
            "right": null,
            "justify_content": null,
            "_view_module": "@jupyter-widgets/base",
            "overflow": null,
            "_model_module_version": "1.2.0",
            "_view_count": null,
            "flex_flow": null,
            "width": null,
            "min_width": null,
            "border": null,
            "align_items": null,
            "bottom": null,
            "_model_module": "@jupyter-widgets/base",
            "top": null,
            "grid_column": null,
            "overflow_y": null,
            "overflow_x": null,
            "grid_auto_flow": null,
            "grid_area": null,
            "grid_template_columns": null,
            "flex": "2",
            "_model_name": "LayoutModel",
            "justify_items": null,
            "grid_row": null,
            "max_height": null,
            "align_content": null,
            "visibility": null,
            "align_self": null,
            "height": null,
            "min_height": null,
            "padding": null,
            "grid_auto_rows": null,
            "grid_gap": null,
            "max_width": null,
            "order": null,
            "_view_module_version": "1.2.0",
            "grid_template_areas": null,
            "object_position": null,
            "object_fit": null,
            "grid_auto_columns": null,
            "margin": null,
            "display": null,
            "left": null
          }
        },
        "9149ab476d174e19bf1312db0a244f8c": {
          "model_module": "@jupyter-widgets/controls",
          "model_name": "DescriptionStyleModel",
          "state": {
            "_view_name": "StyleView",
            "_model_name": "DescriptionStyleModel",
            "description_width": "",
            "_view_module": "@jupyter-widgets/base",
            "_model_module_version": "1.5.0",
            "_view_count": null,
            "_view_module_version": "1.2.0",
            "_model_module": "@jupyter-widgets/controls"
          }
        },
        "bbad78dcd308409fadd64afdcdd99535": {
          "model_module": "@jupyter-widgets/base",
          "model_name": "LayoutModel",
          "state": {
            "_view_name": "LayoutView",
            "grid_template_rows": null,
            "right": null,
            "justify_content": null,
            "_view_module": "@jupyter-widgets/base",
            "overflow": null,
            "_model_module_version": "1.2.0",
            "_view_count": null,
            "flex_flow": null,
            "width": null,
            "min_width": null,
            "border": null,
            "align_items": null,
            "bottom": null,
            "_model_module": "@jupyter-widgets/base",
            "top": null,
            "grid_column": null,
            "overflow_y": null,
            "overflow_x": null,
            "grid_auto_flow": null,
            "grid_area": null,
            "grid_template_columns": null,
            "flex": null,
            "_model_name": "LayoutModel",
            "justify_items": null,
            "grid_row": null,
            "max_height": null,
            "align_content": null,
            "visibility": null,
            "align_self": null,
            "height": null,
            "min_height": null,
            "padding": null,
            "grid_auto_rows": null,
            "grid_gap": null,
            "max_width": null,
            "order": null,
            "_view_module_version": "1.2.0",
            "grid_template_areas": null,
            "object_position": null,
            "object_fit": null,
            "grid_auto_columns": null,
            "margin": null,
            "display": null,
            "left": null
          }
        },
        "11433fb9bdc3416d9cab77df7f4756d2": {
          "model_module": "@jupyter-widgets/controls",
          "model_name": "HBoxModel",
          "state": {
            "_view_name": "HBoxView",
            "_dom_classes": [],
            "_model_name": "HBoxModel",
            "_view_module": "@jupyter-widgets/controls",
            "_model_module_version": "1.5.0",
            "_view_count": null,
            "_view_module_version": "1.5.0",
            "box_style": "",
            "layout": "IPY_MODEL_75be46050c864c8a978f913ac1cd428e",
            "_model_module": "@jupyter-widgets/controls",
            "children": [
              "IPY_MODEL_62ac3823f3cc42e4aa52563043f25dee",
              "IPY_MODEL_773e0b482a694f56b8cffca13e4fb851"
            ]
          }
        },
        "75be46050c864c8a978f913ac1cd428e": {
          "model_module": "@jupyter-widgets/base",
          "model_name": "LayoutModel",
          "state": {
            "_view_name": "LayoutView",
            "grid_template_rows": null,
            "right": null,
            "justify_content": null,
            "_view_module": "@jupyter-widgets/base",
            "overflow": null,
            "_model_module_version": "1.2.0",
            "_view_count": null,
            "flex_flow": "row wrap",
            "width": "100%",
            "min_width": null,
            "border": null,
            "align_items": null,
            "bottom": null,
            "_model_module": "@jupyter-widgets/base",
            "top": null,
            "grid_column": null,
            "overflow_y": null,
            "overflow_x": null,
            "grid_auto_flow": null,
            "grid_area": null,
            "grid_template_columns": null,
            "flex": null,
            "_model_name": "LayoutModel",
            "justify_items": null,
            "grid_row": null,
            "max_height": null,
            "align_content": null,
            "visibility": null,
            "align_self": null,
            "height": null,
            "min_height": null,
            "padding": null,
            "grid_auto_rows": null,
            "grid_gap": null,
            "max_width": null,
            "order": null,
            "_view_module_version": "1.2.0",
            "grid_template_areas": null,
            "object_position": null,
            "object_fit": null,
            "grid_auto_columns": null,
            "margin": null,
            "display": "inline-flex",
            "left": null
          }
        },
        "62ac3823f3cc42e4aa52563043f25dee": {
          "model_module": "@jupyter-widgets/controls",
          "model_name": "FloatProgressModel",
          "state": {
            "_view_name": "ProgressView",
            "style": "IPY_MODEL_1810efee3e084a22acbeaa8c484f9bba",
            "_dom_classes": [],
            "description": "Validating: 100%",
            "_model_name": "FloatProgressModel",
            "bar_style": "info",
            "max": 1,
            "_view_module": "@jupyter-widgets/controls",
            "_model_module_version": "1.5.0",
            "value": 1,
            "_view_count": null,
            "_view_module_version": "1.5.0",
            "orientation": "horizontal",
            "min": 0,
            "description_tooltip": null,
            "_model_module": "@jupyter-widgets/controls",
            "layout": "IPY_MODEL_5f8b0c6ba23c4b9a9ff292241b958b68"
          }
        },
        "773e0b482a694f56b8cffca13e4fb851": {
          "model_module": "@jupyter-widgets/controls",
          "model_name": "HTMLModel",
          "state": {
            "_view_name": "HTMLView",
            "style": "IPY_MODEL_281754c318d54aa39f97889c2c51b67a",
            "_dom_classes": [],
            "description": "",
            "_model_name": "HTMLModel",
            "placeholder": "​",
            "_view_module": "@jupyter-widgets/controls",
            "_model_module_version": "1.5.0",
            "value": " 3200/3200 [1:14:19&lt;00:00,  1.46s/it]",
            "_view_count": null,
            "_view_module_version": "1.5.0",
            "description_tooltip": null,
            "_model_module": "@jupyter-widgets/controls",
            "layout": "IPY_MODEL_c99edfffac764ace968df074d0cfedaf"
          }
        },
        "1810efee3e084a22acbeaa8c484f9bba": {
          "model_module": "@jupyter-widgets/controls",
          "model_name": "ProgressStyleModel",
          "state": {
            "_view_name": "StyleView",
            "_model_name": "ProgressStyleModel",
            "description_width": "initial",
            "_view_module": "@jupyter-widgets/base",
            "_model_module_version": "1.5.0",
            "_view_count": null,
            "_view_module_version": "1.2.0",
            "bar_color": null,
            "_model_module": "@jupyter-widgets/controls"
          }
        },
        "5f8b0c6ba23c4b9a9ff292241b958b68": {
          "model_module": "@jupyter-widgets/base",
          "model_name": "LayoutModel",
          "state": {
            "_view_name": "LayoutView",
            "grid_template_rows": null,
            "right": null,
            "justify_content": null,
            "_view_module": "@jupyter-widgets/base",
            "overflow": null,
            "_model_module_version": "1.2.0",
            "_view_count": null,
            "flex_flow": null,
            "width": null,
            "min_width": null,
            "border": null,
            "align_items": null,
            "bottom": null,
            "_model_module": "@jupyter-widgets/base",
            "top": null,
            "grid_column": null,
            "overflow_y": null,
            "overflow_x": null,
            "grid_auto_flow": null,
            "grid_area": null,
            "grid_template_columns": null,
            "flex": "2",
            "_model_name": "LayoutModel",
            "justify_items": null,
            "grid_row": null,
            "max_height": null,
            "align_content": null,
            "visibility": null,
            "align_self": null,
            "height": null,
            "min_height": null,
            "padding": null,
            "grid_auto_rows": null,
            "grid_gap": null,
            "max_width": null,
            "order": null,
            "_view_module_version": "1.2.0",
            "grid_template_areas": null,
            "object_position": null,
            "object_fit": null,
            "grid_auto_columns": null,
            "margin": null,
            "display": null,
            "left": null
          }
        },
        "281754c318d54aa39f97889c2c51b67a": {
          "model_module": "@jupyter-widgets/controls",
          "model_name": "DescriptionStyleModel",
          "state": {
            "_view_name": "StyleView",
            "_model_name": "DescriptionStyleModel",
            "description_width": "",
            "_view_module": "@jupyter-widgets/base",
            "_model_module_version": "1.5.0",
            "_view_count": null,
            "_view_module_version": "1.2.0",
            "_model_module": "@jupyter-widgets/controls"
          }
        },
        "c99edfffac764ace968df074d0cfedaf": {
          "model_module": "@jupyter-widgets/base",
          "model_name": "LayoutModel",
          "state": {
            "_view_name": "LayoutView",
            "grid_template_rows": null,
            "right": null,
            "justify_content": null,
            "_view_module": "@jupyter-widgets/base",
            "overflow": null,
            "_model_module_version": "1.2.0",
            "_view_count": null,
            "flex_flow": null,
            "width": null,
            "min_width": null,
            "border": null,
            "align_items": null,
            "bottom": null,
            "_model_module": "@jupyter-widgets/base",
            "top": null,
            "grid_column": null,
            "overflow_y": null,
            "overflow_x": null,
            "grid_auto_flow": null,
            "grid_area": null,
            "grid_template_columns": null,
            "flex": null,
            "_model_name": "LayoutModel",
            "justify_items": null,
            "grid_row": null,
            "max_height": null,
            "align_content": null,
            "visibility": null,
            "align_self": null,
            "height": null,
            "min_height": null,
            "padding": null,
            "grid_auto_rows": null,
            "grid_gap": null,
            "max_width": null,
            "order": null,
            "_view_module_version": "1.2.0",
            "grid_template_areas": null,
            "object_position": null,
            "object_fit": null,
            "grid_auto_columns": null,
            "margin": null,
            "display": null,
            "left": null
          }
        }
      }
    },
    "accelerator": "GPU"
  },
  "cells": [
    {
      "cell_type": "markdown",
      "metadata": {
        "id": "eGWIM1-VdN1W"
      },
      "source": [
        "# Pré Treino Usando arquitetura UNITER"
      ]
    },
    {
      "cell_type": "markdown",
      "metadata": {
        "id": "NL2YAQjndRkT"
      },
      "source": [
        "## Setup"
      ]
    },
    {
      "cell_type": "code",
      "metadata": {
        "id": "tpOlubB0dZ5N",
        "colab": {
          "base_uri": "https://localhost:8080/"
        },
        "outputId": "b23cf90a-5da8-4680-ffe2-704bf832a45e"
      },
      "source": [
        "!nvidia-smi"
      ],
      "execution_count": 1,
      "outputs": [
        {
          "output_type": "stream",
          "text": [
            "Mon Jan 11 12:30:37 2021       \n",
            "+-----------------------------------------------------------------------------+\n",
            "| NVIDIA-SMI 460.27.04    Driver Version: 418.67       CUDA Version: 10.1     |\n",
            "|-------------------------------+----------------------+----------------------+\n",
            "| GPU  Name        Persistence-M| Bus-Id        Disp.A | Volatile Uncorr. ECC |\n",
            "| Fan  Temp  Perf  Pwr:Usage/Cap|         Memory-Usage | GPU-Util  Compute M. |\n",
            "|                               |                      |               MIG M. |\n",
            "|===============================+======================+======================|\n",
            "|   0  Tesla V100-SXM2...  Off  | 00000000:00:04.0 Off |                    0 |\n",
            "| N/A   34C    P0    23W / 300W |      0MiB / 16130MiB |      0%      Default |\n",
            "|                               |                      |                 ERR! |\n",
            "+-------------------------------+----------------------+----------------------+\n",
            "                                                                               \n",
            "+-----------------------------------------------------------------------------+\n",
            "| Processes:                                                                  |\n",
            "|  GPU   GI   CI        PID   Type   Process name                  GPU Memory |\n",
            "|        ID   ID                                                   Usage      |\n",
            "|=============================================================================|\n",
            "|  No running processes found                                                 |\n",
            "+-----------------------------------------------------------------------------+\n"
          ],
          "name": "stdout"
        }
      ]
    },
    {
      "cell_type": "code",
      "metadata": {
        "colab": {
          "base_uri": "https://localhost:8080/"
        },
        "id": "ETU3CNcwdNT8",
        "outputId": "11627c78-3574-447f-e5f9-f4b241b23d98"
      },
      "source": [
        "!pip install --upgrade pyarrow --quiet\n",
        "!pip install --upgrade future --quiet\n",
        "!pip install --upgrade transformers --quiet\n",
        "!pip install --upgrade datasets --quiet\n",
        "!pip install --upgrade neptune-client --quiet\n",
        "\n",
        "!pip install git+https://github.com/PytorchLightning/pytorch-lightning.git@master --upgrade --quiet"
      ],
      "execution_count": 2,
      "outputs": [
        {
          "output_type": "stream",
          "text": [
            "\u001b[K     |████████████████████████████████| 17.7MB 342kB/s \n",
            "\u001b[K     |████████████████████████████████| 829kB 14.4MB/s \n",
            "\u001b[?25h  Building wheel for future (setup.py) ... \u001b[?25l\u001b[?25hdone\n",
            "\u001b[K     |████████████████████████████████| 1.5MB 14.8MB/s \n",
            "\u001b[K     |████████████████████████████████| 890kB 51.4MB/s \n",
            "\u001b[K     |████████████████████████████████| 2.9MB 56.4MB/s \n",
            "\u001b[?25h  Building wheel for sacremoses (setup.py) ... \u001b[?25l\u001b[?25hdone\n",
            "\u001b[K     |████████████████████████████████| 163kB 14.2MB/s \n",
            "\u001b[K     |████████████████████████████████| 245kB 29.1MB/s \n",
            "\u001b[K     |████████████████████████████████| 102kB 6.0MB/s \n",
            "\u001b[K     |████████████████████████████████| 61kB 5.5MB/s \n",
            "\u001b[K     |████████████████████████████████| 204kB 16.1MB/s \n",
            "\u001b[K     |████████████████████████████████| 163kB 23.3MB/s \n",
            "\u001b[K     |████████████████████████████████| 133kB 29.6MB/s \n",
            "\u001b[K     |████████████████████████████████| 71kB 9.0MB/s \n",
            "\u001b[K     |████████████████████████████████| 71kB 8.8MB/s \n",
            "\u001b[?25h  Building wheel for neptune-client (setup.py) ... \u001b[?25l\u001b[?25hdone\n",
            "  Building wheel for strict-rfc3339 (setup.py) ... \u001b[?25l\u001b[?25hdone\n",
            "  Installing build dependencies ... \u001b[?25l\u001b[?25hdone\n",
            "  Getting requirements to build wheel ... \u001b[?25l\u001b[?25hdone\n",
            "    Preparing wheel metadata ... \u001b[?25l\u001b[?25hdone\n",
            "\u001b[K     |████████████████████████████████| 102kB 5.6MB/s \n",
            "\u001b[K     |████████████████████████████████| 276kB 9.5MB/s \n",
            "\u001b[K     |████████████████████████████████| 1.3MB 24.7MB/s \n",
            "\u001b[K     |████████████████████████████████| 296kB 66.4MB/s \n",
            "\u001b[K     |████████████████████████████████| 143kB 66.9MB/s \n",
            "\u001b[?25h  Building wheel for pytorch-lightning (PEP 517) ... \u001b[?25l\u001b[?25hdone\n",
            "  Building wheel for PyYAML (setup.py) ... \u001b[?25l\u001b[?25hdone\n",
            "  Building wheel for idna-ssl (setup.py) ... \u001b[?25l\u001b[?25hdone\n"
          ],
          "name": "stdout"
        }
      ]
    },
    {
      "cell_type": "markdown",
      "metadata": {
        "id": "p0QmOYQWkeu7"
      },
      "source": [
        "Download das fontes de pré-treinamento."
      ]
    },
    {
      "cell_type": "code",
      "metadata": {
        "id": "kbL5U_eSPau4"
      },
      "source": [
        "!mkdir -p ./fonts\n",
        "!wget -O ./fonts/Arial.ttf --quiet https://github.com/lersouza/receipt-ocr/blob/main/fonts/arial.ttf?raw=true\n",
        "!wget -O ./fonts/Lato-Regular.ttf --quiet https://github.com/lersouza/receipt-ocr/blob/main/fonts/Lato-Regular.ttf?raw=true\n",
        "!wget -O ./fonts/Lato-Thin.ttf --quiet https://github.com/lersouza/receipt-ocr/blob/main/fonts/Lato-Thin.ttf?raw=true\n",
        "!wget -O ./fonts/Lato-ThinItalic.ttf --quiet https://github.com/lersouza/receipt-ocr/blob/main/fonts/Lato-ThinItalic.ttf?raw=true\n",
        "!wget -O ./fonts/Raleway-Regular.ttf --quiet https://github.com/lersouza/receipt-ocr/blob/main/fonts/Raleway-Regular.ttf?raw=true\n",
        "!wget -O ./fonts/Roboto-Regular.ttf --quiet https://github.com/lersouza/receipt-ocr/blob/main/fonts/Roboto-Regular.ttf?raw=true\n",
        "!wget -O ./fonts/Roboto-Thin.ttf --quiet https://github.com/lersouza/receipt-ocr/blob/main/fonts/Roboto-Thin.ttf?raw=true"
      ],
      "execution_count": 3,
      "outputs": []
    },
    {
      "cell_type": "markdown",
      "metadata": {
        "id": "LaJaz2FNd0gn"
      },
      "source": [
        "## Imports"
      ]
    },
    {
      "cell_type": "code",
      "metadata": {
        "id": "P3qznPMKeQuf"
      },
      "source": [
        "import matplotlib.pyplot as plt\n",
        "import numpy as np\n",
        "import os\n",
        "import re\n",
        "import torch\n",
        "\n",
        "from datasets import load_dataset\n",
        "from torch import nn\n",
        "from torch.utils.data import Dataset, DataLoader, random_split\n",
        "from torchvision.transforms import transforms\n",
        "from transformers import T5TokenizerFast, T5Model, T5ForConditionalGeneration\n",
        "\n",
        "import pytorch_lightning as pl\n",
        "\n",
        "from argparse import Namespace\n",
        "from getpass import getpass\n",
        "from itertools import product\n",
        "from pathlib import Path\n",
        "from PIL import Image, ImageFont, ImageDraw\n",
        "from random import choice, randint, random, sample\n",
        "\n",
        "from google.colab import drive\n",
        "\n",
        "from typing import Tuple, List, Callable\n",
        "\n",
        "%matplotlib inline"
      ],
      "execution_count": 4,
      "outputs": []
    },
    {
      "cell_type": "markdown",
      "metadata": {
        "id": "3OID7nzLonBf"
      },
      "source": [
        "## Parâmetros e volumes"
      ]
    },
    {
      "cell_type": "code",
      "metadata": {
        "colab": {
          "base_uri": "https://localhost:8080/"
        },
        "id": "37pPVQ8poo-F",
        "outputId": "a58c5d0b-fbc2-4794-8fe6-74ac93043ebf"
      },
      "source": [
        "TEST_MODEL = False\n",
        "OVERFIT_ONE_BATCH = False\n",
        "\n",
        "if os.path.exists('./neptune_key'):\n",
        "    with open('./neptune_key', 'r') as nep_key:\n",
        "        all_lines = nep_key.readlines()\n",
        "\n",
        "        NEPTUNE_API_KEY = all_lines[0].strip()\n",
        "        NEPTUNE_PROJECT = all_lines[1].strip()\n",
        "else:\n",
        "    NEPTUNE_API_KEY = getpass('NEPTUNE KEY:')\n",
        "    NEPTUNE_PROJECT = input('NEPTUNE PROJECT:')\n",
        "\n",
        "    with open('./neptune_key', 'w+') as nep_key:\n",
        "        nep_key.writelines([NEPTUNE_API_KEY + '\\n', NEPTUNE_PROJECT + '\\n'])\n",
        "\n",
        "\n",
        "drive.mount('./drive')"
      ],
      "execution_count": 5,
      "outputs": [
        {
          "output_type": "stream",
          "text": [
            "NEPTUNE KEY:··········\n",
            "NEPTUNE PROJECT:leandrors/sroie\n",
            "Mounted at ./drive\n"
          ],
          "name": "stdout"
        }
      ]
    },
    {
      "cell_type": "markdown",
      "metadata": {
        "id": "ihipcNPqeNHT"
      },
      "source": [
        "## Dataset"
      ]
    },
    {
      "cell_type": "code",
      "metadata": {
        "colab": {
          "base_uri": "https://localhost:8080/",
          "height": 282
        },
        "id": "u9tnMQxidHua",
        "outputId": "8603ffc5-22a7-4bcb-c0e1-089fcaff90ea"
      },
      "source": [
        "BACK_COLORS = ['#FFFFFF', '#B6BAB6', '#ECE3D6']\n",
        "FONT_COLORS = ['#000000', '#070138']\n",
        "\n",
        "\n",
        "def create_image(size: Tuple[int, int] = (300, 600)) -> Image:\n",
        "    \"\"\"\n",
        "    Creates an image of of size `size`, in RGB scheme.\n",
        "    The image's background color is chosen at random from `BACK_COLORS`.\n",
        "    \"\"\"\n",
        "    backround_color = choice(BACK_COLORS)\n",
        "    image = Image.new('RGB', size, color=backround_color)\n",
        "\n",
        "    return image\n",
        "\n",
        "\n",
        "image = create_image((15, 15))\n",
        "plt.imshow(image)"
      ],
      "execution_count": 6,
      "outputs": [
        {
          "output_type": "execute_result",
          "data": {
            "text/plain": [
              "<matplotlib.image.AxesImage at 0x7f053d26c5c0>"
            ]
          },
          "metadata": {
            "tags": []
          },
          "execution_count": 6
        },
        {
          "output_type": "display_data",
          "data": {
            "image/png": "[encoded data removed]",
            "text/plain": [
              "<Figure size 432x288 with 1 Axes>"
            ]
          },
          "metadata": {
            "tags": [],
            "needs_background": "light"
          }
        }
      ]
    },
    {
      "cell_type": "code",
      "metadata": {
        "colab": {
          "base_uri": "https://localhost:8080/"
        },
        "id": "oYBzOBSaeLS-",
        "outputId": "26897bdb-df82-4947-eb71-1ab27228bce9"
      },
      "source": [
        "def list_available_fonts(fonts_path: str,\n",
        "                         sizes_range: range = None,\n",
        "                         return_type: str = 'image_font'):\n",
        "    \"\"\"\n",
        "    Lists a combination of (font, color) for all available fonts in `font_path`\n",
        "    and sizes in `sizes_range`.\n",
        "\n",
        "    If `sizes_range` is not specified, we assume a range from 16 to 22.\n",
        "\n",
        "    It is also possible to control how the data is returned:\n",
        "    - If return_type is equals to `'image_font'` (default), the resulting list will\n",
        "      contain objects of type `ImageFont`.\n",
        "\n",
        "    - Otherwise, it will be a list of strings in the format\n",
        "      `'font name, font size'` will be returned.\n",
        "    \"\"\"\n",
        "    available_fonts = list(Path(fonts_path).glob('**/*.ttf'))\n",
        "    available_sizes = range(16, 22) if sizes_range is None else sizes_range\n",
        "\n",
        "    all_fonts = product(available_fonts, available_sizes)\n",
        "\n",
        "    def create_font(font_name: str, font_size: int):\n",
        "        if return_type == 'image_font':\n",
        "            return ImageFont.truetype(str(font_name), int(font_size))\n",
        "\n",
        "        return f'{font_name}, {font_size}'\n",
        "\n",
        "    return [create_font(f, s) for f, s in all_fonts]\n",
        "\n",
        "\n",
        "list_available_fonts('./fonts', return_type='str')"
      ],
      "execution_count": 7,
      "outputs": [
        {
          "output_type": "execute_result",
          "data": {
            "text/plain": [
              "['fonts/Lato-Thin.ttf, 16',\n",
              " 'fonts/Lato-Thin.ttf, 17',\n",
              " 'fonts/Lato-Thin.ttf, 18',\n",
              " 'fonts/Lato-Thin.ttf, 19',\n",
              " 'fonts/Lato-Thin.ttf, 20',\n",
              " 'fonts/Lato-Thin.ttf, 21',\n",
              " 'fonts/Lato-Regular.ttf, 16',\n",
              " 'fonts/Lato-Regular.ttf, 17',\n",
              " 'fonts/Lato-Regular.ttf, 18',\n",
              " 'fonts/Lato-Regular.ttf, 19',\n",
              " 'fonts/Lato-Regular.ttf, 20',\n",
              " 'fonts/Lato-Regular.ttf, 21',\n",
              " 'fonts/Roboto-Regular.ttf, 16',\n",
              " 'fonts/Roboto-Regular.ttf, 17',\n",
              " 'fonts/Roboto-Regular.ttf, 18',\n",
              " 'fonts/Roboto-Regular.ttf, 19',\n",
              " 'fonts/Roboto-Regular.ttf, 20',\n",
              " 'fonts/Roboto-Regular.ttf, 21',\n",
              " 'fonts/Roboto-Thin.ttf, 16',\n",
              " 'fonts/Roboto-Thin.ttf, 17',\n",
              " 'fonts/Roboto-Thin.ttf, 18',\n",
              " 'fonts/Roboto-Thin.ttf, 19',\n",
              " 'fonts/Roboto-Thin.ttf, 20',\n",
              " 'fonts/Roboto-Thin.ttf, 21',\n",
              " 'fonts/Lato-ThinItalic.ttf, 16',\n",
              " 'fonts/Lato-ThinItalic.ttf, 17',\n",
              " 'fonts/Lato-ThinItalic.ttf, 18',\n",
              " 'fonts/Lato-ThinItalic.ttf, 19',\n",
              " 'fonts/Lato-ThinItalic.ttf, 20',\n",
              " 'fonts/Lato-ThinItalic.ttf, 21',\n",
              " 'fonts/Arial.ttf, 16',\n",
              " 'fonts/Arial.ttf, 17',\n",
              " 'fonts/Arial.ttf, 18',\n",
              " 'fonts/Arial.ttf, 19',\n",
              " 'fonts/Arial.ttf, 20',\n",
              " 'fonts/Arial.ttf, 21',\n",
              " 'fonts/Raleway-Regular.ttf, 16',\n",
              " 'fonts/Raleway-Regular.ttf, 17',\n",
              " 'fonts/Raleway-Regular.ttf, 18',\n",
              " 'fonts/Raleway-Regular.ttf, 19',\n",
              " 'fonts/Raleway-Regular.ttf, 20',\n",
              " 'fonts/Raleway-Regular.ttf, 21']"
            ]
          },
          "metadata": {
            "tags": []
          },
          "execution_count": 7
        }
      ]
    },
    {
      "cell_type": "code",
      "metadata": {
        "id": "f-VYTjKUk9Jw"
      },
      "source": [
        "FONTS = list_available_fonts('./fonts')"
      ],
      "execution_count": 8,
      "outputs": []
    },
    {
      "cell_type": "code",
      "metadata": {
        "id": "Lm5DnkjEk-Ig"
      },
      "source": [
        "def fit_text(tokens: List[str],\n",
        "             draw: ImageDraw.Draw,\n",
        "             font: ImageFont,\n",
        "             max_width: int,\n",
        "             max_height: int,\n",
        "             offset_x: int = 0,\n",
        "             offset_y: int = 0,\n",
        "             line_spacing: int = 0,\n",
        "             max_height_threshold: int = 20):\n",
        "    \"\"\"\n",
        "    Fits the given `tokens` array into many lines based on\n",
        "    `draw`, `font` and desired `max_width` and `max_height`.\n",
        "\n",
        "    This function returns a tuple:\n",
        "    - `[0]`: Is a list of lines in the images. For each line, a list of tokens \\\n",
        "             is provided (as a result of `line.split()`).\n",
        "    - `[1]`: A list of width for each line.\n",
        "    - `[2]`: The initial position where the tokens do not fit anymore.\n",
        "\n",
        "    A `offset_x` and `offset_y` can be provided.\n",
        "    Also, an additional space between lines can be provided in `line_spacing`.\n",
        "\n",
        "    PS: The calculations are based on estimations returned by `draw.textsize()`.\n",
        "    \"\"\"\n",
        "    lines = [[]]\n",
        "    sizes = [[offset_x, 0]]\n",
        "    unfit = None\n",
        "\n",
        "    total_height = offset_y\n",
        "\n",
        "    for i, token in enumerate(tokens):\n",
        "        # we include spaces for size calculation, since we are\n",
        "        # running through tokens\n",
        "        text_to_draw = token + ' '\n",
        "        w, h = draw.textsize(text_to_draw, font=font)\n",
        "\n",
        "        estimated_height = (total_height + h + line_spacing + \\\n",
        "                            max_height_threshold)\n",
        "\n",
        "        if sizes[-1][0] + w > max_width:\n",
        "            lines.append([])\n",
        "            sizes.append([offset_x, h])\n",
        "\n",
        "            total_height = sum([i[1] for i in sizes]) + offset_y\n",
        "\n",
        "        if estimated_height >= max_height:  # put some bottom margin\n",
        "            unfit = i\n",
        "            break\n",
        "\n",
        "        lines[-1].append(token)\n",
        "        sizes[-1][0] += w\n",
        "        sizes[-1][1] = max(h, sizes[-1][1])\n",
        "\n",
        "    return lines, sizes, unfit"
      ],
      "execution_count": 9,
      "outputs": []
    },
    {
      "cell_type": "code",
      "metadata": {
        "colab": {
          "base_uri": "https://localhost:8080/"
        },
        "id": "SC4DnP8wlpHU",
        "outputId": "809ba4ce-5565-45d2-98ab-2c898014ec8b"
      },
      "source": [
        "image = create_image((256, 256))\n",
        "draw = ImageDraw.Draw(image)\n",
        "text = 'this is a very very very very long text for fitting into the image'\n",
        "font = choice(FONTS)\n",
        "\n",
        "lines, sizes, unfit = fit_text(text.split(), draw, font, 256, 256)\n",
        "\n",
        "print('Lines:', lines)\n",
        "print('Sizes:', sizes)\n",
        "print('Unfit:', unfit)"
      ],
      "execution_count": 10,
      "outputs": [
        {
          "output_type": "stream",
          "text": [
            "Lines: [['this', 'is', 'a', 'very', 'very', 'very', 'very', 'long'], ['text', 'for', 'fitting', 'into', 'the', 'image']]\n",
            "Sizes: [[234, 19], [208, 19]]\n",
            "Unfit: None\n"
          ],
          "name": "stdout"
        }
      ]
    },
    {
      "cell_type": "code",
      "metadata": {
        "colab": {
          "base_uri": "https://localhost:8080/",
          "height": 303
        },
        "id": "aRPoIeEtlqZ1",
        "outputId": "2546b6ad-0db0-4521-e23d-1bfb18d3aef6"
      },
      "source": [
        "def generate_image_from_text(text: str, size: Tuple[int, int]):\n",
        "    \"\"\"\n",
        "    Generate an image from a piece of text in `image_data`.\n",
        "    - `text`: the text to be used in the target image.\n",
        "    - `size`: A tuple indicating the size of target image.\n",
        "\n",
        "    Images are generated in `size`, RGB format.\n",
        "    Arbitrary font and colors will be choosen for the image.\n",
        "    \"\"\"\n",
        "    size = size or (300, 600)\n",
        "    image = create_image(size)\n",
        "    draw = ImageDraw.Draw(image)\n",
        "    font = choice(FONTS)\n",
        "    forecolor = choice(FONT_COLORS)\n",
        "    line_spacing = randint(0, 10)\n",
        "\n",
        "    offset_x = randint(0, size[0] // 2)\n",
        "    offset_y = randint(0, size[1] // 2)\n",
        "\n",
        "    original = text.split()\n",
        "\n",
        "    lines, sizes, unfit = fit_text(original,\n",
        "                                   draw,\n",
        "                                   font,\n",
        "                                   size[0],\n",
        "                                   size[1],\n",
        "                                   offset_x=offset_x,\n",
        "                                   offset_y=offset_y,\n",
        "                                   line_spacing=line_spacing)\n",
        "\n",
        "    if unfit:\n",
        "        original = original[:unfit]\n",
        "\n",
        "    y = offset_y\n",
        "\n",
        "    for line, text_size in zip(lines, sizes):\n",
        "        x = offset_x\n",
        "\n",
        "        # We generate the image itself, line by line\n",
        "        draw.text((offset_x, y), ' '.join(line), font=font, fill=forecolor)\n",
        "        y += text_size[1] + line_spacing\n",
        "\n",
        "    return image, original\n",
        "\n",
        "image, text = generate_image_from_text(\n",
        "    'this is a very very very long text for test', (256, 512))\n",
        "\n",
        "print(text)\n",
        "plt.imshow(image)"
      ],
      "execution_count": 11,
      "outputs": [
        {
          "output_type": "stream",
          "text": [
            "['this', 'is', 'a', 'very', 'very', 'very', 'long', 'text', 'for', 'test']\n"
          ],
          "name": "stdout"
        },
        {
          "output_type": "execute_result",
          "data": {
            "text/plain": [
              "<matplotlib.image.AxesImage at 0x7f053bd9b518>"
            ]
          },
          "metadata": {
            "tags": []
          },
          "execution_count": 11
        },
        {
          "output_type": "display_data",
          "data": {
            "image/png": "[encoded data removed]",
            "text/plain": [
              "<Figure size 432x288 with 1 Axes>"
            ]
          },
          "metadata": {
            "tags": [],
            "needs_background": "light"
          }
        }
      ]
    },
    {
      "cell_type": "markdown",
      "metadata": {
        "id": "RW78QlrVkaPT"
      },
      "source": [
        "### Extraindo Patches das Imagens\n",
        "\n",
        "Vou Usar patches (subplots da imagem) para alimentar um Image Embedder, parecido com a abordagem do UNITER."
      ]
    },
    {
      "cell_type": "code",
      "metadata": {
        "id": "cUh4VOUHtO4g",
        "colab": {
          "base_uri": "https://localhost:8080/",
          "height": 118
        },
        "outputId": "4edd59b3-7bad-44d0-a597-95e65aa282a3"
      },
      "source": [
        "PATCH_TRANSFORMS = transforms.Compose([\n",
        "    transforms.Grayscale(),\n",
        "    transforms.ToTensor()\n",
        "])\n",
        "\n",
        "def extract_patches(image,\n",
        "                    patch_height: int = 16,\n",
        "                    patch_width:int = 16,\n",
        "                    max_patches: int = 256,\n",
        "                    padding: bool = True,\n",
        "                    padding_value: int = -100):\n",
        "    \"\"\"\n",
        "    Inspired by: https://discuss.pytorch.org/t/slicing-image-into-square-patches/8772/3\n",
        "    \"\"\"\n",
        "    flat_image = PATCH_TRANSFORMS(image)\n",
        "    patches = flat_image.data.unfold(1, patch_height, patch_height) \\\n",
        "                             .unfold(2, patch_width, patch_width)\n",
        "\n",
        "    # At the end, remove the channel (since it is always one)\n",
        "    patches = torch.flatten(patches, start_dim=1, end_dim=2).squeeze(0)\n",
        "\n",
        "    # Check if padding is necessary\n",
        "    if patches.shape[0] < max_patches and padding is True:\n",
        "        padding = torch.zeros(max_patches - patches.shape[0],\n",
        "                              patch_height,\n",
        "                              patch_width)\n",
        "        \n",
        "        patches = torch.cat((patches, padding), dim=0)\n",
        "\n",
        "    # Limit number of patches\n",
        "    return patches[:max_patches, : , :]\n",
        "\n",
        "\n",
        "def visualize_patches(patches):\n",
        "    \"\"\"Imshow for Tensor.\"\"\" \n",
        "\n",
        "\n",
        "    print(patches.shape)\n",
        "    patch_height = patches.shape[-2]\n",
        "    patch_width = patches.shape[-1]\n",
        "    num_patches = patches.shape[-3]\n",
        "\n",
        "    transp = transforms.ToPILImage()\n",
        "\n",
        "    fig = plt.figure(figsize=(64, 32))\n",
        "\n",
        "    for i in range(num_patches):\n",
        "        inp = transp(patches[0][i])\n",
        "        inp = np.array(inp)\n",
        "        ax = fig.add_subplot(1, num_patches, i + 1, xticks=[], yticks=[])\n",
        "        plt.imshow(inp)\n",
        "\n",
        "\n",
        "# Testing with dummy image\n",
        "visualize_patches(extract_patches(image, 64, 64, padding=False, max_patches=10).unsqueeze(0))"
      ],
      "execution_count": 12,
      "outputs": [
        {
          "output_type": "stream",
          "text": [
            "torch.Size([1, 10, 64, 64])\n"
          ],
          "name": "stdout"
        },
        {
          "output_type": "display_data",
          "data": {
            "image/png": "[encoded data removed]",
            "text/plain": [
              "<Figure size 4608x2304 with 10 Axes>"
            ]
          },
          "metadata": {
            "tags": []
          }
        }
      ]
    },
    {
      "cell_type": "markdown",
      "metadata": {
        "id": "O52dR-mJc9vh"
      },
      "source": [
        "### Removendo \\<pad> e \\</s>"
      ]
    },
    {
      "cell_type": "code",
      "metadata": {
        "colab": {
          "base_uri": "https://localhost:8080/",
          "height": 166,
          "referenced_widgets": [
            "31724082ee1c481da2532de2506a3dab",
            "88a5689e87ff47889fbb5eb17920e527",
            "b19c7668ab624cdca031dd9381204b3c",
            "1d8d16105652429492a8feabc115a48e",
            "5a3e81c0bbb54595b7f37c8c08d52106",
            "f463e6b005254cf3ab1205cbb42e907b",
            "9f1aca9fc3814497987c8f461d21c8e4",
            "89d0eec8d7134e99b4cb122665d61338",
            "cd9f46dc932942809c47f3c3a694782f",
            "696e01bc872e47198f689448ea8dc166",
            "70114cae82b041b48d1be2f5e081e89a",
            "1ae1e098abaf47a09c0ba4703f0ef273",
            "2084d71d2c634b9491cd2a7f866be37a",
            "fc5fabffe01542d3a72a2458abf4387c",
            "904561df3c5e41c7b5679c5a00742966",
            "576616727f454fe0851460c158644031"
          ]
        },
        "id": "jYGwViyHdA8s",
        "outputId": "e5260925-6316-491e-8d78-1cfaf89b2c60"
      },
      "source": [
        "def decode_sentence_batch(tokenizer, input_ids):\n",
        "\n",
        "    def remove_pad(text):\n",
        "        return text.replace(tokenizer.pad_token, '')\n",
        "\n",
        "    def remove_eos(text):\n",
        "        return text.replace(tokenizer.eos_token, '')\n",
        "\n",
        "    dec = tokenizer.decode\n",
        "    return [remove_pad(remove_eos(dec(s))).strip() for s in input_ids]\n",
        "\n",
        "\n",
        "tok = T5TokenizerFast.from_pretrained('t5-base')\n",
        "input_ids = tok('this is a string for testing',\n",
        "                max_length=20,\n",
        "                padding='max_length',\n",
        "                return_tensors='pt').input_ids\n",
        "\n",
        "print(input_ids.shape)\n",
        "print(tok.batch_decode(input_ids))\n",
        "print(decode_sentence_batch(tok, input_ids))"
      ],
      "execution_count": 13,
      "outputs": [
        {
          "output_type": "display_data",
          "data": {
            "application/vnd.jupyter.widget-view+json": {
              "model_id": "31724082ee1c481da2532de2506a3dab",
              "version_minor": 0,
              "version_major": 2
            },
            "text/plain": [
              "HBox(children=(FloatProgress(value=0.0, description='Downloading', max=791656.0, style=ProgressStyle(descripti…"
            ]
          },
          "metadata": {
            "tags": []
          }
        },
        {
          "output_type": "stream",
          "text": [
            "\n"
          ],
          "name": "stdout"
        },
        {
          "output_type": "display_data",
          "data": {
            "application/vnd.jupyter.widget-view+json": {
              "model_id": "cd9f46dc932942809c47f3c3a694782f",
              "version_minor": 0,
              "version_major": 2
            },
            "text/plain": [
              "HBox(children=(FloatProgress(value=0.0, description='Downloading', max=1389353.0, style=ProgressStyle(descript…"
            ]
          },
          "metadata": {
            "tags": []
          }
        },
        {
          "output_type": "stream",
          "text": [
            "\n",
            "torch.Size([1, 20])\n",
            "['this is a string for testing</s><pad><pad><pad><pad><pad><pad><pad><pad><pad><pad><pad><pad>']\n",
            "['this is a string for testing']\n"
          ],
          "name": "stdout"
        }
      ]
    },
    {
      "cell_type": "markdown",
      "metadata": {
        "id": "DPioyNSXmPCU"
      },
      "source": [
        "### Classe do Dataset"
      ]
    },
    {
      "cell_type": "code",
      "metadata": {
        "id": "0iop4JS03pRP"
      },
      "source": [
        "def mask_text(tokenizer: T5TokenizerFast,\n",
        "              text_to_mask: List[str],\n",
        "              mask_prob: float = 0.15):\n",
        "\n",
        "    iter = (t for t in tokenizer.additional_special_tokens)\n",
        "    rand_replace = lambda word: word if random() > mask_prob else next(iter)\n",
        "\n",
        "    masked = [rand_replace(w) for w in text_to_mask]\n",
        "    labels = [f'{m} {text_to_mask[i]}' for i, m in enumerate(masked) if m in tokenizer.additional_special_tokens]\n",
        "\n",
        "    return masked, labels"
      ],
      "execution_count": 14,
      "outputs": []
    },
    {
      "cell_type": "code",
      "metadata": {
        "colab": {
          "base_uri": "https://localhost:8080/"
        },
        "id": "8jQosQQt4wta",
        "outputId": "d2cbbd77-a7b6-4c96-bb8e-8ad6653559fe"
      },
      "source": [
        "mask_text(tok, text)"
      ],
      "execution_count": 15,
      "outputs": [
        {
          "output_type": "execute_result",
          "data": {
            "text/plain": [
              "(['<extra_id_0>',\n",
              "  '<extra_id_1>',\n",
              "  'a',\n",
              "  'very',\n",
              "  'very',\n",
              "  'very',\n",
              "  'long',\n",
              "  'text',\n",
              "  'for',\n",
              "  'test'],\n",
              " ['<extra_id_0> this', '<extra_id_1> is'])"
            ]
          },
          "metadata": {
            "tags": []
          },
          "execution_count": 15
        }
      ]
    },
    {
      "cell_type": "code",
      "metadata": {
        "id": "Wr9jXcv3ls5p"
      },
      "source": [
        "class WikiTextPreTrainDataset(Dataset):\n",
        "    \"\"\"\n",
        "    Dataset for Wiki Content. This dataset uses `wikitext-103-v1` from\n",
        "    `datasets` pip package. Is transforms text segments into images for \n",
        "    pretraining.\n",
        "    \"\"\"\n",
        "    IMAGE_TO_TENSOR = transforms.ToTensor()\n",
        "\n",
        "    def __init__(self,\n",
        "                 image_size: Tuple[int, int],\n",
        "                 tokenizer: str,\n",
        "                 dataset_size: int = 32_000,\n",
        "                 sample_min_len: int = 128,\n",
        "                 target_max_len: int = 128,\n",
        "                 labels_max_len: int = 64,\n",
        "                 enhance_factor: int = 1,\n",
        "                 patches_size: int = (16, 16),\n",
        "                 max_patches: int = 256,\n",
        "                 return_image: bool = False):\n",
        "        \"\"\"\n",
        "        - patches_size: tamanho dos patches para extrair da imagem.\n",
        "                        Tupla com (Height, Width) para cada patch.\n",
        "        \"\"\"\n",
        "        \n",
        "        wiki = load_dataset('wikitext', 'wikitext-103-v1', split='train')\n",
        "        wiki = wiki.filter(lambda example: len(example['text']) >= sample_min_len)\n",
        "        \n",
        "        self.wiki_data = wiki[:dataset_size]['text']\n",
        "        self.wiki_data_size = len(self.wiki_data)\n",
        "        self.enhance_factor = enhance_factor\n",
        "\n",
        "        self.image_size = image_size\n",
        "        self.target_max_length = target_max_len\n",
        "        self.labels_max_len = labels_max_len\n",
        "        self.tokenizer = T5TokenizerFast.from_pretrained(tokenizer)\n",
        "\n",
        "        self.patches_size = patches_size\n",
        "        self.max_patches = max_patches\n",
        "        self.return_image = return_image\n",
        "\n",
        "    def __len__(self):\n",
        "        return self.wiki_data_size * self.enhance_factor\n",
        "\n",
        "    def __getitem__(self, idx):\n",
        "        actual_item = self.wiki_data[idx % self.wiki_data_size]\n",
        "        image, text = generate_image_from_text(actual_item, self.image_size)\n",
        "\n",
        "        # Extract image patches\n",
        "        patches = extract_patches(\n",
        "            image, self.patches_size[0], self.patches_size[1], self.max_patches)\n",
        "        \n",
        "        masked, labels = mask_text(self.tokenizer, text)\n",
        "\n",
        "        tokenized = self.tokenizer(' '.join(text),\n",
        "                                   max_length=self.target_max_length,\n",
        "                                   padding='max_length',\n",
        "                                   truncation=True)\n",
        "        \n",
        "        masked_input_ids = self.tokenizer(' '.join(masked),\n",
        "                                          max_length=self.target_max_length,\n",
        "                                          padding='max_length',\n",
        "                                          truncation=True)\n",
        "\n",
        "        target = self.tokenizer(' '.join(labels),\n",
        "                                max_length=self.labels_max_len,\n",
        "                                padding='max_length',\n",
        "                                truncation=True)\n",
        "        output = {\n",
        "            'patches': patches,\n",
        "            'input_ids': torch.tensor(tokenized.input_ids, dtype=torch.long),\n",
        "            'masked_input_ids': torch.tensor(masked_input_ids.input_ids, dtype=torch.long),\n",
        "            'masked_labels': torch.tensor(target.input_ids, dtype=torch.long),\n",
        "            'masked_original': ' '.join(labels)\n",
        "        }\n",
        "\n",
        "        if self.return_image:\n",
        "            output['image'] = image\n",
        "        \n",
        "        return output"
      ],
      "execution_count": 16,
      "outputs": []
    },
    {
      "cell_type": "code",
      "metadata": {
        "colab": {
          "base_uri": "https://localhost:8080/",
          "height": 688,
          "referenced_widgets": [
            "52aa6aacbfce46fa97cbbe8d614ee140",
            "afa9f0c6f0c241b4b6e829d25d9081ed",
            "a5a53e56fd584bc0bd849e730cdc3896",
            "ff96a3f7696b442ea00ae783a3497d9a",
            "6d8bbff2bada4a068b4ca1b2f5fb1f26",
            "78ed9972ac9f4fce9ce8cd950b43391b",
            "e40367ff639e40bb940fbe5b567b0d4c",
            "4657698410754bb980e1e1a307c8c44e",
            "32e2b4ed60854b1b8ffffefa2c1769ed",
            "613bdbd2eabd4ce19d6859adf3d10ae4",
            "e3fa4ee135c14f02a830f6f79e557c0c",
            "40c5c1af01ef4ed3afb488d250d588a4",
            "e3517e56bc3e491e8c1783d57e2c8743",
            "044c3f6b4d9e4782992cfa4414678e27",
            "cb24b669ff104bd3b975f53c528a611f",
            "03bff2ec93184e2eb71bf9314d3e5931",
            "f72bc46eb8e24d73baf1fd45a7c1e764",
            "d19b3ab2857546a68dcb7be8c9077c8f",
            "f420b93aee0241f898d666fce608c369",
            "80498196b79f4f0090ce92aaee8203ad",
            "8ebfe2800f344e13bbc7524bf6828562",
            "1d5a68de0933466fb2875165036befbe",
            "ea61995011f34bdb944b730091686756",
            "a3b6e184c1894ee893071e7dc760ec31",
            "49672ef05ed841a49f819c3589be4e1b",
            "62b74724065a432ca96bf4cc1f58b632",
            "ce7f2205773043d4ac3ad9a9269c36aa",
            "63856355f47841ba9cf1ab0fb3ebca0c",
            "b0100511d1f6426b9c5cc3eac9f7ebdb",
            "66c910903d0f4c89ac9d0f19ad24cdf0",
            "817dc70987a744d799ea6dbe3bb1b979",
            "91ec2a793b864773878f82dacb5fda3f",
            "f7e8ba700eca423b8833f57f9d0f04f8",
            "6316f257e41543bab0ec049cfa8de72a",
            "08103dc5c1324da499e2d138a31cd3ed",
            "e04aaa1e8e1f46e8a0d1aa764dea4129",
            "797629b114634e6aa14b0ba6b85331ba",
            "6a318589de5644349f55dfe9833343c6",
            "67953f69eb6c42cfae52e8814f987efa",
            "e66cc11ba7a94e42a4653237e5d8dd49",
            "8f088cc2441b4ba9bb3a1b2d0aeff373",
            "64d506776be142dcac3faa2da53cbed4",
            "2f1bf2f6b50c47a587074fec87fb1d34",
            "cad112e890c14d09a8ad07438baadea9",
            "d019105c7cbf4f2f893492f664e6b7d9",
            "58f0dd65208e441b81048d3bdd30d903",
            "e355a613d7c24167881954e08dd7ff2c",
            "3310b281b7f046c78b5ff9d6df3d14ac",
            "d63262b9a4d0406087ba535538cd5f15",
            "71ed76edb8ca43aa9616182230dcfb3a",
            "53fdbacde47b472aae587f6939eddb62",
            "7620b84806a341e799f12c4c107744b9",
            "3c5966b3f78642b3bfc4d62732c2ed28",
            "74671a317e5c4f28a30b2c1eb43b70c4",
            "95df6ac2c7084ec0b4f7d56146cd2263",
            "cc43f440b20b42519f1bfbd632e58e88",
            "69d2767f96cf4db6a4b0ded8f687f538",
            "357ae9243b7b4adb935de101c7933ece",
            "3f96155aa3374eb68681d4fed26a1d94",
            "202a347dfa834674b98b4f6388ace0d2",
            "73d28a26028645a3b643de80bdf8f81c",
            "07a126f9545c473ca0d9e8c8c67ca81b",
            "40546d12c6964026ba1fb4a83f10ea47",
            "5605113bc38b49d79ef1f3a0e7fa883e",
            "6b0c389ce6514b10b17449d261607d4d",
            "2fd88cf973744326b7515acf01617953",
            "83f258f3618f46058fb027483ae76ca1",
            "d2240090c91747008ab8d54ae5869f40",
            "201eda1145ae4536abdca5f93804ef4b",
            "6b8a9d6e5971455884aea51b705fa288",
            "abd487f04fde42c9a6f9a3f45b98476d",
            "cd2469b1b7594cfdb6f5c9c11d0c2e10"
          ]
        },
        "id": "_FAN_RidmxX8",
        "outputId": "3cb0d429-6c9b-41e5-835a-966037a80462"
      },
      "source": [
        "dataset = WikiTextPreTrainDataset((256, 512), 't5-small', patches_size=(64, 64),\n",
        "                                  return_image=True)\n",
        "demo_sample = dataset[0]\n",
        "\n",
        "plt.figure(figsize=(5, 5))\n",
        "plt.imshow(demo_sample['image'])"
      ],
      "execution_count": 17,
      "outputs": [
        {
          "output_type": "display_data",
          "data": {
            "application/vnd.jupyter.widget-view+json": {
              "model_id": "52aa6aacbfce46fa97cbbe8d614ee140",
              "version_minor": 0,
              "version_major": 2
            },
            "text/plain": [
              "HBox(children=(FloatProgress(value=0.0, description='Downloading', max=2111.0, style=ProgressStyle(description…"
            ]
          },
          "metadata": {
            "tags": []
          }
        },
        {
          "output_type": "stream",
          "text": [
            "\n"
          ],
          "name": "stdout"
        },
        {
          "output_type": "display_data",
          "data": {
            "application/vnd.jupyter.widget-view+json": {
              "model_id": "32e2b4ed60854b1b8ffffefa2c1769ed",
              "version_minor": 0,
              "version_major": 2
            },
            "text/plain": [
              "HBox(children=(FloatProgress(value=0.0, description='Downloading', max=1186.0, style=ProgressStyle(description…"
            ]
          },
          "metadata": {
            "tags": []
          }
        },
        {
          "output_type": "stream",
          "text": [
            "\n",
            "Downloading and preparing dataset wikitext/wikitext-103-v1 (download: 181.42 MiB, generated: 522.66 MiB, post-processed: Unknown size, total: 704.07 MiB) to /root/.cache/huggingface/datasets/wikitext/wikitext-103-v1/1.0.0/47c57a6745aa5ce8e16a5355aaa4039e3aa90d1adad87cef1ad4e0f29e74ac91...\n"
          ],
          "name": "stdout"
        },
        {
          "output_type": "display_data",
          "data": {
            "application/vnd.jupyter.widget-view+json": {
              "model_id": "f72bc46eb8e24d73baf1fd45a7c1e764",
              "version_minor": 0,
              "version_major": 2
            },
            "text/plain": [
              "HBox(children=(FloatProgress(value=0.0, description='Downloading', max=190229076.0, style=ProgressStyle(descri…"
            ]
          },
          "metadata": {
            "tags": []
          }
        },
        {
          "output_type": "stream",
          "text": [
            "\n"
          ],
          "name": "stdout"
        },
        {
          "output_type": "display_data",
          "data": {
            "application/vnd.jupyter.widget-view+json": {
              "model_id": "49672ef05ed841a49f819c3589be4e1b",
              "version_minor": 0,
              "version_major": 2
            },
            "text/plain": [
              "HBox(children=(FloatProgress(value=1.0, bar_style='info', max=1.0), HTML(value='')))"
            ]
          },
          "metadata": {
            "tags": []
          }
        },
        {
          "output_type": "stream",
          "text": [
            "\r"
          ],
          "name": "stdout"
        },
        {
          "output_type": "display_data",
          "data": {
            "application/vnd.jupyter.widget-view+json": {
              "model_id": "f7e8ba700eca423b8833f57f9d0f04f8",
              "version_minor": 0,
              "version_major": 2
            },
            "text/plain": [
              "HBox(children=(FloatProgress(value=1.0, bar_style='info', max=1.0), HTML(value='')))"
            ]
          },
          "metadata": {
            "tags": []
          }
        },
        {
          "output_type": "stream",
          "text": [
            "\r"
          ],
          "name": "stdout"
        },
        {
          "output_type": "display_data",
          "data": {
            "application/vnd.jupyter.widget-view+json": {
              "model_id": "8f088cc2441b4ba9bb3a1b2d0aeff373",
              "version_minor": 0,
              "version_major": 2
            },
            "text/plain": [
              "HBox(children=(FloatProgress(value=1.0, bar_style='info', max=1.0), HTML(value='')))"
            ]
          },
          "metadata": {
            "tags": []
          }
        },
        {
          "output_type": "stream",
          "text": [
            "\rDataset wikitext downloaded and prepared to /root/.cache/huggingface/datasets/wikitext/wikitext-103-v1/1.0.0/47c57a6745aa5ce8e16a5355aaa4039e3aa90d1adad87cef1ad4e0f29e74ac91. Subsequent calls will reuse this data.\n"
          ],
          "name": "stdout"
        },
        {
          "output_type": "display_data",
          "data": {
            "application/vnd.jupyter.widget-view+json": {
              "model_id": "d63262b9a4d0406087ba535538cd5f15",
              "version_minor": 0,
              "version_major": 2
            },
            "text/plain": [
              "HBox(children=(FloatProgress(value=0.0, max=1802.0), HTML(value='')))"
            ]
          },
          "metadata": {
            "tags": []
          }
        },
        {
          "output_type": "stream",
          "text": [
            "\n"
          ],
          "name": "stdout"
        },
        {
          "output_type": "display_data",
          "data": {
            "application/vnd.jupyter.widget-view+json": {
              "model_id": "69d2767f96cf4db6a4b0ded8f687f538",
              "version_minor": 0,
              "version_major": 2
            },
            "text/plain": [
              "HBox(children=(FloatProgress(value=0.0, description='Downloading', max=791656.0, style=ProgressStyle(descripti…"
            ]
          },
          "metadata": {
            "tags": []
          }
        },
        {
          "output_type": "stream",
          "text": [
            "\n"
          ],
          "name": "stdout"
        },
        {
          "output_type": "display_data",
          "data": {
            "application/vnd.jupyter.widget-view+json": {
              "model_id": "6b0c389ce6514b10b17449d261607d4d",
              "version_minor": 0,
              "version_major": 2
            },
            "text/plain": [
              "HBox(children=(FloatProgress(value=0.0, description='Downloading', max=1389353.0, style=ProgressStyle(descript…"
            ]
          },
          "metadata": {
            "tags": []
          }
        },
        {
          "output_type": "stream",
          "text": [
            "\n"
          ],
          "name": "stdout"
        },
        {
          "output_type": "execute_result",
          "data": {
            "text/plain": [
              "<matplotlib.image.AxesImage at 0x7f053bb76240>"
            ]
          },
          "metadata": {
            "tags": []
          },
          "execution_count": 17
        },
        {
          "output_type": "display_data",
          "data": {
            "image/png": "[encoded data removed]",
            "text/plain": [
              "<Figure size 360x360 with 1 Axes>"
            ]
          },
          "metadata": {
            "tags": [],
            "needs_background": "light"
          }
        }
      ]
    },
    {
      "cell_type": "code",
      "metadata": {
        "colab": {
          "base_uri": "https://localhost:8080/",
          "height": 51
        },
        "id": "XjKcy79lvoZe",
        "outputId": "d90d48b6-9916-405f-f36d-5a7ab914141f"
      },
      "source": [
        "visualize_patches(demo_sample['patches'].unsqueeze(0))"
      ],
      "execution_count": 18,
      "outputs": [
        {
          "output_type": "stream",
          "text": [
            "torch.Size([1, 256, 64, 64])\n"
          ],
          "name": "stdout"
        },
        {
          "output_type": "display_data",
          "data": {
            "image/png": "[encoded data removed]",
            "text/plain": [
              "<Figure size 4608x2304 with 256 Axes>"
            ]
          },
          "metadata": {
            "tags": []
          }
        }
      ]
    },
    {
      "cell_type": "code",
      "metadata": {
        "colab": {
          "base_uri": "https://localhost:8080/",
          "height": 303
        },
        "id": "JvlTcyP2zour",
        "outputId": "9cff363c-c966-4c27-aeb6-b8a137e17263"
      },
      "source": [
        "demo_sample = dataset[1002]\n",
        "\n",
        "plt.imshow(demo_sample['image'])\n",
        "visualize_patches(demo_sample['patches'].unsqueeze(0))"
      ],
      "execution_count": 19,
      "outputs": [
        {
          "output_type": "stream",
          "text": [
            "torch.Size([1, 256, 64, 64])\n"
          ],
          "name": "stdout"
        },
        {
          "output_type": "display_data",
          "data": {
            "image/png": "[encoded data removed]",
            "text/plain": [
              "<Figure size 432x288 with 1 Axes>"
            ]
          },
          "metadata": {
            "tags": [],
            "needs_background": "light"
          }
        },
        {
          "output_type": "display_data",
          "data": {
            "image/png": "[encoded data removed]",
            "text/plain": [
              "<Figure size 4608x2304 with 256 Axes>"
            ]
          },
          "metadata": {
            "tags": []
          }
        }
      ]
    },
    {
      "cell_type": "code",
      "metadata": {
        "colab": {
          "base_uri": "https://localhost:8080/",
          "height": 340
        },
        "id": "sI1AGRNdnBqL",
        "outputId": "56c0f0e5-da7b-44ab-c275-8a93e25e9531"
      },
      "source": [
        "demo_sample = dataset[100]\n",
        "\n",
        "plt.figure(figsize=(5, 5))\n",
        "plt.imshow(demo_sample['image'])"
      ],
      "execution_count": 20,
      "outputs": [
        {
          "output_type": "execute_result",
          "data": {
            "text/plain": [
              "<matplotlib.image.AxesImage at 0x7f053641b400>"
            ]
          },
          "metadata": {
            "tags": []
          },
          "execution_count": 20
        },
        {
          "output_type": "display_data",
          "data": {
            "image/png": "[encoded data removed]",
            "text/plain": [
              "<Figure size 360x360 with 1 Axes>"
            ]
          },
          "metadata": {
            "tags": [],
            "needs_background": "light"
          }
        }
      ]
    },
    {
      "cell_type": "code",
      "metadata": {
        "colab": {
          "base_uri": "https://localhost:8080/"
        },
        "id": "d9O4BRX9n7IC",
        "outputId": "433f9234-964a-4637-fe51-8b13e950c3d5"
      },
      "source": [
        "demo_sample['input_ids']"
      ],
      "execution_count": 21,
      "outputs": [
        {
          "output_type": "execute_result",
          "data": {
            "text/plain": [
              "tensor([    3,  2092,     8,   337,    97,  2835,    38,     8,   454,  7059,\n",
              "        12105,     3, 24637,     3,     6,  1288,    17,  3868,  4116,    17,\n",
              "          159,  1051,  2590,  3666,    45,   112,     3,  3844,    77,  2871,\n",
              "           30,  1671,  1179,     3,     5,   216,   263,   112,   166,   456,\n",
              "           13,     8,   774,   581,     8,  5053,   272, 23162,     3,     6,\n",
              "         5489,   204,     3,   104,   209,    16,     3,     9,  4279,   670,\n",
              "            3,     5,  1051,  2590,  2925,     1,     0,     0,     0,     0,\n",
              "            0,     0,     0,     0,     0,     0,     0,     0,     0,     0,\n",
              "            0,     0,     0,     0,     0,     0,     0,     0,     0,     0,\n",
              "            0,     0,     0,     0,     0,     0,     0,     0,     0,     0,\n",
              "            0,     0,     0,     0,     0,     0,     0,     0,     0,     0,\n",
              "            0,     0,     0,     0,     0,     0,     0,     0,     0,     0,\n",
              "            0,     0,     0,     0,     0,     0,     0,     0])"
            ]
          },
          "metadata": {
            "tags": []
          },
          "execution_count": 21
        }
      ]
    },
    {
      "cell_type": "code",
      "metadata": {
        "colab": {
          "base_uri": "https://localhost:8080/"
        },
        "id": "8-I2FaP-2jLg",
        "outputId": "c78c95df-4f64-4358-9f91-9f641f9b8b83"
      },
      "source": [
        "dataset.tokenizer.batch_decode(demo_sample['input_ids'].unsqueeze(0))"
      ],
      "execution_count": 22,
      "outputs": [
        {
          "output_type": "execute_result",
          "data": {
            "text/plain": [
              "['During the same time frame as the Hitchcock rumors, goaltender Curtis Sanford returned from his groin injury on November 13. He made his first start of the season against the Boston Bruins, losing 2 – 1 in a shootout. Sanford continued</s><pad><pad><pad><pad><pad><pad><pad><pad><pad><pad><pad><pad><pad><pad><pad><pad><pad><pad><pad><pad><pad><pad><pad><pad><pad><pad><pad><pad><pad><pad><pad><pad><pad><pad><pad><pad><pad><pad><pad><pad><pad><pad><pad><pad><pad><pad><pad><pad><pad><pad><pad><pad><pad><pad><pad><pad><pad><pad><pad><pad><pad><pad>']"
            ]
          },
          "metadata": {
            "tags": []
          },
          "execution_count": 22
        }
      ]
    },
    {
      "cell_type": "code",
      "metadata": {
        "colab": {
          "base_uri": "https://localhost:8080/"
        },
        "id": "L3ZYW6t16Wi8",
        "outputId": "7e8468c6-3939-4e3f-bc12-fdb412a156c7"
      },
      "source": [
        "print(dataset.tokenizer.batch_decode(demo_sample['masked_input_ids'].unsqueeze(0)))\n",
        "print(dataset.tokenizer.batch_decode(demo_sample['masked_labels'].unsqueeze(0)))"
      ],
      "execution_count": 23,
      "outputs": [
        {
          "output_type": "stream",
          "text": [
            "['During the<extra_id_0> time frame as the<extra_id_1> rumors, goaltender Curtis<extra_id_2><extra_id_3> from<extra_id_4> groin injury<extra_id_5><extra_id_6> 13. He<extra_id_7> his first start of the season against<extra_id_8> Boston Bruins, losing 2 – 1<extra_id_9><extra_id_10> shootout. Sanford continued</s><pad><pad><pad><pad><pad><pad><pad><pad><pad><pad><pad><pad><pad><pad><pad><pad><pad><pad><pad><pad><pad><pad><pad><pad><pad><pad><pad><pad><pad><pad><pad><pad><pad><pad><pad><pad><pad><pad><pad><pad><pad><pad><pad><pad><pad><pad><pad><pad><pad><pad><pad><pad><pad><pad><pad><pad><pad><pad><pad><pad><pad><pad><pad><pad><pad><pad>']\n",
            "['<extra_id_0> same<extra_id_1> Hitchcock<extra_id_2> Sanford<extra_id_3> returned<extra_id_4> his<extra_id_5> on<extra_id_6> November<extra_id_7> made<extra_id_8> the<extra_id_9> in<extra_id_10> a</s><pad><pad><pad><pad><pad><pad><pad><pad><pad><pad><pad><pad><pad><pad><pad><pad><pad><pad><pad><pad><pad><pad><pad><pad><pad><pad><pad><pad><pad><pad><pad><pad><pad><pad><pad><pad><pad>']\n"
          ],
          "name": "stdout"
        }
      ]
    },
    {
      "cell_type": "code",
      "metadata": {
        "colab": {
          "base_uri": "https://localhost:8080/"
        },
        "id": "SA6VzIJG7G2G",
        "outputId": "e7d5cf24-a543-4a0c-936e-f62967b342e7"
      },
      "source": [
        "demo_sample['masked_input_ids']"
      ],
      "execution_count": 24,
      "outputs": [
        {
          "output_type": "execute_result",
          "data": {
            "text/plain": [
              "tensor([    3,  2092,     8, 32099,    97,  2835,    38,     8, 32098,     3,\n",
              "        24637,     3,     6,  1288,    17,  3868,  4116,    17,   159, 32097,\n",
              "        32096,    45, 32095,     3,  3844,    77,  2871, 32094, 32093,  1179,\n",
              "            3,     5,   216, 32092,   112,   166,   456,    13,     8,   774,\n",
              "          581, 32091,  5053,   272, 23162,     3,     6,  5489,   204,     3,\n",
              "          104,   209, 32090, 32089,  4279,   670,     3,     5,  1051,  2590,\n",
              "         2925,     1,     0,     0,     0,     0,     0,     0,     0,     0,\n",
              "            0,     0,     0,     0,     0,     0,     0,     0,     0,     0,\n",
              "            0,     0,     0,     0,     0,     0,     0,     0,     0,     0,\n",
              "            0,     0,     0,     0,     0,     0,     0,     0,     0,     0,\n",
              "            0,     0,     0,     0,     0,     0,     0,     0,     0,     0,\n",
              "            0,     0,     0,     0,     0,     0,     0,     0,     0,     0,\n",
              "            0,     0,     0,     0,     0,     0,     0,     0])"
            ]
          },
          "metadata": {
            "tags": []
          },
          "execution_count": 24
        }
      ]
    },
    {
      "cell_type": "code",
      "metadata": {
        "colab": {
          "base_uri": "https://localhost:8080/"
        },
        "id": "ktOQTl4a7H_y",
        "outputId": "e08f845f-a3df-4ad1-b59e-0c8060413699"
      },
      "source": [
        "print(dataset.tokenizer.additional_special_tokens_ids[:3])\n",
        "print(dataset.tokenizer.additional_special_tokens[:3])"
      ],
      "execution_count": 25,
      "outputs": [
        {
          "output_type": "stream",
          "text": [
            "[32099, 32098, 32097]\n",
            "['<extra_id_0>', '<extra_id_1>', '<extra_id_2>']\n"
          ],
          "name": "stdout"
        }
      ]
    },
    {
      "cell_type": "markdown",
      "metadata": {
        "id": "-Ig3iVczIlAX"
      },
      "source": [
        "## Funções de Geração de texto"
      ]
    },
    {
      "cell_type": "code",
      "metadata": {
        "id": "XUajv6MjGk0b"
      },
      "source": [
        "def greedy_generate(model,\n",
        "                    tokenizer,\n",
        "                    embeddings,\n",
        "                    device,\n",
        "                    max_sentence_length: int = 128):\n",
        "    \"\"\"\n",
        "    Realiza a geração de texto usando a técnica Greedy.\n",
        "    Este método foi construído para superar algumas limitações de uso do \n",
        "    método generate dos transformers por conta do uso de um encoder\n",
        "    de imagem.\n",
        "    \"\"\"\n",
        "    eos_token_id = tokenizer.eos_token_id\n",
        "    pad_token_id = tokenizer.pad_token_id\n",
        "    start_token_id = model.decoder.config.decoder_start_token_id\n",
        "\n",
        "    decoded_ids = torch.full(\n",
        "        (embeddings.shape[0], 1), # Shape = (Batch Size, 1)\n",
        "        start_token_id,\n",
        "        dtype=torch.long, device=device)\n",
        "\n",
        "    t5_encoder_outputs = model.get_encoder()(\n",
        "        inputs_embeds=embeddings)\n",
        "\n",
        "    for step in range(1, max_sentence_length):\n",
        "        output = model(\n",
        "            decoder_input_ids=decoded_ids,\n",
        "            encoder_outputs=t5_encoder_outputs)\n",
        "\n",
        "        logits = output.logits\n",
        "\n",
        "        next_token_logits = logits[:, -1, :]\n",
        "        next_token_id = torch.argmax(next_token_logits, dim=-1).unsqueeze(-1)\n",
        "\n",
        "        decoded_ids = torch.cat([decoded_ids, next_token_id], dim=-1)\n",
        "\n",
        "        if torch.eq(next_token_id, eos_token_id).all():\n",
        "            break  # Early stop, when all sentences reached the end\n",
        "    \n",
        "    return decoded_ids"
      ],
      "execution_count": 26,
      "outputs": []
    },
    {
      "cell_type": "markdown",
      "metadata": {
        "id": "1LjIuVEPh-j3"
      },
      "source": [
        "## Métricas"
      ]
    },
    {
      "cell_type": "markdown",
      "metadata": {
        "id": "WWy7ZZx3iAIe"
      },
      "source": [
        "Usar as funções abaixo para calcular as métricas (exact match e F1):"
      ]
    },
    {
      "cell_type": "code",
      "metadata": {
        "id": "1HUKlFXhiFfJ"
      },
      "source": [
        "import collections\n",
        "\n",
        "def normalize_answer(s):\n",
        "    \"\"\"Lower text and remove extra whitespace.\"\"\"\n",
        "\n",
        "    def white_space_fix(text):\n",
        "        return ' '.join(text.split())\n",
        "\n",
        "    def lower(text):\n",
        "        return text.lower()\n",
        "\n",
        "    return white_space_fix(lower(s))\n",
        "\n",
        "\n",
        "def get_tokens(s):\n",
        "    if not s: return []\n",
        "    return normalize_answer(s).split()\n",
        "\n",
        "\n",
        "def compute_exact(a_gold, a_pred):\n",
        "    return int(normalize_answer(a_gold) == normalize_answer(a_pred))\n",
        "\n",
        "\n",
        "def compute_f1(a_gold, a_pred):\n",
        "    gold_toks = get_tokens(a_gold)\n",
        "    pred_toks = get_tokens(a_pred)\n",
        "    common = collections.Counter(gold_toks) & collections.Counter(pred_toks)\n",
        "    num_same = sum(common.values())\n",
        "    if len(gold_toks) == 0 or len(pred_toks) == 0:\n",
        "        # If either is no-answer, then F1 is 1 if they agree, 0 otherwise\n",
        "        return int(gold_toks == pred_toks)\n",
        "    if num_same == 0:\n",
        "        return 0\n",
        "    precision = 1.0 * num_same / len(pred_toks)\n",
        "    recall = 1.0 * num_same / len(gold_toks)\n",
        "    f1 = (2 * precision * recall) / (precision + recall)\n",
        "    return f1\n",
        "\n",
        "\n",
        "def extract_masked_tokens(text):\n",
        "    matches = re.findall(r'<(extra_id_\\d+)>\\s*([^\\<]+)\\s*', text)\n",
        "    return set([f'{k}={v.strip()}' for k, v in matches])\n",
        "\n",
        "\n",
        "def accuracy(predicted, expected):\n",
        "    predicted_set = extract_masked_tokens(predicted)\n",
        "    expected_set = extract_masked_tokens(expected)    \n",
        "\n",
        "    if not predicted_set and not expected_set:\n",
        "        return 1.0  # Tanto previsão quanto expectativa são conjuntos vazios\n",
        "                    # Então assumo que o modelo acertou\n",
        "\n",
        "    total = max(len(predicted_set), len(expected_set))\n",
        "\n",
        "    return len(predicted_set & expected_set) / total"
      ],
      "execution_count": 27,
      "outputs": []
    },
    {
      "cell_type": "code",
      "metadata": {
        "id": "mUQtuC31mJ_Z",
        "colab": {
          "base_uri": "https://localhost:8080/"
        },
        "outputId": "c08f19f4-abe1-40dd-8328-9efa2c817a7d"
      },
      "source": [
        "compute_f1(a_gold='He likes pizza', a_pred='she likes pizza')"
      ],
      "execution_count": 28,
      "outputs": [
        {
          "output_type": "execute_result",
          "data": {
            "text/plain": [
              "0.6666666666666666"
            ]
          },
          "metadata": {
            "tags": []
          },
          "execution_count": 28
        }
      ]
    },
    {
      "cell_type": "code",
      "metadata": {
        "id": "Lkei98sdmgxJ",
        "colab": {
          "base_uri": "https://localhost:8080/"
        },
        "outputId": "78835ae2-9ad0-44d2-f8b6-5b52add56bee"
      },
      "source": [
        "compute_exact(a_gold='He likes pizza', a_pred='she likes pizza')"
      ],
      "execution_count": 29,
      "outputs": [
        {
          "output_type": "execute_result",
          "data": {
            "text/plain": [
              "0"
            ]
          },
          "metadata": {
            "tags": []
          },
          "execution_count": 29
        }
      ]
    },
    {
      "cell_type": "code",
      "metadata": {
        "colab": {
          "base_uri": "https://localhost:8080/"
        },
        "id": "C9nUMpP3vf2O",
        "outputId": "1127ab97-022f-44d2-968e-0a5dce4caf64"
      },
      "source": [
        "predicted = (\n",
        "    '<extra_id_0> is <extra_id_1> transitional <extra_id_2> zones '\n",
        "    '<extra_id_3> a <extra_id_4> in my city <extra_id_5> in my city')\n",
        "\n",
        "expected = (\n",
        "    '<extra_id_0> a <extra_id_1> transitional <extra_id_2> zones '\n",
        "    '<extra_id_3> a <extra_id_4> in my city')\n",
        "\n",
        "accuracy(predicted, expected)"
      ],
      "execution_count": 30,
      "outputs": [
        {
          "output_type": "execute_result",
          "data": {
            "text/plain": [
              "0.6666666666666666"
            ]
          },
          "metadata": {
            "tags": []
          },
          "execution_count": 30
        }
      ]
    },
    {
      "cell_type": "markdown",
      "metadata": {
        "id": "JYZcW1aC83Oo"
      },
      "source": [
        "## Modelo"
      ]
    },
    {
      "cell_type": "code",
      "metadata": {
        "id": "w4GDeM5J78RR"
      },
      "source": [
        "class ImageEmbedding(nn.Module):\n",
        "    \"\"\" Inspired by UNITER UniterImageEmbeddings. \"\"\"\n",
        "\n",
        "    def __init__(self,\n",
        "                 hidden_size: int,\n",
        "                 patches_size: Tuple[int, int] = (16, 16),\n",
        "                 hidden_dropout_prob: float = 0.1):\n",
        "        super().__init__()\n",
        "\n",
        "        img_dim = patches_size[0] * patches_size[1]\n",
        "\n",
        "        self.img_linear = nn.Linear(img_dim, hidden_size)\n",
        "        self.LayerNorm = nn.LayerNorm(hidden_size, eps=1e-12)\n",
        "        self.dropout = nn.Dropout(hidden_dropout_prob)\n",
        "\n",
        "    def forward(self, patches):\n",
        "        batch_size = patches.shape[0]\n",
        "        seq_length = patches.shape[1]\n",
        "\n",
        "        img_feat = patches.reshape(batch_size, seq_length, -1)\n",
        "\n",
        "        image_embeddings = self.LayerNorm(self.img_linear(img_feat))\n",
        "        image_embeddings = self.dropout(image_embeddings)\n",
        "        \n",
        "        return image_embeddings"
      ],
      "execution_count": 31,
      "outputs": []
    },
    {
      "cell_type": "code",
      "metadata": {
        "id": "81j_RGfF9z36",
        "colab": {
          "base_uri": "https://localhost:8080/"
        },
        "outputId": "ec4321c6-51ba-4128-cae2-4dc2669d0c3f"
      },
      "source": [
        "img_emb = ImageEmbedding(768)\n",
        "image, _ = generate_image_from_text('this is just a test for image patching', (256, 256))\n",
        "patches = extract_patches(image, 16, 16).unsqueeze(0)\n",
        "\n",
        "embeddings = img_emb(patches)\n",
        "print(embeddings.shape)\n",
        "\n",
        "del img_emb\n",
        "del embeddings"
      ],
      "execution_count": 32,
      "outputs": [
        {
          "output_type": "stream",
          "text": [
            "torch.Size([1, 256, 768])\n"
          ],
          "name": "stdout"
        }
      ]
    },
    {
      "cell_type": "code",
      "metadata": {
        "id": "5qMcX1aLCiRm"
      },
      "source": [
        "class JointEmbedder(nn.Module):\n",
        "    def __init__(self,\n",
        "                 base_model: T5Model,\n",
        "                 patches_size: Tuple[int, int] = (16, 16)):\n",
        "        super().__init__()\n",
        "\n",
        "        hidden_size = base_model.config.d_model\n",
        "\n",
        "        self.image_embedder = ImageEmbedding(\n",
        "            hidden_size,\n",
        "            patches_size,\n",
        "            getattr(base_model.config, 'dropout_rate', 0.1))\n",
        "        \n",
        "        self.text_embedder = base_model.get_input_embeddings()\n",
        "\n",
        "        self.token_types_embedding = nn.Embedding(2, hidden_size)\n",
        "\n",
        "    def forward(self, patches, masked_input_ids):\n",
        "        batch_size, img_seq_length = patches.shape[:2]\n",
        "\n",
        "        image_embeddings = self.image_embedder(patches)\n",
        "        text_embeddings = self.text_embedder(masked_input_ids)\n",
        "\n",
        "        image_token_types = torch.zeros(\n",
        "            batch_size,\n",
        "            img_seq_length,\n",
        "            dtype=torch.long,\n",
        "            device=patches.device)\n",
        "\n",
        "        text_token_types = torch.ones(\n",
        "            batch_size,\n",
        "            masked_input_ids.shape[1],\n",
        "            dtype=torch.long,\n",
        "            device=patches.device)\n",
        "\n",
        "        token_types = torch.cat((image_token_types, text_token_types), dim=1)\n",
        "        token_type_embeddings = self.token_types_embedding(token_types)\n",
        "\n",
        "        input_embeddings = torch.cat((image_embeddings, text_embeddings), dim=1)\n",
        "        input_embeddings = input_embeddings + token_type_embeddings\n",
        "\n",
        "        return input_embeddings"
      ],
      "execution_count": 33,
      "outputs": []
    },
    {
      "cell_type": "code",
      "metadata": {
        "colab": {
          "base_uri": "https://localhost:8080/",
          "height": 237,
          "referenced_widgets": [
            "9e3fc00b626040db95f47bf7a7700d39",
            "b3e704eef1954b86b15db49975938693",
            "8a975383afaa477387a65bdff6c66b65",
            "b8a6c2b092354cd3b36a8e3689db2cff",
            "5005f952fd7045eda814af06cb228e52",
            "aa989882aaed445ba9655c6370833b7a",
            "37316fe32fdd47c799ebe928b121ddd1",
            "af60a2c1f3544f2b885a30f1e4211da1",
            "3fa2ea5e926f4f449beae1ea8260c2c3",
            "0f8ee77f9d7c4ca8b6f4a13daf4278b2",
            "10288c9e21c942aab679533d6505989e",
            "95f0607a18a846beac1a6b229f60a39e",
            "7fc3ad48eca3408f86ec6494e393f21a",
            "cf4eac5d8d8349bb95308442767b8838",
            "69c47c5a31b64c5ea5748c69deffdb89",
            "1732a949747a4c2183f20e3107412127"
          ]
        },
        "id": "ohO9GJbYEWl5",
        "outputId": "767e2831-6793-4825-fa42-8ff964e35739"
      },
      "source": [
        "t5_demo = T5Model.from_pretrained('t5-base')\n",
        "joint_embedder = JointEmbedder(t5_demo)\n",
        "\n",
        "tokens = demo_sample['masked_input_ids'].unsqueeze(0)  # Batch Size\n",
        "embeddings = joint_embedder(patches, tokens)\n",
        "\n",
        "print('Patches', patches.shape)  # a primeira dimensão seria o Canal, mas trabalho apenas com 1 (GrayScale), portanto posso usar como batch\n",
        "print('Tokens', tokens.shape)\n",
        "\n",
        "print(embeddings.shape)\n",
        "\n",
        "del joint_embedder\n",
        "del embeddings\n",
        "del t5_demo"
      ],
      "execution_count": 34,
      "outputs": [
        {
          "output_type": "display_data",
          "data": {
            "application/vnd.jupyter.widget-view+json": {
              "model_id": "9e3fc00b626040db95f47bf7a7700d39",
              "version_minor": 0,
              "version_major": 2
            },
            "text/plain": [
              "HBox(children=(FloatProgress(value=0.0, description='Downloading', max=1199.0, style=ProgressStyle(description…"
            ]
          },
          "metadata": {
            "tags": []
          }
        },
        {
          "output_type": "stream",
          "text": [
            "\n"
          ],
          "name": "stdout"
        },
        {
          "output_type": "display_data",
          "data": {
            "application/vnd.jupyter.widget-view+json": {
              "model_id": "3fa2ea5e926f4f449beae1ea8260c2c3",
              "version_minor": 0,
              "version_major": 2
            },
            "text/plain": [
              "HBox(children=(FloatProgress(value=0.0, description='Downloading', max=891691430.0, style=ProgressStyle(descri…"
            ]
          },
          "metadata": {
            "tags": []
          }
        },
        {
          "output_type": "stream",
          "text": [
            "\n"
          ],
          "name": "stdout"
        },
        {
          "output_type": "stream",
          "text": [
            "Some weights of the model checkpoint at t5-base were not used when initializing T5Model: ['decoder.block.0.layer.1.EncDecAttention.relative_attention_bias.weight']\n",
            "- This IS expected if you are initializing T5Model from the checkpoint of a model trained on another task or with another architecture (e.g. initializing a BertForSequenceClassification model from a BertForPreTraining model).\n",
            "- This IS NOT expected if you are initializing T5Model from the checkpoint of a model that you expect to be exactly identical (initializing a BertForSequenceClassification model from a BertForSequenceClassification model).\n"
          ],
          "name": "stderr"
        },
        {
          "output_type": "stream",
          "text": [
            "Patches torch.Size([1, 256, 16, 16])\n",
            "Tokens torch.Size([1, 128])\n",
            "torch.Size([1, 384, 768])\n"
          ],
          "name": "stdout"
        }
      ]
    },
    {
      "cell_type": "code",
      "metadata": {
        "id": "BANi3O6mEavm"
      },
      "source": [
        "class PreTrainModel(pl.LightningModule):\n",
        "    def __init__(self,\n",
        "                 model_name: str,\n",
        "                 patches_size: Tuple[int, int],\n",
        "                 learning_rate: float,\n",
        "                 generator_function_name: str = 'greedy_generate',\n",
        "                 max_sentence_length: int = 128,\n",
        "                 **kwargs):\n",
        "\n",
        "        super().__init__()\n",
        "\n",
        "        self.save_hyperparameters()\n",
        "\n",
        "        t5_model = T5ForConditionalGeneration.from_pretrained(model_name)\n",
        "        \n",
        "        self.transformer = t5_model\n",
        "        self.embedder = JointEmbedder(self.transformer, patches_size)\n",
        "        \n",
        "        self.generate = globals()[generator_function_name]\n",
        "        self.tokenizer = T5TokenizerFast.from_pretrained(model_name)\n",
        "        \n",
        "    def forward(self, patches, masked_input_ids, masked_labels, **kwargs):\n",
        "        embeddings = self.embedder(patches, masked_input_ids)\n",
        "\n",
        "        if self.training:\n",
        "            labels = masked_labels.masked_fill(\n",
        "                masked_labels == self.tokenizer.pad_token_id,\n",
        "                -100)\n",
        "\n",
        "            output = self.transformer(inputs_embeds=embeddings,\n",
        "                                      labels=labels,\n",
        "                                      return_dict=True)\n",
        "            \n",
        "            return output.loss\n",
        "        else:\n",
        "            return self.generate(self.transformer,\n",
        "                                 self.tokenizer,\n",
        "                                 embeddings,\n",
        "                                 self.device,\n",
        "                                 self.hparams.max_sentence_length)\n",
        "            \n",
        "    def configure_optimizers(self):\n",
        "        return torch.optim.AdamW(self.parameters(), self.hparams.learning_rate)\n",
        "\n",
        "    def training_step(self, batch, batch_idx):\n",
        "        loss = self(**batch)\n",
        "\n",
        "        self.log('train_loss', loss)\n",
        "\n",
        "        return loss\n",
        "\n",
        "    def validation_step(self, batch, batch_idx):\n",
        "        return self._evaluation_step(batch, batch_idx)\n",
        "\n",
        "    def validation_epoch_end(self, outputs):\n",
        "        return self._evaluation_epoch_end(outputs, 'val')\n",
        "\n",
        "    def test_step(self, batch, batch_idx):\n",
        "        return self._evaluation_step(batch, batch_idx)\n",
        "\n",
        "    def test_epoch_end(self, outputs):\n",
        "        return self._evaluation_epoch_end(outputs, 'test')\n",
        "\n",
        "    def _evaluation_step(self, batch, batch_idx):\n",
        "        predicted = self(**batch)\n",
        "        expected = batch['masked_original']\n",
        "\n",
        "        predicted_texts = decode_sentence_batch(self.tokenizer, predicted)\n",
        "        \n",
        "        return {'predicted': predicted_texts, 'actual': expected}\n",
        "\n",
        "    def _evaluation_epoch_end(self, outputs, prefix='val'):\n",
        "        predicted = [o for bouts in outputs for o in bouts['predicted']]\n",
        "        actual = [o for bouts in outputs for o in bouts['actual']]\n",
        "\n",
        "        f1_by_sample = [compute_f1(a, p) for a, p in zip(predicted, actual)]\n",
        "        em_by_sample = [compute_exact(a, p) for a, p in zip(predicted, actual)]\n",
        "        ac_by_sample = [accuracy(a, p) for a, p in zip(predicted, actual)]\n",
        "\n",
        "        sample_idx = sample(range(len(predicted)), 5)\n",
        "        \n",
        "        if self.current_epoch % 2 == 0:\n",
        "            for i in sample_idx:\n",
        "                self.logger.experiment.log_text(\n",
        "                    'predictions',\n",
        "                    f'Actual: {actual[i]}. Predicted: {predicted[i]}.')\n",
        "\n",
        "        f1 = 100 * (sum(f1_by_sample) / len(f1_by_sample))\n",
        "        em = 100 * (sum(em_by_sample) / len(em_by_sample))\n",
        "        ac = 100 * (sum(ac_by_sample) / len(ac_by_sample))\n",
        "\n",
        "        self.log(f'{prefix}_f1', torch.tensor(f1))\n",
        "        self.log(f'{prefix}_em', torch.tensor(em))\n",
        "        self.log(f'{prefix}_accuracy', torch.tensor(ac))"
      ],
      "execution_count": 35,
      "outputs": []
    },
    {
      "cell_type": "markdown",
      "metadata": {
        "id": "YtubcGtyKOVx"
      },
      "source": [
        "## Teste do Modelo"
      ]
    },
    {
      "cell_type": "code",
      "metadata": {
        "id": "bL0TqpPwKPjf"
      },
      "source": [
        "if TEST_MODEL or OVERFIT_ONE_BATCH:\n",
        "    train_dataset = WikiTextPreTrainDataset((256, 256), 't5-base')\n",
        "    model_for_testing = PreTrainModel('t5-base', (16, 16), 1e-4)\n",
        "    trainer = pl.Trainer(gpus=1, fast_dev_run=True)\n",
        "\n",
        "    loader = DataLoader(train_dataset, batch_size=8, shuffle=False)\n",
        "\n",
        "    try:\n",
        "        trainer.fit(model_for_testing, loader)\n",
        "    finally:\n",
        "        del model_for_testing"
      ],
      "execution_count": 36,
      "outputs": []
    },
    {
      "cell_type": "markdown",
      "metadata": {
        "id": "XHUdEm7WkHto"
      },
      "source": [
        "## Overfit em 1 Batch"
      ]
    },
    {
      "cell_type": "code",
      "metadata": {
        "id": "OF5HJdEbgIyJ"
      },
      "source": [
        "if OVERFIT_ONE_BATCH:\n",
        "    model_for_testing = PreTrainModel('t5-base', (16, 16), 1e-4)\n",
        "    trainer = pl.Trainer(gpus=1, overfit_batches=1, max_epochs=10)\n",
        "\n",
        "    try:\n",
        "        trainer.fit(model_for_testing, loader)\n",
        "    finally:\n",
        "        del model_for_testing"
      ],
      "execution_count": 37,
      "outputs": []
    },
    {
      "cell_type": "markdown",
      "metadata": {
        "id": "MnbLF4Q6kKdS"
      },
      "source": [
        "## Treino"
      ]
    },
    {
      "cell_type": "markdown",
      "metadata": {
        "id": "Gq97DoLXlhCi"
      },
      "source": [
        "### Parâmetros de treino"
      ]
    },
    {
      "cell_type": "code",
      "metadata": {
        "id": "wZT9qqsCkLd5"
      },
      "source": [
        "train_params = {\n",
        "    'seed': 42,\n",
        "    'image_width': 256,\n",
        "    'image_height': 512,\n",
        "    'patches_size': (16, 16),\n",
        "    'max_patches': 256,\n",
        "    'target_max_length': 128,\n",
        "    'max_sentence_length': 128,\n",
        "    'model_name': 't5-base',\n",
        "    'learning_rate': 1e-4,\n",
        "    'max_epochs': 10,\n",
        "    'precision': 32,\n",
        "    'gpus': 1,\n",
        "    'dataset_size': 128000,\n",
        "    'train_split': 102400,\n",
        "    'val_split': 25600,\n",
        "    'batch_size': 8\n",
        "}"
      ],
      "execution_count": 38,
      "outputs": []
    },
    {
      "cell_type": "code",
      "metadata": {
        "colab": {
          "base_uri": "https://localhost:8080/"
        },
        "id": "O-c702K8twgK",
        "outputId": "40767837-44a7-4f94-fe81-75fff20f8a00"
      },
      "source": [
        "pl.seed_everything(train_params['seed'])"
      ],
      "execution_count": 39,
      "outputs": [
        {
          "output_type": "execute_result",
          "data": {
            "text/plain": [
              "42"
            ]
          },
          "metadata": {
            "tags": []
          },
          "execution_count": 39
        }
      ]
    },
    {
      "cell_type": "markdown",
      "metadata": {
        "id": "NXIK33IUli_d"
      },
      "source": [
        "### Checkpoints"
      ]
    },
    {
      "cell_type": "code",
      "metadata": {
        "colab": {
          "base_uri": "https://localhost:8080/"
        },
        "id": "rVnin33qlnIt",
        "outputId": "cd553c66-72ac-4969-9c53-b2e8ab6a4718"
      },
      "source": [
        "CHECKPOINTS_PATH = './drive/My Drive/IA376J/checkpoints/uniter-for-sroie-final'\n",
        "CHECKPOINTS_FILE_PREFIX = 'pretreino-uniter-'\n",
        "CHECKPOINTS_FILE_NAME = CHECKPOINTS_FILE_PREFIX + '{epoch:02d}-{val_em:.2f}-{val_f1:.2f}'\n",
        "\n",
        "\n",
        "# Make sure checkoint path is there\n",
        "os.makedirs(CHECKPOINTS_PATH, exist_ok=True)\n",
        "\n",
        "\n",
        "def sort_by_epoch(path):\n",
        "    return re.findall(r'epoch=([0-9]+)', str(path))[0]\n",
        "\n",
        "\n",
        "if os.path.exists(os.path.join(CHECKPOINTS_PATH, 'last.ckpt')):\n",
        "    resume_from_checkpoint = os.path.join(CHECKPOINTS_PATH, 'last.ckpt')\n",
        "else:    \n",
        "    available_checkpoints = Path(CHECKPOINTS_PATH).glob(f'{CHECKPOINTS_FILE_PREFIX}*.ckpt')\n",
        "    available_checkpoints = sorted(available_checkpoints, key=sort_by_epoch, reverse=True)\n",
        "    resume_from_checkpoint = next((str(x) for x in available_checkpoints), None)\n",
        "\n",
        "print('Resuming from Checkpoint:', resume_from_checkpoint)"
      ],
      "execution_count": 40,
      "outputs": [
        {
          "output_type": "stream",
          "text": [
            "Resuming from Checkpoint: ./drive/My Drive/IA376J/checkpoints/uniter-for-sroie-final/last.ckpt\n"
          ],
          "name": "stdout"
        }
      ]
    },
    {
      "cell_type": "code",
      "metadata": {
        "id": "lqEcZmHgms_7"
      },
      "source": [
        "model_checkpoint = pl.callbacks.ModelCheckpoint(\n",
        "    dirpath=CHECKPOINTS_PATH,\n",
        "    filename=CHECKPOINTS_FILE_NAME,\n",
        "    save_last=True,\n",
        "    monitor='val_accuracy',\n",
        "    mode='max')"
      ],
      "execution_count": 41,
      "outputs": []
    },
    {
      "cell_type": "markdown",
      "metadata": {
        "id": "1fOh60aSnZ7L"
      },
      "source": [
        "### Logger"
      ]
    },
    {
      "cell_type": "code",
      "metadata": {
        "colab": {
          "base_uri": "https://localhost:8080/"
        },
        "id": "g2eR_Tfqna21",
        "outputId": "15159d22-447b-4504-c35e-8bb3453a44c8"
      },
      "source": [
        "neptune_logger = pl.loggers.NeptuneLogger(\n",
        "    api_key=NEPTUNE_API_KEY,\n",
        "    project_name=NEPTUNE_PROJECT,\n",
        "    experiment_name='sroie-pretrain-uniterbased',\n",
        "    params=train_params,\n",
        "    experiment_id='SROIE-2')"
      ],
      "execution_count": 42,
      "outputs": [
        {
          "output_type": "stream",
          "text": [
            "NeptuneLogger will work in online mode\n"
          ],
          "name": "stderr"
        }
      ]
    },
    {
      "cell_type": "markdown",
      "metadata": {
        "id": "FPbyvelYng-c"
      },
      "source": [
        "### Dados de treino e validação"
      ]
    },
    {
      "cell_type": "code",
      "metadata": {
        "colab": {
          "base_uri": "https://localhost:8080/"
        },
        "id": "vkvIKr5Unirw",
        "outputId": "5eb48bce-8dbd-4e2c-b398-b5b1d0f99378"
      },
      "source": [
        "dataset = WikiTextPreTrainDataset(\n",
        "    (train_params['image_width'], train_params['image_height']),\n",
        "    train_params['model_name'],\n",
        "    patches_size=train_params['patches_size'],\n",
        "    dataset_size=train_params['dataset_size'],\n",
        "    max_patches=train_params['max_patches'])\n",
        "\n",
        "train_ds, val_ds = random_split(dataset,\n",
        "                                (train_params['train_split'],\n",
        "                                 train_params['val_split']))\n",
        "\n",
        "train_loader = DataLoader(train_ds,\n",
        "                          batch_size=train_params['batch_size'],\n",
        "                          shuffle=True,\n",
        "                          num_workers=4)\n",
        "\n",
        "val_loader = DataLoader(val_ds,\n",
        "                        batch_size=train_params['batch_size'],\n",
        "                        shuffle=False,\n",
        "                        num_workers=4)"
      ],
      "execution_count": 43,
      "outputs": [
        {
          "output_type": "stream",
          "text": [
            "Reusing dataset wikitext (/root/.cache/huggingface/datasets/wikitext/wikitext-103-v1/1.0.0/47c57a6745aa5ce8e16a5355aaa4039e3aa90d1adad87cef1ad4e0f29e74ac91)\n",
            "Loading cached processed dataset at /root/.cache/huggingface/datasets/wikitext/wikitext-103-v1/1.0.0/47c57a6745aa5ce8e16a5355aaa4039e3aa90d1adad87cef1ad4e0f29e74ac91/cache-10a9b3a5bb4d7bf1.arrow\n"
          ],
          "name": "stderr"
        }
      ]
    },
    {
      "cell_type": "markdown",
      "metadata": {
        "id": "MTy535WJoQAy"
      },
      "source": [
        "### Treinando\n"
      ]
    },
    {
      "cell_type": "code",
      "metadata": {
        "colab": {
          "base_uri": "https://localhost:8080/",
          "height": 1000,
          "referenced_widgets": [
            "844a922a556044c699100d7c1531efba",
            "92f8e0a02a994ea98182979eb9646bbb",
            "d7961a283a6543cf8501d61d386e00ed",
            "9eaaf9124a294535acddd72620d66c6d",
            "82e7dcb5fc554418ae97035cdc4e14f0",
            "1016a433593145c3bf1e722065673fe8",
            "856cacad49de4a158d4cbce6e9778815",
            "bd20a6aa556b451a8b4c6807947e0c92",
            "69387d3d54b5437eb9c4505d61497d89",
            "2b7294a134444735b263be26c19c37a4",
            "c784adda4106409a91e5c6d6672d2f30",
            "5a925f71a519404c8ae8e5d2951e35a6",
            "0d1480ecafb64bdab468cd053746d20a",
            "6cc5a484e2ab495e9150d63144000aec",
            "7e7a9e4066b740f6a76d902975d74d47",
            "be7cd6eecbd44c7c94dafca972b37c27",
            "bb568686584e4ce1aebbc5a5a3a4d02a",
            "d462b5ba32ba40fc9a0f82b0fbfb2967",
            "54fc595b8d1a4d2d9d8cedf6673e4b34",
            "42c2eb299bf54514a7d57a04d0c91e41",
            "e897b8d10e8641b4ad5cb5df6cf4a558",
            "b7ea7d8f9e5f4dcf9ee7c5f948ff6ade",
            "b0d7c814d816414abe3c9e698e459f1a",
            "a2f6ed20ff7341da9031efbe5186aa35",
            "a69fe542de9c485cb387da8f6a7b79c0",
            "02860ab7988b416c93af5dd31cc9c345",
            "12d9910025054977bf8dc60fac342e79",
            "ebbc3c6dcb2e434ca534f296b3bbf0f6",
            "44b3b4499be249b7a527b58d88b1e614",
            "cd4a2c576f474f82a765f77eece01f78",
            "371b6d9d754441fc8897fdd3b8558452",
            "5c19614597a24bf889f7a99644b7d25a",
            "6cc020fbbc5d497c9c7efc462523c8ce",
            "e599199a94944234b13223f0f12eb08c",
            "b7ef5618672145b18e464487e39bc3e9",
            "5ca75f0a3e9f4e439d73ca496c94f9df",
            "c023467b4f0d4aaf8a50e3c933d31b63",
            "5c5435e251cf483a8eaa0147e08dc66f",
            "0b45ecbd73024cbc8b416061fc1aecbe",
            "6eee89ed46c34b259d4689ae497f26ea",
            "621227d280644ff888639dbbd4eca262",
            "958e0e5d39f3496f877b37a89b659fae",
            "ec349ecda57f4b5aa06dcb8f91b5b646",
            "3bd9b0cca55c40318a286d4910c8e0e7",
            "274f2d04cdc0481db9e50a520fe7d435",
            "a664c307b372402dad41a796d6874359",
            "20d824adb5424dfaa7e086865aa8365b",
            "0dfa16f7f51744e4a1ea6779d914c8ab",
            "c5474dbe3f594bc2b7d3dc262ae17843",
            "67046e60426f4435b3f4a5d3e96d9f43",
            "b8a47c5771e942fb823463a71bb98ad3",
            "5a18fa8c0eb54b88b716bdf1ec1bf415",
            "7740aa88ebd84333b31975799afe285b",
            "45688b77322741ddbb68b4dc7b416ad5",
            "5f6f009bc8d6416a9f604ee6d4c1c703",
            "b72b7352daa04c6b832829cab79f0ad2",
            "af857b97e9a349bea5180ed77025011d",
            "c8beecf126b249539b8a6fc7a6dc7070",
            "0b79ddf973024179895204edde6b9fc5",
            "fcefb5b33a44443c8605c97bb9d5f724",
            "4b6c21846c2f425995a31cbf20c83662",
            "b982f24ba9ba49dc81d537ed635c2b38",
            "9149ab476d174e19bf1312db0a244f8c",
            "bbad78dcd308409fadd64afdcdd99535",
            "11433fb9bdc3416d9cab77df7f4756d2",
            "75be46050c864c8a978f913ac1cd428e",
            "62ac3823f3cc42e4aa52563043f25dee",
            "773e0b482a694f56b8cffca13e4fb851",
            "1810efee3e084a22acbeaa8c484f9bba",
            "5f8b0c6ba23c4b9a9ff292241b958b68",
            "281754c318d54aa39f97889c2c51b67a",
            "c99edfffac764ace968df074d0cfedaf"
          ]
        },
        "id": "D4Qbye1koS_z",
        "outputId": "bd542350-c320-47e8-ee4c-ae53cf18c210"
      },
      "source": [
        "trainer = pl.Trainer.from_argparse_args(\n",
        "    Namespace(**train_params),\n",
        "    logger=neptune_logger,\n",
        "    progress_bar_refresh_rate=20,\n",
        "    resume_from_checkpoint=resume_from_checkpoint,\n",
        "    checkpoint_callback=model_checkpoint)\n",
        "\n",
        "model = PreTrainModel(**train_params)\n",
        "\n",
        "try:\n",
        "    trainer.fit(model, train_loader, val_loader)\n",
        "finally:\n",
        "    neptune_logger.experiment.stop()"
      ],
      "execution_count": 44,
      "outputs": [
        {
          "output_type": "stream",
          "text": [
            "GPU available: True, used: True\n",
            "TPU available: None, using: 0 TPU cores\n",
            "LOCAL_RANK: 0 - CUDA_VISIBLE_DEVICES: [0]\n",
            "Some weights of the model checkpoint at t5-base were not used when initializing T5ForConditionalGeneration: ['decoder.block.0.layer.1.EncDecAttention.relative_attention_bias.weight']\n",
            "- This IS expected if you are initializing T5ForConditionalGeneration from the checkpoint of a model trained on another task or with another architecture (e.g. initializing a BertForSequenceClassification model from a BertForPreTraining model).\n",
            "- This IS NOT expected if you are initializing T5ForConditionalGeneration from the checkpoint of a model that you expect to be exactly identical (initializing a BertForSequenceClassification model from a BertForSequenceClassification model).\n",
            "\n",
            "  | Name        | Type                       | Params\n",
            "-----------------------------------------------------------\n",
            "0 | transformer | T5ForConditionalGeneration | 222 M \n",
            "1 | embedder    | JointEmbedder              | 24.9 M\n",
            "-----------------------------------------------------------\n",
            "223 M     Trainable params\n",
            "0         Non-trainable params\n",
            "223 M     Total params\n",
            "Restored states from the checkpoint file at ./drive/My Drive/IA376J/checkpoints/uniter-for-sroie-final/last.ckpt\n"
          ],
          "name": "stderr"
        },
        {
          "output_type": "display_data",
          "data": {
            "application/vnd.jupyter.widget-view+json": {
              "model_id": "844a922a556044c699100d7c1531efba",
              "version_minor": 0,
              "version_major": 2
            },
            "text/plain": [
              "HBox(children=(FloatProgress(value=1.0, bar_style='info', description='Validation sanity check', layout=Layout…"
            ]
          },
          "metadata": {
            "tags": []
          }
        },
        {
          "output_type": "stream",
          "text": [
            "\r"
          ],
          "name": "stdout"
        },
        {
          "output_type": "display_data",
          "data": {
            "application/vnd.jupyter.widget-view+json": {
              "model_id": "69387d3d54b5437eb9c4505d61497d89",
              "version_minor": 0,
              "version_major": 2
            },
            "text/plain": [
              "HBox(children=(FloatProgress(value=1.0, bar_style='info', description='Training', layout=Layout(flex='2'), max…"
            ]
          },
          "metadata": {
            "tags": []
          }
        },
        {
          "output_type": "stream",
          "text": [
          ],
          "name": "stderr"
        },
        {
          "output_type": "display_data",
          "data": {
            "application/vnd.jupyter.widget-view+json": {
              "model_id": "6cc020fbbc5d497c9c7efc462523c8ce",
              "version_minor": 0,
              "version_major": 2
            },
            "text/plain": [
              "HBox(children=(FloatProgress(value=1.0, bar_style='info', description='Validating', layout=Layout(flex='2'), m…"
            ]
          },
          "metadata": {
            "tags": []
          }
        },
        {
          "output_type": "stream",
          "text": [
          ],
          "name": "stderr"
        },
        {
          "output_type": "display_data",
          "data": {
            "application/vnd.jupyter.widget-view+json": {
              "model_id": "621227d280644ff888639dbbd4eca262",
              "version_minor": 0,
              "version_major": 2
            },
            "text/plain": [
              "HBox(children=(FloatProgress(value=1.0, bar_style='info', description='Validating', layout=Layout(flex='2'), m…"
            ]
          },
          "metadata": {
            "tags": []
          }
        },
        {
          "output_type": "stream",
          "text": [
          ],
          "name": "stderr"
        },
        {
          "output_type": "display_data",
          "data": {
            "application/vnd.jupyter.widget-view+json": {
              "model_id": "c5474dbe3f594bc2b7d3dc262ae17843",
              "version_minor": 0,
              "version_major": 2
            },
            "text/plain": [
              "HBox(children=(FloatProgress(value=1.0, bar_style='info', description='Validating', layout=Layout(flex='2'), m…"
            ]
          },
          "metadata": {
            "tags": []
          }
        },
        {
          "output_type": "stream",
          "text": [
          ],
          "name": "stderr"
        },
        {
          "output_type": "display_data",
          "data": {
            "application/vnd.jupyter.widget-view+json": {
              "model_id": "af857b97e9a349bea5180ed77025011d",
              "version_minor": 0,
              "version_major": 2
            },
            "text/plain": [
              "HBox(children=(FloatProgress(value=1.0, bar_style='info', description='Validating', layout=Layout(flex='2'), m…"
            ]
          },
          "metadata": {
            "tags": []
          }
        },
        {
          "output_type": "stream",
          "text": [
          ],
          "name": "stderr"
        },
        {
          "output_type": "display_data",
          "data": {
            "application/vnd.jupyter.widget-view+json": {
              "model_id": "11433fb9bdc3416d9cab77df7f4756d2",
              "version_minor": 0,
              "version_major": 2
            },
            "text/plain": [
              "HBox(children=(FloatProgress(value=1.0, bar_style='info', description='Validating', layout=Layout(flex='2'), m…"
            ]
          },
          "metadata": {
            "tags": []
          }
        },
        {
          "output_type": "stream",
          "text": [
            "Saving latest checkpoint...\n"
          ],
          "name": "stderr"
        },
        {
          "output_type": "stream",
          "text": [
            "\n"
          ],
          "name": "stdout"
        },
        {
          "output_type": "stream",
          "text": [
          ],
          "name": "stderr"
        }
      ]
    }
  ]
}