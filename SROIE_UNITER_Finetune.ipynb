{
  "nbformat": 4,
  "nbformat_minor": 0,
  "metadata": {
    "colab": {
      "name": "SROIE_UNITER_Finetune.ipynb",
      "provenance": [],
      "collapsed_sections": [],
      "toc_visible": true,
      "machine_shape": "hm"
    },
    "kernelspec": {
      "name": "python3",
      "display_name": "Python 3"
    },
    "widgets": {
      "application/vnd.jupyter.widget-state+json": {
        "e0f43506d32a4de286a782c91337070d": {
          "model_module": "@jupyter-widgets/controls",
          "model_name": "HBoxModel",
          "state": {
            "_view_name": "HBoxView",
            "_dom_classes": [],
            "_model_name": "HBoxModel",
            "_view_module": "@jupyter-widgets/controls",
            "_model_module_version": "1.5.0",
            "_view_count": null,
            "_view_module_version": "1.5.0",
            "box_style": "",
            "layout": "IPY_MODEL_1a8414787bef48778a7b62e15209d137",
            "_model_module": "@jupyter-widgets/controls",
            "children": [
              "IPY_MODEL_c592eeb5d69d49a6ae535b385743afdf",
              "IPY_MODEL_02b10182d1064fc09200704d468b1eed"
            ]
          }
        },
        "1a8414787bef48778a7b62e15209d137": {
          "model_module": "@jupyter-widgets/base",
          "model_name": "LayoutModel",
          "state": {
            "_view_name": "LayoutView",
            "grid_template_rows": null,
            "right": null,
            "justify_content": null,
            "_view_module": "@jupyter-widgets/base",
            "overflow": null,
            "_model_module_version": "1.2.0",
            "_view_count": null,
            "flex_flow": "row wrap",
            "width": "100%",
            "min_width": null,
            "border": null,
            "align_items": null,
            "bottom": null,
            "_model_module": "@jupyter-widgets/base",
            "top": null,
            "grid_column": null,
            "overflow_y": null,
            "overflow_x": null,
            "grid_auto_flow": null,
            "grid_area": null,
            "grid_template_columns": null,
            "flex": null,
            "_model_name": "LayoutModel",
            "justify_items": null,
            "grid_row": null,
            "max_height": null,
            "align_content": null,
            "visibility": null,
            "align_self": null,
            "height": null,
            "min_height": null,
            "padding": null,
            "grid_auto_rows": null,
            "grid_gap": null,
            "max_width": null,
            "order": null,
            "_view_module_version": "1.2.0",
            "grid_template_areas": null,
            "object_position": null,
            "object_fit": null,
            "grid_auto_columns": null,
            "margin": null,
            "display": "inline-flex",
            "left": null
          }
        },
        "c592eeb5d69d49a6ae535b385743afdf": {
          "model_module": "@jupyter-widgets/controls",
          "model_name": "FloatProgressModel",
          "state": {
            "_view_name": "ProgressView",
            "style": "IPY_MODEL_6db017232fdf49b4aab43514eccca58d",
            "_dom_classes": [],
            "description": "Validation sanity check: 100%",
            "_model_name": "FloatProgressModel",
            "bar_style": "info",
            "max": 1,
            "_view_module": "@jupyter-widgets/controls",
            "_model_module_version": "1.5.0",
            "value": 1,
            "_view_count": null,
            "_view_module_version": "1.5.0",
            "orientation": "horizontal",
            "min": 0,
            "description_tooltip": null,
            "_model_module": "@jupyter-widgets/controls",
            "layout": "IPY_MODEL_72d56be143da488db7bf415c991acced"
          }
        },
        "02b10182d1064fc09200704d468b1eed": {
          "model_module": "@jupyter-widgets/controls",
          "model_name": "HTMLModel",
          "state": {
            "_view_name": "HTMLView",
            "style": "IPY_MODEL_6a1cb239bdc24c668a744c607b2e688a",
            "_dom_classes": [],
            "description": "",
            "_model_name": "HTMLModel",
            "placeholder": "​",
            "_view_module": "@jupyter-widgets/controls",
            "_model_module_version": "1.5.0",
            "value": " 2/2 [00:01&lt;00:00,  1.41it/s]",
            "_view_count": null,
            "_view_module_version": "1.5.0",
            "description_tooltip": null,
            "_model_module": "@jupyter-widgets/controls",
            "layout": "IPY_MODEL_69921481fce54b65a88da92016a741ef"
          }
        },
        "6db017232fdf49b4aab43514eccca58d": {
          "model_module": "@jupyter-widgets/controls",
          "model_name": "ProgressStyleModel",
          "state": {
            "_view_name": "StyleView",
            "_model_name": "ProgressStyleModel",
            "description_width": "initial",
            "_view_module": "@jupyter-widgets/base",
            "_model_module_version": "1.5.0",
            "_view_count": null,
            "_view_module_version": "1.2.0",
            "bar_color": null,
            "_model_module": "@jupyter-widgets/controls"
          }
        },
        "72d56be143da488db7bf415c991acced": {
          "model_module": "@jupyter-widgets/base",
          "model_name": "LayoutModel",
          "state": {
            "_view_name": "LayoutView",
            "grid_template_rows": null,
            "right": null,
            "justify_content": null,
            "_view_module": "@jupyter-widgets/base",
            "overflow": null,
            "_model_module_version": "1.2.0",
            "_view_count": null,
            "flex_flow": null,
            "width": null,
            "min_width": null,
            "border": null,
            "align_items": null,
            "bottom": null,
            "_model_module": "@jupyter-widgets/base",
            "top": null,
            "grid_column": null,
            "overflow_y": null,
            "overflow_x": null,
            "grid_auto_flow": null,
            "grid_area": null,
            "grid_template_columns": null,
            "flex": "2",
            "_model_name": "LayoutModel",
            "justify_items": null,
            "grid_row": null,
            "max_height": null,
            "align_content": null,
            "visibility": null,
            "align_self": null,
            "height": null,
            "min_height": null,
            "padding": null,
            "grid_auto_rows": null,
            "grid_gap": null,
            "max_width": null,
            "order": null,
            "_view_module_version": "1.2.0",
            "grid_template_areas": null,
            "object_position": null,
            "object_fit": null,
            "grid_auto_columns": null,
            "margin": null,
            "display": null,
            "left": null
          }
        },
        "6a1cb239bdc24c668a744c607b2e688a": {
          "model_module": "@jupyter-widgets/controls",
          "model_name": "DescriptionStyleModel",
          "state": {
            "_view_name": "StyleView",
            "_model_name": "DescriptionStyleModel",
            "description_width": "",
            "_view_module": "@jupyter-widgets/base",
            "_model_module_version": "1.5.0",
            "_view_count": null,
            "_view_module_version": "1.2.0",
            "_model_module": "@jupyter-widgets/controls"
          }
        },
        "69921481fce54b65a88da92016a741ef": {
          "model_module": "@jupyter-widgets/base",
          "model_name": "LayoutModel",
          "state": {
            "_view_name": "LayoutView",
            "grid_template_rows": null,
            "right": null,
            "justify_content": null,
            "_view_module": "@jupyter-widgets/base",
            "overflow": null,
            "_model_module_version": "1.2.0",
            "_view_count": null,
            "flex_flow": null,
            "width": null,
            "min_width": null,
            "border": null,
            "align_items": null,
            "bottom": null,
            "_model_module": "@jupyter-widgets/base",
            "top": null,
            "grid_column": null,
            "overflow_y": null,
            "overflow_x": null,
            "grid_auto_flow": null,
            "grid_area": null,
            "grid_template_columns": null,
            "flex": null,
            "_model_name": "LayoutModel",
            "justify_items": null,
            "grid_row": null,
            "max_height": null,
            "align_content": null,
            "visibility": null,
            "align_self": null,
            "height": null,
            "min_height": null,
            "padding": null,
            "grid_auto_rows": null,
            "grid_gap": null,
            "max_width": null,
            "order": null,
            "_view_module_version": "1.2.0",
            "grid_template_areas": null,
            "object_position": null,
            "object_fit": null,
            "grid_auto_columns": null,
            "margin": null,
            "display": null,
            "left": null
          }
        },
        "268b1ea4e4574e598915fbd8379bbbd1": {
          "model_module": "@jupyter-widgets/controls",
          "model_name": "HBoxModel",
          "state": {
            "_view_name": "HBoxView",
            "_dom_classes": [],
            "_model_name": "HBoxModel",
            "_view_module": "@jupyter-widgets/controls",
            "_model_module_version": "1.5.0",
            "_view_count": null,
            "_view_module_version": "1.5.0",
            "box_style": "",
            "layout": "IPY_MODEL_daba074968aa41dba8025357a6e33ea1",
            "_model_module": "@jupyter-widgets/controls",
            "children": [
              "IPY_MODEL_62f84611b4934733bf6302919b770f53",
              "IPY_MODEL_39b80fb8fb0740b2b7aac39f589f26f3"
            ]
          }
        },
        "daba074968aa41dba8025357a6e33ea1": {
          "model_module": "@jupyter-widgets/base",
          "model_name": "LayoutModel",
          "state": {
            "_view_name": "LayoutView",
            "grid_template_rows": null,
            "right": null,
            "justify_content": null,
            "_view_module": "@jupyter-widgets/base",
            "overflow": null,
            "_model_module_version": "1.2.0",
            "_view_count": null,
            "flex_flow": "row wrap",
            "width": "100%",
            "min_width": null,
            "border": null,
            "align_items": null,
            "bottom": null,
            "_model_module": "@jupyter-widgets/base",
            "top": null,
            "grid_column": null,
            "overflow_y": null,
            "overflow_x": null,
            "grid_auto_flow": null,
            "grid_area": null,
            "grid_template_columns": null,
            "flex": null,
            "_model_name": "LayoutModel",
            "justify_items": null,
            "grid_row": null,
            "max_height": null,
            "align_content": null,
            "visibility": null,
            "align_self": null,
            "height": null,
            "min_height": null,
            "padding": null,
            "grid_auto_rows": null,
            "grid_gap": null,
            "max_width": null,
            "order": null,
            "_view_module_version": "1.2.0",
            "grid_template_areas": null,
            "object_position": null,
            "object_fit": null,
            "grid_auto_columns": null,
            "margin": null,
            "display": "inline-flex",
            "left": null
          }
        },
        "62f84611b4934733bf6302919b770f53": {
          "model_module": "@jupyter-widgets/controls",
          "model_name": "FloatProgressModel",
          "state": {
            "_view_name": "ProgressView",
            "style": "IPY_MODEL_9ccdbb773c0f46ae84aa53e63b3dc8e1",
            "_dom_classes": [],
            "description": "Epoch 19: 100%",
            "_model_name": "FloatProgressModel",
            "bar_style": "success",
            "max": 54,
            "_view_module": "@jupyter-widgets/controls",
            "_model_module_version": "1.5.0",
            "value": 54,
            "_view_count": null,
            "_view_module_version": "1.5.0",
            "orientation": "horizontal",
            "min": 0,
            "description_tooltip": null,
            "_model_module": "@jupyter-widgets/controls",
            "layout": "IPY_MODEL_ec5487e117d9495c83bcd9cc9205c0f1"
          }
        },
        "39b80fb8fb0740b2b7aac39f589f26f3": {
          "model_module": "@jupyter-widgets/controls",
          "model_name": "HTMLModel",
          "state": {
            "_view_name": "HTMLView",
            "style": "IPY_MODEL_14dec45622354ed5be44c61cb4463d50",
            "_dom_classes": [],
            "description": "",
            "_model_name": "HTMLModel",
            "placeholder": "​",
            "_view_module": "@jupyter-widgets/controls",
            "_model_module_version": "1.5.0",
            "value": " 54/54 [01:20&lt;00:00,  1.49s/it, loss=1.64, v_num=IE-8]",
            "_view_count": null,
            "_view_module_version": "1.5.0",
            "description_tooltip": null,
            "_model_module": "@jupyter-widgets/controls",
            "layout": "IPY_MODEL_3872ee66051044a6b6eb1e3e56eb5fd2"
          }
        },
        "9ccdbb773c0f46ae84aa53e63b3dc8e1": {
          "model_module": "@jupyter-widgets/controls",
          "model_name": "ProgressStyleModel",
          "state": {
            "_view_name": "StyleView",
            "_model_name": "ProgressStyleModel",
            "description_width": "initial",
            "_view_module": "@jupyter-widgets/base",
            "_model_module_version": "1.5.0",
            "_view_count": null,
            "_view_module_version": "1.2.0",
            "bar_color": null,
            "_model_module": "@jupyter-widgets/controls"
          }
        },
        "ec5487e117d9495c83bcd9cc9205c0f1": {
          "model_module": "@jupyter-widgets/base",
          "model_name": "LayoutModel",
          "state": {
            "_view_name": "LayoutView",
            "grid_template_rows": null,
            "right": null,
            "justify_content": null,
            "_view_module": "@jupyter-widgets/base",
            "overflow": null,
            "_model_module_version": "1.2.0",
            "_view_count": null,
            "flex_flow": null,
            "width": null,
            "min_width": null,
            "border": null,
            "align_items": null,
            "bottom": null,
            "_model_module": "@jupyter-widgets/base",
            "top": null,
            "grid_column": null,
            "overflow_y": null,
            "overflow_x": null,
            "grid_auto_flow": null,
            "grid_area": null,
            "grid_template_columns": null,
            "flex": "2",
            "_model_name": "LayoutModel",
            "justify_items": null,
            "grid_row": null,
            "max_height": null,
            "align_content": null,
            "visibility": null,
            "align_self": null,
            "height": null,
            "min_height": null,
            "padding": null,
            "grid_auto_rows": null,
            "grid_gap": null,
            "max_width": null,
            "order": null,
            "_view_module_version": "1.2.0",
            "grid_template_areas": null,
            "object_position": null,
            "object_fit": null,
            "grid_auto_columns": null,
            "margin": null,
            "display": null,
            "left": null
          }
        },
        "14dec45622354ed5be44c61cb4463d50": {
          "model_module": "@jupyter-widgets/controls",
          "model_name": "DescriptionStyleModel",
          "state": {
            "_view_name": "StyleView",
            "_model_name": "DescriptionStyleModel",
            "description_width": "",
            "_view_module": "@jupyter-widgets/base",
            "_model_module_version": "1.5.0",
            "_view_count": null,
            "_view_module_version": "1.2.0",
            "_model_module": "@jupyter-widgets/controls"
          }
        },
        "3872ee66051044a6b6eb1e3e56eb5fd2": {
          "model_module": "@jupyter-widgets/base",
          "model_name": "LayoutModel",
          "state": {
            "_view_name": "LayoutView",
            "grid_template_rows": null,
            "right": null,
            "justify_content": null,
            "_view_module": "@jupyter-widgets/base",
            "overflow": null,
            "_model_module_version": "1.2.0",
            "_view_count": null,
            "flex_flow": null,
            "width": null,
            "min_width": null,
            "border": null,
            "align_items": null,
            "bottom": null,
            "_model_module": "@jupyter-widgets/base",
            "top": null,
            "grid_column": null,
            "overflow_y": null,
            "overflow_x": null,
            "grid_auto_flow": null,
            "grid_area": null,
            "grid_template_columns": null,
            "flex": null,
            "_model_name": "LayoutModel",
            "justify_items": null,
            "grid_row": null,
            "max_height": null,
            "align_content": null,
            "visibility": null,
            "align_self": null,
            "height": null,
            "min_height": null,
            "padding": null,
            "grid_auto_rows": null,
            "grid_gap": null,
            "max_width": null,
            "order": null,
            "_view_module_version": "1.2.0",
            "grid_template_areas": null,
            "object_position": null,
            "object_fit": null,
            "grid_auto_columns": null,
            "margin": null,
            "display": null,
            "left": null
          }
        },
        "7f6e49d43ad642ae9fffe8d230640a77": {
          "model_module": "@jupyter-widgets/controls",
          "model_name": "HBoxModel",
          "state": {
            "_view_name": "HBoxView",
            "_dom_classes": [],
            "_model_name": "HBoxModel",
            "_view_module": "@jupyter-widgets/controls",
            "_model_module_version": "1.5.0",
            "_view_count": null,
            "_view_module_version": "1.5.0",
            "box_style": "",
            "layout": "IPY_MODEL_ac6aa4b129bf443480056df43e1b2345",
            "_model_module": "@jupyter-widgets/controls",
            "children": [
              "IPY_MODEL_b4a6508d2b90483f933c8fa281ef0e12",
              "IPY_MODEL_869d5002dc4144cd9d307e3ce9aa64dc"
            ]
          }
        },
        "ac6aa4b129bf443480056df43e1b2345": {
          "model_module": "@jupyter-widgets/base",
          "model_name": "LayoutModel",
          "state": {
            "_view_name": "LayoutView",
            "grid_template_rows": null,
            "right": null,
            "justify_content": null,
            "_view_module": "@jupyter-widgets/base",
            "overflow": null,
            "_model_module_version": "1.2.0",
            "_view_count": null,
            "flex_flow": "row wrap",
            "width": "100%",
            "min_width": null,
            "border": null,
            "align_items": null,
            "bottom": null,
            "_model_module": "@jupyter-widgets/base",
            "top": null,
            "grid_column": null,
            "overflow_y": null,
            "overflow_x": null,
            "grid_auto_flow": null,
            "grid_area": null,
            "grid_template_columns": null,
            "flex": null,
            "_model_name": "LayoutModel",
            "justify_items": null,
            "grid_row": null,
            "max_height": null,
            "align_content": null,
            "visibility": null,
            "align_self": null,
            "height": null,
            "min_height": null,
            "padding": null,
            "grid_auto_rows": null,
            "grid_gap": null,
            "max_width": null,
            "order": null,
            "_view_module_version": "1.2.0",
            "grid_template_areas": null,
            "object_position": null,
            "object_fit": null,
            "grid_auto_columns": null,
            "margin": null,
            "display": "inline-flex",
            "left": null
          }
        },
        "b4a6508d2b90483f933c8fa281ef0e12": {
          "model_module": "@jupyter-widgets/controls",
          "model_name": "FloatProgressModel",
          "state": {
            "_view_name": "ProgressView",
            "style": "IPY_MODEL_ad89d8966d2740b9aa241b0bcf660fed",
            "_dom_classes": [],
            "description": "Validating: 100%",
            "_model_name": "FloatProgressModel",
            "bar_style": "info",
            "max": 1,
            "_view_module": "@jupyter-widgets/controls",
            "_model_module_version": "1.5.0",
            "value": 1,
            "_view_count": null,
            "_view_module_version": "1.5.0",
            "orientation": "horizontal",
            "min": 0,
            "description_tooltip": null,
            "_model_module": "@jupyter-widgets/controls",
            "layout": "IPY_MODEL_5744ac8eabd64ffba0f76f7e3a977362"
          }
        },
        "869d5002dc4144cd9d307e3ce9aa64dc": {
          "model_module": "@jupyter-widgets/controls",
          "model_name": "HTMLModel",
          "state": {
            "_view_name": "HTMLView",
            "style": "IPY_MODEL_3990b0b6ff8d4fa0a5fff58e527b7b06",
            "_dom_classes": [],
            "description": "",
            "_model_name": "HTMLModel",
            "placeholder": "​",
            "_view_module": "@jupyter-widgets/controls",
            "_model_module_version": "1.5.0",
            "value": " 3/3 [01:02&lt;00:00,  2.86it/s]",
            "_view_count": null,
            "_view_module_version": "1.5.0",
            "description_tooltip": null,
            "_model_module": "@jupyter-widgets/controls",
            "layout": "IPY_MODEL_7b4df9d879ca469a865b871c40df22c0"
          }
        },
        "ad89d8966d2740b9aa241b0bcf660fed": {
          "model_module": "@jupyter-widgets/controls",
          "model_name": "ProgressStyleModel",
          "state": {
            "_view_name": "StyleView",
            "_model_name": "ProgressStyleModel",
            "description_width": "initial",
            "_view_module": "@jupyter-widgets/base",
            "_model_module_version": "1.5.0",
            "_view_count": null,
            "_view_module_version": "1.2.0",
            "bar_color": null,
            "_model_module": "@jupyter-widgets/controls"
          }
        },
        "5744ac8eabd64ffba0f76f7e3a977362": {
          "model_module": "@jupyter-widgets/base",
          "model_name": "LayoutModel",
          "state": {
            "_view_name": "LayoutView",
            "grid_template_rows": null,
            "right": null,
            "justify_content": null,
            "_view_module": "@jupyter-widgets/base",
            "overflow": null,
            "_model_module_version": "1.2.0",
            "_view_count": null,
            "flex_flow": null,
            "width": null,
            "min_width": null,
            "border": null,
            "align_items": null,
            "bottom": null,
            "_model_module": "@jupyter-widgets/base",
            "top": null,
            "grid_column": null,
            "overflow_y": null,
            "overflow_x": null,
            "grid_auto_flow": null,
            "grid_area": null,
            "grid_template_columns": null,
            "flex": "2",
            "_model_name": "LayoutModel",
            "justify_items": null,
            "grid_row": null,
            "max_height": null,
            "align_content": null,
            "visibility": null,
            "align_self": null,
            "height": null,
            "min_height": null,
            "padding": null,
            "grid_auto_rows": null,
            "grid_gap": null,
            "max_width": null,
            "order": null,
            "_view_module_version": "1.2.0",
            "grid_template_areas": null,
            "object_position": null,
            "object_fit": null,
            "grid_auto_columns": null,
            "margin": null,
            "display": null,
            "left": null
          }
        },
        "3990b0b6ff8d4fa0a5fff58e527b7b06": {
          "model_module": "@jupyter-widgets/controls",
          "model_name": "DescriptionStyleModel",
          "state": {
            "_view_name": "StyleView",
            "_model_name": "DescriptionStyleModel",
            "description_width": "",
            "_view_module": "@jupyter-widgets/base",
            "_model_module_version": "1.5.0",
            "_view_count": null,
            "_view_module_version": "1.2.0",
            "_model_module": "@jupyter-widgets/controls"
          }
        },
        "7b4df9d879ca469a865b871c40df22c0": {
          "model_module": "@jupyter-widgets/base",
          "model_name": "LayoutModel",
          "state": {
            "_view_name": "LayoutView",
            "grid_template_rows": null,
            "right": null,
            "justify_content": null,
            "_view_module": "@jupyter-widgets/base",
            "overflow": null,
            "_model_module_version": "1.2.0",
            "_view_count": null,
            "flex_flow": null,
            "width": null,
            "min_width": null,
            "border": null,
            "align_items": null,
            "bottom": null,
            "_model_module": "@jupyter-widgets/base",
            "top": null,
            "grid_column": null,
            "overflow_y": null,
            "overflow_x": null,
            "grid_auto_flow": null,
            "grid_area": null,
            "grid_template_columns": null,
            "flex": null,
            "_model_name": "LayoutModel",
            "justify_items": null,
            "grid_row": null,
            "max_height": null,
            "align_content": null,
            "visibility": null,
            "align_self": null,
            "height": null,
            "min_height": null,
            "padding": null,
            "grid_auto_rows": null,
            "grid_gap": null,
            "max_width": null,
            "order": null,
            "_view_module_version": "1.2.0",
            "grid_template_areas": null,
            "object_position": null,
            "object_fit": null,
            "grid_auto_columns": null,
            "margin": null,
            "display": null,
            "left": null
          }
        },
        "9cf598e3a47b4156bc4a78d1000e93c1": {
          "model_module": "@jupyter-widgets/controls",
          "model_name": "HBoxModel",
          "state": {
            "_view_name": "HBoxView",
            "_dom_classes": [],
            "_model_name": "HBoxModel",
            "_view_module": "@jupyter-widgets/controls",
            "_model_module_version": "1.5.0",
            "_view_count": null,
            "_view_module_version": "1.5.0",
            "box_style": "",
            "layout": "IPY_MODEL_dd0aadb7fbe847029e50682d19e79cf4",
            "_model_module": "@jupyter-widgets/controls",
            "children": [
              "IPY_MODEL_29ffe51070424344bf8c968d9ef155d5",
              "IPY_MODEL_cca04fad611146de96eb43fb6e053b51"
            ]
          }
        },
        "dd0aadb7fbe847029e50682d19e79cf4": {
          "model_module": "@jupyter-widgets/base",
          "model_name": "LayoutModel",
          "state": {
            "_view_name": "LayoutView",
            "grid_template_rows": null,
            "right": null,
            "justify_content": null,
            "_view_module": "@jupyter-widgets/base",
            "overflow": null,
            "_model_module_version": "1.2.0",
            "_view_count": null,
            "flex_flow": "row wrap",
            "width": "100%",
            "min_width": null,
            "border": null,
            "align_items": null,
            "bottom": null,
            "_model_module": "@jupyter-widgets/base",
            "top": null,
            "grid_column": null,
            "overflow_y": null,
            "overflow_x": null,
            "grid_auto_flow": null,
            "grid_area": null,
            "grid_template_columns": null,
            "flex": null,
            "_model_name": "LayoutModel",
            "justify_items": null,
            "grid_row": null,
            "max_height": null,
            "align_content": null,
            "visibility": null,
            "align_self": null,
            "height": null,
            "min_height": null,
            "padding": null,
            "grid_auto_rows": null,
            "grid_gap": null,
            "max_width": null,
            "order": null,
            "_view_module_version": "1.2.0",
            "grid_template_areas": null,
            "object_position": null,
            "object_fit": null,
            "grid_auto_columns": null,
            "margin": null,
            "display": "inline-flex",
            "left": null
          }
        },
        "29ffe51070424344bf8c968d9ef155d5": {
          "model_module": "@jupyter-widgets/controls",
          "model_name": "FloatProgressModel",
          "state": {
            "_view_name": "ProgressView",
            "style": "IPY_MODEL_f51857d16f8d435c94b57447b74745e9",
            "_dom_classes": [],
            "description": "Validating: 100%",
            "_model_name": "FloatProgressModel",
            "bar_style": "info",
            "max": 1,
            "_view_module": "@jupyter-widgets/controls",
            "_model_module_version": "1.5.0",
            "value": 1,
            "_view_count": null,
            "_view_module_version": "1.5.0",
            "orientation": "horizontal",
            "min": 0,
            "description_tooltip": null,
            "_model_module": "@jupyter-widgets/controls",
            "layout": "IPY_MODEL_989468d2d66c4ef6b2fda15747f20b63"
          }
        },
        "cca04fad611146de96eb43fb6e053b51": {
          "model_module": "@jupyter-widgets/controls",
          "model_name": "HTMLModel",
          "state": {
            "_view_name": "HTMLView",
            "style": "IPY_MODEL_736b0a9922704225a22b3cf9e2d12621",
            "_dom_classes": [],
            "description": "",
            "_model_name": "HTMLModel",
            "placeholder": "​",
            "_view_module": "@jupyter-widgets/controls",
            "_model_module_version": "1.5.0",
            "value": " 3/3 [00:28&lt;00:00,  1.94it/s]",
            "_view_count": null,
            "_view_module_version": "1.5.0",
            "description_tooltip": null,
            "_model_module": "@jupyter-widgets/controls",
            "layout": "IPY_MODEL_230dbb9b763241b887f7d742c1a110f2"
          }
        },
        "f51857d16f8d435c94b57447b74745e9": {
          "model_module": "@jupyter-widgets/controls",
          "model_name": "ProgressStyleModel",
          "state": {
            "_view_name": "StyleView",
            "_model_name": "ProgressStyleModel",
            "description_width": "initial",
            "_view_module": "@jupyter-widgets/base",
            "_model_module_version": "1.5.0",
            "_view_count": null,
            "_view_module_version": "1.2.0",
            "bar_color": null,
            "_model_module": "@jupyter-widgets/controls"
          }
        },
        "989468d2d66c4ef6b2fda15747f20b63": {
          "model_module": "@jupyter-widgets/base",
          "model_name": "LayoutModel",
          "state": {
            "_view_name": "LayoutView",
            "grid_template_rows": null,
            "right": null,
            "justify_content": null,
            "_view_module": "@jupyter-widgets/base",
            "overflow": null,
            "_model_module_version": "1.2.0",
            "_view_count": null,
            "flex_flow": null,
            "width": null,
            "min_width": null,
            "border": null,
            "align_items": null,
            "bottom": null,
            "_model_module": "@jupyter-widgets/base",
            "top": null,
            "grid_column": null,
            "overflow_y": null,
            "overflow_x": null,
            "grid_auto_flow": null,
            "grid_area": null,
            "grid_template_columns": null,
            "flex": "2",
            "_model_name": "LayoutModel",
            "justify_items": null,
            "grid_row": null,
            "max_height": null,
            "align_content": null,
            "visibility": null,
            "align_self": null,
            "height": null,
            "min_height": null,
            "padding": null,
            "grid_auto_rows": null,
            "grid_gap": null,
            "max_width": null,
            "order": null,
            "_view_module_version": "1.2.0",
            "grid_template_areas": null,
            "object_position": null,
            "object_fit": null,
            "grid_auto_columns": null,
            "margin": null,
            "display": null,
            "left": null
          }
        },
        "736b0a9922704225a22b3cf9e2d12621": {
          "model_module": "@jupyter-widgets/controls",
          "model_name": "DescriptionStyleModel",
          "state": {
            "_view_name": "StyleView",
            "_model_name": "DescriptionStyleModel",
            "description_width": "",
            "_view_module": "@jupyter-widgets/base",
            "_model_module_version": "1.5.0",
            "_view_count": null,
            "_view_module_version": "1.2.0",
            "_model_module": "@jupyter-widgets/controls"
          }
        },
        "230dbb9b763241b887f7d742c1a110f2": {
          "model_module": "@jupyter-widgets/base",
          "model_name": "LayoutModel",
          "state": {
            "_view_name": "LayoutView",
            "grid_template_rows": null,
            "right": null,
            "justify_content": null,
            "_view_module": "@jupyter-widgets/base",
            "overflow": null,
            "_model_module_version": "1.2.0",
            "_view_count": null,
            "flex_flow": null,
            "width": null,
            "min_width": null,
            "border": null,
            "align_items": null,
            "bottom": null,
            "_model_module": "@jupyter-widgets/base",
            "top": null,
            "grid_column": null,
            "overflow_y": null,
            "overflow_x": null,
            "grid_auto_flow": null,
            "grid_area": null,
            "grid_template_columns": null,
            "flex": null,
            "_model_name": "LayoutModel",
            "justify_items": null,
            "grid_row": null,
            "max_height": null,
            "align_content": null,
            "visibility": null,
            "align_self": null,
            "height": null,
            "min_height": null,
            "padding": null,
            "grid_auto_rows": null,
            "grid_gap": null,
            "max_width": null,
            "order": null,
            "_view_module_version": "1.2.0",
            "grid_template_areas": null,
            "object_position": null,
            "object_fit": null,
            "grid_auto_columns": null,
            "margin": null,
            "display": null,
            "left": null
          }
        },
        "25e4d2f8e818477ca556466b220c1760": {
          "model_module": "@jupyter-widgets/controls",
          "model_name": "HBoxModel",
          "state": {
            "_view_name": "HBoxView",
            "_dom_classes": [],
            "_model_name": "HBoxModel",
            "_view_module": "@jupyter-widgets/controls",
            "_model_module_version": "1.5.0",
            "_view_count": null,
            "_view_module_version": "1.5.0",
            "box_style": "",
            "layout": "IPY_MODEL_7f3f87569a58463f80696de706036fa8",
            "_model_module": "@jupyter-widgets/controls",
            "children": [
              "IPY_MODEL_8a485e134a054a98a1a861fe8e6b8eb2",
              "IPY_MODEL_9be414d83d5f4d8aac4b291a9d0a6825"
            ]
          }
        },
        "7f3f87569a58463f80696de706036fa8": {
          "model_module": "@jupyter-widgets/base",
          "model_name": "LayoutModel",
          "state": {
            "_view_name": "LayoutView",
            "grid_template_rows": null,
            "right": null,
            "justify_content": null,
            "_view_module": "@jupyter-widgets/base",
            "overflow": null,
            "_model_module_version": "1.2.0",
            "_view_count": null,
            "flex_flow": "row wrap",
            "width": "100%",
            "min_width": null,
            "border": null,
            "align_items": null,
            "bottom": null,
            "_model_module": "@jupyter-widgets/base",
            "top": null,
            "grid_column": null,
            "overflow_y": null,
            "overflow_x": null,
            "grid_auto_flow": null,
            "grid_area": null,
            "grid_template_columns": null,
            "flex": null,
            "_model_name": "LayoutModel",
            "justify_items": null,
            "grid_row": null,
            "max_height": null,
            "align_content": null,
            "visibility": null,
            "align_self": null,
            "height": null,
            "min_height": null,
            "padding": null,
            "grid_auto_rows": null,
            "grid_gap": null,
            "max_width": null,
            "order": null,
            "_view_module_version": "1.2.0",
            "grid_template_areas": null,
            "object_position": null,
            "object_fit": null,
            "grid_auto_columns": null,
            "margin": null,
            "display": "inline-flex",
            "left": null
          }
        },
        "8a485e134a054a98a1a861fe8e6b8eb2": {
          "model_module": "@jupyter-widgets/controls",
          "model_name": "FloatProgressModel",
          "state": {
            "_view_name": "ProgressView",
            "style": "IPY_MODEL_c820e459dca743be9decd9831f935dcf",
            "_dom_classes": [],
            "description": "Validating: 100%",
            "_model_name": "FloatProgressModel",
            "bar_style": "info",
            "max": 1,
            "_view_module": "@jupyter-widgets/controls",
            "_model_module_version": "1.5.0",
            "value": 1,
            "_view_count": null,
            "_view_module_version": "1.5.0",
            "orientation": "horizontal",
            "min": 0,
            "description_tooltip": null,
            "_model_module": "@jupyter-widgets/controls",
            "layout": "IPY_MODEL_86c055c4d11842e2b554e6ee97562d4f"
          }
        },
        "9be414d83d5f4d8aac4b291a9d0a6825": {
          "model_module": "@jupyter-widgets/controls",
          "model_name": "HTMLModel",
          "state": {
            "_view_name": "HTMLView",
            "style": "IPY_MODEL_407c4c23cba24b78bfe8a0101fff5560",
            "_dom_classes": [],
            "description": "",
            "_model_name": "HTMLModel",
            "placeholder": "​",
            "_view_module": "@jupyter-widgets/controls",
            "_model_module_version": "1.5.0",
            "value": " 3/3 [00:27&lt;00:00,  1.77it/s]",
            "_view_count": null,
            "_view_module_version": "1.5.0",
            "description_tooltip": null,
            "_model_module": "@jupyter-widgets/controls",
            "layout": "IPY_MODEL_ae1f981304514f93b6c4149f77fb2440"
          }
        },
        "c820e459dca743be9decd9831f935dcf": {
          "model_module": "@jupyter-widgets/controls",
          "model_name": "ProgressStyleModel",
          "state": {
            "_view_name": "StyleView",
            "_model_name": "ProgressStyleModel",
            "description_width": "initial",
            "_view_module": "@jupyter-widgets/base",
            "_model_module_version": "1.5.0",
            "_view_count": null,
            "_view_module_version": "1.2.0",
            "bar_color": null,
            "_model_module": "@jupyter-widgets/controls"
          }
        },
        "86c055c4d11842e2b554e6ee97562d4f": {
          "model_module": "@jupyter-widgets/base",
          "model_name": "LayoutModel",
          "state": {
            "_view_name": "LayoutView",
            "grid_template_rows": null,
            "right": null,
            "justify_content": null,
            "_view_module": "@jupyter-widgets/base",
            "overflow": null,
            "_model_module_version": "1.2.0",
            "_view_count": null,
            "flex_flow": null,
            "width": null,
            "min_width": null,
            "border": null,
            "align_items": null,
            "bottom": null,
            "_model_module": "@jupyter-widgets/base",
            "top": null,
            "grid_column": null,
            "overflow_y": null,
            "overflow_x": null,
            "grid_auto_flow": null,
            "grid_area": null,
            "grid_template_columns": null,
            "flex": "2",
            "_model_name": "LayoutModel",
            "justify_items": null,
            "grid_row": null,
            "max_height": null,
            "align_content": null,
            "visibility": null,
            "align_self": null,
            "height": null,
            "min_height": null,
            "padding": null,
            "grid_auto_rows": null,
            "grid_gap": null,
            "max_width": null,
            "order": null,
            "_view_module_version": "1.2.0",
            "grid_template_areas": null,
            "object_position": null,
            "object_fit": null,
            "grid_auto_columns": null,
            "margin": null,
            "display": null,
            "left": null
          }
        },
        "407c4c23cba24b78bfe8a0101fff5560": {
          "model_module": "@jupyter-widgets/controls",
          "model_name": "DescriptionStyleModel",
          "state": {
            "_view_name": "StyleView",
            "_model_name": "DescriptionStyleModel",
            "description_width": "",
            "_view_module": "@jupyter-widgets/base",
            "_model_module_version": "1.5.0",
            "_view_count": null,
            "_view_module_version": "1.2.0",
            "_model_module": "@jupyter-widgets/controls"
          }
        },
        "ae1f981304514f93b6c4149f77fb2440": {
          "model_module": "@jupyter-widgets/base",
          "model_name": "LayoutModel",
          "state": {
            "_view_name": "LayoutView",
            "grid_template_rows": null,
            "right": null,
            "justify_content": null,
            "_view_module": "@jupyter-widgets/base",
            "overflow": null,
            "_model_module_version": "1.2.0",
            "_view_count": null,
            "flex_flow": null,
            "width": null,
            "min_width": null,
            "border": null,
            "align_items": null,
            "bottom": null,
            "_model_module": "@jupyter-widgets/base",
            "top": null,
            "grid_column": null,
            "overflow_y": null,
            "overflow_x": null,
            "grid_auto_flow": null,
            "grid_area": null,
            "grid_template_columns": null,
            "flex": null,
            "_model_name": "LayoutModel",
            "justify_items": null,
            "grid_row": null,
            "max_height": null,
            "align_content": null,
            "visibility": null,
            "align_self": null,
            "height": null,
            "min_height": null,
            "padding": null,
            "grid_auto_rows": null,
            "grid_gap": null,
            "max_width": null,
            "order": null,
            "_view_module_version": "1.2.0",
            "grid_template_areas": null,
            "object_position": null,
            "object_fit": null,
            "grid_auto_columns": null,
            "margin": null,
            "display": null,
            "left": null
          }
        },
        "c783cb294f85418f81d70b1215306d6f": {
          "model_module": "@jupyter-widgets/controls",
          "model_name": "HBoxModel",
          "state": {
            "_view_name": "HBoxView",
            "_dom_classes": [],
            "_model_name": "HBoxModel",
            "_view_module": "@jupyter-widgets/controls",
            "_model_module_version": "1.5.0",
            "_view_count": null,
            "_view_module_version": "1.5.0",
            "box_style": "",
            "layout": "IPY_MODEL_bf875d56836b46dba0aad02339df7b28",
            "_model_module": "@jupyter-widgets/controls",
            "children": [
              "IPY_MODEL_2f8a9c33179646eaabff40edcca2a289",
              "IPY_MODEL_b1f90fa6dd974965a8d81cfde56e8a34"
            ]
          }
        },
        "bf875d56836b46dba0aad02339df7b28": {
          "model_module": "@jupyter-widgets/base",
          "model_name": "LayoutModel",
          "state": {
            "_view_name": "LayoutView",
            "grid_template_rows": null,
            "right": null,
            "justify_content": null,
            "_view_module": "@jupyter-widgets/base",
            "overflow": null,
            "_model_module_version": "1.2.0",
            "_view_count": null,
            "flex_flow": "row wrap",
            "width": "100%",
            "min_width": null,
            "border": null,
            "align_items": null,
            "bottom": null,
            "_model_module": "@jupyter-widgets/base",
            "top": null,
            "grid_column": null,
            "overflow_y": null,
            "overflow_x": null,
            "grid_auto_flow": null,
            "grid_area": null,
            "grid_template_columns": null,
            "flex": null,
            "_model_name": "LayoutModel",
            "justify_items": null,
            "grid_row": null,
            "max_height": null,
            "align_content": null,
            "visibility": null,
            "align_self": null,
            "height": null,
            "min_height": null,
            "padding": null,
            "grid_auto_rows": null,
            "grid_gap": null,
            "max_width": null,
            "order": null,
            "_view_module_version": "1.2.0",
            "grid_template_areas": null,
            "object_position": null,
            "object_fit": null,
            "grid_auto_columns": null,
            "margin": null,
            "display": "inline-flex",
            "left": null
          }
        },
        "2f8a9c33179646eaabff40edcca2a289": {
          "model_module": "@jupyter-widgets/controls",
          "model_name": "FloatProgressModel",
          "state": {
            "_view_name": "ProgressView",
            "style": "IPY_MODEL_d6b7fd8088b34fb0b28c28b15e571a74",
            "_dom_classes": [],
            "description": "Validating: 100%",
            "_model_name": "FloatProgressModel",
            "bar_style": "info",
            "max": 1,
            "_view_module": "@jupyter-widgets/controls",
            "_model_module_version": "1.5.0",
            "value": 1,
            "_view_count": null,
            "_view_module_version": "1.5.0",
            "orientation": "horizontal",
            "min": 0,
            "description_tooltip": null,
            "_model_module": "@jupyter-widgets/controls",
            "layout": "IPY_MODEL_d4101fad52db49e9a529f18dfb433cee"
          }
        },
        "b1f90fa6dd974965a8d81cfde56e8a34": {
          "model_module": "@jupyter-widgets/controls",
          "model_name": "HTMLModel",
          "state": {
            "_view_name": "HTMLView",
            "style": "IPY_MODEL_83185c9052214e95beed692ace9b3749",
            "_dom_classes": [],
            "description": "",
            "_model_name": "HTMLModel",
            "placeholder": "​",
            "_view_module": "@jupyter-widgets/controls",
            "_model_module_version": "1.5.0",
            "value": " 3/3 [00:30&lt;00:00,  1.54it/s]",
            "_view_count": null,
            "_view_module_version": "1.5.0",
            "description_tooltip": null,
            "_model_module": "@jupyter-widgets/controls",
            "layout": "IPY_MODEL_7e3d15d15f444fb881bedab8765bfdcd"
          }
        },
        "d6b7fd8088b34fb0b28c28b15e571a74": {
          "model_module": "@jupyter-widgets/controls",
          "model_name": "ProgressStyleModel",
          "state": {
            "_view_name": "StyleView",
            "_model_name": "ProgressStyleModel",
            "description_width": "initial",
            "_view_module": "@jupyter-widgets/base",
            "_model_module_version": "1.5.0",
            "_view_count": null,
            "_view_module_version": "1.2.0",
            "bar_color": null,
            "_model_module": "@jupyter-widgets/controls"
          }
        },
        "d4101fad52db49e9a529f18dfb433cee": {
          "model_module": "@jupyter-widgets/base",
          "model_name": "LayoutModel",
          "state": {
            "_view_name": "LayoutView",
            "grid_template_rows": null,
            "right": null,
            "justify_content": null,
            "_view_module": "@jupyter-widgets/base",
            "overflow": null,
            "_model_module_version": "1.2.0",
            "_view_count": null,
            "flex_flow": null,
            "width": null,
            "min_width": null,
            "border": null,
            "align_items": null,
            "bottom": null,
            "_model_module": "@jupyter-widgets/base",
            "top": null,
            "grid_column": null,
            "overflow_y": null,
            "overflow_x": null,
            "grid_auto_flow": null,
            "grid_area": null,
            "grid_template_columns": null,
            "flex": "2",
            "_model_name": "LayoutModel",
            "justify_items": null,
            "grid_row": null,
            "max_height": null,
            "align_content": null,
            "visibility": null,
            "align_self": null,
            "height": null,
            "min_height": null,
            "padding": null,
            "grid_auto_rows": null,
            "grid_gap": null,
            "max_width": null,
            "order": null,
            "_view_module_version": "1.2.0",
            "grid_template_areas": null,
            "object_position": null,
            "object_fit": null,
            "grid_auto_columns": null,
            "margin": null,
            "display": null,
            "left": null
          }
        },
        "83185c9052214e95beed692ace9b3749": {
          "model_module": "@jupyter-widgets/controls",
          "model_name": "DescriptionStyleModel",
          "state": {
            "_view_name": "StyleView",
            "_model_name": "DescriptionStyleModel",
            "description_width": "",
            "_view_module": "@jupyter-widgets/base",
            "_model_module_version": "1.5.0",
            "_view_count": null,
            "_view_module_version": "1.2.0",
            "_model_module": "@jupyter-widgets/controls"
          }
        },
        "7e3d15d15f444fb881bedab8765bfdcd": {
          "model_module": "@jupyter-widgets/base",
          "model_name": "LayoutModel",
          "state": {
            "_view_name": "LayoutView",
            "grid_template_rows": null,
            "right": null,
            "justify_content": null,
            "_view_module": "@jupyter-widgets/base",
            "overflow": null,
            "_model_module_version": "1.2.0",
            "_view_count": null,
            "flex_flow": null,
            "width": null,
            "min_width": null,
            "border": null,
            "align_items": null,
            "bottom": null,
            "_model_module": "@jupyter-widgets/base",
            "top": null,
            "grid_column": null,
            "overflow_y": null,
            "overflow_x": null,
            "grid_auto_flow": null,
            "grid_area": null,
            "grid_template_columns": null,
            "flex": null,
            "_model_name": "LayoutModel",
            "justify_items": null,
            "grid_row": null,
            "max_height": null,
            "align_content": null,
            "visibility": null,
            "align_self": null,
            "height": null,
            "min_height": null,
            "padding": null,
            "grid_auto_rows": null,
            "grid_gap": null,
            "max_width": null,
            "order": null,
            "_view_module_version": "1.2.0",
            "grid_template_areas": null,
            "object_position": null,
            "object_fit": null,
            "grid_auto_columns": null,
            "margin": null,
            "display": null,
            "left": null
          }
        },
        "648a2db026d14dd2ba44410153500ce5": {
          "model_module": "@jupyter-widgets/controls",
          "model_name": "HBoxModel",
          "state": {
            "_view_name": "HBoxView",
            "_dom_classes": [],
            "_model_name": "HBoxModel",
            "_view_module": "@jupyter-widgets/controls",
            "_model_module_version": "1.5.0",
            "_view_count": null,
            "_view_module_version": "1.5.0",
            "box_style": "",
            "layout": "IPY_MODEL_d978f0e540d44d43b44f5a717fffc461",
            "_model_module": "@jupyter-widgets/controls",
            "children": [
              "IPY_MODEL_cea6c3b1286842eeaecdb84616573ca9",
              "IPY_MODEL_b71ebb7435d54d14afa4ba9e84f4fbd4"
            ]
          }
        },
        "d978f0e540d44d43b44f5a717fffc461": {
          "model_module": "@jupyter-widgets/base",
          "model_name": "LayoutModel",
          "state": {
            "_view_name": "LayoutView",
            "grid_template_rows": null,
            "right": null,
            "justify_content": null,
            "_view_module": "@jupyter-widgets/base",
            "overflow": null,
            "_model_module_version": "1.2.0",
            "_view_count": null,
            "flex_flow": "row wrap",
            "width": "100%",
            "min_width": null,
            "border": null,
            "align_items": null,
            "bottom": null,
            "_model_module": "@jupyter-widgets/base",
            "top": null,
            "grid_column": null,
            "overflow_y": null,
            "overflow_x": null,
            "grid_auto_flow": null,
            "grid_area": null,
            "grid_template_columns": null,
            "flex": null,
            "_model_name": "LayoutModel",
            "justify_items": null,
            "grid_row": null,
            "max_height": null,
            "align_content": null,
            "visibility": null,
            "align_self": null,
            "height": null,
            "min_height": null,
            "padding": null,
            "grid_auto_rows": null,
            "grid_gap": null,
            "max_width": null,
            "order": null,
            "_view_module_version": "1.2.0",
            "grid_template_areas": null,
            "object_position": null,
            "object_fit": null,
            "grid_auto_columns": null,
            "margin": null,
            "display": "inline-flex",
            "left": null
          }
        },
        "cea6c3b1286842eeaecdb84616573ca9": {
          "model_module": "@jupyter-widgets/controls",
          "model_name": "FloatProgressModel",
          "state": {
            "_view_name": "ProgressView",
            "style": "IPY_MODEL_b3f69351a1264e198e45229569fed65a",
            "_dom_classes": [],
            "description": "Validating: 100%",
            "_model_name": "FloatProgressModel",
            "bar_style": "info",
            "max": 1,
            "_view_module": "@jupyter-widgets/controls",
            "_model_module_version": "1.5.0",
            "value": 1,
            "_view_count": null,
            "_view_module_version": "1.5.0",
            "orientation": "horizontal",
            "min": 0,
            "description_tooltip": null,
            "_model_module": "@jupyter-widgets/controls",
            "layout": "IPY_MODEL_1023364709d945d3bda0f9e3552f235f"
          }
        },
        "b71ebb7435d54d14afa4ba9e84f4fbd4": {
          "model_module": "@jupyter-widgets/controls",
          "model_name": "HTMLModel",
          "state": {
            "_view_name": "HTMLView",
            "style": "IPY_MODEL_3aca6aaff7174b3e951f07d6a43ebd08",
            "_dom_classes": [],
            "description": "",
            "_model_name": "HTMLModel",
            "placeholder": "​",
            "_view_module": "@jupyter-widgets/controls",
            "_model_module_version": "1.5.0",
            "value": " 3/3 [00:28&lt;00:00,  1.43it/s]",
            "_view_count": null,
            "_view_module_version": "1.5.0",
            "description_tooltip": null,
            "_model_module": "@jupyter-widgets/controls",
            "layout": "IPY_MODEL_5441b947768845b2969480da793d9c23"
          }
        },
        "b3f69351a1264e198e45229569fed65a": {
          "model_module": "@jupyter-widgets/controls",
          "model_name": "ProgressStyleModel",
          "state": {
            "_view_name": "StyleView",
            "_model_name": "ProgressStyleModel",
            "description_width": "initial",
            "_view_module": "@jupyter-widgets/base",
            "_model_module_version": "1.5.0",
            "_view_count": null,
            "_view_module_version": "1.2.0",
            "bar_color": null,
            "_model_module": "@jupyter-widgets/controls"
          }
        },
        "1023364709d945d3bda0f9e3552f235f": {
          "model_module": "@jupyter-widgets/base",
          "model_name": "LayoutModel",
          "state": {
            "_view_name": "LayoutView",
            "grid_template_rows": null,
            "right": null,
            "justify_content": null,
            "_view_module": "@jupyter-widgets/base",
            "overflow": null,
            "_model_module_version": "1.2.0",
            "_view_count": null,
            "flex_flow": null,
            "width": null,
            "min_width": null,
            "border": null,
            "align_items": null,
            "bottom": null,
            "_model_module": "@jupyter-widgets/base",
            "top": null,
            "grid_column": null,
            "overflow_y": null,
            "overflow_x": null,
            "grid_auto_flow": null,
            "grid_area": null,
            "grid_template_columns": null,
            "flex": "2",
            "_model_name": "LayoutModel",
            "justify_items": null,
            "grid_row": null,
            "max_height": null,
            "align_content": null,
            "visibility": null,
            "align_self": null,
            "height": null,
            "min_height": null,
            "padding": null,
            "grid_auto_rows": null,
            "grid_gap": null,
            "max_width": null,
            "order": null,
            "_view_module_version": "1.2.0",
            "grid_template_areas": null,
            "object_position": null,
            "object_fit": null,
            "grid_auto_columns": null,
            "margin": null,
            "display": null,
            "left": null
          }
        },
        "3aca6aaff7174b3e951f07d6a43ebd08": {
          "model_module": "@jupyter-widgets/controls",
          "model_name": "DescriptionStyleModel",
          "state": {
            "_view_name": "StyleView",
            "_model_name": "DescriptionStyleModel",
            "description_width": "",
            "_view_module": "@jupyter-widgets/base",
            "_model_module_version": "1.5.0",
            "_view_count": null,
            "_view_module_version": "1.2.0",
            "_model_module": "@jupyter-widgets/controls"
          }
        },
        "5441b947768845b2969480da793d9c23": {
          "model_module": "@jupyter-widgets/base",
          "model_name": "LayoutModel",
          "state": {
            "_view_name": "LayoutView",
            "grid_template_rows": null,
            "right": null,
            "justify_content": null,
            "_view_module": "@jupyter-widgets/base",
            "overflow": null,
            "_model_module_version": "1.2.0",
            "_view_count": null,
            "flex_flow": null,
            "width": null,
            "min_width": null,
            "border": null,
            "align_items": null,
            "bottom": null,
            "_model_module": "@jupyter-widgets/base",
            "top": null,
            "grid_column": null,
            "overflow_y": null,
            "overflow_x": null,
            "grid_auto_flow": null,
            "grid_area": null,
            "grid_template_columns": null,
            "flex": null,
            "_model_name": "LayoutModel",
            "justify_items": null,
            "grid_row": null,
            "max_height": null,
            "align_content": null,
            "visibility": null,
            "align_self": null,
            "height": null,
            "min_height": null,
            "padding": null,
            "grid_auto_rows": null,
            "grid_gap": null,
            "max_width": null,
            "order": null,
            "_view_module_version": "1.2.0",
            "grid_template_areas": null,
            "object_position": null,
            "object_fit": null,
            "grid_auto_columns": null,
            "margin": null,
            "display": null,
            "left": null
          }
        },
        "5c87536eab154c4ebd966c1aa6197dc1": {
          "model_module": "@jupyter-widgets/controls",
          "model_name": "HBoxModel",
          "state": {
            "_view_name": "HBoxView",
            "_dom_classes": [],
            "_model_name": "HBoxModel",
            "_view_module": "@jupyter-widgets/controls",
            "_model_module_version": "1.5.0",
            "_view_count": null,
            "_view_module_version": "1.5.0",
            "box_style": "",
            "layout": "IPY_MODEL_49157a2cb617448091dc4ca5ba36ac77",
            "_model_module": "@jupyter-widgets/controls",
            "children": [
              "IPY_MODEL_7ec7eee4d81341cc81e938aecec0ab59",
              "IPY_MODEL_9392511e498d4a8bb7fc6defc7933f0b"
            ]
          }
        },
        "49157a2cb617448091dc4ca5ba36ac77": {
          "model_module": "@jupyter-widgets/base",
          "model_name": "LayoutModel",
          "state": {
            "_view_name": "LayoutView",
            "grid_template_rows": null,
            "right": null,
            "justify_content": null,
            "_view_module": "@jupyter-widgets/base",
            "overflow": null,
            "_model_module_version": "1.2.0",
            "_view_count": null,
            "flex_flow": "row wrap",
            "width": "100%",
            "min_width": null,
            "border": null,
            "align_items": null,
            "bottom": null,
            "_model_module": "@jupyter-widgets/base",
            "top": null,
            "grid_column": null,
            "overflow_y": null,
            "overflow_x": null,
            "grid_auto_flow": null,
            "grid_area": null,
            "grid_template_columns": null,
            "flex": null,
            "_model_name": "LayoutModel",
            "justify_items": null,
            "grid_row": null,
            "max_height": null,
            "align_content": null,
            "visibility": null,
            "align_self": null,
            "height": null,
            "min_height": null,
            "padding": null,
            "grid_auto_rows": null,
            "grid_gap": null,
            "max_width": null,
            "order": null,
            "_view_module_version": "1.2.0",
            "grid_template_areas": null,
            "object_position": null,
            "object_fit": null,
            "grid_auto_columns": null,
            "margin": null,
            "display": "inline-flex",
            "left": null
          }
        },
        "7ec7eee4d81341cc81e938aecec0ab59": {
          "model_module": "@jupyter-widgets/controls",
          "model_name": "FloatProgressModel",
          "state": {
            "_view_name": "ProgressView",
            "style": "IPY_MODEL_591f93cfe317472bb074422325995c4a",
            "_dom_classes": [],
            "description": "Validating: 100%",
            "_model_name": "FloatProgressModel",
            "bar_style": "info",
            "max": 1,
            "_view_module": "@jupyter-widgets/controls",
            "_model_module_version": "1.5.0",
            "value": 1,
            "_view_count": null,
            "_view_module_version": "1.5.0",
            "orientation": "horizontal",
            "min": 0,
            "description_tooltip": null,
            "_model_module": "@jupyter-widgets/controls",
            "layout": "IPY_MODEL_0b4c957afec44f69bb01d473bf5f4ca9"
          }
        },
        "9392511e498d4a8bb7fc6defc7933f0b": {
          "model_module": "@jupyter-widgets/controls",
          "model_name": "HTMLModel",
          "state": {
            "_view_name": "HTMLView",
            "style": "IPY_MODEL_bad413c50a9f4194993db91be1768684",
            "_dom_classes": [],
            "description": "",
            "_model_name": "HTMLModel",
            "placeholder": "​",
            "_view_module": "@jupyter-widgets/controls",
            "_model_module_version": "1.5.0",
            "value": " 3/3 [00:27&lt;00:00,  1.60it/s]",
            "_view_count": null,
            "_view_module_version": "1.5.0",
            "description_tooltip": null,
            "_model_module": "@jupyter-widgets/controls",
            "layout": "IPY_MODEL_7ce4fdbe6b0e462e9a89bda842bd818f"
          }
        },
        "591f93cfe317472bb074422325995c4a": {
          "model_module": "@jupyter-widgets/controls",
          "model_name": "ProgressStyleModel",
          "state": {
            "_view_name": "StyleView",
            "_model_name": "ProgressStyleModel",
            "description_width": "initial",
            "_view_module": "@jupyter-widgets/base",
            "_model_module_version": "1.5.0",
            "_view_count": null,
            "_view_module_version": "1.2.0",
            "bar_color": null,
            "_model_module": "@jupyter-widgets/controls"
          }
        },
        "0b4c957afec44f69bb01d473bf5f4ca9": {
          "model_module": "@jupyter-widgets/base",
          "model_name": "LayoutModel",
          "state": {
            "_view_name": "LayoutView",
            "grid_template_rows": null,
            "right": null,
            "justify_content": null,
            "_view_module": "@jupyter-widgets/base",
            "overflow": null,
            "_model_module_version": "1.2.0",
            "_view_count": null,
            "flex_flow": null,
            "width": null,
            "min_width": null,
            "border": null,
            "align_items": null,
            "bottom": null,
            "_model_module": "@jupyter-widgets/base",
            "top": null,
            "grid_column": null,
            "overflow_y": null,
            "overflow_x": null,
            "grid_auto_flow": null,
            "grid_area": null,
            "grid_template_columns": null,
            "flex": "2",
            "_model_name": "LayoutModel",
            "justify_items": null,
            "grid_row": null,
            "max_height": null,
            "align_content": null,
            "visibility": null,
            "align_self": null,
            "height": null,
            "min_height": null,
            "padding": null,
            "grid_auto_rows": null,
            "grid_gap": null,
            "max_width": null,
            "order": null,
            "_view_module_version": "1.2.0",
            "grid_template_areas": null,
            "object_position": null,
            "object_fit": null,
            "grid_auto_columns": null,
            "margin": null,
            "display": null,
            "left": null
          }
        },
        "bad413c50a9f4194993db91be1768684": {
          "model_module": "@jupyter-widgets/controls",
          "model_name": "DescriptionStyleModel",
          "state": {
            "_view_name": "StyleView",
            "_model_name": "DescriptionStyleModel",
            "description_width": "",
            "_view_module": "@jupyter-widgets/base",
            "_model_module_version": "1.5.0",
            "_view_count": null,
            "_view_module_version": "1.2.0",
            "_model_module": "@jupyter-widgets/controls"
          }
        },
        "7ce4fdbe6b0e462e9a89bda842bd818f": {
          "model_module": "@jupyter-widgets/base",
          "model_name": "LayoutModel",
          "state": {
            "_view_name": "LayoutView",
            "grid_template_rows": null,
            "right": null,
            "justify_content": null,
            "_view_module": "@jupyter-widgets/base",
            "overflow": null,
            "_model_module_version": "1.2.0",
            "_view_count": null,
            "flex_flow": null,
            "width": null,
            "min_width": null,
            "border": null,
            "align_items": null,
            "bottom": null,
            "_model_module": "@jupyter-widgets/base",
            "top": null,
            "grid_column": null,
            "overflow_y": null,
            "overflow_x": null,
            "grid_auto_flow": null,
            "grid_area": null,
            "grid_template_columns": null,
            "flex": null,
            "_model_name": "LayoutModel",
            "justify_items": null,
            "grid_row": null,
            "max_height": null,
            "align_content": null,
            "visibility": null,
            "align_self": null,
            "height": null,
            "min_height": null,
            "padding": null,
            "grid_auto_rows": null,
            "grid_gap": null,
            "max_width": null,
            "order": null,
            "_view_module_version": "1.2.0",
            "grid_template_areas": null,
            "object_position": null,
            "object_fit": null,
            "grid_auto_columns": null,
            "margin": null,
            "display": null,
            "left": null
          }
        },
        "7aa154f860ba47f986c7fd79561843d9": {
          "model_module": "@jupyter-widgets/controls",
          "model_name": "HBoxModel",
          "state": {
            "_view_name": "HBoxView",
            "_dom_classes": [],
            "_model_name": "HBoxModel",
            "_view_module": "@jupyter-widgets/controls",
            "_model_module_version": "1.5.0",
            "_view_count": null,
            "_view_module_version": "1.5.0",
            "box_style": "",
            "layout": "IPY_MODEL_7aa91a94a15f4223aec3762fd7b63408",
            "_model_module": "@jupyter-widgets/controls",
            "children": [
              "IPY_MODEL_d71a67b2894446f6af70da6f56f9dab8",
              "IPY_MODEL_d9646fe0e8cd483389070af9da11660b"
            ]
          }
        },
        "7aa91a94a15f4223aec3762fd7b63408": {
          "model_module": "@jupyter-widgets/base",
          "model_name": "LayoutModel",
          "state": {
            "_view_name": "LayoutView",
            "grid_template_rows": null,
            "right": null,
            "justify_content": null,
            "_view_module": "@jupyter-widgets/base",
            "overflow": null,
            "_model_module_version": "1.2.0",
            "_view_count": null,
            "flex_flow": "row wrap",
            "width": "100%",
            "min_width": null,
            "border": null,
            "align_items": null,
            "bottom": null,
            "_model_module": "@jupyter-widgets/base",
            "top": null,
            "grid_column": null,
            "overflow_y": null,
            "overflow_x": null,
            "grid_auto_flow": null,
            "grid_area": null,
            "grid_template_columns": null,
            "flex": null,
            "_model_name": "LayoutModel",
            "justify_items": null,
            "grid_row": null,
            "max_height": null,
            "align_content": null,
            "visibility": null,
            "align_self": null,
            "height": null,
            "min_height": null,
            "padding": null,
            "grid_auto_rows": null,
            "grid_gap": null,
            "max_width": null,
            "order": null,
            "_view_module_version": "1.2.0",
            "grid_template_areas": null,
            "object_position": null,
            "object_fit": null,
            "grid_auto_columns": null,
            "margin": null,
            "display": "inline-flex",
            "left": null
          }
        },
        "d71a67b2894446f6af70da6f56f9dab8": {
          "model_module": "@jupyter-widgets/controls",
          "model_name": "FloatProgressModel",
          "state": {
            "_view_name": "ProgressView",
            "style": "IPY_MODEL_3dcf7b2eb25a42719d6a368803b58c55",
            "_dom_classes": [],
            "description": "Validating: 100%",
            "_model_name": "FloatProgressModel",
            "bar_style": "info",
            "max": 1,
            "_view_module": "@jupyter-widgets/controls",
            "_model_module_version": "1.5.0",
            "value": 1,
            "_view_count": null,
            "_view_module_version": "1.5.0",
            "orientation": "horizontal",
            "min": 0,
            "description_tooltip": null,
            "_model_module": "@jupyter-widgets/controls",
            "layout": "IPY_MODEL_57778e091cf14031aeb6d7568429438e"
          }
        },
        "d9646fe0e8cd483389070af9da11660b": {
          "model_module": "@jupyter-widgets/controls",
          "model_name": "HTMLModel",
          "state": {
            "_view_name": "HTMLView",
            "style": "IPY_MODEL_0029991718a1413ea050dbd8b9990923",
            "_dom_classes": [],
            "description": "",
            "_model_name": "HTMLModel",
            "placeholder": "​",
            "_view_module": "@jupyter-widgets/controls",
            "_model_module_version": "1.5.0",
            "value": " 3/3 [00:29&lt;00:00,  1.52it/s]",
            "_view_count": null,
            "_view_module_version": "1.5.0",
            "description_tooltip": null,
            "_model_module": "@jupyter-widgets/controls",
            "layout": "IPY_MODEL_c2a87f3eb59e47c28046bb9e1ad05e3d"
          }
        },
        "3dcf7b2eb25a42719d6a368803b58c55": {
          "model_module": "@jupyter-widgets/controls",
          "model_name": "ProgressStyleModel",
          "state": {
            "_view_name": "StyleView",
            "_model_name": "ProgressStyleModel",
            "description_width": "initial",
            "_view_module": "@jupyter-widgets/base",
            "_model_module_version": "1.5.0",
            "_view_count": null,
            "_view_module_version": "1.2.0",
            "bar_color": null,
            "_model_module": "@jupyter-widgets/controls"
          }
        },
        "57778e091cf14031aeb6d7568429438e": {
          "model_module": "@jupyter-widgets/base",
          "model_name": "LayoutModel",
          "state": {
            "_view_name": "LayoutView",
            "grid_template_rows": null,
            "right": null,
            "justify_content": null,
            "_view_module": "@jupyter-widgets/base",
            "overflow": null,
            "_model_module_version": "1.2.0",
            "_view_count": null,
            "flex_flow": null,
            "width": null,
            "min_width": null,
            "border": null,
            "align_items": null,
            "bottom": null,
            "_model_module": "@jupyter-widgets/base",
            "top": null,
            "grid_column": null,
            "overflow_y": null,
            "overflow_x": null,
            "grid_auto_flow": null,
            "grid_area": null,
            "grid_template_columns": null,
            "flex": "2",
            "_model_name": "LayoutModel",
            "justify_items": null,
            "grid_row": null,
            "max_height": null,
            "align_content": null,
            "visibility": null,
            "align_self": null,
            "height": null,
            "min_height": null,
            "padding": null,
            "grid_auto_rows": null,
            "grid_gap": null,
            "max_width": null,
            "order": null,
            "_view_module_version": "1.2.0",
            "grid_template_areas": null,
            "object_position": null,
            "object_fit": null,
            "grid_auto_columns": null,
            "margin": null,
            "display": null,
            "left": null
          }
        },
        "0029991718a1413ea050dbd8b9990923": {
          "model_module": "@jupyter-widgets/controls",
          "model_name": "DescriptionStyleModel",
          "state": {
            "_view_name": "StyleView",
            "_model_name": "DescriptionStyleModel",
            "description_width": "",
            "_view_module": "@jupyter-widgets/base",
            "_model_module_version": "1.5.0",
            "_view_count": null,
            "_view_module_version": "1.2.0",
            "_model_module": "@jupyter-widgets/controls"
          }
        },
        "c2a87f3eb59e47c28046bb9e1ad05e3d": {
          "model_module": "@jupyter-widgets/base",
          "model_name": "LayoutModel",
          "state": {
            "_view_name": "LayoutView",
            "grid_template_rows": null,
            "right": null,
            "justify_content": null,
            "_view_module": "@jupyter-widgets/base",
            "overflow": null,
            "_model_module_version": "1.2.0",
            "_view_count": null,
            "flex_flow": null,
            "width": null,
            "min_width": null,
            "border": null,
            "align_items": null,
            "bottom": null,
            "_model_module": "@jupyter-widgets/base",
            "top": null,
            "grid_column": null,
            "overflow_y": null,
            "overflow_x": null,
            "grid_auto_flow": null,
            "grid_area": null,
            "grid_template_columns": null,
            "flex": null,
            "_model_name": "LayoutModel",
            "justify_items": null,
            "grid_row": null,
            "max_height": null,
            "align_content": null,
            "visibility": null,
            "align_self": null,
            "height": null,
            "min_height": null,
            "padding": null,
            "grid_auto_rows": null,
            "grid_gap": null,
            "max_width": null,
            "order": null,
            "_view_module_version": "1.2.0",
            "grid_template_areas": null,
            "object_position": null,
            "object_fit": null,
            "grid_auto_columns": null,
            "margin": null,
            "display": null,
            "left": null
          }
        },
        "a441fcc3737d4e5c8961ea3e26702e41": {
          "model_module": "@jupyter-widgets/controls",
          "model_name": "HBoxModel",
          "state": {
            "_view_name": "HBoxView",
            "_dom_classes": [],
            "_model_name": "HBoxModel",
            "_view_module": "@jupyter-widgets/controls",
            "_model_module_version": "1.5.0",
            "_view_count": null,
            "_view_module_version": "1.5.0",
            "box_style": "",
            "layout": "IPY_MODEL_127a43b629994bf99e726f478fd5cf36",
            "_model_module": "@jupyter-widgets/controls",
            "children": [
              "IPY_MODEL_3bc62e93b43540f4a28194502bc39ba2",
              "IPY_MODEL_396e6904fbf24025bdae81c593572cc0"
            ]
          }
        },
        "127a43b629994bf99e726f478fd5cf36": {
          "model_module": "@jupyter-widgets/base",
          "model_name": "LayoutModel",
          "state": {
            "_view_name": "LayoutView",
            "grid_template_rows": null,
            "right": null,
            "justify_content": null,
            "_view_module": "@jupyter-widgets/base",
            "overflow": null,
            "_model_module_version": "1.2.0",
            "_view_count": null,
            "flex_flow": "row wrap",
            "width": "100%",
            "min_width": null,
            "border": null,
            "align_items": null,
            "bottom": null,
            "_model_module": "@jupyter-widgets/base",
            "top": null,
            "grid_column": null,
            "overflow_y": null,
            "overflow_x": null,
            "grid_auto_flow": null,
            "grid_area": null,
            "grid_template_columns": null,
            "flex": null,
            "_model_name": "LayoutModel",
            "justify_items": null,
            "grid_row": null,
            "max_height": null,
            "align_content": null,
            "visibility": null,
            "align_self": null,
            "height": null,
            "min_height": null,
            "padding": null,
            "grid_auto_rows": null,
            "grid_gap": null,
            "max_width": null,
            "order": null,
            "_view_module_version": "1.2.0",
            "grid_template_areas": null,
            "object_position": null,
            "object_fit": null,
            "grid_auto_columns": null,
            "margin": null,
            "display": "inline-flex",
            "left": null
          }
        },
        "3bc62e93b43540f4a28194502bc39ba2": {
          "model_module": "@jupyter-widgets/controls",
          "model_name": "FloatProgressModel",
          "state": {
            "_view_name": "ProgressView",
            "style": "IPY_MODEL_44950f4d152e43e5a175f49849ddbc17",
            "_dom_classes": [],
            "description": "Validating: 100%",
            "_model_name": "FloatProgressModel",
            "bar_style": "info",
            "max": 1,
            "_view_module": "@jupyter-widgets/controls",
            "_model_module_version": "1.5.0",
            "value": 1,
            "_view_count": null,
            "_view_module_version": "1.5.0",
            "orientation": "horizontal",
            "min": 0,
            "description_tooltip": null,
            "_model_module": "@jupyter-widgets/controls",
            "layout": "IPY_MODEL_c8fb0eb84cff48dbab4b9d71b50b52ed"
          }
        },
        "396e6904fbf24025bdae81c593572cc0": {
          "model_module": "@jupyter-widgets/controls",
          "model_name": "HTMLModel",
          "state": {
            "_view_name": "HTMLView",
            "style": "IPY_MODEL_010cba5dff6d4e1aa9bddab516f3bc53",
            "_dom_classes": [],
            "description": "",
            "_model_name": "HTMLModel",
            "placeholder": "​",
            "_view_module": "@jupyter-widgets/controls",
            "_model_module_version": "1.5.0",
            "value": " 3/3 [00:29&lt;00:00,  1.26it/s]",
            "_view_count": null,
            "_view_module_version": "1.5.0",
            "description_tooltip": null,
            "_model_module": "@jupyter-widgets/controls",
            "layout": "IPY_MODEL_60c13af3919a4829a52162443554a502"
          }
        },
        "44950f4d152e43e5a175f49849ddbc17": {
          "model_module": "@jupyter-widgets/controls",
          "model_name": "ProgressStyleModel",
          "state": {
            "_view_name": "StyleView",
            "_model_name": "ProgressStyleModel",
            "description_width": "initial",
            "_view_module": "@jupyter-widgets/base",
            "_model_module_version": "1.5.0",
            "_view_count": null,
            "_view_module_version": "1.2.0",
            "bar_color": null,
            "_model_module": "@jupyter-widgets/controls"
          }
        },
        "c8fb0eb84cff48dbab4b9d71b50b52ed": {
          "model_module": "@jupyter-widgets/base",
          "model_name": "LayoutModel",
          "state": {
            "_view_name": "LayoutView",
            "grid_template_rows": null,
            "right": null,
            "justify_content": null,
            "_view_module": "@jupyter-widgets/base",
            "overflow": null,
            "_model_module_version": "1.2.0",
            "_view_count": null,
            "flex_flow": null,
            "width": null,
            "min_width": null,
            "border": null,
            "align_items": null,
            "bottom": null,
            "_model_module": "@jupyter-widgets/base",
            "top": null,
            "grid_column": null,
            "overflow_y": null,
            "overflow_x": null,
            "grid_auto_flow": null,
            "grid_area": null,
            "grid_template_columns": null,
            "flex": "2",
            "_model_name": "LayoutModel",
            "justify_items": null,
            "grid_row": null,
            "max_height": null,
            "align_content": null,
            "visibility": null,
            "align_self": null,
            "height": null,
            "min_height": null,
            "padding": null,
            "grid_auto_rows": null,
            "grid_gap": null,
            "max_width": null,
            "order": null,
            "_view_module_version": "1.2.0",
            "grid_template_areas": null,
            "object_position": null,
            "object_fit": null,
            "grid_auto_columns": null,
            "margin": null,
            "display": null,
            "left": null
          }
        },
        "010cba5dff6d4e1aa9bddab516f3bc53": {
          "model_module": "@jupyter-widgets/controls",
          "model_name": "DescriptionStyleModel",
          "state": {
            "_view_name": "StyleView",
            "_model_name": "DescriptionStyleModel",
            "description_width": "",
            "_view_module": "@jupyter-widgets/base",
            "_model_module_version": "1.5.0",
            "_view_count": null,
            "_view_module_version": "1.2.0",
            "_model_module": "@jupyter-widgets/controls"
          }
        },
        "60c13af3919a4829a52162443554a502": {
          "model_module": "@jupyter-widgets/base",
          "model_name": "LayoutModel",
          "state": {
            "_view_name": "LayoutView",
            "grid_template_rows": null,
            "right": null,
            "justify_content": null,
            "_view_module": "@jupyter-widgets/base",
            "overflow": null,
            "_model_module_version": "1.2.0",
            "_view_count": null,
            "flex_flow": null,
            "width": null,
            "min_width": null,
            "border": null,
            "align_items": null,
            "bottom": null,
            "_model_module": "@jupyter-widgets/base",
            "top": null,
            "grid_column": null,
            "overflow_y": null,
            "overflow_x": null,
            "grid_auto_flow": null,
            "grid_area": null,
            "grid_template_columns": null,
            "flex": null,
            "_model_name": "LayoutModel",
            "justify_items": null,
            "grid_row": null,
            "max_height": null,
            "align_content": null,
            "visibility": null,
            "align_self": null,
            "height": null,
            "min_height": null,
            "padding": null,
            "grid_auto_rows": null,
            "grid_gap": null,
            "max_width": null,
            "order": null,
            "_view_module_version": "1.2.0",
            "grid_template_areas": null,
            "object_position": null,
            "object_fit": null,
            "grid_auto_columns": null,
            "margin": null,
            "display": null,
            "left": null
          }
        },
        "b73660c882d946ef81184b5d8f9a4a7b": {
          "model_module": "@jupyter-widgets/controls",
          "model_name": "HBoxModel",
          "state": {
            "_view_name": "HBoxView",
            "_dom_classes": [],
            "_model_name": "HBoxModel",
            "_view_module": "@jupyter-widgets/controls",
            "_model_module_version": "1.5.0",
            "_view_count": null,
            "_view_module_version": "1.5.0",
            "box_style": "",
            "layout": "IPY_MODEL_7b86678493d140f9a78e4e112f793e42",
            "_model_module": "@jupyter-widgets/controls",
            "children": [
              "IPY_MODEL_f21290f9f8b0458895a6d5523c9631e4",
              "IPY_MODEL_2bd5ea304af44e43a45e067ada340ff7"
            ]
          }
        },
        "7b86678493d140f9a78e4e112f793e42": {
          "model_module": "@jupyter-widgets/base",
          "model_name": "LayoutModel",
          "state": {
            "_view_name": "LayoutView",
            "grid_template_rows": null,
            "right": null,
            "justify_content": null,
            "_view_module": "@jupyter-widgets/base",
            "overflow": null,
            "_model_module_version": "1.2.0",
            "_view_count": null,
            "flex_flow": "row wrap",
            "width": "100%",
            "min_width": null,
            "border": null,
            "align_items": null,
            "bottom": null,
            "_model_module": "@jupyter-widgets/base",
            "top": null,
            "grid_column": null,
            "overflow_y": null,
            "overflow_x": null,
            "grid_auto_flow": null,
            "grid_area": null,
            "grid_template_columns": null,
            "flex": null,
            "_model_name": "LayoutModel",
            "justify_items": null,
            "grid_row": null,
            "max_height": null,
            "align_content": null,
            "visibility": null,
            "align_self": null,
            "height": null,
            "min_height": null,
            "padding": null,
            "grid_auto_rows": null,
            "grid_gap": null,
            "max_width": null,
            "order": null,
            "_view_module_version": "1.2.0",
            "grid_template_areas": null,
            "object_position": null,
            "object_fit": null,
            "grid_auto_columns": null,
            "margin": null,
            "display": "inline-flex",
            "left": null
          }
        },
        "f21290f9f8b0458895a6d5523c9631e4": {
          "model_module": "@jupyter-widgets/controls",
          "model_name": "FloatProgressModel",
          "state": {
            "_view_name": "ProgressView",
            "style": "IPY_MODEL_2245a7370c8248ffa070db12b94b0520",
            "_dom_classes": [],
            "description": "Validating: 100%",
            "_model_name": "FloatProgressModel",
            "bar_style": "info",
            "max": 1,
            "_view_module": "@jupyter-widgets/controls",
            "_model_module_version": "1.5.0",
            "value": 1,
            "_view_count": null,
            "_view_module_version": "1.5.0",
            "orientation": "horizontal",
            "min": 0,
            "description_tooltip": null,
            "_model_module": "@jupyter-widgets/controls",
            "layout": "IPY_MODEL_ae2b7b6831fc4a83a1467ea3ea1add6b"
          }
        },
        "2bd5ea304af44e43a45e067ada340ff7": {
          "model_module": "@jupyter-widgets/controls",
          "model_name": "HTMLModel",
          "state": {
            "_view_name": "HTMLView",
            "style": "IPY_MODEL_e2aa900a3582493dba70d8005f1f341f",
            "_dom_classes": [],
            "description": "",
            "_model_name": "HTMLModel",
            "placeholder": "​",
            "_view_module": "@jupyter-widgets/controls",
            "_model_module_version": "1.5.0",
            "value": " 3/3 [00:30&lt;00:00,  1.41it/s]",
            "_view_count": null,
            "_view_module_version": "1.5.0",
            "description_tooltip": null,
            "_model_module": "@jupyter-widgets/controls",
            "layout": "IPY_MODEL_96dc6c2e5fc54533970e91eb38460958"
          }
        },
        "2245a7370c8248ffa070db12b94b0520": {
          "model_module": "@jupyter-widgets/controls",
          "model_name": "ProgressStyleModel",
          "state": {
            "_view_name": "StyleView",
            "_model_name": "ProgressStyleModel",
            "description_width": "initial",
            "_view_module": "@jupyter-widgets/base",
            "_model_module_version": "1.5.0",
            "_view_count": null,
            "_view_module_version": "1.2.0",
            "bar_color": null,
            "_model_module": "@jupyter-widgets/controls"
          }
        },
        "ae2b7b6831fc4a83a1467ea3ea1add6b": {
          "model_module": "@jupyter-widgets/base",
          "model_name": "LayoutModel",
          "state": {
            "_view_name": "LayoutView",
            "grid_template_rows": null,
            "right": null,
            "justify_content": null,
            "_view_module": "@jupyter-widgets/base",
            "overflow": null,
            "_model_module_version": "1.2.0",
            "_view_count": null,
            "flex_flow": null,
            "width": null,
            "min_width": null,
            "border": null,
            "align_items": null,
            "bottom": null,
            "_model_module": "@jupyter-widgets/base",
            "top": null,
            "grid_column": null,
            "overflow_y": null,
            "overflow_x": null,
            "grid_auto_flow": null,
            "grid_area": null,
            "grid_template_columns": null,
            "flex": "2",
            "_model_name": "LayoutModel",
            "justify_items": null,
            "grid_row": null,
            "max_height": null,
            "align_content": null,
            "visibility": null,
            "align_self": null,
            "height": null,
            "min_height": null,
            "padding": null,
            "grid_auto_rows": null,
            "grid_gap": null,
            "max_width": null,
            "order": null,
            "_view_module_version": "1.2.0",
            "grid_template_areas": null,
            "object_position": null,
            "object_fit": null,
            "grid_auto_columns": null,
            "margin": null,
            "display": null,
            "left": null
          }
        },
        "e2aa900a3582493dba70d8005f1f341f": {
          "model_module": "@jupyter-widgets/controls",
          "model_name": "DescriptionStyleModel",
          "state": {
            "_view_name": "StyleView",
            "_model_name": "DescriptionStyleModel",
            "description_width": "",
            "_view_module": "@jupyter-widgets/base",
            "_model_module_version": "1.5.0",
            "_view_count": null,
            "_view_module_version": "1.2.0",
            "_model_module": "@jupyter-widgets/controls"
          }
        },
        "96dc6c2e5fc54533970e91eb38460958": {
          "model_module": "@jupyter-widgets/base",
          "model_name": "LayoutModel",
          "state": {
            "_view_name": "LayoutView",
            "grid_template_rows": null,
            "right": null,
            "justify_content": null,
            "_view_module": "@jupyter-widgets/base",
            "overflow": null,
            "_model_module_version": "1.2.0",
            "_view_count": null,
            "flex_flow": null,
            "width": null,
            "min_width": null,
            "border": null,
            "align_items": null,
            "bottom": null,
            "_model_module": "@jupyter-widgets/base",
            "top": null,
            "grid_column": null,
            "overflow_y": null,
            "overflow_x": null,
            "grid_auto_flow": null,
            "grid_area": null,
            "grid_template_columns": null,
            "flex": null,
            "_model_name": "LayoutModel",
            "justify_items": null,
            "grid_row": null,
            "max_height": null,
            "align_content": null,
            "visibility": null,
            "align_self": null,
            "height": null,
            "min_height": null,
            "padding": null,
            "grid_auto_rows": null,
            "grid_gap": null,
            "max_width": null,
            "order": null,
            "_view_module_version": "1.2.0",
            "grid_template_areas": null,
            "object_position": null,
            "object_fit": null,
            "grid_auto_columns": null,
            "margin": null,
            "display": null,
            "left": null
          }
        },
        "85731b99c2e841d5b22d774065c54b58": {
          "model_module": "@jupyter-widgets/controls",
          "model_name": "HBoxModel",
          "state": {
            "_view_name": "HBoxView",
            "_dom_classes": [],
            "_model_name": "HBoxModel",
            "_view_module": "@jupyter-widgets/controls",
            "_model_module_version": "1.5.0",
            "_view_count": null,
            "_view_module_version": "1.5.0",
            "box_style": "",
            "layout": "IPY_MODEL_a8e95e71e9e043b2813794172b71eafe",
            "_model_module": "@jupyter-widgets/controls",
            "children": [
              "IPY_MODEL_392d3138c17243b990dce6d75d73b70a",
              "IPY_MODEL_b14846d1633343d0adc18ca5649b90f3"
            ]
          }
        },
        "a8e95e71e9e043b2813794172b71eafe": {
          "model_module": "@jupyter-widgets/base",
          "model_name": "LayoutModel",
          "state": {
            "_view_name": "LayoutView",
            "grid_template_rows": null,
            "right": null,
            "justify_content": null,
            "_view_module": "@jupyter-widgets/base",
            "overflow": null,
            "_model_module_version": "1.2.0",
            "_view_count": null,
            "flex_flow": "row wrap",
            "width": "100%",
            "min_width": null,
            "border": null,
            "align_items": null,
            "bottom": null,
            "_model_module": "@jupyter-widgets/base",
            "top": null,
            "grid_column": null,
            "overflow_y": null,
            "overflow_x": null,
            "grid_auto_flow": null,
            "grid_area": null,
            "grid_template_columns": null,
            "flex": null,
            "_model_name": "LayoutModel",
            "justify_items": null,
            "grid_row": null,
            "max_height": null,
            "align_content": null,
            "visibility": null,
            "align_self": null,
            "height": null,
            "min_height": null,
            "padding": null,
            "grid_auto_rows": null,
            "grid_gap": null,
            "max_width": null,
            "order": null,
            "_view_module_version": "1.2.0",
            "grid_template_areas": null,
            "object_position": null,
            "object_fit": null,
            "grid_auto_columns": null,
            "margin": null,
            "display": "inline-flex",
            "left": null
          }
        },
        "392d3138c17243b990dce6d75d73b70a": {
          "model_module": "@jupyter-widgets/controls",
          "model_name": "FloatProgressModel",
          "state": {
            "_view_name": "ProgressView",
            "style": "IPY_MODEL_882037b0a521466c85ed69c1b4edeaa1",
            "_dom_classes": [],
            "description": "Validating: 100%",
            "_model_name": "FloatProgressModel",
            "bar_style": "info",
            "max": 1,
            "_view_module": "@jupyter-widgets/controls",
            "_model_module_version": "1.5.0",
            "value": 1,
            "_view_count": null,
            "_view_module_version": "1.5.0",
            "orientation": "horizontal",
            "min": 0,
            "description_tooltip": null,
            "_model_module": "@jupyter-widgets/controls",
            "layout": "IPY_MODEL_ecb2838de10c4fca916c6a0c36fc8e8c"
          }
        },
        "b14846d1633343d0adc18ca5649b90f3": {
          "model_module": "@jupyter-widgets/controls",
          "model_name": "HTMLModel",
          "state": {
            "_view_name": "HTMLView",
            "style": "IPY_MODEL_fb907755ab8545448bb5c6ecc0b8f2d3",
            "_dom_classes": [],
            "description": "",
            "_model_name": "HTMLModel",
            "placeholder": "​",
            "_view_module": "@jupyter-widgets/controls",
            "_model_module_version": "1.5.0",
            "value": " 3/3 [00:29&lt;00:00,  1.23it/s]",
            "_view_count": null,
            "_view_module_version": "1.5.0",
            "description_tooltip": null,
            "_model_module": "@jupyter-widgets/controls",
            "layout": "IPY_MODEL_e87e349287a043909cb061f976a7b0bc"
          }
        },
        "882037b0a521466c85ed69c1b4edeaa1": {
          "model_module": "@jupyter-widgets/controls",
          "model_name": "ProgressStyleModel",
          "state": {
            "_view_name": "StyleView",
            "_model_name": "ProgressStyleModel",
            "description_width": "initial",
            "_view_module": "@jupyter-widgets/base",
            "_model_module_version": "1.5.0",
            "_view_count": null,
            "_view_module_version": "1.2.0",
            "bar_color": null,
            "_model_module": "@jupyter-widgets/controls"
          }
        },
        "ecb2838de10c4fca916c6a0c36fc8e8c": {
          "model_module": "@jupyter-widgets/base",
          "model_name": "LayoutModel",
          "state": {
            "_view_name": "LayoutView",
            "grid_template_rows": null,
            "right": null,
            "justify_content": null,
            "_view_module": "@jupyter-widgets/base",
            "overflow": null,
            "_model_module_version": "1.2.0",
            "_view_count": null,
            "flex_flow": null,
            "width": null,
            "min_width": null,
            "border": null,
            "align_items": null,
            "bottom": null,
            "_model_module": "@jupyter-widgets/base",
            "top": null,
            "grid_column": null,
            "overflow_y": null,
            "overflow_x": null,
            "grid_auto_flow": null,
            "grid_area": null,
            "grid_template_columns": null,
            "flex": "2",
            "_model_name": "LayoutModel",
            "justify_items": null,
            "grid_row": null,
            "max_height": null,
            "align_content": null,
            "visibility": null,
            "align_self": null,
            "height": null,
            "min_height": null,
            "padding": null,
            "grid_auto_rows": null,
            "grid_gap": null,
            "max_width": null,
            "order": null,
            "_view_module_version": "1.2.0",
            "grid_template_areas": null,
            "object_position": null,
            "object_fit": null,
            "grid_auto_columns": null,
            "margin": null,
            "display": null,
            "left": null
          }
        },
        "fb907755ab8545448bb5c6ecc0b8f2d3": {
          "model_module": "@jupyter-widgets/controls",
          "model_name": "DescriptionStyleModel",
          "state": {
            "_view_name": "StyleView",
            "_model_name": "DescriptionStyleModel",
            "description_width": "",
            "_view_module": "@jupyter-widgets/base",
            "_model_module_version": "1.5.0",
            "_view_count": null,
            "_view_module_version": "1.2.0",
            "_model_module": "@jupyter-widgets/controls"
          }
        },
        "e87e349287a043909cb061f976a7b0bc": {
          "model_module": "@jupyter-widgets/base",
          "model_name": "LayoutModel",
          "state": {
            "_view_name": "LayoutView",
            "grid_template_rows": null,
            "right": null,
            "justify_content": null,
            "_view_module": "@jupyter-widgets/base",
            "overflow": null,
            "_model_module_version": "1.2.0",
            "_view_count": null,
            "flex_flow": null,
            "width": null,
            "min_width": null,
            "border": null,
            "align_items": null,
            "bottom": null,
            "_model_module": "@jupyter-widgets/base",
            "top": null,
            "grid_column": null,
            "overflow_y": null,
            "overflow_x": null,
            "grid_auto_flow": null,
            "grid_area": null,
            "grid_template_columns": null,
            "flex": null,
            "_model_name": "LayoutModel",
            "justify_items": null,
            "grid_row": null,
            "max_height": null,
            "align_content": null,
            "visibility": null,
            "align_self": null,
            "height": null,
            "min_height": null,
            "padding": null,
            "grid_auto_rows": null,
            "grid_gap": null,
            "max_width": null,
            "order": null,
            "_view_module_version": "1.2.0",
            "grid_template_areas": null,
            "object_position": null,
            "object_fit": null,
            "grid_auto_columns": null,
            "margin": null,
            "display": null,
            "left": null
          }
        },
        "5abae315e1e54341ba26585fd408afd2": {
          "model_module": "@jupyter-widgets/controls",
          "model_name": "HBoxModel",
          "state": {
            "_view_name": "HBoxView",
            "_dom_classes": [],
            "_model_name": "HBoxModel",
            "_view_module": "@jupyter-widgets/controls",
            "_model_module_version": "1.5.0",
            "_view_count": null,
            "_view_module_version": "1.5.0",
            "box_style": "",
            "layout": "IPY_MODEL_2b63f12e68d7436f853df4b63f937ce1",
            "_model_module": "@jupyter-widgets/controls",
            "children": [
              "IPY_MODEL_0b756288f8ef4d148395f2788f295f45",
              "IPY_MODEL_f3632c8ede1644d498288377df53d166"
            ]
          }
        },
        "2b63f12e68d7436f853df4b63f937ce1": {
          "model_module": "@jupyter-widgets/base",
          "model_name": "LayoutModel",
          "state": {
            "_view_name": "LayoutView",
            "grid_template_rows": null,
            "right": null,
            "justify_content": null,
            "_view_module": "@jupyter-widgets/base",
            "overflow": null,
            "_model_module_version": "1.2.0",
            "_view_count": null,
            "flex_flow": "row wrap",
            "width": "100%",
            "min_width": null,
            "border": null,
            "align_items": null,
            "bottom": null,
            "_model_module": "@jupyter-widgets/base",
            "top": null,
            "grid_column": null,
            "overflow_y": null,
            "overflow_x": null,
            "grid_auto_flow": null,
            "grid_area": null,
            "grid_template_columns": null,
            "flex": null,
            "_model_name": "LayoutModel",
            "justify_items": null,
            "grid_row": null,
            "max_height": null,
            "align_content": null,
            "visibility": null,
            "align_self": null,
            "height": null,
            "min_height": null,
            "padding": null,
            "grid_auto_rows": null,
            "grid_gap": null,
            "max_width": null,
            "order": null,
            "_view_module_version": "1.2.0",
            "grid_template_areas": null,
            "object_position": null,
            "object_fit": null,
            "grid_auto_columns": null,
            "margin": null,
            "display": "inline-flex",
            "left": null
          }
        },
        "0b756288f8ef4d148395f2788f295f45": {
          "model_module": "@jupyter-widgets/controls",
          "model_name": "FloatProgressModel",
          "state": {
            "_view_name": "ProgressView",
            "style": "IPY_MODEL_9fb79a893b9c48b58c04824a3139124e",
            "_dom_classes": [],
            "description": "Validating: 100%",
            "_model_name": "FloatProgressModel",
            "bar_style": "info",
            "max": 1,
            "_view_module": "@jupyter-widgets/controls",
            "_model_module_version": "1.5.0",
            "value": 1,
            "_view_count": null,
            "_view_module_version": "1.5.0",
            "orientation": "horizontal",
            "min": 0,
            "description_tooltip": null,
            "_model_module": "@jupyter-widgets/controls",
            "layout": "IPY_MODEL_6b48c0fe46c64b4b99f2ad5692a11627"
          }
        },
        "f3632c8ede1644d498288377df53d166": {
          "model_module": "@jupyter-widgets/controls",
          "model_name": "HTMLModel",
          "state": {
            "_view_name": "HTMLView",
            "style": "IPY_MODEL_dc4a9e77af6d49e481dc789f392cb1f2",
            "_dom_classes": [],
            "description": "",
            "_model_name": "HTMLModel",
            "placeholder": "​",
            "_view_module": "@jupyter-widgets/controls",
            "_model_module_version": "1.5.0",
            "value": " 3/3 [00:33&lt;00:00,  1.17it/s]",
            "_view_count": null,
            "_view_module_version": "1.5.0",
            "description_tooltip": null,
            "_model_module": "@jupyter-widgets/controls",
            "layout": "IPY_MODEL_1836f358fc6541cd819fafe9ef0c83ab"
          }
        },
        "9fb79a893b9c48b58c04824a3139124e": {
          "model_module": "@jupyter-widgets/controls",
          "model_name": "ProgressStyleModel",
          "state": {
            "_view_name": "StyleView",
            "_model_name": "ProgressStyleModel",
            "description_width": "initial",
            "_view_module": "@jupyter-widgets/base",
            "_model_module_version": "1.5.0",
            "_view_count": null,
            "_view_module_version": "1.2.0",
            "bar_color": null,
            "_model_module": "@jupyter-widgets/controls"
          }
        },
        "6b48c0fe46c64b4b99f2ad5692a11627": {
          "model_module": "@jupyter-widgets/base",
          "model_name": "LayoutModel",
          "state": {
            "_view_name": "LayoutView",
            "grid_template_rows": null,
            "right": null,
            "justify_content": null,
            "_view_module": "@jupyter-widgets/base",
            "overflow": null,
            "_model_module_version": "1.2.0",
            "_view_count": null,
            "flex_flow": null,
            "width": null,
            "min_width": null,
            "border": null,
            "align_items": null,
            "bottom": null,
            "_model_module": "@jupyter-widgets/base",
            "top": null,
            "grid_column": null,
            "overflow_y": null,
            "overflow_x": null,
            "grid_auto_flow": null,
            "grid_area": null,
            "grid_template_columns": null,
            "flex": "2",
            "_model_name": "LayoutModel",
            "justify_items": null,
            "grid_row": null,
            "max_height": null,
            "align_content": null,
            "visibility": null,
            "align_self": null,
            "height": null,
            "min_height": null,
            "padding": null,
            "grid_auto_rows": null,
            "grid_gap": null,
            "max_width": null,
            "order": null,
            "_view_module_version": "1.2.0",
            "grid_template_areas": null,
            "object_position": null,
            "object_fit": null,
            "grid_auto_columns": null,
            "margin": null,
            "display": null,
            "left": null
          }
        },
        "dc4a9e77af6d49e481dc789f392cb1f2": {
          "model_module": "@jupyter-widgets/controls",
          "model_name": "DescriptionStyleModel",
          "state": {
            "_view_name": "StyleView",
            "_model_name": "DescriptionStyleModel",
            "description_width": "",
            "_view_module": "@jupyter-widgets/base",
            "_model_module_version": "1.5.0",
            "_view_count": null,
            "_view_module_version": "1.2.0",
            "_model_module": "@jupyter-widgets/controls"
          }
        },
        "1836f358fc6541cd819fafe9ef0c83ab": {
          "model_module": "@jupyter-widgets/base",
          "model_name": "LayoutModel",
          "state": {
            "_view_name": "LayoutView",
            "grid_template_rows": null,
            "right": null,
            "justify_content": null,
            "_view_module": "@jupyter-widgets/base",
            "overflow": null,
            "_model_module_version": "1.2.0",
            "_view_count": null,
            "flex_flow": null,
            "width": null,
            "min_width": null,
            "border": null,
            "align_items": null,
            "bottom": null,
            "_model_module": "@jupyter-widgets/base",
            "top": null,
            "grid_column": null,
            "overflow_y": null,
            "overflow_x": null,
            "grid_auto_flow": null,
            "grid_area": null,
            "grid_template_columns": null,
            "flex": null,
            "_model_name": "LayoutModel",
            "justify_items": null,
            "grid_row": null,
            "max_height": null,
            "align_content": null,
            "visibility": null,
            "align_self": null,
            "height": null,
            "min_height": null,
            "padding": null,
            "grid_auto_rows": null,
            "grid_gap": null,
            "max_width": null,
            "order": null,
            "_view_module_version": "1.2.0",
            "grid_template_areas": null,
            "object_position": null,
            "object_fit": null,
            "grid_auto_columns": null,
            "margin": null,
            "display": null,
            "left": null
          }
        },
        "92b27730b7954fa6a34fea3cbda851a6": {
          "model_module": "@jupyter-widgets/controls",
          "model_name": "HBoxModel",
          "state": {
            "_view_name": "HBoxView",
            "_dom_classes": [],
            "_model_name": "HBoxModel",
            "_view_module": "@jupyter-widgets/controls",
            "_model_module_version": "1.5.0",
            "_view_count": null,
            "_view_module_version": "1.5.0",
            "box_style": "",
            "layout": "IPY_MODEL_77559eae4bcd48aa9341d143e74265c3",
            "_model_module": "@jupyter-widgets/controls",
            "children": [
              "IPY_MODEL_d05fe363d06948c997acca830b40fe27",
              "IPY_MODEL_760fdc70aba842c4b20214c2ce4522f1"
            ]
          }
        },
        "77559eae4bcd48aa9341d143e74265c3": {
          "model_module": "@jupyter-widgets/base",
          "model_name": "LayoutModel",
          "state": {
            "_view_name": "LayoutView",
            "grid_template_rows": null,
            "right": null,
            "justify_content": null,
            "_view_module": "@jupyter-widgets/base",
            "overflow": null,
            "_model_module_version": "1.2.0",
            "_view_count": null,
            "flex_flow": "row wrap",
            "width": "100%",
            "min_width": null,
            "border": null,
            "align_items": null,
            "bottom": null,
            "_model_module": "@jupyter-widgets/base",
            "top": null,
            "grid_column": null,
            "overflow_y": null,
            "overflow_x": null,
            "grid_auto_flow": null,
            "grid_area": null,
            "grid_template_columns": null,
            "flex": null,
            "_model_name": "LayoutModel",
            "justify_items": null,
            "grid_row": null,
            "max_height": null,
            "align_content": null,
            "visibility": null,
            "align_self": null,
            "height": null,
            "min_height": null,
            "padding": null,
            "grid_auto_rows": null,
            "grid_gap": null,
            "max_width": null,
            "order": null,
            "_view_module_version": "1.2.0",
            "grid_template_areas": null,
            "object_position": null,
            "object_fit": null,
            "grid_auto_columns": null,
            "margin": null,
            "display": "inline-flex",
            "left": null
          }
        },
        "d05fe363d06948c997acca830b40fe27": {
          "model_module": "@jupyter-widgets/controls",
          "model_name": "FloatProgressModel",
          "state": {
            "_view_name": "ProgressView",
            "style": "IPY_MODEL_1e41308357b54c8f80a3487991949f22",
            "_dom_classes": [],
            "description": "Validating: 100%",
            "_model_name": "FloatProgressModel",
            "bar_style": "info",
            "max": 1,
            "_view_module": "@jupyter-widgets/controls",
            "_model_module_version": "1.5.0",
            "value": 1,
            "_view_count": null,
            "_view_module_version": "1.5.0",
            "orientation": "horizontal",
            "min": 0,
            "description_tooltip": null,
            "_model_module": "@jupyter-widgets/controls",
            "layout": "IPY_MODEL_96329f65b92e4763ba3d5a728d99eb1d"
          }
        },
        "760fdc70aba842c4b20214c2ce4522f1": {
          "model_module": "@jupyter-widgets/controls",
          "model_name": "HTMLModel",
          "state": {
            "_view_name": "HTMLView",
            "style": "IPY_MODEL_e6fbfbfb4e684952a3e53b2614ff7334",
            "_dom_classes": [],
            "description": "",
            "_model_name": "HTMLModel",
            "placeholder": "​",
            "_view_module": "@jupyter-widgets/controls",
            "_model_module_version": "1.5.0",
            "value": " 3/3 [00:32&lt;00:00,  1.25it/s]",
            "_view_count": null,
            "_view_module_version": "1.5.0",
            "description_tooltip": null,
            "_model_module": "@jupyter-widgets/controls",
            "layout": "IPY_MODEL_0fa2716f2b284bd5b3da5721a96c70e1"
          }
        },
        "1e41308357b54c8f80a3487991949f22": {
          "model_module": "@jupyter-widgets/controls",
          "model_name": "ProgressStyleModel",
          "state": {
            "_view_name": "StyleView",
            "_model_name": "ProgressStyleModel",
            "description_width": "initial",
            "_view_module": "@jupyter-widgets/base",
            "_model_module_version": "1.5.0",
            "_view_count": null,
            "_view_module_version": "1.2.0",
            "bar_color": null,
            "_model_module": "@jupyter-widgets/controls"
          }
        },
        "96329f65b92e4763ba3d5a728d99eb1d": {
          "model_module": "@jupyter-widgets/base",
          "model_name": "LayoutModel",
          "state": {
            "_view_name": "LayoutView",
            "grid_template_rows": null,
            "right": null,
            "justify_content": null,
            "_view_module": "@jupyter-widgets/base",
            "overflow": null,
            "_model_module_version": "1.2.0",
            "_view_count": null,
            "flex_flow": null,
            "width": null,
            "min_width": null,
            "border": null,
            "align_items": null,
            "bottom": null,
            "_model_module": "@jupyter-widgets/base",
            "top": null,
            "grid_column": null,
            "overflow_y": null,
            "overflow_x": null,
            "grid_auto_flow": null,
            "grid_area": null,
            "grid_template_columns": null,
            "flex": "2",
            "_model_name": "LayoutModel",
            "justify_items": null,
            "grid_row": null,
            "max_height": null,
            "align_content": null,
            "visibility": null,
            "align_self": null,
            "height": null,
            "min_height": null,
            "padding": null,
            "grid_auto_rows": null,
            "grid_gap": null,
            "max_width": null,
            "order": null,
            "_view_module_version": "1.2.0",
            "grid_template_areas": null,
            "object_position": null,
            "object_fit": null,
            "grid_auto_columns": null,
            "margin": null,
            "display": null,
            "left": null
          }
        },
        "e6fbfbfb4e684952a3e53b2614ff7334": {
          "model_module": "@jupyter-widgets/controls",
          "model_name": "DescriptionStyleModel",
          "state": {
            "_view_name": "StyleView",
            "_model_name": "DescriptionStyleModel",
            "description_width": "",
            "_view_module": "@jupyter-widgets/base",
            "_model_module_version": "1.5.0",
            "_view_count": null,
            "_view_module_version": "1.2.0",
            "_model_module": "@jupyter-widgets/controls"
          }
        },
        "0fa2716f2b284bd5b3da5721a96c70e1": {
          "model_module": "@jupyter-widgets/base",
          "model_name": "LayoutModel",
          "state": {
            "_view_name": "LayoutView",
            "grid_template_rows": null,
            "right": null,
            "justify_content": null,
            "_view_module": "@jupyter-widgets/base",
            "overflow": null,
            "_model_module_version": "1.2.0",
            "_view_count": null,
            "flex_flow": null,
            "width": null,
            "min_width": null,
            "border": null,
            "align_items": null,
            "bottom": null,
            "_model_module": "@jupyter-widgets/base",
            "top": null,
            "grid_column": null,
            "overflow_y": null,
            "overflow_x": null,
            "grid_auto_flow": null,
            "grid_area": null,
            "grid_template_columns": null,
            "flex": null,
            "_model_name": "LayoutModel",
            "justify_items": null,
            "grid_row": null,
            "max_height": null,
            "align_content": null,
            "visibility": null,
            "align_self": null,
            "height": null,
            "min_height": null,
            "padding": null,
            "grid_auto_rows": null,
            "grid_gap": null,
            "max_width": null,
            "order": null,
            "_view_module_version": "1.2.0",
            "grid_template_areas": null,
            "object_position": null,
            "object_fit": null,
            "grid_auto_columns": null,
            "margin": null,
            "display": null,
            "left": null
          }
        },
        "e31a895a986c4f29bce615fb4fae8af3": {
          "model_module": "@jupyter-widgets/controls",
          "model_name": "HBoxModel",
          "state": {
            "_view_name": "HBoxView",
            "_dom_classes": [],
            "_model_name": "HBoxModel",
            "_view_module": "@jupyter-widgets/controls",
            "_model_module_version": "1.5.0",
            "_view_count": null,
            "_view_module_version": "1.5.0",
            "box_style": "",
            "layout": "IPY_MODEL_2f32252e15534342b08c94b7f24ed0d6",
            "_model_module": "@jupyter-widgets/controls",
            "children": [
              "IPY_MODEL_a3bbbde09b0847a29417f1dfd2bcef4a",
              "IPY_MODEL_92ed603d58b0439f93d1a426f8ea6afc"
            ]
          }
        },
        "2f32252e15534342b08c94b7f24ed0d6": {
          "model_module": "@jupyter-widgets/base",
          "model_name": "LayoutModel",
          "state": {
            "_view_name": "LayoutView",
            "grid_template_rows": null,
            "right": null,
            "justify_content": null,
            "_view_module": "@jupyter-widgets/base",
            "overflow": null,
            "_model_module_version": "1.2.0",
            "_view_count": null,
            "flex_flow": "row wrap",
            "width": "100%",
            "min_width": null,
            "border": null,
            "align_items": null,
            "bottom": null,
            "_model_module": "@jupyter-widgets/base",
            "top": null,
            "grid_column": null,
            "overflow_y": null,
            "overflow_x": null,
            "grid_auto_flow": null,
            "grid_area": null,
            "grid_template_columns": null,
            "flex": null,
            "_model_name": "LayoutModel",
            "justify_items": null,
            "grid_row": null,
            "max_height": null,
            "align_content": null,
            "visibility": null,
            "align_self": null,
            "height": null,
            "min_height": null,
            "padding": null,
            "grid_auto_rows": null,
            "grid_gap": null,
            "max_width": null,
            "order": null,
            "_view_module_version": "1.2.0",
            "grid_template_areas": null,
            "object_position": null,
            "object_fit": null,
            "grid_auto_columns": null,
            "margin": null,
            "display": "inline-flex",
            "left": null
          }
        },
        "a3bbbde09b0847a29417f1dfd2bcef4a": {
          "model_module": "@jupyter-widgets/controls",
          "model_name": "FloatProgressModel",
          "state": {
            "_view_name": "ProgressView",
            "style": "IPY_MODEL_7788498169db45558cf92c5a66f3ff47",
            "_dom_classes": [],
            "description": "Validating: 100%",
            "_model_name": "FloatProgressModel",
            "bar_style": "info",
            "max": 1,
            "_view_module": "@jupyter-widgets/controls",
            "_model_module_version": "1.5.0",
            "value": 1,
            "_view_count": null,
            "_view_module_version": "1.5.0",
            "orientation": "horizontal",
            "min": 0,
            "description_tooltip": null,
            "_model_module": "@jupyter-widgets/controls",
            "layout": "IPY_MODEL_0ab09887ba5c46209f521cbb7a3c676e"
          }
        },
        "92ed603d58b0439f93d1a426f8ea6afc": {
          "model_module": "@jupyter-widgets/controls",
          "model_name": "HTMLModel",
          "state": {
            "_view_name": "HTMLView",
            "style": "IPY_MODEL_0050deb5ac764546a00afa68acdea1a5",
            "_dom_classes": [],
            "description": "",
            "_model_name": "HTMLModel",
            "placeholder": "​",
            "_view_module": "@jupyter-widgets/controls",
            "_model_module_version": "1.5.0",
            "value": " 3/3 [00:29&lt;00:00,  1.24it/s]",
            "_view_count": null,
            "_view_module_version": "1.5.0",
            "description_tooltip": null,
            "_model_module": "@jupyter-widgets/controls",
            "layout": "IPY_MODEL_4754e79c54a04f89af7e41921928511e"
          }
        },
        "7788498169db45558cf92c5a66f3ff47": {
          "model_module": "@jupyter-widgets/controls",
          "model_name": "ProgressStyleModel",
          "state": {
            "_view_name": "StyleView",
            "_model_name": "ProgressStyleModel",
            "description_width": "initial",
            "_view_module": "@jupyter-widgets/base",
            "_model_module_version": "1.5.0",
            "_view_count": null,
            "_view_module_version": "1.2.0",
            "bar_color": null,
            "_model_module": "@jupyter-widgets/controls"
          }
        },
        "0ab09887ba5c46209f521cbb7a3c676e": {
          "model_module": "@jupyter-widgets/base",
          "model_name": "LayoutModel",
          "state": {
            "_view_name": "LayoutView",
            "grid_template_rows": null,
            "right": null,
            "justify_content": null,
            "_view_module": "@jupyter-widgets/base",
            "overflow": null,
            "_model_module_version": "1.2.0",
            "_view_count": null,
            "flex_flow": null,
            "width": null,
            "min_width": null,
            "border": null,
            "align_items": null,
            "bottom": null,
            "_model_module": "@jupyter-widgets/base",
            "top": null,
            "grid_column": null,
            "overflow_y": null,
            "overflow_x": null,
            "grid_auto_flow": null,
            "grid_area": null,
            "grid_template_columns": null,
            "flex": "2",
            "_model_name": "LayoutModel",
            "justify_items": null,
            "grid_row": null,
            "max_height": null,
            "align_content": null,
            "visibility": null,
            "align_self": null,
            "height": null,
            "min_height": null,
            "padding": null,
            "grid_auto_rows": null,
            "grid_gap": null,
            "max_width": null,
            "order": null,
            "_view_module_version": "1.2.0",
            "grid_template_areas": null,
            "object_position": null,
            "object_fit": null,
            "grid_auto_columns": null,
            "margin": null,
            "display": null,
            "left": null
          }
        },
        "0050deb5ac764546a00afa68acdea1a5": {
          "model_module": "@jupyter-widgets/controls",
          "model_name": "DescriptionStyleModel",
          "state": {
            "_view_name": "StyleView",
            "_model_name": "DescriptionStyleModel",
            "description_width": "",
            "_view_module": "@jupyter-widgets/base",
            "_model_module_version": "1.5.0",
            "_view_count": null,
            "_view_module_version": "1.2.0",
            "_model_module": "@jupyter-widgets/controls"
          }
        },
        "4754e79c54a04f89af7e41921928511e": {
          "model_module": "@jupyter-widgets/base",
          "model_name": "LayoutModel",
          "state": {
            "_view_name": "LayoutView",
            "grid_template_rows": null,
            "right": null,
            "justify_content": null,
            "_view_module": "@jupyter-widgets/base",
            "overflow": null,
            "_model_module_version": "1.2.0",
            "_view_count": null,
            "flex_flow": null,
            "width": null,
            "min_width": null,
            "border": null,
            "align_items": null,
            "bottom": null,
            "_model_module": "@jupyter-widgets/base",
            "top": null,
            "grid_column": null,
            "overflow_y": null,
            "overflow_x": null,
            "grid_auto_flow": null,
            "grid_area": null,
            "grid_template_columns": null,
            "flex": null,
            "_model_name": "LayoutModel",
            "justify_items": null,
            "grid_row": null,
            "max_height": null,
            "align_content": null,
            "visibility": null,
            "align_self": null,
            "height": null,
            "min_height": null,
            "padding": null,
            "grid_auto_rows": null,
            "grid_gap": null,
            "max_width": null,
            "order": null,
            "_view_module_version": "1.2.0",
            "grid_template_areas": null,
            "object_position": null,
            "object_fit": null,
            "grid_auto_columns": null,
            "margin": null,
            "display": null,
            "left": null
          }
        },
        "06618173578340eb9cefa2fee0780423": {
          "model_module": "@jupyter-widgets/controls",
          "model_name": "HBoxModel",
          "state": {
            "_view_name": "HBoxView",
            "_dom_classes": [],
            "_model_name": "HBoxModel",
            "_view_module": "@jupyter-widgets/controls",
            "_model_module_version": "1.5.0",
            "_view_count": null,
            "_view_module_version": "1.5.0",
            "box_style": "",
            "layout": "IPY_MODEL_40afdd31f5834d72b17e9da10cd8e8ed",
            "_model_module": "@jupyter-widgets/controls",
            "children": [
              "IPY_MODEL_fbe3d383449d4b1ca71de17988569722",
              "IPY_MODEL_39e6a85ac10f47aca6d278a2449e2210"
            ]
          }
        },
        "40afdd31f5834d72b17e9da10cd8e8ed": {
          "model_module": "@jupyter-widgets/base",
          "model_name": "LayoutModel",
          "state": {
            "_view_name": "LayoutView",
            "grid_template_rows": null,
            "right": null,
            "justify_content": null,
            "_view_module": "@jupyter-widgets/base",
            "overflow": null,
            "_model_module_version": "1.2.0",
            "_view_count": null,
            "flex_flow": "row wrap",
            "width": "100%",
            "min_width": null,
            "border": null,
            "align_items": null,
            "bottom": null,
            "_model_module": "@jupyter-widgets/base",
            "top": null,
            "grid_column": null,
            "overflow_y": null,
            "overflow_x": null,
            "grid_auto_flow": null,
            "grid_area": null,
            "grid_template_columns": null,
            "flex": null,
            "_model_name": "LayoutModel",
            "justify_items": null,
            "grid_row": null,
            "max_height": null,
            "align_content": null,
            "visibility": null,
            "align_self": null,
            "height": null,
            "min_height": null,
            "padding": null,
            "grid_auto_rows": null,
            "grid_gap": null,
            "max_width": null,
            "order": null,
            "_view_module_version": "1.2.0",
            "grid_template_areas": null,
            "object_position": null,
            "object_fit": null,
            "grid_auto_columns": null,
            "margin": null,
            "display": "inline-flex",
            "left": null
          }
        },
        "fbe3d383449d4b1ca71de17988569722": {
          "model_module": "@jupyter-widgets/controls",
          "model_name": "FloatProgressModel",
          "state": {
            "_view_name": "ProgressView",
            "style": "IPY_MODEL_89472640f7604c07935c08481ca3191a",
            "_dom_classes": [],
            "description": "Validating: 100%",
            "_model_name": "FloatProgressModel",
            "bar_style": "info",
            "max": 1,
            "_view_module": "@jupyter-widgets/controls",
            "_model_module_version": "1.5.0",
            "value": 1,
            "_view_count": null,
            "_view_module_version": "1.5.0",
            "orientation": "horizontal",
            "min": 0,
            "description_tooltip": null,
            "_model_module": "@jupyter-widgets/controls",
            "layout": "IPY_MODEL_17012b4e7b3946dcaa2a69358a80c295"
          }
        },
        "39e6a85ac10f47aca6d278a2449e2210": {
          "model_module": "@jupyter-widgets/controls",
          "model_name": "HTMLModel",
          "state": {
            "_view_name": "HTMLView",
            "style": "IPY_MODEL_4e9418167cf44e308bc03b71e8c62334",
            "_dom_classes": [],
            "description": "",
            "_model_name": "HTMLModel",
            "placeholder": "​",
            "_view_module": "@jupyter-widgets/controls",
            "_model_module_version": "1.5.0",
            "value": " 3/3 [00:27&lt;00:00,  1.19it/s]",
            "_view_count": null,
            "_view_module_version": "1.5.0",
            "description_tooltip": null,
            "_model_module": "@jupyter-widgets/controls",
            "layout": "IPY_MODEL_384abe19b7f645febb3b2ee181b94020"
          }
        },
        "89472640f7604c07935c08481ca3191a": {
          "model_module": "@jupyter-widgets/controls",
          "model_name": "ProgressStyleModel",
          "state": {
            "_view_name": "StyleView",
            "_model_name": "ProgressStyleModel",
            "description_width": "initial",
            "_view_module": "@jupyter-widgets/base",
            "_model_module_version": "1.5.0",
            "_view_count": null,
            "_view_module_version": "1.2.0",
            "bar_color": null,
            "_model_module": "@jupyter-widgets/controls"
          }
        },
        "17012b4e7b3946dcaa2a69358a80c295": {
          "model_module": "@jupyter-widgets/base",
          "model_name": "LayoutModel",
          "state": {
            "_view_name": "LayoutView",
            "grid_template_rows": null,
            "right": null,
            "justify_content": null,
            "_view_module": "@jupyter-widgets/base",
            "overflow": null,
            "_model_module_version": "1.2.0",
            "_view_count": null,
            "flex_flow": null,
            "width": null,
            "min_width": null,
            "border": null,
            "align_items": null,
            "bottom": null,
            "_model_module": "@jupyter-widgets/base",
            "top": null,
            "grid_column": null,
            "overflow_y": null,
            "overflow_x": null,
            "grid_auto_flow": null,
            "grid_area": null,
            "grid_template_columns": null,
            "flex": "2",
            "_model_name": "LayoutModel",
            "justify_items": null,
            "grid_row": null,
            "max_height": null,
            "align_content": null,
            "visibility": null,
            "align_self": null,
            "height": null,
            "min_height": null,
            "padding": null,
            "grid_auto_rows": null,
            "grid_gap": null,
            "max_width": null,
            "order": null,
            "_view_module_version": "1.2.0",
            "grid_template_areas": null,
            "object_position": null,
            "object_fit": null,
            "grid_auto_columns": null,
            "margin": null,
            "display": null,
            "left": null
          }
        },
        "4e9418167cf44e308bc03b71e8c62334": {
          "model_module": "@jupyter-widgets/controls",
          "model_name": "DescriptionStyleModel",
          "state": {
            "_view_name": "StyleView",
            "_model_name": "DescriptionStyleModel",
            "description_width": "",
            "_view_module": "@jupyter-widgets/base",
            "_model_module_version": "1.5.0",
            "_view_count": null,
            "_view_module_version": "1.2.0",
            "_model_module": "@jupyter-widgets/controls"
          }
        },
        "384abe19b7f645febb3b2ee181b94020": {
          "model_module": "@jupyter-widgets/base",
          "model_name": "LayoutModel",
          "state": {
            "_view_name": "LayoutView",
            "grid_template_rows": null,
            "right": null,
            "justify_content": null,
            "_view_module": "@jupyter-widgets/base",
            "overflow": null,
            "_model_module_version": "1.2.0",
            "_view_count": null,
            "flex_flow": null,
            "width": null,
            "min_width": null,
            "border": null,
            "align_items": null,
            "bottom": null,
            "_model_module": "@jupyter-widgets/base",
            "top": null,
            "grid_column": null,
            "overflow_y": null,
            "overflow_x": null,
            "grid_auto_flow": null,
            "grid_area": null,
            "grid_template_columns": null,
            "flex": null,
            "_model_name": "LayoutModel",
            "justify_items": null,
            "grid_row": null,
            "max_height": null,
            "align_content": null,
            "visibility": null,
            "align_self": null,
            "height": null,
            "min_height": null,
            "padding": null,
            "grid_auto_rows": null,
            "grid_gap": null,
            "max_width": null,
            "order": null,
            "_view_module_version": "1.2.0",
            "grid_template_areas": null,
            "object_position": null,
            "object_fit": null,
            "grid_auto_columns": null,
            "margin": null,
            "display": null,
            "left": null
          }
        },
        "ae229dd0eb44473589a053ef35861875": {
          "model_module": "@jupyter-widgets/controls",
          "model_name": "HBoxModel",
          "state": {
            "_view_name": "HBoxView",
            "_dom_classes": [],
            "_model_name": "HBoxModel",
            "_view_module": "@jupyter-widgets/controls",
            "_model_module_version": "1.5.0",
            "_view_count": null,
            "_view_module_version": "1.5.0",
            "box_style": "",
            "layout": "IPY_MODEL_c7f217e527234414892a1080a05f1886",
            "_model_module": "@jupyter-widgets/controls",
            "children": [
              "IPY_MODEL_c6e2ff20629d48008306bc0e2a050523",
              "IPY_MODEL_2d66ff101d014018856db2d0ea28e1d0"
            ]
          }
        },
        "c7f217e527234414892a1080a05f1886": {
          "model_module": "@jupyter-widgets/base",
          "model_name": "LayoutModel",
          "state": {
            "_view_name": "LayoutView",
            "grid_template_rows": null,
            "right": null,
            "justify_content": null,
            "_view_module": "@jupyter-widgets/base",
            "overflow": null,
            "_model_module_version": "1.2.0",
            "_view_count": null,
            "flex_flow": "row wrap",
            "width": "100%",
            "min_width": null,
            "border": null,
            "align_items": null,
            "bottom": null,
            "_model_module": "@jupyter-widgets/base",
            "top": null,
            "grid_column": null,
            "overflow_y": null,
            "overflow_x": null,
            "grid_auto_flow": null,
            "grid_area": null,
            "grid_template_columns": null,
            "flex": null,
            "_model_name": "LayoutModel",
            "justify_items": null,
            "grid_row": null,
            "max_height": null,
            "align_content": null,
            "visibility": null,
            "align_self": null,
            "height": null,
            "min_height": null,
            "padding": null,
            "grid_auto_rows": null,
            "grid_gap": null,
            "max_width": null,
            "order": null,
            "_view_module_version": "1.2.0",
            "grid_template_areas": null,
            "object_position": null,
            "object_fit": null,
            "grid_auto_columns": null,
            "margin": null,
            "display": "inline-flex",
            "left": null
          }
        },
        "c6e2ff20629d48008306bc0e2a050523": {
          "model_module": "@jupyter-widgets/controls",
          "model_name": "FloatProgressModel",
          "state": {
            "_view_name": "ProgressView",
            "style": "IPY_MODEL_5acba8dde38a44fbb909436a5dfc6021",
            "_dom_classes": [],
            "description": "Validating: 100%",
            "_model_name": "FloatProgressModel",
            "bar_style": "info",
            "max": 1,
            "_view_module": "@jupyter-widgets/controls",
            "_model_module_version": "1.5.0",
            "value": 1,
            "_view_count": null,
            "_view_module_version": "1.5.0",
            "orientation": "horizontal",
            "min": 0,
            "description_tooltip": null,
            "_model_module": "@jupyter-widgets/controls",
            "layout": "IPY_MODEL_ece6ebb7f87142559a3a6b6327349698"
          }
        },
        "2d66ff101d014018856db2d0ea28e1d0": {
          "model_module": "@jupyter-widgets/controls",
          "model_name": "HTMLModel",
          "state": {
            "_view_name": "HTMLView",
            "style": "IPY_MODEL_769628fc1cd746fcb1a9a37f7cfbeff7",
            "_dom_classes": [],
            "description": "",
            "_model_name": "HTMLModel",
            "placeholder": "​",
            "_view_module": "@jupyter-widgets/controls",
            "_model_module_version": "1.5.0",
            "value": " 3/3 [00:28&lt;00:00,  1.29it/s]",
            "_view_count": null,
            "_view_module_version": "1.5.0",
            "description_tooltip": null,
            "_model_module": "@jupyter-widgets/controls",
            "layout": "IPY_MODEL_b719edb4f9044bdead150ddaa92c7367"
          }
        },
        "5acba8dde38a44fbb909436a5dfc6021": {
          "model_module": "@jupyter-widgets/controls",
          "model_name": "ProgressStyleModel",
          "state": {
            "_view_name": "StyleView",
            "_model_name": "ProgressStyleModel",
            "description_width": "initial",
            "_view_module": "@jupyter-widgets/base",
            "_model_module_version": "1.5.0",
            "_view_count": null,
            "_view_module_version": "1.2.0",
            "bar_color": null,
            "_model_module": "@jupyter-widgets/controls"
          }
        },
        "ece6ebb7f87142559a3a6b6327349698": {
          "model_module": "@jupyter-widgets/base",
          "model_name": "LayoutModel",
          "state": {
            "_view_name": "LayoutView",
            "grid_template_rows": null,
            "right": null,
            "justify_content": null,
            "_view_module": "@jupyter-widgets/base",
            "overflow": null,
            "_model_module_version": "1.2.0",
            "_view_count": null,
            "flex_flow": null,
            "width": null,
            "min_width": null,
            "border": null,
            "align_items": null,
            "bottom": null,
            "_model_module": "@jupyter-widgets/base",
            "top": null,
            "grid_column": null,
            "overflow_y": null,
            "overflow_x": null,
            "grid_auto_flow": null,
            "grid_area": null,
            "grid_template_columns": null,
            "flex": "2",
            "_model_name": "LayoutModel",
            "justify_items": null,
            "grid_row": null,
            "max_height": null,
            "align_content": null,
            "visibility": null,
            "align_self": null,
            "height": null,
            "min_height": null,
            "padding": null,
            "grid_auto_rows": null,
            "grid_gap": null,
            "max_width": null,
            "order": null,
            "_view_module_version": "1.2.0",
            "grid_template_areas": null,
            "object_position": null,
            "object_fit": null,
            "grid_auto_columns": null,
            "margin": null,
            "display": null,
            "left": null
          }
        },
        "769628fc1cd746fcb1a9a37f7cfbeff7": {
          "model_module": "@jupyter-widgets/controls",
          "model_name": "DescriptionStyleModel",
          "state": {
            "_view_name": "StyleView",
            "_model_name": "DescriptionStyleModel",
            "description_width": "",
            "_view_module": "@jupyter-widgets/base",
            "_model_module_version": "1.5.0",
            "_view_count": null,
            "_view_module_version": "1.2.0",
            "_model_module": "@jupyter-widgets/controls"
          }
        },
        "b719edb4f9044bdead150ddaa92c7367": {
          "model_module": "@jupyter-widgets/base",
          "model_name": "LayoutModel",
          "state": {
            "_view_name": "LayoutView",
            "grid_template_rows": null,
            "right": null,
            "justify_content": null,
            "_view_module": "@jupyter-widgets/base",
            "overflow": null,
            "_model_module_version": "1.2.0",
            "_view_count": null,
            "flex_flow": null,
            "width": null,
            "min_width": null,
            "border": null,
            "align_items": null,
            "bottom": null,
            "_model_module": "@jupyter-widgets/base",
            "top": null,
            "grid_column": null,
            "overflow_y": null,
            "overflow_x": null,
            "grid_auto_flow": null,
            "grid_area": null,
            "grid_template_columns": null,
            "flex": null,
            "_model_name": "LayoutModel",
            "justify_items": null,
            "grid_row": null,
            "max_height": null,
            "align_content": null,
            "visibility": null,
            "align_self": null,
            "height": null,
            "min_height": null,
            "padding": null,
            "grid_auto_rows": null,
            "grid_gap": null,
            "max_width": null,
            "order": null,
            "_view_module_version": "1.2.0",
            "grid_template_areas": null,
            "object_position": null,
            "object_fit": null,
            "grid_auto_columns": null,
            "margin": null,
            "display": null,
            "left": null
          }
        },
        "50057e000d4044ecada8fadd588872b1": {
          "model_module": "@jupyter-widgets/controls",
          "model_name": "HBoxModel",
          "state": {
            "_view_name": "HBoxView",
            "_dom_classes": [],
            "_model_name": "HBoxModel",
            "_view_module": "@jupyter-widgets/controls",
            "_model_module_version": "1.5.0",
            "_view_count": null,
            "_view_module_version": "1.5.0",
            "box_style": "",
            "layout": "IPY_MODEL_ecc9b0503f8248afb244084e1e8d4e19",
            "_model_module": "@jupyter-widgets/controls",
            "children": [
              "IPY_MODEL_f546d797f509489a9e94648f0e68b1a0",
              "IPY_MODEL_6161d156c46544aa99c352ae18d862a1"
            ]
          }
        },
        "ecc9b0503f8248afb244084e1e8d4e19": {
          "model_module": "@jupyter-widgets/base",
          "model_name": "LayoutModel",
          "state": {
            "_view_name": "LayoutView",
            "grid_template_rows": null,
            "right": null,
            "justify_content": null,
            "_view_module": "@jupyter-widgets/base",
            "overflow": null,
            "_model_module_version": "1.2.0",
            "_view_count": null,
            "flex_flow": "row wrap",
            "width": "100%",
            "min_width": null,
            "border": null,
            "align_items": null,
            "bottom": null,
            "_model_module": "@jupyter-widgets/base",
            "top": null,
            "grid_column": null,
            "overflow_y": null,
            "overflow_x": null,
            "grid_auto_flow": null,
            "grid_area": null,
            "grid_template_columns": null,
            "flex": null,
            "_model_name": "LayoutModel",
            "justify_items": null,
            "grid_row": null,
            "max_height": null,
            "align_content": null,
            "visibility": null,
            "align_self": null,
            "height": null,
            "min_height": null,
            "padding": null,
            "grid_auto_rows": null,
            "grid_gap": null,
            "max_width": null,
            "order": null,
            "_view_module_version": "1.2.0",
            "grid_template_areas": null,
            "object_position": null,
            "object_fit": null,
            "grid_auto_columns": null,
            "margin": null,
            "display": "inline-flex",
            "left": null
          }
        },
        "f546d797f509489a9e94648f0e68b1a0": {
          "model_module": "@jupyter-widgets/controls",
          "model_name": "FloatProgressModel",
          "state": {
            "_view_name": "ProgressView",
            "style": "IPY_MODEL_99fbbfcd266248ffabe0d50409e360b9",
            "_dom_classes": [],
            "description": "Validating: 100%",
            "_model_name": "FloatProgressModel",
            "bar_style": "info",
            "max": 1,
            "_view_module": "@jupyter-widgets/controls",
            "_model_module_version": "1.5.0",
            "value": 1,
            "_view_count": null,
            "_view_module_version": "1.5.0",
            "orientation": "horizontal",
            "min": 0,
            "description_tooltip": null,
            "_model_module": "@jupyter-widgets/controls",
            "layout": "IPY_MODEL_a8599d3a542142dfad7e595cba038b8a"
          }
        },
        "6161d156c46544aa99c352ae18d862a1": {
          "model_module": "@jupyter-widgets/controls",
          "model_name": "HTMLModel",
          "state": {
            "_view_name": "HTMLView",
            "style": "IPY_MODEL_a768c721d7ce4115a770842150ab13fd",
            "_dom_classes": [],
            "description": "",
            "_model_name": "HTMLModel",
            "placeholder": "​",
            "_view_module": "@jupyter-widgets/controls",
            "_model_module_version": "1.5.0",
            "value": " 3/3 [00:33&lt;00:00,  1.25it/s]",
            "_view_count": null,
            "_view_module_version": "1.5.0",
            "description_tooltip": null,
            "_model_module": "@jupyter-widgets/controls",
            "layout": "IPY_MODEL_c36dc6cc41634df58103e57790a32af6"
          }
        },
        "99fbbfcd266248ffabe0d50409e360b9": {
          "model_module": "@jupyter-widgets/controls",
          "model_name": "ProgressStyleModel",
          "state": {
            "_view_name": "StyleView",
            "_model_name": "ProgressStyleModel",
            "description_width": "initial",
            "_view_module": "@jupyter-widgets/base",
            "_model_module_version": "1.5.0",
            "_view_count": null,
            "_view_module_version": "1.2.0",
            "bar_color": null,
            "_model_module": "@jupyter-widgets/controls"
          }
        },
        "a8599d3a542142dfad7e595cba038b8a": {
          "model_module": "@jupyter-widgets/base",
          "model_name": "LayoutModel",
          "state": {
            "_view_name": "LayoutView",
            "grid_template_rows": null,
            "right": null,
            "justify_content": null,
            "_view_module": "@jupyter-widgets/base",
            "overflow": null,
            "_model_module_version": "1.2.0",
            "_view_count": null,
            "flex_flow": null,
            "width": null,
            "min_width": null,
            "border": null,
            "align_items": null,
            "bottom": null,
            "_model_module": "@jupyter-widgets/base",
            "top": null,
            "grid_column": null,
            "overflow_y": null,
            "overflow_x": null,
            "grid_auto_flow": null,
            "grid_area": null,
            "grid_template_columns": null,
            "flex": "2",
            "_model_name": "LayoutModel",
            "justify_items": null,
            "grid_row": null,
            "max_height": null,
            "align_content": null,
            "visibility": null,
            "align_self": null,
            "height": null,
            "min_height": null,
            "padding": null,
            "grid_auto_rows": null,
            "grid_gap": null,
            "max_width": null,
            "order": null,
            "_view_module_version": "1.2.0",
            "grid_template_areas": null,
            "object_position": null,
            "object_fit": null,
            "grid_auto_columns": null,
            "margin": null,
            "display": null,
            "left": null
          }
        },
        "a768c721d7ce4115a770842150ab13fd": {
          "model_module": "@jupyter-widgets/controls",
          "model_name": "DescriptionStyleModel",
          "state": {
            "_view_name": "StyleView",
            "_model_name": "DescriptionStyleModel",
            "description_width": "",
            "_view_module": "@jupyter-widgets/base",
            "_model_module_version": "1.5.0",
            "_view_count": null,
            "_view_module_version": "1.2.0",
            "_model_module": "@jupyter-widgets/controls"
          }
        },
        "c36dc6cc41634df58103e57790a32af6": {
          "model_module": "@jupyter-widgets/base",
          "model_name": "LayoutModel",
          "state": {
            "_view_name": "LayoutView",
            "grid_template_rows": null,
            "right": null,
            "justify_content": null,
            "_view_module": "@jupyter-widgets/base",
            "overflow": null,
            "_model_module_version": "1.2.0",
            "_view_count": null,
            "flex_flow": null,
            "width": null,
            "min_width": null,
            "border": null,
            "align_items": null,
            "bottom": null,
            "_model_module": "@jupyter-widgets/base",
            "top": null,
            "grid_column": null,
            "overflow_y": null,
            "overflow_x": null,
            "grid_auto_flow": null,
            "grid_area": null,
            "grid_template_columns": null,
            "flex": null,
            "_model_name": "LayoutModel",
            "justify_items": null,
            "grid_row": null,
            "max_height": null,
            "align_content": null,
            "visibility": null,
            "align_self": null,
            "height": null,
            "min_height": null,
            "padding": null,
            "grid_auto_rows": null,
            "grid_gap": null,
            "max_width": null,
            "order": null,
            "_view_module_version": "1.2.0",
            "grid_template_areas": null,
            "object_position": null,
            "object_fit": null,
            "grid_auto_columns": null,
            "margin": null,
            "display": null,
            "left": null
          }
        },
        "95fb4efc7a834c12907277a40548c47e": {
          "model_module": "@jupyter-widgets/controls",
          "model_name": "HBoxModel",
          "state": {
            "_view_name": "HBoxView",
            "_dom_classes": [],
            "_model_name": "HBoxModel",
            "_view_module": "@jupyter-widgets/controls",
            "_model_module_version": "1.5.0",
            "_view_count": null,
            "_view_module_version": "1.5.0",
            "box_style": "",
            "layout": "IPY_MODEL_c169e34e04554e8b8caa63595a68a620",
            "_model_module": "@jupyter-widgets/controls",
            "children": [
              "IPY_MODEL_ed4a21dd7d174c2c9891d2400fd3d147",
              "IPY_MODEL_2dbbb0f9c1b244839bdba68fe456e264"
            ]
          }
        },
        "c169e34e04554e8b8caa63595a68a620": {
          "model_module": "@jupyter-widgets/base",
          "model_name": "LayoutModel",
          "state": {
            "_view_name": "LayoutView",
            "grid_template_rows": null,
            "right": null,
            "justify_content": null,
            "_view_module": "@jupyter-widgets/base",
            "overflow": null,
            "_model_module_version": "1.2.0",
            "_view_count": null,
            "flex_flow": "row wrap",
            "width": "100%",
            "min_width": null,
            "border": null,
            "align_items": null,
            "bottom": null,
            "_model_module": "@jupyter-widgets/base",
            "top": null,
            "grid_column": null,
            "overflow_y": null,
            "overflow_x": null,
            "grid_auto_flow": null,
            "grid_area": null,
            "grid_template_columns": null,
            "flex": null,
            "_model_name": "LayoutModel",
            "justify_items": null,
            "grid_row": null,
            "max_height": null,
            "align_content": null,
            "visibility": null,
            "align_self": null,
            "height": null,
            "min_height": null,
            "padding": null,
            "grid_auto_rows": null,
            "grid_gap": null,
            "max_width": null,
            "order": null,
            "_view_module_version": "1.2.0",
            "grid_template_areas": null,
            "object_position": null,
            "object_fit": null,
            "grid_auto_columns": null,
            "margin": null,
            "display": "inline-flex",
            "left": null
          }
        },
        "ed4a21dd7d174c2c9891d2400fd3d147": {
          "model_module": "@jupyter-widgets/controls",
          "model_name": "FloatProgressModel",
          "state": {
            "_view_name": "ProgressView",
            "style": "IPY_MODEL_81f4139fd17544e8b22db4695389083b",
            "_dom_classes": [],
            "description": "Validating: 100%",
            "_model_name": "FloatProgressModel",
            "bar_style": "info",
            "max": 1,
            "_view_module": "@jupyter-widgets/controls",
            "_model_module_version": "1.5.0",
            "value": 1,
            "_view_count": null,
            "_view_module_version": "1.5.0",
            "orientation": "horizontal",
            "min": 0,
            "description_tooltip": null,
            "_model_module": "@jupyter-widgets/controls",
            "layout": "IPY_MODEL_c23ecc765b39416fb5baa60ec9143425"
          }
        },
        "2dbbb0f9c1b244839bdba68fe456e264": {
          "model_module": "@jupyter-widgets/controls",
          "model_name": "HTMLModel",
          "state": {
            "_view_name": "HTMLView",
            "style": "IPY_MODEL_195fb0b5ab0d4c29b63dae8d66f77bce",
            "_dom_classes": [],
            "description": "",
            "_model_name": "HTMLModel",
            "placeholder": "​",
            "_view_module": "@jupyter-widgets/controls",
            "_model_module_version": "1.5.0",
            "value": " 3/3 [00:28&lt;00:00,  1.27it/s]",
            "_view_count": null,
            "_view_module_version": "1.5.0",
            "description_tooltip": null,
            "_model_module": "@jupyter-widgets/controls",
            "layout": "IPY_MODEL_2445908321064d9493d8cc1085a5565c"
          }
        },
        "81f4139fd17544e8b22db4695389083b": {
          "model_module": "@jupyter-widgets/controls",
          "model_name": "ProgressStyleModel",
          "state": {
            "_view_name": "StyleView",
            "_model_name": "ProgressStyleModel",
            "description_width": "initial",
            "_view_module": "@jupyter-widgets/base",
            "_model_module_version": "1.5.0",
            "_view_count": null,
            "_view_module_version": "1.2.0",
            "bar_color": null,
            "_model_module": "@jupyter-widgets/controls"
          }
        },
        "c23ecc765b39416fb5baa60ec9143425": {
          "model_module": "@jupyter-widgets/base",
          "model_name": "LayoutModel",
          "state": {
            "_view_name": "LayoutView",
            "grid_template_rows": null,
            "right": null,
            "justify_content": null,
            "_view_module": "@jupyter-widgets/base",
            "overflow": null,
            "_model_module_version": "1.2.0",
            "_view_count": null,
            "flex_flow": null,
            "width": null,
            "min_width": null,
            "border": null,
            "align_items": null,
            "bottom": null,
            "_model_module": "@jupyter-widgets/base",
            "top": null,
            "grid_column": null,
            "overflow_y": null,
            "overflow_x": null,
            "grid_auto_flow": null,
            "grid_area": null,
            "grid_template_columns": null,
            "flex": "2",
            "_model_name": "LayoutModel",
            "justify_items": null,
            "grid_row": null,
            "max_height": null,
            "align_content": null,
            "visibility": null,
            "align_self": null,
            "height": null,
            "min_height": null,
            "padding": null,
            "grid_auto_rows": null,
            "grid_gap": null,
            "max_width": null,
            "order": null,
            "_view_module_version": "1.2.0",
            "grid_template_areas": null,
            "object_position": null,
            "object_fit": null,
            "grid_auto_columns": null,
            "margin": null,
            "display": null,
            "left": null
          }
        },
        "195fb0b5ab0d4c29b63dae8d66f77bce": {
          "model_module": "@jupyter-widgets/controls",
          "model_name": "DescriptionStyleModel",
          "state": {
            "_view_name": "StyleView",
            "_model_name": "DescriptionStyleModel",
            "description_width": "",
            "_view_module": "@jupyter-widgets/base",
            "_model_module_version": "1.5.0",
            "_view_count": null,
            "_view_module_version": "1.2.0",
            "_model_module": "@jupyter-widgets/controls"
          }
        },
        "2445908321064d9493d8cc1085a5565c": {
          "model_module": "@jupyter-widgets/base",
          "model_name": "LayoutModel",
          "state": {
            "_view_name": "LayoutView",
            "grid_template_rows": null,
            "right": null,
            "justify_content": null,
            "_view_module": "@jupyter-widgets/base",
            "overflow": null,
            "_model_module_version": "1.2.0",
            "_view_count": null,
            "flex_flow": null,
            "width": null,
            "min_width": null,
            "border": null,
            "align_items": null,
            "bottom": null,
            "_model_module": "@jupyter-widgets/base",
            "top": null,
            "grid_column": null,
            "overflow_y": null,
            "overflow_x": null,
            "grid_auto_flow": null,
            "grid_area": null,
            "grid_template_columns": null,
            "flex": null,
            "_model_name": "LayoutModel",
            "justify_items": null,
            "grid_row": null,
            "max_height": null,
            "align_content": null,
            "visibility": null,
            "align_self": null,
            "height": null,
            "min_height": null,
            "padding": null,
            "grid_auto_rows": null,
            "grid_gap": null,
            "max_width": null,
            "order": null,
            "_view_module_version": "1.2.0",
            "grid_template_areas": null,
            "object_position": null,
            "object_fit": null,
            "grid_auto_columns": null,
            "margin": null,
            "display": null,
            "left": null
          }
        },
        "7318d5de09c541b9be9bbcc54cbbb005": {
          "model_module": "@jupyter-widgets/controls",
          "model_name": "HBoxModel",
          "state": {
            "_view_name": "HBoxView",
            "_dom_classes": [],
            "_model_name": "HBoxModel",
            "_view_module": "@jupyter-widgets/controls",
            "_model_module_version": "1.5.0",
            "_view_count": null,
            "_view_module_version": "1.5.0",
            "box_style": "",
            "layout": "IPY_MODEL_aa26dc54f5b140c89592252ff1993231",
            "_model_module": "@jupyter-widgets/controls",
            "children": [
              "IPY_MODEL_897373cdd3cd44fa8f6afab4bc3feb9a",
              "IPY_MODEL_a2abf9bfa0cd486a8b38d0b43f862429"
            ]
          }
        },
        "aa26dc54f5b140c89592252ff1993231": {
          "model_module": "@jupyter-widgets/base",
          "model_name": "LayoutModel",
          "state": {
            "_view_name": "LayoutView",
            "grid_template_rows": null,
            "right": null,
            "justify_content": null,
            "_view_module": "@jupyter-widgets/base",
            "overflow": null,
            "_model_module_version": "1.2.0",
            "_view_count": null,
            "flex_flow": "row wrap",
            "width": "100%",
            "min_width": null,
            "border": null,
            "align_items": null,
            "bottom": null,
            "_model_module": "@jupyter-widgets/base",
            "top": null,
            "grid_column": null,
            "overflow_y": null,
            "overflow_x": null,
            "grid_auto_flow": null,
            "grid_area": null,
            "grid_template_columns": null,
            "flex": null,
            "_model_name": "LayoutModel",
            "justify_items": null,
            "grid_row": null,
            "max_height": null,
            "align_content": null,
            "visibility": null,
            "align_self": null,
            "height": null,
            "min_height": null,
            "padding": null,
            "grid_auto_rows": null,
            "grid_gap": null,
            "max_width": null,
            "order": null,
            "_view_module_version": "1.2.0",
            "grid_template_areas": null,
            "object_position": null,
            "object_fit": null,
            "grid_auto_columns": null,
            "margin": null,
            "display": "inline-flex",
            "left": null
          }
        },
        "897373cdd3cd44fa8f6afab4bc3feb9a": {
          "model_module": "@jupyter-widgets/controls",
          "model_name": "FloatProgressModel",
          "state": {
            "_view_name": "ProgressView",
            "style": "IPY_MODEL_2e9c9964a7734322a93d534d910358cf",
            "_dom_classes": [],
            "description": "Validating: 100%",
            "_model_name": "FloatProgressModel",
            "bar_style": "info",
            "max": 1,
            "_view_module": "@jupyter-widgets/controls",
            "_model_module_version": "1.5.0",
            "value": 1,
            "_view_count": null,
            "_view_module_version": "1.5.0",
            "orientation": "horizontal",
            "min": 0,
            "description_tooltip": null,
            "_model_module": "@jupyter-widgets/controls",
            "layout": "IPY_MODEL_770f037f564d4cdba6446ca6b62b0d43"
          }
        },
        "a2abf9bfa0cd486a8b38d0b43f862429": {
          "model_module": "@jupyter-widgets/controls",
          "model_name": "HTMLModel",
          "state": {
            "_view_name": "HTMLView",
            "style": "IPY_MODEL_cd4d066332464895801498da1baea98c",
            "_dom_classes": [],
            "description": "",
            "_model_name": "HTMLModel",
            "placeholder": "​",
            "_view_module": "@jupyter-widgets/controls",
            "_model_module_version": "1.5.0",
            "value": " 3/3 [00:27&lt;00:00,  1.30it/s]",
            "_view_count": null,
            "_view_module_version": "1.5.0",
            "description_tooltip": null,
            "_model_module": "@jupyter-widgets/controls",
            "layout": "IPY_MODEL_53e096d4b6574781ab4a5f7a3da914f4"
          }
        },
        "2e9c9964a7734322a93d534d910358cf": {
          "model_module": "@jupyter-widgets/controls",
          "model_name": "ProgressStyleModel",
          "state": {
            "_view_name": "StyleView",
            "_model_name": "ProgressStyleModel",
            "description_width": "initial",
            "_view_module": "@jupyter-widgets/base",
            "_model_module_version": "1.5.0",
            "_view_count": null,
            "_view_module_version": "1.2.0",
            "bar_color": null,
            "_model_module": "@jupyter-widgets/controls"
          }
        },
        "770f037f564d4cdba6446ca6b62b0d43": {
          "model_module": "@jupyter-widgets/base",
          "model_name": "LayoutModel",
          "state": {
            "_view_name": "LayoutView",
            "grid_template_rows": null,
            "right": null,
            "justify_content": null,
            "_view_module": "@jupyter-widgets/base",
            "overflow": null,
            "_model_module_version": "1.2.0",
            "_view_count": null,
            "flex_flow": null,
            "width": null,
            "min_width": null,
            "border": null,
            "align_items": null,
            "bottom": null,
            "_model_module": "@jupyter-widgets/base",
            "top": null,
            "grid_column": null,
            "overflow_y": null,
            "overflow_x": null,
            "grid_auto_flow": null,
            "grid_area": null,
            "grid_template_columns": null,
            "flex": "2",
            "_model_name": "LayoutModel",
            "justify_items": null,
            "grid_row": null,
            "max_height": null,
            "align_content": null,
            "visibility": null,
            "align_self": null,
            "height": null,
            "min_height": null,
            "padding": null,
            "grid_auto_rows": null,
            "grid_gap": null,
            "max_width": null,
            "order": null,
            "_view_module_version": "1.2.0",
            "grid_template_areas": null,
            "object_position": null,
            "object_fit": null,
            "grid_auto_columns": null,
            "margin": null,
            "display": null,
            "left": null
          }
        },
        "cd4d066332464895801498da1baea98c": {
          "model_module": "@jupyter-widgets/controls",
          "model_name": "DescriptionStyleModel",
          "state": {
            "_view_name": "StyleView",
            "_model_name": "DescriptionStyleModel",
            "description_width": "",
            "_view_module": "@jupyter-widgets/base",
            "_model_module_version": "1.5.0",
            "_view_count": null,
            "_view_module_version": "1.2.0",
            "_model_module": "@jupyter-widgets/controls"
          }
        },
        "53e096d4b6574781ab4a5f7a3da914f4": {
          "model_module": "@jupyter-widgets/base",
          "model_name": "LayoutModel",
          "state": {
            "_view_name": "LayoutView",
            "grid_template_rows": null,
            "right": null,
            "justify_content": null,
            "_view_module": "@jupyter-widgets/base",
            "overflow": null,
            "_model_module_version": "1.2.0",
            "_view_count": null,
            "flex_flow": null,
            "width": null,
            "min_width": null,
            "border": null,
            "align_items": null,
            "bottom": null,
            "_model_module": "@jupyter-widgets/base",
            "top": null,
            "grid_column": null,
            "overflow_y": null,
            "overflow_x": null,
            "grid_auto_flow": null,
            "grid_area": null,
            "grid_template_columns": null,
            "flex": null,
            "_model_name": "LayoutModel",
            "justify_items": null,
            "grid_row": null,
            "max_height": null,
            "align_content": null,
            "visibility": null,
            "align_self": null,
            "height": null,
            "min_height": null,
            "padding": null,
            "grid_auto_rows": null,
            "grid_gap": null,
            "max_width": null,
            "order": null,
            "_view_module_version": "1.2.0",
            "grid_template_areas": null,
            "object_position": null,
            "object_fit": null,
            "grid_auto_columns": null,
            "margin": null,
            "display": null,
            "left": null
          }
        },
        "912dba3ae7ee4f639870f2db76cc0d1d": {
          "model_module": "@jupyter-widgets/controls",
          "model_name": "HBoxModel",
          "state": {
            "_view_name": "HBoxView",
            "_dom_classes": [],
            "_model_name": "HBoxModel",
            "_view_module": "@jupyter-widgets/controls",
            "_model_module_version": "1.5.0",
            "_view_count": null,
            "_view_module_version": "1.5.0",
            "box_style": "",
            "layout": "IPY_MODEL_1893bd3dd08c4cb9badab72b2bd681a1",
            "_model_module": "@jupyter-widgets/controls",
            "children": [
              "IPY_MODEL_912a63acfa084224a14640d7a5e9e401",
              "IPY_MODEL_f116b7c47fe94848ae0f256984733bb3"
            ]
          }
        },
        "1893bd3dd08c4cb9badab72b2bd681a1": {
          "model_module": "@jupyter-widgets/base",
          "model_name": "LayoutModel",
          "state": {
            "_view_name": "LayoutView",
            "grid_template_rows": null,
            "right": null,
            "justify_content": null,
            "_view_module": "@jupyter-widgets/base",
            "overflow": null,
            "_model_module_version": "1.2.0",
            "_view_count": null,
            "flex_flow": "row wrap",
            "width": "100%",
            "min_width": null,
            "border": null,
            "align_items": null,
            "bottom": null,
            "_model_module": "@jupyter-widgets/base",
            "top": null,
            "grid_column": null,
            "overflow_y": null,
            "overflow_x": null,
            "grid_auto_flow": null,
            "grid_area": null,
            "grid_template_columns": null,
            "flex": null,
            "_model_name": "LayoutModel",
            "justify_items": null,
            "grid_row": null,
            "max_height": null,
            "align_content": null,
            "visibility": null,
            "align_self": null,
            "height": null,
            "min_height": null,
            "padding": null,
            "grid_auto_rows": null,
            "grid_gap": null,
            "max_width": null,
            "order": null,
            "_view_module_version": "1.2.0",
            "grid_template_areas": null,
            "object_position": null,
            "object_fit": null,
            "grid_auto_columns": null,
            "margin": null,
            "display": "inline-flex",
            "left": null
          }
        },
        "912a63acfa084224a14640d7a5e9e401": {
          "model_module": "@jupyter-widgets/controls",
          "model_name": "FloatProgressModel",
          "state": {
            "_view_name": "ProgressView",
            "style": "IPY_MODEL_bd7db7b3003d484bae768c3fbb49b309",
            "_dom_classes": [],
            "description": "Validating: 100%",
            "_model_name": "FloatProgressModel",
            "bar_style": "info",
            "max": 1,
            "_view_module": "@jupyter-widgets/controls",
            "_model_module_version": "1.5.0",
            "value": 1,
            "_view_count": null,
            "_view_module_version": "1.5.0",
            "orientation": "horizontal",
            "min": 0,
            "description_tooltip": null,
            "_model_module": "@jupyter-widgets/controls",
            "layout": "IPY_MODEL_d40aa8e9cfdd4df1928eca5f696b488f"
          }
        },
        "f116b7c47fe94848ae0f256984733bb3": {
          "model_module": "@jupyter-widgets/controls",
          "model_name": "HTMLModel",
          "state": {
            "_view_name": "HTMLView",
            "style": "IPY_MODEL_d9c185e6ceb144338aca5615df866bb9",
            "_dom_classes": [],
            "description": "",
            "_model_name": "HTMLModel",
            "placeholder": "​",
            "_view_module": "@jupyter-widgets/controls",
            "_model_module_version": "1.5.0",
            "value": " 3/3 [00:27&lt;00:00,  1.26it/s]",
            "_view_count": null,
            "_view_module_version": "1.5.0",
            "description_tooltip": null,
            "_model_module": "@jupyter-widgets/controls",
            "layout": "IPY_MODEL_21c937c39fb5406fbd0019aafc7dc85c"
          }
        },
        "bd7db7b3003d484bae768c3fbb49b309": {
          "model_module": "@jupyter-widgets/controls",
          "model_name": "ProgressStyleModel",
          "state": {
            "_view_name": "StyleView",
            "_model_name": "ProgressStyleModel",
            "description_width": "initial",
            "_view_module": "@jupyter-widgets/base",
            "_model_module_version": "1.5.0",
            "_view_count": null,
            "_view_module_version": "1.2.0",
            "bar_color": null,
            "_model_module": "@jupyter-widgets/controls"
          }
        },
        "d40aa8e9cfdd4df1928eca5f696b488f": {
          "model_module": "@jupyter-widgets/base",
          "model_name": "LayoutModel",
          "state": {
            "_view_name": "LayoutView",
            "grid_template_rows": null,
            "right": null,
            "justify_content": null,
            "_view_module": "@jupyter-widgets/base",
            "overflow": null,
            "_model_module_version": "1.2.0",
            "_view_count": null,
            "flex_flow": null,
            "width": null,
            "min_width": null,
            "border": null,
            "align_items": null,
            "bottom": null,
            "_model_module": "@jupyter-widgets/base",
            "top": null,
            "grid_column": null,
            "overflow_y": null,
            "overflow_x": null,
            "grid_auto_flow": null,
            "grid_area": null,
            "grid_template_columns": null,
            "flex": "2",
            "_model_name": "LayoutModel",
            "justify_items": null,
            "grid_row": null,
            "max_height": null,
            "align_content": null,
            "visibility": null,
            "align_self": null,
            "height": null,
            "min_height": null,
            "padding": null,
            "grid_auto_rows": null,
            "grid_gap": null,
            "max_width": null,
            "order": null,
            "_view_module_version": "1.2.0",
            "grid_template_areas": null,
            "object_position": null,
            "object_fit": null,
            "grid_auto_columns": null,
            "margin": null,
            "display": null,
            "left": null
          }
        },
        "d9c185e6ceb144338aca5615df866bb9": {
          "model_module": "@jupyter-widgets/controls",
          "model_name": "DescriptionStyleModel",
          "state": {
            "_view_name": "StyleView",
            "_model_name": "DescriptionStyleModel",
            "description_width": "",
            "_view_module": "@jupyter-widgets/base",
            "_model_module_version": "1.5.0",
            "_view_count": null,
            "_view_module_version": "1.2.0",
            "_model_module": "@jupyter-widgets/controls"
          }
        },
        "21c937c39fb5406fbd0019aafc7dc85c": {
          "model_module": "@jupyter-widgets/base",
          "model_name": "LayoutModel",
          "state": {
            "_view_name": "LayoutView",
            "grid_template_rows": null,
            "right": null,
            "justify_content": null,
            "_view_module": "@jupyter-widgets/base",
            "overflow": null,
            "_model_module_version": "1.2.0",
            "_view_count": null,
            "flex_flow": null,
            "width": null,
            "min_width": null,
            "border": null,
            "align_items": null,
            "bottom": null,
            "_model_module": "@jupyter-widgets/base",
            "top": null,
            "grid_column": null,
            "overflow_y": null,
            "overflow_x": null,
            "grid_auto_flow": null,
            "grid_area": null,
            "grid_template_columns": null,
            "flex": null,
            "_model_name": "LayoutModel",
            "justify_items": null,
            "grid_row": null,
            "max_height": null,
            "align_content": null,
            "visibility": null,
            "align_self": null,
            "height": null,
            "min_height": null,
            "padding": null,
            "grid_auto_rows": null,
            "grid_gap": null,
            "max_width": null,
            "order": null,
            "_view_module_version": "1.2.0",
            "grid_template_areas": null,
            "object_position": null,
            "object_fit": null,
            "grid_auto_columns": null,
            "margin": null,
            "display": null,
            "left": null
          }
        },
        "05836791ec374ef09401d03cfff8b5dd": {
          "model_module": "@jupyter-widgets/controls",
          "model_name": "HBoxModel",
          "state": {
            "_view_name": "HBoxView",
            "_dom_classes": [],
            "_model_name": "HBoxModel",
            "_view_module": "@jupyter-widgets/controls",
            "_model_module_version": "1.5.0",
            "_view_count": null,
            "_view_module_version": "1.5.0",
            "box_style": "",
            "layout": "IPY_MODEL_790af82b315c4a4fb563bc2e4dd82c86",
            "_model_module": "@jupyter-widgets/controls",
            "children": [
              "IPY_MODEL_4140f212c1044ed39ce3105ca6ecee50",
              "IPY_MODEL_335543a62a494d65a3f0264b7b29b7f9"
            ]
          }
        },
        "790af82b315c4a4fb563bc2e4dd82c86": {
          "model_module": "@jupyter-widgets/base",
          "model_name": "LayoutModel",
          "state": {
            "_view_name": "LayoutView",
            "grid_template_rows": null,
            "right": null,
            "justify_content": null,
            "_view_module": "@jupyter-widgets/base",
            "overflow": null,
            "_model_module_version": "1.2.0",
            "_view_count": null,
            "flex_flow": "row wrap",
            "width": "100%",
            "min_width": null,
            "border": null,
            "align_items": null,
            "bottom": null,
            "_model_module": "@jupyter-widgets/base",
            "top": null,
            "grid_column": null,
            "overflow_y": null,
            "overflow_x": null,
            "grid_auto_flow": null,
            "grid_area": null,
            "grid_template_columns": null,
            "flex": null,
            "_model_name": "LayoutModel",
            "justify_items": null,
            "grid_row": null,
            "max_height": null,
            "align_content": null,
            "visibility": null,
            "align_self": null,
            "height": null,
            "min_height": null,
            "padding": null,
            "grid_auto_rows": null,
            "grid_gap": null,
            "max_width": null,
            "order": null,
            "_view_module_version": "1.2.0",
            "grid_template_areas": null,
            "object_position": null,
            "object_fit": null,
            "grid_auto_columns": null,
            "margin": null,
            "display": "inline-flex",
            "left": null
          }
        },
        "4140f212c1044ed39ce3105ca6ecee50": {
          "model_module": "@jupyter-widgets/controls",
          "model_name": "FloatProgressModel",
          "state": {
            "_view_name": "ProgressView",
            "style": "IPY_MODEL_0df84398e3a9463c96aaa11b71ec0bcb",
            "_dom_classes": [],
            "description": "Validating: 100%",
            "_model_name": "FloatProgressModel",
            "bar_style": "info",
            "max": 1,
            "_view_module": "@jupyter-widgets/controls",
            "_model_module_version": "1.5.0",
            "value": 1,
            "_view_count": null,
            "_view_module_version": "1.5.0",
            "orientation": "horizontal",
            "min": 0,
            "description_tooltip": null,
            "_model_module": "@jupyter-widgets/controls",
            "layout": "IPY_MODEL_dd4d211acee6403c8e60f1623bf402ea"
          }
        },
        "335543a62a494d65a3f0264b7b29b7f9": {
          "model_module": "@jupyter-widgets/controls",
          "model_name": "HTMLModel",
          "state": {
            "_view_name": "HTMLView",
            "style": "IPY_MODEL_baf87cb8739c45039539c8b556fd44ed",
            "_dom_classes": [],
            "description": "",
            "_model_name": "HTMLModel",
            "placeholder": "​",
            "_view_module": "@jupyter-widgets/controls",
            "_model_module_version": "1.5.0",
            "value": " 3/3 [00:30&lt;00:00,  1.30it/s]",
            "_view_count": null,
            "_view_module_version": "1.5.0",
            "description_tooltip": null,
            "_model_module": "@jupyter-widgets/controls",
            "layout": "IPY_MODEL_6696f549882c4f26a8d87f68d5ca4df1"
          }
        },
        "0df84398e3a9463c96aaa11b71ec0bcb": {
          "model_module": "@jupyter-widgets/controls",
          "model_name": "ProgressStyleModel",
          "state": {
            "_view_name": "StyleView",
            "_model_name": "ProgressStyleModel",
            "description_width": "initial",
            "_view_module": "@jupyter-widgets/base",
            "_model_module_version": "1.5.0",
            "_view_count": null,
            "_view_module_version": "1.2.0",
            "bar_color": null,
            "_model_module": "@jupyter-widgets/controls"
          }
        },
        "dd4d211acee6403c8e60f1623bf402ea": {
          "model_module": "@jupyter-widgets/base",
          "model_name": "LayoutModel",
          "state": {
            "_view_name": "LayoutView",
            "grid_template_rows": null,
            "right": null,
            "justify_content": null,
            "_view_module": "@jupyter-widgets/base",
            "overflow": null,
            "_model_module_version": "1.2.0",
            "_view_count": null,
            "flex_flow": null,
            "width": null,
            "min_width": null,
            "border": null,
            "align_items": null,
            "bottom": null,
            "_model_module": "@jupyter-widgets/base",
            "top": null,
            "grid_column": null,
            "overflow_y": null,
            "overflow_x": null,
            "grid_auto_flow": null,
            "grid_area": null,
            "grid_template_columns": null,
            "flex": "2",
            "_model_name": "LayoutModel",
            "justify_items": null,
            "grid_row": null,
            "max_height": null,
            "align_content": null,
            "visibility": null,
            "align_self": null,
            "height": null,
            "min_height": null,
            "padding": null,
            "grid_auto_rows": null,
            "grid_gap": null,
            "max_width": null,
            "order": null,
            "_view_module_version": "1.2.0",
            "grid_template_areas": null,
            "object_position": null,
            "object_fit": null,
            "grid_auto_columns": null,
            "margin": null,
            "display": null,
            "left": null
          }
        },
        "baf87cb8739c45039539c8b556fd44ed": {
          "model_module": "@jupyter-widgets/controls",
          "model_name": "DescriptionStyleModel",
          "state": {
            "_view_name": "StyleView",
            "_model_name": "DescriptionStyleModel",
            "description_width": "",
            "_view_module": "@jupyter-widgets/base",
            "_model_module_version": "1.5.0",
            "_view_count": null,
            "_view_module_version": "1.2.0",
            "_model_module": "@jupyter-widgets/controls"
          }
        },
        "6696f549882c4f26a8d87f68d5ca4df1": {
          "model_module": "@jupyter-widgets/base",
          "model_name": "LayoutModel",
          "state": {
            "_view_name": "LayoutView",
            "grid_template_rows": null,
            "right": null,
            "justify_content": null,
            "_view_module": "@jupyter-widgets/base",
            "overflow": null,
            "_model_module_version": "1.2.0",
            "_view_count": null,
            "flex_flow": null,
            "width": null,
            "min_width": null,
            "border": null,
            "align_items": null,
            "bottom": null,
            "_model_module": "@jupyter-widgets/base",
            "top": null,
            "grid_column": null,
            "overflow_y": null,
            "overflow_x": null,
            "grid_auto_flow": null,
            "grid_area": null,
            "grid_template_columns": null,
            "flex": null,
            "_model_name": "LayoutModel",
            "justify_items": null,
            "grid_row": null,
            "max_height": null,
            "align_content": null,
            "visibility": null,
            "align_self": null,
            "height": null,
            "min_height": null,
            "padding": null,
            "grid_auto_rows": null,
            "grid_gap": null,
            "max_width": null,
            "order": null,
            "_view_module_version": "1.2.0",
            "grid_template_areas": null,
            "object_position": null,
            "object_fit": null,
            "grid_auto_columns": null,
            "margin": null,
            "display": null,
            "left": null
          }
        }
      }
    },
    "accelerator": "GPU"
  },
  "cells": [
    {
      "cell_type": "markdown",
      "metadata": {
        "id": "eGWIM1-VdN1W"
      },
      "source": [
        "# Finetune no dataset do SROIE\n",
        "\n",
        "Este Dataset contém o código de finetune do modelo no dataset de recibos da tarefa SROIE do ICDAR. O modelo parte de pesos pré-treinados. A rotina de pré treino está disponível em https://colab.research.google.com/drive/1craSjUlWaC-MDn34MPXOKq_SDips7N2Q?usp=sharing.\n",
        "\n",
        "Após algumas tentativas com a U-NET, segmentando caracters da imagem de entrada como forma de codificação da imagem, optei por uma nova abordagem inspirado no UNITER: \n",
        "\n",
        "> Chen, Y.-C., Li, L., Yu, L., Kholy, A. El, Ahmed, F., Gan, Z., Cheng, Y., & Liu, J. (n.d.). UNITER: UNiversal Image-TExt Representation Learning. Retrieved December 2, 2020, from https://github.com/ChenRocks/UNITER.\n",
        "\n",
        "A abordagem é basicamente a seguinte:\n",
        "\n",
        "1. A rede é um `Transformer` pré-treinado (`t5-base`)\n",
        "2. A entrada é composta de dois elementos: **(1)** patches de 16x16 da imagem do recibo e **(2)** Um texto `company: <extra_id_0>` para o qual `Transformer` deve prever o valor de `<extra_id_0>`.\n",
        "3. Os patches da imagem são submetidos a um `ImageEmbedder`, que contém codificação posicional.\n",
        "4. O texto é submetido a um `TextEmbedder`, que é basicamente a camada de Embeddings do T5.\n",
        "\n",
        "A imagem a seguinte representa a arquitetura do modelo:\n"
      ]
    },
    {
      "cell_type": "markdown",
      "metadata": {
        "id": "m0TrFGDWtbpZ"
      },
      "source": [
        "![image.png](data:image/png;base64,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)"
      ]
    },
    {
      "cell_type": "markdown",
      "metadata": {
        "id": "MvK6E6titgtw"
      },
      "source": [
        "O pré treino é conduzido em imagens sintéticas, extraída da WikiText. A tarefa de pré-treino consiste de apresentar ao modelo os patches da imagem sintética + o texto da imagem, com alguns *tokens* mascarados. O modelo deve, então, prever quais os tokens foram mascarados. Esta é a primeira tarefa do paper do UNITER e o objetivo é alinhar as representações de texto e imagem."
      ]
    },
    {
      "cell_type": "markdown",
      "metadata": {
        "id": "NL2YAQjndRkT"
      },
      "source": [
        "## Setup"
      ]
    },
    {
      "cell_type": "code",
      "metadata": {
        "id": "tpOlubB0dZ5N",
        "colab": {
          "base_uri": "https://localhost:8080/"
        },
        "outputId": "dba98e55-ab54-47e8-ef6c-4fa1adecb1c1"
      },
      "source": [
        "!nvidia-smi"
      ],
      "execution_count": 1,
      "outputs": [
        {
          "output_type": "stream",
          "text": [
            "Wed Jan 13 00:37:49 2021       \n",
            "+-----------------------------------------------------------------------------+\n",
            "| NVIDIA-SMI 460.27.04    Driver Version: 418.67       CUDA Version: 10.1     |\n",
            "|-------------------------------+----------------------+----------------------+\n",
            "| GPU  Name        Persistence-M| Bus-Id        Disp.A | Volatile Uncorr. ECC |\n",
            "| Fan  Temp  Perf  Pwr:Usage/Cap|         Memory-Usage | GPU-Util  Compute M. |\n",
            "|                               |                      |               MIG M. |\n",
            "|===============================+======================+======================|\n",
            "|   0  Tesla V100-SXM2...  Off  | 00000000:00:04.0 Off |                    0 |\n",
            "| N/A   34C    P0    27W / 300W |      0MiB / 16130MiB |      0%      Default |\n",
            "|                               |                      |                 ERR! |\n",
            "+-------------------------------+----------------------+----------------------+\n",
            "                                                                               \n",
            "+-----------------------------------------------------------------------------+\n",
            "| Processes:                                                                  |\n",
            "|  GPU   GI   CI        PID   Type   Process name                  GPU Memory |\n",
            "|        ID   ID                                                   Usage      |\n",
            "|=============================================================================|\n",
            "|  No running processes found                                                 |\n",
            "+-----------------------------------------------------------------------------+\n"
          ],
          "name": "stdout"
        }
      ]
    },
    {
      "cell_type": "code",
      "metadata": {
        "id": "ETU3CNcwdNT8",
        "colab": {
          "base_uri": "https://localhost:8080/"
        },
        "outputId": "0f651d17-b4cb-4c83-d264-94e6605c7221"
      },
      "source": [
        "!pip install --upgrade pyarrow --quiet\n",
        "!pip install --upgrade future --quiet\n",
        "!pip install --upgrade transformers --quiet\n",
        "!pip install --upgrade neptune-client --quiet\n",
        "\n",
        "!pip install git+https://github.com/PytorchLightning/pytorch-lightning.git@master --upgrade --quiet"
      ],
      "execution_count": 2,
      "outputs": [
        {
          "output_type": "stream",
          "text": [
            "  Installing build dependencies ... \u001b[?25l\u001b[?25hdone\n",
            "  Getting requirements to build wheel ... \u001b[?25l\u001b[?25hdone\n",
            "    Preparing wheel metadata ... \u001b[?25l\u001b[?25hdone\n",
            "  Building wheel for pytorch-lightning (PEP 517) ... \u001b[?25l\u001b[?25hdone\n"
          ],
          "name": "stdout"
        }
      ]
    },
    {
      "cell_type": "markdown",
      "metadata": {
        "id": "LaJaz2FNd0gn"
      },
      "source": [
        "## Imports"
      ]
    },
    {
      "cell_type": "code",
      "metadata": {
        "id": "P3qznPMKeQuf"
      },
      "source": [
        "import json\n",
        "import logging\n",
        "import matplotlib.pyplot as plt\n",
        "import numpy as np\n",
        "import os\n",
        "import re\n",
        "import torch\n",
        "\n",
        "from torch import nn\n",
        "from torch.utils.data import Dataset, DataLoader, random_split\n",
        "from torchvision.transforms import transforms\n",
        "from transformers import T5TokenizerFast, T5Model, T5ForConditionalGeneration\n",
        "\n",
        "import pytorch_lightning as pl\n",
        "\n",
        "from argparse import Namespace\n",
        "from getpass import getpass\n",
        "from itertools import product\n",
        "from pathlib import Path\n",
        "from PIL import Image, ImageFont, ImageDraw\n",
        "from random import choice, randint, random, sample\n",
        "\n",
        "from google.colab import drive\n",
        "\n",
        "from typing import Tuple, List, Callable, Union\n",
        "\n",
        "logging.basicConfig(level=logging.INFO)\n",
        "\n",
        "%matplotlib inline"
      ],
      "execution_count": 3,
      "outputs": []
    },
    {
      "cell_type": "markdown",
      "metadata": {
        "id": "3OID7nzLonBf"
      },
      "source": [
        "## Parâmetros e volumes"
      ]
    },
    {
      "cell_type": "code",
      "metadata": {
        "colab": {
          "base_uri": "https://localhost:8080/"
        },
        "id": "37pPVQ8poo-F",
        "outputId": "00c4e7b9-01de-4716-d1ea-4b795f8d7364"
      },
      "source": [
        "TEST_MODEL = False\n",
        "OVERFIT_ONE_BATCH = False\n",
        "\n",
        "if os.path.exists('./neptune_key'):\n",
        "    with open('./neptune_key', 'r') as nep_key:\n",
        "        all_lines = nep_key.readlines()\n",
        "\n",
        "        NEPTUNE_API_KEY = all_lines[0].strip()\n",
        "        NEPTUNE_PROJECT = all_lines[1].strip()\n",
        "else:\n",
        "    NEPTUNE_API_KEY = getpass('NEPTUNE KEY:')\n",
        "    NEPTUNE_PROJECT = input('NEPTUNE PROJECT:')\n",
        "\n",
        "    with open('./neptune_key', 'w+') as nep_key:\n",
        "        nep_key.writelines([NEPTUNE_API_KEY + '\\n', NEPTUNE_PROJECT + '\\n'])\n",
        "\n",
        "\n",
        "drive.mount('./drive')"
      ],
      "execution_count": 4,
      "outputs": [
        {
          "output_type": "stream",
          "text": [
            "Drive already mounted at ./drive; to attempt to forcibly remount, call drive.mount(\"./drive\", force_remount=True).\n"
          ],
          "name": "stdout"
        }
      ]
    },
    {
      "cell_type": "markdown",
      "metadata": {
        "id": "ihipcNPqeNHT"
      },
      "source": [
        "## Dataset"
      ]
    },
    {
      "cell_type": "code",
      "metadata": {
        "colab": {
          "base_uri": "https://localhost:8080/"
        },
        "id": "u9tnMQxidHua",
        "outputId": "b53a0744-7fab-4be8-b150-c765edde1848"
      },
      "source": [
        "!gsutil -m cp -n gs://neuralresearcher_data/unicamp/ia376j_2020s2/aula8/dataset_sroie_icdar_2019.zip .\n",
        "!unzip -n -q dataset_sroie_icdar_2019.zip"
      ],
      "execution_count": 5,
      "outputs": [
        {
          "output_type": "stream",
          "text": [
            "Skipping existing item: file://./dataset_sroie_icdar_2019.zip\n"
          ],
          "name": "stdout"
        }
      ]
    },
    {
      "cell_type": "markdown",
      "metadata": {
        "id": "RW78QlrVkaPT"
      },
      "source": [
        "### Extraindo Patches das Imagens\n",
        "\n",
        "Vou Usar patches (subplots da imagem) para alimentar um Image Embedder, parecido com a abordagem do UNITER."
      ]
    },
    {
      "cell_type": "code",
      "metadata": {
        "id": "cUh4VOUHtO4g"
      },
      "source": [
        "PATCH_TRANSFORMS = transforms.Compose([\n",
        "    transforms.Grayscale(),\n",
        "    transforms.ToTensor()\n",
        "])\n",
        "\n",
        "def extract_patches(image,\n",
        "                    patch_height: int = 16,\n",
        "                    patch_width:int = 16,\n",
        "                    max_patches: int = 256,\n",
        "                    padding: bool = True,\n",
        "                    padding_value: int = -100):\n",
        "    \"\"\"\n",
        "    Inspired by: https://discuss.pytorch.org/t/slicing-image-into-square-patches/8772/3\n",
        "    \"\"\"\n",
        "    flat_image = PATCH_TRANSFORMS(image)\n",
        "    patches = flat_image.data.unfold(1, patch_height, patch_height) \\\n",
        "                             .unfold(2, patch_width, patch_width)\n",
        "\n",
        "    # At the end, remove the channel (since it is always one)\n",
        "    patches = torch.flatten(patches, start_dim=1, end_dim=2).squeeze(0)\n",
        "\n",
        "    # Check if padding is necessary\n",
        "    if patches.shape[0] < max_patches and padding is True:\n",
        "        padding = torch.zeros(max_patches - patches.shape[0],\n",
        "                              patch_height,\n",
        "                              patch_width)\n",
        "        \n",
        "        patches = torch.cat((patches, padding), dim=0)\n",
        "\n",
        "    # Limit number of patches\n",
        "    return patches[:max_patches, : , :]\n",
        "\n",
        "\n",
        "def visualize_patches(patches):\n",
        "    \"\"\"Imshow for Tensor.\"\"\" \n",
        "\n",
        "\n",
        "    print(patches.shape)\n",
        "    patch_height = patches.shape[-2]\n",
        "    patch_width = patches.shape[-1]\n",
        "    num_patches = patches.shape[-3]\n",
        "\n",
        "    transp = transforms.ToPILImage()\n",
        "\n",
        "    fig = plt.figure(figsize=(64, 32))\n",
        "\n",
        "    for i in range(num_patches):\n",
        "        inp = transp(patches[0][i])\n",
        "        inp = np.array(inp)\n",
        "        ax = fig.add_subplot(1, num_patches, i + 1, xticks=[], yticks=[])\n",
        "        plt.imshow(inp)"
      ],
      "execution_count": 6,
      "outputs": []
    },
    {
      "cell_type": "code",
      "metadata": {
        "colab": {
          "base_uri": "https://localhost:8080/",
          "height": 163
        },
        "id": "Rrn23IH42F4B",
        "outputId": "3664bc84-04ed-4922-8b0b-19d870075869"
      },
      "source": [
        "image = Image.open('test/X51007339650.jpg')\n",
        "visualize_patches(extract_patches(image, 64, 64, padding=False, max_patches=10).unsqueeze(0))"
      ],
      "execution_count": 7,
      "outputs": [
        {
          "output_type": "stream",
          "text": [
            "torch.Size([1, 10, 64, 64])\n"
          ],
          "name": "stdout"
        },
        {
          "output_type": "display_data",
          "data": {
            "image/png": "[encoded data removed]",
            "text/plain": [
              "<Figure size 4608x2304 with 10 Axes>"
            ]
          },
          "metadata": {
            "tags": []
          }
        }
      ]
    },
    {
      "cell_type": "markdown",
      "metadata": {
        "id": "O52dR-mJc9vh"
      },
      "source": [
        "### Removendo \\<pad> e \\</s>"
      ]
    },
    {
      "cell_type": "code",
      "metadata": {
        "colab": {
          "base_uri": "https://localhost:8080/"
        },
        "id": "jYGwViyHdA8s",
        "outputId": "b501fe38-6b39-4454-f4b5-8eaf1984f9eb"
      },
      "source": [
        "def decode_sentence_batch(tokenizer, input_ids):\n",
        "\n",
        "    def remove_pad(text):\n",
        "        return text.replace(tokenizer.pad_token, '')\n",
        "\n",
        "    def remove_eos(text):\n",
        "        return text.replace(tokenizer.eos_token, '')\n",
        "\n",
        "    dec = tokenizer.decode\n",
        "    return [remove_pad(remove_eos(dec(s))).strip() for s in input_ids]\n",
        "\n",
        "\n",
        "tok = T5TokenizerFast.from_pretrained('t5-base')\n",
        "input_ids = tok('this is a string for testing',\n",
        "                max_length=20,\n",
        "                padding='max_length',\n",
        "                return_tensors='pt').input_ids\n",
        "\n",
        "print(input_ids.shape)\n",
        "print(tok.batch_decode(input_ids))\n",
        "print(decode_sentence_batch(tok, input_ids))"
      ],
      "execution_count": 8,
      "outputs": [
        {
          "output_type": "stream",
          "text": [
            "torch.Size([1, 20])\n",
            "['this is a string for testing</s><pad><pad><pad><pad><pad><pad><pad><pad><pad><pad><pad><pad>']\n",
            "['this is a string for testing']\n"
          ],
          "name": "stdout"
        }
      ]
    },
    {
      "cell_type": "markdown",
      "metadata": {
        "id": "DPioyNSXmPCU"
      },
      "source": [
        "### Classe do Dataset"
      ]
    },
    {
      "cell_type": "code",
      "metadata": {
        "id": "Wr9jXcv3ls5p"
      },
      "source": [
        "class SROIEDataset(Dataset):\n",
        "    \"\"\"\n",
        "    Dataset da tarefa SROIE do ICDAR.\n",
        "    Inspirado em: https://github.com/Michael-Xiu/ICDAR-SROIE/\n",
        "    \"\"\"\n",
        "\n",
        "    def __init__(self,\n",
        "                 data_dir: str,\n",
        "                 tokenizer: Union[str, T5TokenizerFast],\n",
        "                 patches_size: Tuple[int, int] = (16, 16),\n",
        "                 max_patches: int = 256,\n",
        "                 inquiry_max_length: int = 64,\n",
        "                 target_max_length: int = 128,\n",
        "                 return_image: bool = False):\n",
        "        assert os.path.isdir(data_dir)\n",
        "\n",
        "        self.image_refs = sorted([str(p) for p in Path(data_dir).glob('**/*.jpg')])\n",
        "        self.object_refs = sorted([str(p) for p in Path(data_dir).glob('**/*.txt')])\n",
        "        self.objects = []\n",
        "        self.patches_size = patches_size\n",
        "        self.max_patches = max_patches\n",
        "        self.return_image = return_image\n",
        "\n",
        "        if isinstance(tokenizer, str):\n",
        "            tokenizer = T5TokenizerFast.from_pretrained(tokenizer)\n",
        "\n",
        "        self.tokenizer = tokenizer\n",
        "        self.inquiry_max_length = inquiry_max_length\n",
        "        self.target_max_length = target_max_length\n",
        "\n",
        "        for object_ref in self.object_refs:\n",
        "            with open(object_ref, 'r') as o_file:\n",
        "                self.objects.append(json.load(o_file))\n",
        "\n",
        "        assert len(self.image_refs) == len(self.object_refs)\n",
        "        assert len(self.image_refs) == len(self.objects)\n",
        "\n",
        "        first, last = self.image_refs[0], self.image_refs[-1]\n",
        "        ofirst, olast = self.object_refs[0], self.object_refs[-1]\n",
        "\n",
        "        assert first[:len(first) - 3] == ofirst[:len(first) - 3]\n",
        "        assert last[:len(first) - 3] == olast[:len(first) - 3]\n",
        "\n",
        "    def __len__(self):\n",
        "        return len(self.objects)\n",
        "\n",
        "    def __getitem__(self, idx):\n",
        "        obj = self.objects[idx]\n",
        "        image_ref = self.image_refs[idx]\n",
        "\n",
        "        image = Image.open(image_ref, 'r')\n",
        "        image = image.convert('RGB')\n",
        "\n",
        "        # Extract image patches\n",
        "        patches = extract_patches(\n",
        "            image, self.patches_size[0], self.patches_size[1], self.max_patches)\n",
        "\n",
        "        # Prediction inquiry\n",
        "        inquiry = f'company: {self.tokenizer.additional_special_tokens[0]}'\n",
        "        tokenized_inq = self.tokenizer(inquiry,\n",
        "                                       max_length=self.inquiry_max_length,\n",
        "                                       padding='max_length',\n",
        "                                       truncation=True)\n",
        "        \n",
        "        # Expected labels\n",
        "        label = obj.get('company', '')\n",
        "        tokenized_label = self.tokenizer(label,\n",
        "                                         max_length=self.target_max_length,\n",
        "                                         padding='max_length',\n",
        "                                         truncation=True)\n",
        "        output = {\n",
        "            'patches': patches,\n",
        "            'input_ids': torch.tensor(tokenized_inq.input_ids, dtype=torch.long),\n",
        "            'target_ids': torch.tensor(tokenized_label.input_ids, dtype=torch.long),\n",
        "            'original': label\n",
        "        }\n",
        "\n",
        "        if self.return_image:\n",
        "            output['image'] = image\n",
        "\n",
        "        return output"
      ],
      "execution_count": 9,
      "outputs": []
    },
    {
      "cell_type": "code",
      "metadata": {
        "colab": {
          "base_uri": "https://localhost:8080/"
        },
        "id": "_FAN_RidmxX8",
        "outputId": "f0ec9a0a-d589-470c-d268-3d0c9daebc69"
      },
      "source": [
        "dataset = SROIEDataset('./train', 't5-base', patches_size=(64, 64),\n",
        "                       return_image=True)\n",
        "\n",
        "len(dataset)"
      ],
      "execution_count": 10,
      "outputs": [
        {
          "output_type": "execute_result",
          "data": {
            "text/plain": [
              "426"
            ]
          },
          "metadata": {
            "tags": []
          },
          "execution_count": 10
        }
      ]
    },
    {
      "cell_type": "code",
      "metadata": {
        "colab": {
          "base_uri": "https://localhost:8080/",
          "height": 51
        },
        "id": "XjKcy79lvoZe",
        "outputId": "2c66da3a-cf01-463d-d932-06ef803eb655"
      },
      "source": [
        "demo_sample = dataset[0]\n",
        "visualize_patches(demo_sample['patches'].unsqueeze(0))"
      ],
      "execution_count": 11,
      "outputs": [
        {
          "output_type": "stream",
          "text": [
            "torch.Size([1, 256, 64, 64])\n"
          ],
          "name": "stdout"
        },
        {
          "output_type": "display_data",
          "data": {
            "image/png": "[encoded data removed]",
            "text/plain": [
              "<Figure size 4608x2304 with 256 Axes>"
            ]
          },
          "metadata": {
            "tags": []
          }
        }
      ]
    },
    {
      "cell_type": "code",
      "metadata": {
        "colab": {
          "base_uri": "https://localhost:8080/",
          "height": 303
        },
        "id": "JvlTcyP2zour",
        "outputId": "578e33d3-4f89-4cb5-e461-4614e97d0333"
      },
      "source": [
        "demo_sample = dataset[400]\n",
        "\n",
        "plt.imshow(demo_sample['image'])\n",
        "visualize_patches(demo_sample['patches'].unsqueeze(0))"
      ],
      "execution_count": 12,
      "outputs": [
        {
          "output_type": "stream",
          "text": [
            "torch.Size([1, 256, 64, 64])\n"
          ],
          "name": "stdout"
        },
        {
          "output_type": "display_data",
          "data": {
            "image/png": "[encoded data removed]",
            "text/plain": [
              "<Figure size 432x288 with 1 Axes>"
            ]
          },
          "metadata": {
            "tags": [],
            "needs_background": "light"
          }
        },
        {
          "output_type": "display_data",
          "data": {
            "image/png": "[encoded data removed]",
            "text/plain": [
              "<Figure size 4608x2304 with 256 Axes>"
            ]
          },
          "metadata": {
            "tags": []
          }
        }
      ]
    },
    {
      "cell_type": "code",
      "metadata": {
        "colab": {
          "base_uri": "https://localhost:8080/",
          "height": 341
        },
        "id": "sI1AGRNdnBqL",
        "outputId": "bdfe0d47-e377-4da9-a6ee-e3d8365e53c0"
      },
      "source": [
        "demo_sample = dataset[100]\n",
        "\n",
        "plt.figure(figsize=(5, 5))\n",
        "plt.imshow(demo_sample['image'])"
      ],
      "execution_count": 13,
      "outputs": [
        {
          "output_type": "execute_result",
          "data": {
            "text/plain": [
              "<matplotlib.image.AxesImage at 0x7f9bdf504ac8>"
            ]
          },
          "metadata": {
            "tags": []
          },
          "execution_count": 13
        },
        {
          "output_type": "display_data",
          "data": {
            "image/png": "[encoded data removed]",
            "text/plain": [
              "<Figure size 360x360 with 1 Axes>"
            ]
          },
          "metadata": {
            "tags": [],
            "needs_background": "light"
          }
        }
      ]
    },
    {
      "cell_type": "code",
      "metadata": {
        "colab": {
          "base_uri": "https://localhost:8080/"
        },
        "id": "d9O4BRX9n7IC",
        "outputId": "06d7903f-71d6-4d20-88e2-452af938286f"
      },
      "source": [
        "demo_sample['input_ids']"
      ],
      "execution_count": 14,
      "outputs": [
        {
          "output_type": "execute_result",
          "data": {
            "text/plain": [
              "tensor([  349,    10, 32099,     1,     0,     0,     0,     0,     0,     0,\n",
              "            0,     0,     0,     0,     0,     0,     0,     0,     0,     0,\n",
              "            0,     0,     0,     0,     0,     0,     0,     0,     0,     0,\n",
              "            0,     0,     0,     0,     0,     0,     0,     0,     0,     0,\n",
              "            0,     0,     0,     0,     0,     0,     0,     0,     0,     0,\n",
              "            0,     0,     0,     0,     0,     0,     0,     0,     0,     0,\n",
              "            0,     0,     0,     0])"
            ]
          },
          "metadata": {
            "tags": []
          },
          "execution_count": 14
        }
      ]
    },
    {
      "cell_type": "code",
      "metadata": {
        "colab": {
          "base_uri": "https://localhost:8080/"
        },
        "id": "8-I2FaP-2jLg",
        "outputId": "980c0b7b-4b91-4d7b-fb0b-e8fa250728f5"
      },
      "source": [
        "decode_sentence_batch(dataset.tokenizer, demo_sample['input_ids'].view(1, -1))"
      ],
      "execution_count": 15,
      "outputs": [
        {
          "output_type": "execute_result",
          "data": {
            "text/plain": [
              "['company:<extra_id_0>']"
            ]
          },
          "metadata": {
            "tags": []
          },
          "execution_count": 15
        }
      ]
    },
    {
      "cell_type": "markdown",
      "metadata": {
        "id": "-Ig3iVczIlAX"
      },
      "source": [
        "## Funções de Geração de texto"
      ]
    },
    {
      "cell_type": "code",
      "metadata": {
        "id": "XUajv6MjGk0b"
      },
      "source": [
        "def greedy_generate(model,\n",
        "                    tokenizer,\n",
        "                    embeddings,\n",
        "                    device,\n",
        "                    max_sentence_length: int = 128):\n",
        "    \"\"\"\n",
        "    Realiza a geração de texto usando a técnica Greedy.\n",
        "    Este método foi construído para superar algumas limitações de uso do \n",
        "    método generate dos transformers por conta do uso de um encoder\n",
        "    de imagem.\n",
        "    \"\"\"\n",
        "    eos_token_id = tokenizer.eos_token_id\n",
        "    pad_token_id = tokenizer.pad_token_id\n",
        "    start_token_id = model.decoder.config.decoder_start_token_id\n",
        "\n",
        "    decoded_ids = torch.full(\n",
        "        (embeddings.shape[0], 1), # Shape = (Batch Size, 1)\n",
        "        start_token_id,\n",
        "        dtype=torch.long, device=device)\n",
        "\n",
        "    t5_encoder_outputs = model.get_encoder()(\n",
        "        inputs_embeds=embeddings)\n",
        "\n",
        "    for step in range(1, max_sentence_length):\n",
        "        output = model(\n",
        "            decoder_input_ids=decoded_ids,\n",
        "            encoder_outputs=t5_encoder_outputs)\n",
        "\n",
        "        logits = output.logits\n",
        "\n",
        "        next_token_logits = logits[:, -1, :]\n",
        "        next_token_id = torch.argmax(next_token_logits, dim=-1).unsqueeze(-1)\n",
        "\n",
        "        decoded_ids = torch.cat([decoded_ids, next_token_id], dim=-1)\n",
        "\n",
        "        if torch.eq(next_token_id, eos_token_id).all():\n",
        "            break  # Early stop, when all sentences reached the end\n",
        "    \n",
        "    return decoded_ids"
      ],
      "execution_count": 16,
      "outputs": []
    },
    {
      "cell_type": "markdown",
      "metadata": {
        "id": "1LjIuVEPh-j3"
      },
      "source": [
        "## Métricas"
      ]
    },
    {
      "cell_type": "markdown",
      "metadata": {
        "id": "WWy7ZZx3iAIe"
      },
      "source": [
        "Usar as funções abaixo para calcular as métricas (exact match e F1):"
      ]
    },
    {
      "cell_type": "code",
      "metadata": {
        "id": "1HUKlFXhiFfJ"
      },
      "source": [
        "import collections\n",
        "\n",
        "def normalize_answer(s):\n",
        "    \"\"\"Lower text and remove extra whitespace.\"\"\"\n",
        "\n",
        "    def white_space_fix(text):\n",
        "        return ' '.join(text.split())\n",
        "\n",
        "    def lower(text):\n",
        "        return text.lower()\n",
        "\n",
        "    return white_space_fix(lower(s))\n",
        "\n",
        "\n",
        "def get_tokens(s):\n",
        "    if not s: return []\n",
        "    return normalize_answer(s).split()\n",
        "\n",
        "\n",
        "def compute_exact(a_gold, a_pred):\n",
        "    return int(normalize_answer(a_gold) == normalize_answer(a_pred))\n",
        "\n",
        "\n",
        "def compute_f1(a_gold, a_pred):\n",
        "    gold_toks = get_tokens(a_gold)\n",
        "    pred_toks = get_tokens(a_pred)\n",
        "    common = collections.Counter(gold_toks) & collections.Counter(pred_toks)\n",
        "    num_same = sum(common.values())\n",
        "    if len(gold_toks) == 0 or len(pred_toks) == 0:\n",
        "        # If either is no-answer, then F1 is 1 if they agree, 0 otherwise\n",
        "        return int(gold_toks == pred_toks)\n",
        "    if num_same == 0:\n",
        "        return 0\n",
        "    precision = 1.0 * num_same / len(pred_toks)\n",
        "    recall = 1.0 * num_same / len(gold_toks)\n",
        "    f1 = (2 * precision * recall) / (precision + recall)\n",
        "    return f1\n",
        "\n",
        "\n",
        "def extract_masked_tokens(text):\n",
        "    matches = re.findall(r'<(extra_id_\\d+)>\\s*([^\\<]+)\\s*', text)\n",
        "    return set([f'{k}={v.strip()}' for k, v in matches])\n",
        "\n",
        "\n",
        "def accuracy(predicted, expected):\n",
        "    predicted_set = extract_masked_tokens(predicted)\n",
        "    expected_set = extract_masked_tokens(expected)    \n",
        "\n",
        "    if not predicted_set and not expected_set:\n",
        "        return 1.0  # Tanto previsão quanto expectativa são conjuntos vazios\n",
        "                    # Então assumo que o modelo acertou\n",
        "\n",
        "    total = max(len(predicted_set), len(expected_set))\n",
        "\n",
        "    return len(predicted_set & expected_set) / total"
      ],
      "execution_count": 17,
      "outputs": []
    },
    {
      "cell_type": "code",
      "metadata": {
        "id": "mUQtuC31mJ_Z",
        "colab": {
          "base_uri": "https://localhost:8080/"
        },
        "outputId": "bee0ed09-e1b1-411d-f1f2-ecc46b166eb9"
      },
      "source": [
        "compute_f1(a_gold='He likes pizza', a_pred='she likes pizza')"
      ],
      "execution_count": 18,
      "outputs": [
        {
          "output_type": "execute_result",
          "data": {
            "text/plain": [
              "0.6666666666666666"
            ]
          },
          "metadata": {
            "tags": []
          },
          "execution_count": 18
        }
      ]
    },
    {
      "cell_type": "code",
      "metadata": {
        "id": "Lkei98sdmgxJ",
        "colab": {
          "base_uri": "https://localhost:8080/"
        },
        "outputId": "395bb5d1-b4b4-4253-805a-92f4a7cfa3c7"
      },
      "source": [
        "compute_exact(a_gold='He likes pizza', a_pred='she likes pizza')"
      ],
      "execution_count": 19,
      "outputs": [
        {
          "output_type": "execute_result",
          "data": {
            "text/plain": [
              "0"
            ]
          },
          "metadata": {
            "tags": []
          },
          "execution_count": 19
        }
      ]
    },
    {
      "cell_type": "code",
      "metadata": {
        "colab": {
          "base_uri": "https://localhost:8080/"
        },
        "id": "C9nUMpP3vf2O",
        "outputId": "ca8281c7-3758-4cdb-e196-e55278df3ee8"
      },
      "source": [
        "predicted = (\n",
        "    '<extra_id_0> is <extra_id_1> transitional <extra_id_2> zones '\n",
        "    '<extra_id_3> a <extra_id_4> in my city <extra_id_5> in my city')\n",
        "\n",
        "expected = (\n",
        "    '<extra_id_0> a <extra_id_1> transitional <extra_id_2> zones '\n",
        "    '<extra_id_3> a <extra_id_4> in my city')\n",
        "\n",
        "accuracy(predicted, expected)"
      ],
      "execution_count": 20,
      "outputs": [
        {
          "output_type": "execute_result",
          "data": {
            "text/plain": [
              "0.6666666666666666"
            ]
          },
          "metadata": {
            "tags": []
          },
          "execution_count": 20
        }
      ]
    },
    {
      "cell_type": "markdown",
      "metadata": {
        "id": "JYZcW1aC83Oo"
      },
      "source": [
        "## Modelo"
      ]
    },
    {
      "cell_type": "markdown",
      "metadata": {
        "id": "DUVEFRrtDTAY"
      },
      "source": [
        "### Embeddings"
      ]
    },
    {
      "cell_type": "code",
      "metadata": {
        "id": "w4GDeM5J78RR"
      },
      "source": [
        "class ImageEmbedding(nn.Module):\n",
        "    \"\"\" Inspired by UNITER UniterImageEmbeddings. \"\"\"\n",
        "\n",
        "    def __init__(self,\n",
        "                 hidden_size: int,\n",
        "                 patches_size: Tuple[int, int] = (16, 16),\n",
        "                 hidden_dropout_prob: float = 0.1):\n",
        "        super().__init__()\n",
        "\n",
        "        img_dim = patches_size[0] * patches_size[1]\n",
        "\n",
        "        self.img_linear = nn.Linear(img_dim, hidden_size)\n",
        "        self.LayerNorm = nn.LayerNorm(hidden_size, eps=1e-12)\n",
        "        self.dropout = nn.Dropout(hidden_dropout_prob)\n",
        "\n",
        "    def forward(self, patches):\n",
        "        batch_size = patches.shape[0]\n",
        "        seq_length = patches.shape[1]\n",
        "\n",
        "        img_feat = patches.reshape(batch_size, seq_length, -1)\n",
        "\n",
        "        image_embeddings = self.LayerNorm(self.img_linear(img_feat))\n",
        "        image_embeddings = self.dropout(image_embeddings)\n",
        "        \n",
        "        return image_embeddings"
      ],
      "execution_count": 21,
      "outputs": []
    },
    {
      "cell_type": "code",
      "metadata": {
        "id": "5qMcX1aLCiRm"
      },
      "source": [
        "class JointEmbedder(nn.Module):\n",
        "    def __init__(self,\n",
        "                 base_model: T5Model,\n",
        "                 patches_size: Tuple[int, int] = (16, 16)):\n",
        "        super().__init__()\n",
        "\n",
        "        hidden_size = base_model.config.d_model\n",
        "\n",
        "        self.image_embedder = ImageEmbedding(\n",
        "            hidden_size,\n",
        "            patches_size,\n",
        "            getattr(base_model.config, 'dropout_rate', 0.1))\n",
        "        \n",
        "        self.text_embedder = base_model.get_input_embeddings()\n",
        "\n",
        "        self.token_types_embedding = nn.Embedding(2, hidden_size)\n",
        "\n",
        "    def forward(self, patches, masked_input_ids):\n",
        "        batch_size, img_seq_length = patches.shape[:2]\n",
        "\n",
        "        image_embeddings = self.image_embedder(patches)\n",
        "        text_embeddings = self.text_embedder(masked_input_ids)\n",
        "\n",
        "        image_token_types = torch.zeros(\n",
        "            batch_size,\n",
        "            img_seq_length,\n",
        "            dtype=torch.long,\n",
        "            device=patches.device)\n",
        "\n",
        "        text_token_types = torch.ones(\n",
        "            batch_size,\n",
        "            masked_input_ids.shape[1],\n",
        "            dtype=torch.long,\n",
        "            device=patches.device)\n",
        "\n",
        "        token_types = torch.cat((image_token_types, text_token_types), dim=1)\n",
        "        token_type_embeddings = self.token_types_embedding(token_types)\n",
        "\n",
        "        input_embeddings = torch.cat((image_embeddings, text_embeddings), dim=1)\n",
        "        input_embeddings = input_embeddings + token_type_embeddings\n",
        "\n",
        "        return input_embeddings"
      ],
      "execution_count": 22,
      "outputs": []
    },
    {
      "cell_type": "markdown",
      "metadata": {
        "id": "n-ujTlPuDZZn"
      },
      "source": [
        "### Modelo"
      ]
    },
    {
      "cell_type": "code",
      "metadata": {
        "id": "BANi3O6mEavm"
      },
      "source": [
        "class FinetuneModel(pl.LightningModule):\n",
        "    \"\"\"\n",
        "    Using a new Finetune model\n",
        "\n",
        "    The submodules and parameters are the same as in the pretrained model.\n",
        "    I just update the training and eval procedure.\n",
        "    \"\"\"\n",
        "    def __init__(self,\n",
        "                 model_name: str,\n",
        "                 patches_size: Tuple[int, int],\n",
        "                 learning_rate: float,\n",
        "                 generator_function_name: str = 'greedy_generate',\n",
        "                 max_sentence_length: int = 128,\n",
        "                 **kwargs):\n",
        "\n",
        "        super().__init__()\n",
        "\n",
        "        self.save_hyperparameters()\n",
        "\n",
        "        t5_model = T5ForConditionalGeneration.from_pretrained(model_name)\n",
        "        \n",
        "        self.transformer = t5_model\n",
        "        self.embedder = JointEmbedder(self.transformer, patches_size)\n",
        "        \n",
        "        self.generate = globals()[generator_function_name]\n",
        "        self.tokenizer = T5TokenizerFast.from_pretrained(model_name)\n",
        "        \n",
        "    def forward(self, patches, input_ids, target_ids, **kwargs):\n",
        "        embeddings = self.embedder(patches, input_ids)\n",
        "        \n",
        "        if self.training:\n",
        "            labels = target_ids.masked_fill(\n",
        "                target_ids == self.tokenizer.pad_token_id,\n",
        "                -100)\n",
        "\n",
        "            output = self.transformer(inputs_embeds=embeddings,\n",
        "                                      labels=labels,\n",
        "                                      return_dict=True)\n",
        "            \n",
        "            return output.loss\n",
        "        else:\n",
        "            return self.generate(self.transformer,\n",
        "                                 self.tokenizer,\n",
        "                                 embeddings,\n",
        "                                 self.device,\n",
        "                                 self.hparams.max_sentence_length)\n",
        "            \n",
        "    def configure_optimizers(self):\n",
        "        return torch.optim.AdamW(self.parameters(), self.hparams.learning_rate)\n",
        "\n",
        "    def training_step(self, batch, batch_idx):\n",
        "        loss = self(**batch)\n",
        "\n",
        "        self.log('train_loss', loss)\n",
        "\n",
        "        return loss\n",
        "\n",
        "    def validation_step(self, batch, batch_idx):\n",
        "        return self._evaluation_step(batch, batch_idx)\n",
        "\n",
        "    def validation_epoch_end(self, outputs):\n",
        "        return self._evaluation_epoch_end(outputs, 'val')\n",
        "\n",
        "    def test_step(self, batch, batch_idx):\n",
        "        return self._evaluation_step(batch, batch_idx)\n",
        "\n",
        "    def test_epoch_end(self, outputs):\n",
        "        return self._evaluation_epoch_end(outputs, 'test')\n",
        "\n",
        "    def _evaluation_step(self, batch, batch_idx):\n",
        "        predicted = self(**batch)\n",
        "        expected = batch['original']\n",
        "\n",
        "        predicted_texts = decode_sentence_batch(self.tokenizer, predicted)\n",
        "\n",
        "        return {'predicted': predicted_texts, 'actual': expected}\n",
        "\n",
        "    def _evaluation_epoch_end(self, outputs, prefix='val'):\n",
        "        predicted = [o for bouts in outputs for o in bouts['predicted']]\n",
        "        actual = [o for bouts in outputs for o in bouts['actual']]\n",
        "\n",
        "        f1_by_sample = [compute_f1(a, p) for a, p in zip(predicted, actual)]\n",
        "        em_by_sample = [compute_exact(a, p) for a, p in zip(predicted, actual)]\n",
        "        ac_by_sample = [accuracy(a, p) for a, p in zip(predicted, actual)]\n",
        "\n",
        "        sample_idx = sample(range(len(predicted)), 5)\n",
        "        \n",
        "        if self.current_epoch % 2 == 0:\n",
        "            for i in sample_idx:\n",
        "                self.logger.experiment.log_text(\n",
        "                    'predictions',\n",
        "                    f'Actual: {actual[i]}. Predicted: {predicted[i]}.')\n",
        "\n",
        "        f1 = 100 * (sum(f1_by_sample) / len(f1_by_sample))\n",
        "        em = 100 * (sum(em_by_sample) / len(em_by_sample))\n",
        "        ac = 100 * (sum(ac_by_sample) / len(ac_by_sample))\n",
        "\n",
        "        self.log(f'{prefix}_f1', torch.tensor(f1))\n",
        "        self.log(f'{prefix}_em', torch.tensor(em))\n",
        "        self.log(f'{prefix}_accuracy', torch.tensor(ac))"
      ],
      "execution_count": 23,
      "outputs": []
    },
    {
      "cell_type": "markdown",
      "metadata": {
        "id": "MnbLF4Q6kKdS"
      },
      "source": [
        "## Treino"
      ]
    },
    {
      "cell_type": "markdown",
      "metadata": {
        "id": "Gq97DoLXlhCi"
      },
      "source": [
        "### Parâmetros de treino"
      ]
    },
    {
      "cell_type": "code",
      "metadata": {
        "id": "wZT9qqsCkLd5"
      },
      "source": [
        "train_params = {\n",
        "    'seed': 42,\n",
        "    'data_path': './train',\n",
        "    'patches_size': (16, 16),\n",
        "    'max_patches': 256,\n",
        "    'target_max_length': 128,\n",
        "    'max_sentence_length': 128,\n",
        "    'model_name': 't5-base',\n",
        "    'pretrained_model': './drive/My Drive/IA376J/checkpoints/uniter-for-sroie-final/last.ckpt',\n",
        "    'learning_rate': 1e-5,\n",
        "    'max_epochs': 20,\n",
        "    'precision': 32,\n",
        "    'gpus': 1,\n",
        "    'dataset_size': 426,\n",
        "    'train_split': 405,\n",
        "    'val_split': 21,\n",
        "    'batch_size': 8\n",
        "}"
      ],
      "execution_count": 24,
      "outputs": []
    },
    {
      "cell_type": "code",
      "metadata": {
        "colab": {
          "base_uri": "https://localhost:8080/"
        },
        "id": "O-c702K8twgK",
        "outputId": "88475d81-5fc3-4263-be49-804833bc95e9"
      },
      "source": [
        "pl.seed_everything(train_params['seed'])"
      ],
      "execution_count": 25,
      "outputs": [
        {
          "output_type": "stream",
          "text": [
            "Global seed set to 42\n",
            "INFO:lightning:Global seed set to 42\n"
          ],
          "name": "stderr"
        },
        {
          "output_type": "execute_result",
          "data": {
            "text/plain": [
              "42"
            ]
          },
          "metadata": {
            "tags": []
          },
          "execution_count": 25
        }
      ]
    },
    {
      "cell_type": "markdown",
      "metadata": {
        "id": "NXIK33IUli_d"
      },
      "source": [
        "### Checkpoints"
      ]
    },
    {
      "cell_type": "code",
      "metadata": {
        "colab": {
          "base_uri": "https://localhost:8080/"
        },
        "id": "rVnin33qlnIt",
        "outputId": "35611f00-aca4-4b32-fd25-a3c30415eb87"
      },
      "source": [
        "CHECKPOINTS_PATH = './drive/My Drive/IA376J/checkpoints/uniter-for-sroie-final+sroie'\n",
        "CHECKPOINTS_FILE_PREFIX = 'ajuste-fino-sroie-uniter-'\n",
        "CHECKPOINTS_FILE_NAME = CHECKPOINTS_FILE_PREFIX + '{epoch:02d}-{val_em:.2f}-{val_f1:.2f}'\n",
        "\n",
        "\n",
        "# Make sure checkoint path is there\n",
        "os.makedirs(CHECKPOINTS_PATH, exist_ok=True)\n",
        "\n",
        "\n",
        "def sort_by_epoch(path):\n",
        "    return re.findall(r'epoch=([0-9]+)', str(path))[0]\n",
        "\n",
        "\n",
        "if os.path.exists(os.path.join(CHECKPOINTS_PATH, 'last.ckpt')):\n",
        "    resume_from_checkpoint = os.path.join(CHECKPOINTS_PATH, 'last.ckpt')\n",
        "else:    \n",
        "    available_checkpoints = Path(CHECKPOINTS_PATH).glob(f'{CHECKPOINTS_FILE_PREFIX}*.ckpt')\n",
        "    available_checkpoints = sorted(available_checkpoints, key=sort_by_epoch, reverse=True)\n",
        "    resume_from_checkpoint = next((str(x) for x in available_checkpoints), None)\n",
        "\n",
        "print('Resuming from Checkpoint:', resume_from_checkpoint)"
      ],
      "execution_count": 26,
      "outputs": [
        {
          "output_type": "stream",
          "text": [
            "Resuming from Checkpoint: None\n"
          ],
          "name": "stdout"
        }
      ]
    },
    {
      "cell_type": "code",
      "metadata": {
        "id": "lqEcZmHgms_7"
      },
      "source": [
        "model_checkpoint = pl.callbacks.ModelCheckpoint(\n",
        "    dirpath=CHECKPOINTS_PATH,\n",
        "    filename=CHECKPOINTS_FILE_NAME,\n",
        "    save_last=True,\n",
        "    monitor='val_accuracy',\n",
        "    mode='max')"
      ],
      "execution_count": 27,
      "outputs": []
    },
    {
      "cell_type": "markdown",
      "metadata": {
        "id": "1fOh60aSnZ7L"
      },
      "source": [
        "### Logger"
      ]
    },
    {
      "cell_type": "code",
      "metadata": {
        "colab": {
          "base_uri": "https://localhost:8080/"
        },
        "id": "g2eR_Tfqna21",
        "outputId": "ec06035f-6c67-48be-88d5-3a8fb65d4c44"
      },
      "source": [
        "neptune_logger = pl.loggers.NeptuneLogger(\n",
        "    api_key=NEPTUNE_API_KEY,\n",
        "    project_name=NEPTUNE_PROJECT,\n",
        "    experiment_name='sroie-finetune-uniterbased',\n",
        "    params=train_params)"
      ],
      "execution_count": 28,
      "outputs": [
        {
          "output_type": "stream",
          "text": [
            "https://ui.neptune.ai/leandrors/sroie/e/SROIE-8\n"
          ],
          "name": "stdout"
        },
        {
          "output_type": "stream",
          "text": [
            "NeptuneLogger will work in online mode\n",
            "INFO:lightning:NeptuneLogger will work in online mode\n"
          ],
          "name": "stderr"
        }
      ]
    },
    {
      "cell_type": "markdown",
      "metadata": {
        "id": "FPbyvelYng-c"
      },
      "source": [
        "### Dados de treino e validação"
      ]
    },
    {
      "cell_type": "code",
      "metadata": {
        "id": "vkvIKr5Unirw"
      },
      "source": [
        "dataset = SROIEDataset(\n",
        "    train_params['data_path'],\n",
        "    train_params['model_name'],\n",
        "    patches_size=train_params['patches_size'],\n",
        "    max_patches=train_params['max_patches'])\n",
        "\n",
        "train_ds, val_ds = random_split(dataset,\n",
        "                                (train_params['train_split'],\n",
        "                                 train_params['val_split']))\n",
        "\n",
        "train_loader = DataLoader(train_ds,\n",
        "                          batch_size=train_params['batch_size'],\n",
        "                          shuffle=True,\n",
        "                          num_workers=0)\n",
        "\n",
        "val_loader = DataLoader(val_ds,\n",
        "                        batch_size=train_params['batch_size'],\n",
        "                        shuffle=False,\n",
        "                        num_workers=0)"
      ],
      "execution_count": 29,
      "outputs": []
    },
    {
      "cell_type": "markdown",
      "metadata": {
        "id": "MTy535WJoQAy"
      },
      "source": [
        "### Treinando\n"
      ]
    },
    {
      "cell_type": "code",
      "metadata": {
        "colab": {
          "base_uri": "https://localhost:8080/",
          "height": 681,
          "referenced_widgets": [
            "e0f43506d32a4de286a782c91337070d",
            "1a8414787bef48778a7b62e15209d137",
            "c592eeb5d69d49a6ae535b385743afdf",
            "02b10182d1064fc09200704d468b1eed",
            "6db017232fdf49b4aab43514eccca58d",
            "72d56be143da488db7bf415c991acced",
            "6a1cb239bdc24c668a744c607b2e688a",
            "69921481fce54b65a88da92016a741ef",
            "268b1ea4e4574e598915fbd8379bbbd1",
            "daba074968aa41dba8025357a6e33ea1",
            "62f84611b4934733bf6302919b770f53",
            "39b80fb8fb0740b2b7aac39f589f26f3",
            "9ccdbb773c0f46ae84aa53e63b3dc8e1",
            "ec5487e117d9495c83bcd9cc9205c0f1",
            "14dec45622354ed5be44c61cb4463d50",
            "3872ee66051044a6b6eb1e3e56eb5fd2",
            "7f6e49d43ad642ae9fffe8d230640a77",
            "ac6aa4b129bf443480056df43e1b2345",
            "b4a6508d2b90483f933c8fa281ef0e12",
            "869d5002dc4144cd9d307e3ce9aa64dc",
            "ad89d8966d2740b9aa241b0bcf660fed",
            "5744ac8eabd64ffba0f76f7e3a977362",
            "3990b0b6ff8d4fa0a5fff58e527b7b06",
            "7b4df9d879ca469a865b871c40df22c0",
            "9cf598e3a47b4156bc4a78d1000e93c1",
            "dd0aadb7fbe847029e50682d19e79cf4",
            "29ffe51070424344bf8c968d9ef155d5",
            "cca04fad611146de96eb43fb6e053b51",
            "f51857d16f8d435c94b57447b74745e9",
            "989468d2d66c4ef6b2fda15747f20b63",
            "736b0a9922704225a22b3cf9e2d12621",
            "230dbb9b763241b887f7d742c1a110f2",
            "25e4d2f8e818477ca556466b220c1760",
            "7f3f87569a58463f80696de706036fa8",
            "8a485e134a054a98a1a861fe8e6b8eb2",
            "9be414d83d5f4d8aac4b291a9d0a6825",
            "c820e459dca743be9decd9831f935dcf",
            "86c055c4d11842e2b554e6ee97562d4f",
            "407c4c23cba24b78bfe8a0101fff5560",
            "ae1f981304514f93b6c4149f77fb2440",
            "c783cb294f85418f81d70b1215306d6f",
            "bf875d56836b46dba0aad02339df7b28",
            "2f8a9c33179646eaabff40edcca2a289",
            "b1f90fa6dd974965a8d81cfde56e8a34",
            "d6b7fd8088b34fb0b28c28b15e571a74",
            "d4101fad52db49e9a529f18dfb433cee",
            "83185c9052214e95beed692ace9b3749",
            "7e3d15d15f444fb881bedab8765bfdcd",
            "648a2db026d14dd2ba44410153500ce5",
            "d978f0e540d44d43b44f5a717fffc461",
            "cea6c3b1286842eeaecdb84616573ca9",
            "b71ebb7435d54d14afa4ba9e84f4fbd4",
            "b3f69351a1264e198e45229569fed65a",
            "1023364709d945d3bda0f9e3552f235f",
            "3aca6aaff7174b3e951f07d6a43ebd08",
            "5441b947768845b2969480da793d9c23",
            "5c87536eab154c4ebd966c1aa6197dc1",
            "49157a2cb617448091dc4ca5ba36ac77",
            "7ec7eee4d81341cc81e938aecec0ab59",
            "9392511e498d4a8bb7fc6defc7933f0b",
            "591f93cfe317472bb074422325995c4a",
            "0b4c957afec44f69bb01d473bf5f4ca9",
            "bad413c50a9f4194993db91be1768684",
            "7ce4fdbe6b0e462e9a89bda842bd818f",
            "7aa154f860ba47f986c7fd79561843d9",
            "7aa91a94a15f4223aec3762fd7b63408",
            "d71a67b2894446f6af70da6f56f9dab8",
            "d9646fe0e8cd483389070af9da11660b",
            "3dcf7b2eb25a42719d6a368803b58c55",
            "57778e091cf14031aeb6d7568429438e",
            "0029991718a1413ea050dbd8b9990923",
            "c2a87f3eb59e47c28046bb9e1ad05e3d",
            "a441fcc3737d4e5c8961ea3e26702e41",
            "127a43b629994bf99e726f478fd5cf36",
            "3bc62e93b43540f4a28194502bc39ba2",
            "396e6904fbf24025bdae81c593572cc0",
            "44950f4d152e43e5a175f49849ddbc17",
            "c8fb0eb84cff48dbab4b9d71b50b52ed",
            "010cba5dff6d4e1aa9bddab516f3bc53",
            "60c13af3919a4829a52162443554a502",
            "b73660c882d946ef81184b5d8f9a4a7b",
            "7b86678493d140f9a78e4e112f793e42",
            "f21290f9f8b0458895a6d5523c9631e4",
            "2bd5ea304af44e43a45e067ada340ff7",
            "2245a7370c8248ffa070db12b94b0520",
            "ae2b7b6831fc4a83a1467ea3ea1add6b",
            "e2aa900a3582493dba70d8005f1f341f",
            "96dc6c2e5fc54533970e91eb38460958",
            "85731b99c2e841d5b22d774065c54b58",
            "a8e95e71e9e043b2813794172b71eafe",
            "392d3138c17243b990dce6d75d73b70a",
            "b14846d1633343d0adc18ca5649b90f3",
            "882037b0a521466c85ed69c1b4edeaa1",
            "ecb2838de10c4fca916c6a0c36fc8e8c",
            "fb907755ab8545448bb5c6ecc0b8f2d3",
            "e87e349287a043909cb061f976a7b0bc",
            "5abae315e1e54341ba26585fd408afd2",
            "2b63f12e68d7436f853df4b63f937ce1",
            "0b756288f8ef4d148395f2788f295f45",
            "f3632c8ede1644d498288377df53d166",
            "9fb79a893b9c48b58c04824a3139124e",
            "6b48c0fe46c64b4b99f2ad5692a11627",
            "dc4a9e77af6d49e481dc789f392cb1f2",
            "1836f358fc6541cd819fafe9ef0c83ab",
            "92b27730b7954fa6a34fea3cbda851a6",
            "77559eae4bcd48aa9341d143e74265c3",
            "d05fe363d06948c997acca830b40fe27",
            "760fdc70aba842c4b20214c2ce4522f1",
            "1e41308357b54c8f80a3487991949f22",
            "96329f65b92e4763ba3d5a728d99eb1d",
            "e6fbfbfb4e684952a3e53b2614ff7334",
            "0fa2716f2b284bd5b3da5721a96c70e1",
            "e31a895a986c4f29bce615fb4fae8af3",
            "2f32252e15534342b08c94b7f24ed0d6",
            "a3bbbde09b0847a29417f1dfd2bcef4a",
            "92ed603d58b0439f93d1a426f8ea6afc",
            "7788498169db45558cf92c5a66f3ff47",
            "0ab09887ba5c46209f521cbb7a3c676e",
            "0050deb5ac764546a00afa68acdea1a5",
            "4754e79c54a04f89af7e41921928511e",
            "06618173578340eb9cefa2fee0780423",
            "40afdd31f5834d72b17e9da10cd8e8ed",
            "fbe3d383449d4b1ca71de17988569722",
            "39e6a85ac10f47aca6d278a2449e2210",
            "89472640f7604c07935c08481ca3191a",
            "17012b4e7b3946dcaa2a69358a80c295",
            "4e9418167cf44e308bc03b71e8c62334",
            "384abe19b7f645febb3b2ee181b94020",
            "ae229dd0eb44473589a053ef35861875",
            "c7f217e527234414892a1080a05f1886",
            "c6e2ff20629d48008306bc0e2a050523",
            "2d66ff101d014018856db2d0ea28e1d0",
            "5acba8dde38a44fbb909436a5dfc6021",
            "ece6ebb7f87142559a3a6b6327349698",
            "769628fc1cd746fcb1a9a37f7cfbeff7",
            "b719edb4f9044bdead150ddaa92c7367",
            "50057e000d4044ecada8fadd588872b1",
            "ecc9b0503f8248afb244084e1e8d4e19",
            "f546d797f509489a9e94648f0e68b1a0",
            "6161d156c46544aa99c352ae18d862a1",
            "99fbbfcd266248ffabe0d50409e360b9",
            "a8599d3a542142dfad7e595cba038b8a",
            "a768c721d7ce4115a770842150ab13fd",
            "c36dc6cc41634df58103e57790a32af6",
            "95fb4efc7a834c12907277a40548c47e",
            "c169e34e04554e8b8caa63595a68a620",
            "ed4a21dd7d174c2c9891d2400fd3d147",
            "2dbbb0f9c1b244839bdba68fe456e264",
            "81f4139fd17544e8b22db4695389083b",
            "c23ecc765b39416fb5baa60ec9143425",
            "195fb0b5ab0d4c29b63dae8d66f77bce",
            "2445908321064d9493d8cc1085a5565c",
            "7318d5de09c541b9be9bbcc54cbbb005",
            "aa26dc54f5b140c89592252ff1993231",
            "897373cdd3cd44fa8f6afab4bc3feb9a",
            "a2abf9bfa0cd486a8b38d0b43f862429",
            "2e9c9964a7734322a93d534d910358cf",
            "770f037f564d4cdba6446ca6b62b0d43",
            "cd4d066332464895801498da1baea98c",
            "53e096d4b6574781ab4a5f7a3da914f4",
            "912dba3ae7ee4f639870f2db76cc0d1d",
            "1893bd3dd08c4cb9badab72b2bd681a1",
            "912a63acfa084224a14640d7a5e9e401",
            "f116b7c47fe94848ae0f256984733bb3",
            "bd7db7b3003d484bae768c3fbb49b309",
            "d40aa8e9cfdd4df1928eca5f696b488f",
            "d9c185e6ceb144338aca5615df866bb9",
            "21c937c39fb5406fbd0019aafc7dc85c",
            "05836791ec374ef09401d03cfff8b5dd",
            "790af82b315c4a4fb563bc2e4dd82c86",
            "4140f212c1044ed39ce3105ca6ecee50",
            "335543a62a494d65a3f0264b7b29b7f9",
            "0df84398e3a9463c96aaa11b71ec0bcb",
            "dd4d211acee6403c8e60f1623bf402ea",
            "baf87cb8739c45039539c8b556fd44ed",
            "6696f549882c4f26a8d87f68d5ca4df1"
          ]
        },
        "id": "D4Qbye1koS_z",
        "outputId": "a87f6741-a081-4ff4-a675-207db76460fb"
      },
      "source": [
        "trainer = pl.Trainer.from_argparse_args(\n",
        "    Namespace(**train_params),\n",
        "    logger=neptune_logger,\n",
        "    progress_bar_refresh_rate=1,\n",
        "    resume_from_checkpoint=resume_from_checkpoint,\n",
        "    checkpoint_callback=model_checkpoint)\n",
        "\n",
        "model = FinetuneModel.load_from_checkpoint(train_params['pretrained_model'], **train_params)\n",
        "\n",
        "\n",
        "try:\n",
        "    trainer.fit(model, train_loader, val_loader)\n",
        "finally:\n",
        "    neptune_logger.experiment.stop()"
      ],
      "execution_count": 30,
      "outputs": [
        {
          "output_type": "stream",
          "text": [
            "/usr/local/lib/python3.6/dist-packages/pytorch_lightning/utilities/distributed.py:49: UserWarning: You have set progress_bar_refresh_rate < 20 on Google Colab. This may crash. Consider using progress_bar_refresh_rate >= 20 in Trainer.\n",
            "  warnings.warn(*args, **kwargs)\n",
            "GPU available: True, used: True\n",
            "INFO:lightning:GPU available: True, used: True\n",
            "TPU available: None, using: 0 TPU cores\n",
            "INFO:lightning:TPU available: None, using: 0 TPU cores\n",
            "LOCAL_RANK: 0 - CUDA_VISIBLE_DEVICES: [0]\n",
            "INFO:lightning:LOCAL_RANK: 0 - CUDA_VISIBLE_DEVICES: [0]\n",
            "Some weights of the model checkpoint at t5-base were not used when initializing T5ForConditionalGeneration: ['decoder.block.0.layer.1.EncDecAttention.relative_attention_bias.weight']\n",
            "- This IS expected if you are initializing T5ForConditionalGeneration from the checkpoint of a model trained on another task or with another architecture (e.g. initializing a BertForSequenceClassification model from a BertForPreTraining model).\n",
            "- This IS NOT expected if you are initializing T5ForConditionalGeneration from the checkpoint of a model that you expect to be exactly identical (initializing a BertForSequenceClassification model from a BertForSequenceClassification model).\n",
            "\n",
            "  | Name        | Type                       | Params\n",
            "-----------------------------------------------------------\n",
            "0 | transformer | T5ForConditionalGeneration | 222 M \n",
            "1 | embedder    | JointEmbedder              | 24.9 M\n",
            "-----------------------------------------------------------\n",
            "223 M     Trainable params\n",
            "0         Non-trainable params\n",
            "223 M     Total params\n",
            "INFO:lightning:\n",
            "  | Name        | Type                       | Params\n",
            "-----------------------------------------------------------\n",
            "0 | transformer | T5ForConditionalGeneration | 222 M \n",
            "1 | embedder    | JointEmbedder              | 24.9 M\n",
            "-----------------------------------------------------------\n",
            "223 M     Trainable params\n",
            "0         Non-trainable params\n",
            "223 M     Total params\n",
            "/usr/local/lib/python3.6/dist-packages/pytorch_lightning/utilities/distributed.py:49: UserWarning: The dataloader, val dataloader 0, does not have many workers which may be a bottleneck. Consider increasing the value of the `num_workers` argument` (try 4 which is the number of cpus on this machine) in the `DataLoader` init to improve performance.\n",
            "  warnings.warn(*args, **kwargs)\n"
          ],
          "name": "stderr"
        },
        {
          "output_type": "display_data",
          "data": {
            "application/vnd.jupyter.widget-view+json": {
              "model_id": "e0f43506d32a4de286a782c91337070d",
              "version_minor": 0,
              "version_major": 2
            },
            "text/plain": [
              "HBox(children=(FloatProgress(value=1.0, bar_style='info', description='Validation sanity check', layout=Layout…"
            ]
          },
          "metadata": {
            "tags": []
          }
        },
        {
          "output_type": "stream",
          "text": [
            "\r"
          ],
          "name": "stdout"
        },
        {
          "output_type": "stream",
          "text": [
            "/usr/local/lib/python3.6/dist-packages/pytorch_lightning/utilities/distributed.py:49: UserWarning: The dataloader, train dataloader, does not have many workers which may be a bottleneck. Consider increasing the value of the `num_workers` argument` (try 4 which is the number of cpus on this machine) in the `DataLoader` init to improve performance.\n",
            "  warnings.warn(*args, **kwargs)\n"
          ],
          "name": "stderr"
        },
        {
          "output_type": "display_data",
          "data": {
            "application/vnd.jupyter.widget-view+json": {
              "model_id": "268b1ea4e4574e598915fbd8379bbbd1",
              "version_minor": 0,
              "version_major": 2
            },
            "text/plain": [
              "HBox(children=(FloatProgress(value=1.0, bar_style='info', description='Training', layout=Layout(flex='2'), max…"
            ]
          },
          "metadata": {
            "tags": []
          }
        },
        {
          "output_type": "display_data",
          "data": {
            "application/vnd.jupyter.widget-view+json": {
              "model_id": "7f6e49d43ad642ae9fffe8d230640a77",
              "version_minor": 0,
              "version_major": 2
            },
            "text/plain": [
              "HBox(children=(FloatProgress(value=1.0, bar_style='info', description='Validating', layout=Layout(flex='2'), m…"
            ]
          },
          "metadata": {
            "tags": []
          }
        },
        {
          "output_type": "display_data",
          "data": {
            "application/vnd.jupyter.widget-view+json": {
              "model_id": "9cf598e3a47b4156bc4a78d1000e93c1",
              "version_minor": 0,
              "version_major": 2
            },
            "text/plain": [
              "HBox(children=(FloatProgress(value=1.0, bar_style='info', description='Validating', layout=Layout(flex='2'), m…"
            ]
          },
          "metadata": {
            "tags": []
          }
        },
        {
          "output_type": "display_data",
          "data": {
            "application/vnd.jupyter.widget-view+json": {
              "model_id": "25e4d2f8e818477ca556466b220c1760",
              "version_minor": 0,
              "version_major": 2
            },
            "text/plain": [
              "HBox(children=(FloatProgress(value=1.0, bar_style='info', description='Validating', layout=Layout(flex='2'), m…"
            ]
          },
          "metadata": {
            "tags": []
          }
        },
        {
          "output_type": "display_data",
          "data": {
            "application/vnd.jupyter.widget-view+json": {
              "model_id": "c783cb294f85418f81d70b1215306d6f",
              "version_minor": 0,
              "version_major": 2
            },
            "text/plain": [
              "HBox(children=(FloatProgress(value=1.0, bar_style='info', description='Validating', layout=Layout(flex='2'), m…"
            ]
          },
          "metadata": {
            "tags": []
          }
        },
        {
          "output_type": "display_data",
          "data": {
            "application/vnd.jupyter.widget-view+json": {
              "model_id": "648a2db026d14dd2ba44410153500ce5",
              "version_minor": 0,
              "version_major": 2
            },
            "text/plain": [
              "HBox(children=(FloatProgress(value=1.0, bar_style='info', description='Validating', layout=Layout(flex='2'), m…"
            ]
          },
          "metadata": {
            "tags": []
          }
        },
        {
          "output_type": "display_data",
          "data": {
            "application/vnd.jupyter.widget-view+json": {
              "model_id": "5c87536eab154c4ebd966c1aa6197dc1",
              "version_minor": 0,
              "version_major": 2
            },
            "text/plain": [
              "HBox(children=(FloatProgress(value=1.0, bar_style='info', description='Validating', layout=Layout(flex='2'), m…"
            ]
          },
          "metadata": {
            "tags": []
          }
        },
        {
          "output_type": "display_data",
          "data": {
            "application/vnd.jupyter.widget-view+json": {
              "model_id": "7aa154f860ba47f986c7fd79561843d9",
              "version_minor": 0,
              "version_major": 2
            },
            "text/plain": [
              "HBox(children=(FloatProgress(value=1.0, bar_style='info', description='Validating', layout=Layout(flex='2'), m…"
            ]
          },
          "metadata": {
            "tags": []
          }
        },
        {
          "output_type": "display_data",
          "data": {
            "application/vnd.jupyter.widget-view+json": {
              "model_id": "a441fcc3737d4e5c8961ea3e26702e41",
              "version_minor": 0,
              "version_major": 2
            },
            "text/plain": [
              "HBox(children=(FloatProgress(value=1.0, bar_style='info', description='Validating', layout=Layout(flex='2'), m…"
            ]
          },
          "metadata": {
            "tags": []
          }
        },
        {
          "output_type": "display_data",
          "data": {
            "application/vnd.jupyter.widget-view+json": {
              "model_id": "b73660c882d946ef81184b5d8f9a4a7b",
              "version_minor": 0,
              "version_major": 2
            },
            "text/plain": [
              "HBox(children=(FloatProgress(value=1.0, bar_style='info', description='Validating', layout=Layout(flex='2'), m…"
            ]
          },
          "metadata": {
            "tags": []
          }
        },
        {
          "output_type": "display_data",
          "data": {
            "application/vnd.jupyter.widget-view+json": {
              "model_id": "85731b99c2e841d5b22d774065c54b58",
              "version_minor": 0,
              "version_major": 2
            },
            "text/plain": [
              "HBox(children=(FloatProgress(value=1.0, bar_style='info', description='Validating', layout=Layout(flex='2'), m…"
            ]
          },
          "metadata": {
            "tags": []
          }
        },
        {
          "output_type": "display_data",
          "data": {
            "application/vnd.jupyter.widget-view+json": {
              "model_id": "5abae315e1e54341ba26585fd408afd2",
              "version_minor": 0,
              "version_major": 2
            },
            "text/plain": [
              "HBox(children=(FloatProgress(value=1.0, bar_style='info', description='Validating', layout=Layout(flex='2'), m…"
            ]
          },
          "metadata": {
            "tags": []
          }
        },
        {
          "output_type": "display_data",
          "data": {
            "application/vnd.jupyter.widget-view+json": {
              "model_id": "92b27730b7954fa6a34fea3cbda851a6",
              "version_minor": 0,
              "version_major": 2
            },
            "text/plain": [
              "HBox(children=(FloatProgress(value=1.0, bar_style='info', description='Validating', layout=Layout(flex='2'), m…"
            ]
          },
          "metadata": {
            "tags": []
          }
        },
        {
          "output_type": "display_data",
          "data": {
            "application/vnd.jupyter.widget-view+json": {
              "model_id": "e31a895a986c4f29bce615fb4fae8af3",
              "version_minor": 0,
              "version_major": 2
            },
            "text/plain": [
              "HBox(children=(FloatProgress(value=1.0, bar_style='info', description='Validating', layout=Layout(flex='2'), m…"
            ]
          },
          "metadata": {
            "tags": []
          }
        },
        {
          "output_type": "display_data",
          "data": {
            "application/vnd.jupyter.widget-view+json": {
              "model_id": "06618173578340eb9cefa2fee0780423",
              "version_minor": 0,
              "version_major": 2
            },
            "text/plain": [
              "HBox(children=(FloatProgress(value=1.0, bar_style='info', description='Validating', layout=Layout(flex='2'), m…"
            ]
          },
          "metadata": {
            "tags": []
          }
        },
        {
          "output_type": "display_data",
          "data": {
            "application/vnd.jupyter.widget-view+json": {
              "model_id": "ae229dd0eb44473589a053ef35861875",
              "version_minor": 0,
              "version_major": 2
            },
            "text/plain": [
              "HBox(children=(FloatProgress(value=1.0, bar_style='info', description='Validating', layout=Layout(flex='2'), m…"
            ]
          },
          "metadata": {
            "tags": []
          }
        },
        {
          "output_type": "display_data",
          "data": {
            "application/vnd.jupyter.widget-view+json": {
              "model_id": "50057e000d4044ecada8fadd588872b1",
              "version_minor": 0,
              "version_major": 2
            },
            "text/plain": [
              "HBox(children=(FloatProgress(value=1.0, bar_style='info', description='Validating', layout=Layout(flex='2'), m…"
            ]
          },
          "metadata": {
            "tags": []
          }
        },
        {
          "output_type": "display_data",
          "data": {
            "application/vnd.jupyter.widget-view+json": {
              "model_id": "95fb4efc7a834c12907277a40548c47e",
              "version_minor": 0,
              "version_major": 2
            },
            "text/plain": [
              "HBox(children=(FloatProgress(value=1.0, bar_style='info', description='Validating', layout=Layout(flex='2'), m…"
            ]
          },
          "metadata": {
            "tags": []
          }
        },
        {
          "output_type": "display_data",
          "data": {
            "application/vnd.jupyter.widget-view+json": {
              "model_id": "7318d5de09c541b9be9bbcc54cbbb005",
              "version_minor": 0,
              "version_major": 2
            },
            "text/plain": [
              "HBox(children=(FloatProgress(value=1.0, bar_style='info', description='Validating', layout=Layout(flex='2'), m…"
            ]
          },
          "metadata": {
            "tags": []
          }
        },
        {
          "output_type": "display_data",
          "data": {
            "application/vnd.jupyter.widget-view+json": {
              "model_id": "912dba3ae7ee4f639870f2db76cc0d1d",
              "version_minor": 0,
              "version_major": 2
            },
            "text/plain": [
              "HBox(children=(FloatProgress(value=1.0, bar_style='info', description='Validating', layout=Layout(flex='2'), m…"
            ]
          },
          "metadata": {
            "tags": []
          }
        },
        {
          "output_type": "display_data",
          "data": {
            "application/vnd.jupyter.widget-view+json": {
              "model_id": "05836791ec374ef09401d03cfff8b5dd",
              "version_minor": 0,
              "version_major": 2
            },
            "text/plain": [
              "HBox(children=(FloatProgress(value=1.0, bar_style='info', description='Validating', layout=Layout(flex='2'), m…"
            ]
          },
          "metadata": {
            "tags": []
          }
        },
        {
          "output_type": "stream",
          "text": [
            "Saving latest checkpoint...\n",
            "INFO:lightning:Saving latest checkpoint...\n"
          ],
          "name": "stderr"
        },
        {
          "output_type": "stream",
          "text": [
            "\n"
          ],
          "name": "stdout"
        }
      ]
    },
    {
      "cell_type": "markdown",
      "metadata": {
        "id": "I5H2zi14t3Lr"
      },
      "source": [
        "## Resultados\n",
        "\n",
        "O modelo obteve um F1 score de aprox. 35%. A loss se manteve abaixo de 2 e tanto o F1 quanto o Exact Match não conseguiram superar este valor:\n",
        "\n",
        "![image.png](data:image/png;base64,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)\n",
        "\n"
      ]
    },
    {
      "cell_type": "markdown",
      "metadata": {
        "id": "q7rUIOk7uPCN"
      },
      "source": [
        "Contudo, se analisamos as predições, o modelo acabou \"viciando\" num determinado nome de companhia:\n",
        "\n",
        "```\n",
        "Actual: MR D.I.Y. (JOHOR) SDN BHD.\n",
        "Predicted: GARDENIA BAKERIES (KL) SDN BHD.\n",
        "\n",
        "Actual: GARDENIA BAKERIES (KL) SDN BHD.\n",
        "Predicted: GARDENIA BAKERIES (KL) SDN BHD.\n",
        "\n",
        "Actual: GUARDIAN HEALTH AND BEAUTY SDN BHD.\n",
        "Predicted: GARDENIA BAKERIES (KL) SDN BHD.\n",
        "```\n",
        "\n",
        "No início do ajuste, o modelo tentou reproduzir o que havia aprendido no pré-treino:\n",
        "\n",
        "```\n",
        "Actual: GERBANG ALAF RESTAURANTS SDN BHD. Predicted: <extra_id_0><unk>.\n",
        "Actual: HERO DISTRIBUTION SDN BHD. Predicted: <extra_id_0><unk>.\n",
        "Actual: GARDENIA BAKERIES (KL) SDN BHD. Predicted: <extra_id_0><unk>.\n",
        "Actual: TEO HENG STATIONERY & BOOKS. Predicted: <extra_id_0><unk>.\n",
        "Actual: 99 SPEED MART S/B. Predicted: <extra_id_0><unk>.\n",
        "```\n",
        "\n",
        "Mas logo encontrou alguma associação entre a entrada e a empresa `GARDENIA BAKERIES (KL) SDN BHD`.\n",
        "\n",
        "Pretendo testar outra abordagem de pré-treino do paper, que, apresentando os patches e o texto, pede ao modelo indicar se os patches contém o texto apresentado."
      ]
    },
    {
      "cell_type": "code",
      "metadata": {
        "id": "bSO7sJCLuOnS"
      },
      "source": [
        ""
      ],
      "execution_count": 30,
      "outputs": []
    }
  ]
}